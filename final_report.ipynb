{
 "cells": [
  {
   "cell_type": "code",
   "execution_count": 7,
   "metadata": {},
   "outputs": [],
   "source": [
    "# Libraries\n",
    "#nbconvert:hide_input\n",
    "import numpy as np\n",
    "from tensorflow.keras.models import Sequential\n",
    "from tensorflow.keras.layers import LSTM\n",
    "from tensorflow.keras.layers import Dense, Dropout\n",
    "from keras.optimizers import Adam\n",
    "\n",
    "import pandas as pd\n",
    "from matplotlib import pyplot as plt\n",
    "from sklearn.preprocessing import StandardScaler\n",
    "import seaborn as sns\n",
    "\n",
    "import pandas as pd\n",
    "import numpy as np\n",
    "import plotly.express as px\n",
    "from sklearn.ensemble import IsolationForest\n",
    "\n",
    "import plotly.graph_objects as go\n",
    "from plotly.subplots import make_subplots\n",
    "\n",
    "from sktime.forecasting.model_selection import (\n",
    "    CutoffSplitter,\n",
    "    ExpandingWindowSplitter,\n",
    "    SingleWindowSplitter,\n",
    "    SlidingWindowSplitter,\n",
    "    temporal_train_test_split,\n",
    ")\n",
    "from sktime.utils.plotting import plot_series\n",
    "from sktime.forecasting.base import ForecastingHorizon\n",
    "\n",
    "from sklearn.linear_model import LogisticRegression\n",
    "from sklearn.model_selection import cross_val_score, cross_validate, train_test_split\n",
    "from sklearn.pipeline import Pipeline, make_pipeline\n",
    "from sklearn.preprocessing import StandardScaler\n",
    "\n",
    "from statsmodels.nonparametric.smoothers_lowess import lowess\n",
    "from statsmodels.tsa.seasonal import DecomposeResult, seasonal_decompose\n",
    "\n",
    "from sklearn.metrics import mean_squared_error\n",
    "\n",
    "from datetime import datetime, timedelta\n",
    "import requests\n",
    "\n",
    "import math"
   ]
  },
  {
   "attachments": {},
   "cell_type": "markdown",
   "metadata": {},
   "source": [
    "## Power Price Prediction - a short-term forecast\n",
    "#### Partner company: **Slalom Consulting** \n",
    "---------------------\n",
    "#### UBC-MDS(2022-2023) Capstone Project"
   ]
  },
  {
   "attachments": {},
   "cell_type": "markdown",
   "metadata": {},
   "source": [
    "<div class=\"container\">\n",
    "    <div class=\"left-column\">\n",
    "        <img src=\"report_pic1.png\" alt=\"Alt Text\" width=\"350\">\n",
    "    </div>\n",
    "    <div class=\"right-column\">\n",
    "        \n",
    "- **Team:**\n",
    "    - Arjun Radhakrishnan\n",
    "    - Sneha Sunil\n",
    "    - Gaoxiang Wang\n",
    "    - Mehdi Naji\n",
    "- **Mentor:**\n",
    "    - Quan Nguyen\n",
    "- **Partner's Agents:**\n",
    "    - Zaid Haddad\n",
    "    - Hayley Boyce\n",
    "    </div>\n",
    "</div>\n",
    "\n",
    "<style>\n",
    ".container {\n",
    "    display: flex;\n",
    "}\n",
    "\n",
    ".left-column {\n",
    "    flex: 3; \n",
    "}\n",
    "\n",
    ".right-column {\n",
    "    flex: 5; \n",
    "}\n",
    "</style>\n"
   ]
  },
  {
   "attachments": {},
   "cell_type": "markdown",
   "metadata": {},
   "source": [
    "## EXECUTIVE SUMMARY\n"
   ]
  },
  {
   "attachments": {},
   "cell_type": "markdown",
   "metadata": {},
   "source": [
    "## INTRODUCTION\n"
   ]
  },
  {
   "attachments": {},
   "cell_type": "markdown",
   "metadata": {},
   "source": [
    "### Project Overview\n",
    "<!--- \n",
    "- Has an overview of the project been provided, such as the problem domain, project origin, and related datasets or input data?\n",
    "- Has enough background information been given so that an uninformed reader would understand the problem domain and following problem statement? \n",
    "--->\n",
    "Over the past years, the electricity price evolution in Alberta has exhibited a mix of trends and volatility. One notable trend has been the overall increase in electricity prices, driven by a combination of factors. Alberta's transition towards cleaner energy sources, such as wind and solar, has led to additional costs associated with infrastructure development and integration. \n",
    "\n",
    "As [Figure 1](#PriceTrendSD-image) shows, at least since 2016, the average and standard deviation of electricity prices in Alberta have been evidently rising. This upward trend and increasing volatility can be attributed to multiple factors. The growing demand for electricity, driven by population growth and expanding industries, has strained the power infrastructure, resulting in tighter supply-demand dynamics and higher prices. Additionally, government policies favoring cleaner energy sources have necessitated significant investments in infrastructure and new power generation facilities, passing on the costs to consumers. The integration of intermittent renewable energy sources has introduced price volatility, while the maintenance and upgrades of aging transmission and distribution infrastructure have further contributed to the rising prices. Furthermore, fluctuations in fuel costs, such as natural gas, impact the overall cost of electricity generation in Alberta. Collectively, these factors have contributed to the evident increase in power prices in the province.\n",
    "\n",
    "<figure style=\"text-align: center;\" id=\"PriceTrendSD-image\">\n",
    "  <img src=\"report_PriceTrendSD.png\" alt=\"Alt Text\">\n",
    "  <figcaption style=\"text-align: center; font-size: 14px;\">Figure 1. Power pool price developments in Alberta in terms of mean and standard deviation.</figcaption>\n",
    "</figure>\n",
    "\n",
    "Another essential factor contributing to the rising power prices volatility in Alberta is the deregulated nature of the electricity market. In Alberta, the electricity market operates under a deregulated framework, where prices are determined by supply and demand dynamics in a competitive market. The government does not directly intervene in setting the prices. Instead, prices are influenced by various market participants, including power generators, transmission companies, and retailers. This market structure allows for more flexibility but also exposes prices to market forces. Therefore, the deregulated nature of the electricity market in Alberta plays a crucial role in the volatility of the power price. \n",
    "\n",
    "The prediction of electricity prices in Alberta is of great importance to a wide range of stakeholders. Consumers rely on price forecasts to manage their energy costs and make informed decisions about their electricity usage. Businesses, particularly energy-intensive industries, need accurate price predictions to effectively plan their operations and minimize the impact of price fluctuations. Investors and financial institutions depend on price forecasts to assess investment opportunities and manage financial risks. Government bodies and regulatory authorities require reliable predictions to develop effective energy policies and ensure grid stability. Market participants, including power generators, traders, and retailers, rely on price forecasts to optimize their operations and mitigate risks in the dynamic electricity market. With the increasing uncertainty caused by rising price volatility, accurate electricity price predictions play a crucial role in enabling stakeholders to navigate the market, make informed choices, and contribute to a sustainable energy landscape in Alberta.\n",
    "\n",
    "<figure style=\"text-align: center;\" id=\"report_aeso_generators_image\">\n",
    "  <img src=\"report_aeso_generators.png\" alt=\"Alt Text\">\n",
    "  <figcaption style=\"text-align: center; font-size: 14px;\">Figure 2. Power share generated by fuel sources at 2022.</figcaption>\n",
    "</figure>\n",
    "\n",
    "The major purpose of this project is to enhance the horizon and accuracy of the existing 6-hour-ahead price prediction offered by the Alberta Electric System Operator (AESO). AESO is the independent system operator responsible for operating the electrical grid and facilitating the competitive electricity market in Alberta. This report begins with a problem statement, defining the objective and identifying the metrics used to evaluate the prediction performance. The analysis section includes data exploration, exploratory data analysis, examination of different algorithms and techniques, and establishing a benchmark for comparison. The methodology section outlines the steps taken, including data cleaning, wrangling, and preprocessing, as well as the implementation and refinement of the predictive models. The results section focuses on model evaluation and validation, assessing the accuracy and performance of the developed models. Finally, the report addresses deployment and deliverables, discussing the practical implementation and the final outcomes of the project.\n",
    "\n",
    "\n",
    "\n",
    "\n"
   ]
  },
  {
   "attachments": {},
   "cell_type": "markdown",
   "metadata": {},
   "source": [
    "### Problem Statement\n",
    "<!---\n",
    "- Is the problem statement clearly defined? Will the reader understand what you are expecting to solve?\n",
    "- Have you thoroughly discussed how you will attempt to solve the problem?\n",
    "- Is an anticipated solution clearly defined? Will the reader understand what results you are looking for?\n",
    "--->\n",
    "\n",
    "This project aims to predict the power pool price in Alberta with a time horizon of 12 hours ahead. Currently, the Alberta Electric System Operator (AESO) provides and publishes a 6-hour-ahead prediction on an hourly basis. However, there is a need to extend the time horizon of this prediction and if possible enhance its accuracy.  "
   ]
  },
  {
   "attachments": {},
   "cell_type": "markdown",
   "metadata": {},
   "source": [
    "### Data Exploration\n",
    "- If a dataset is present for this problem, have you thoroughly discussed certain features about the dataset? Has a data sample been provided to the reader?\n",
    "- If a dataset is present for this problem, are statistics about the dataset calculated and reported? Have any relevant results from this calculation been discussed?\n",
    "- If a dataset is not present for this problem, has discussion been made about the input space or input data for your problem?\n",
    "- Are there any abnormalities or characteristics about the input space or dataset that need to be addressed? (categorical variables, missing values, outliers, etc.)"
   ]
  },
  {
   "attachments": {},
   "cell_type": "markdown",
   "metadata": {},
   "source": [
    "## DATA SCIENCE METHODS"
   ]
  },
  {
   "attachments": {},
   "cell_type": "markdown",
   "metadata": {},
   "source": [
    "### Exploratory Data Analysis and Visualization\n",
    "\n",
    "- Have you visualized a relevant characteristic or feature about the dataset or input data?\n",
    "- Is the visualization thoroughly analyzed and discussed?\n",
    "- If a plot is provided, are the axes, title, and datum clearly defined?"
   ]
  },
  {
   "attachments": {},
   "cell_type": "markdown",
   "metadata": {},
   "source": [
    "### Algorithms and Techniques\n",
    "- Are the algorithms you will use, including any default variables/parameters in the project clearly defined?\n",
    "- Are the techniques to be used thoroughly discussed and justified?\n",
    "- Is it made clear how the input data or datasets will be handled by the algorithms and techniques chosen?"
   ]
  },
  {
   "attachments": {},
   "cell_type": "markdown",
   "metadata": {},
   "source": [
    "### Benchmark\n",
    "- Has some result or value been provided that acts as a benchmark for measuring performance?\n",
    "- Is it clear how this result or value was obtained (whether by data or by hypothesis)?\n"
   ]
  },
  {
   "attachments": {},
   "cell_type": "markdown",
   "metadata": {},
   "source": [
    "### Metrics\n",
    "\n",
    "- Are the metrics you’ve chosen to measure the performance of your models clearly discussed and defined?\n",
    "- Have you provided reasonable justification for the metrics chosen based on the problem and solution?\n"
   ]
  },
  {
   "attachments": {},
   "cell_type": "markdown",
   "metadata": {},
   "source": [
    "# DATA PRODUCTS AND RESULTS"
   ]
  },
  {
   "attachments": {},
   "cell_type": "markdown",
   "metadata": {},
   "source": [
    "### Data Cleaning, Wrangling, and Preprocessing\n",
    "\n",
    "- If the algorithms chosen require preprocessing steps like feature selection or feature transformations, have they been properly documented?\n",
    "- Based on the Data Exploration section, if there were abnormalities or characteristics that needed to be addressed, have they been properly corrected?\n",
    "- If no preprocessing is needed, has it been made clear why?"
   ]
  },
  {
   "attachments": {},
   "cell_type": "markdown",
   "metadata": {},
   "source": [
    "### Implementation\n",
    "- Is it made clear how the algorithms and techniques were implemented with the given datasets or input data?\n",
    "- Were there any complications with the original metrics or techniques that required changing prior to acquiring a solution?\n",
    "- Was there any part of the coding process (e.g., writing complicated functions) that should be documented?"
   ]
  },
  {
   "attachments": {},
   "cell_type": "markdown",
   "metadata": {},
   "source": [
    "### Refinement\n",
    "- Has an initial solution been found and clearly reported?\n",
    "- Is the process of improvement clearly documented, such as what techniques were used?\n",
    "- Are intermediate and final solutions clearly reported as the process is improved?"
   ]
  },
  {
   "attachments": {},
   "cell_type": "markdown",
   "metadata": {},
   "source": [
    "### Model Evaluation and Validation\n",
    "- Is the final model reasonable and aligning with solution expectations? Are the final parameters of the model appropriate?\n",
    "- Has the final model been tested with various inputs to evaluate whether the model generalizes well to unseen data?\n",
    "- Is the model robust enough for the problem? Do small perturbations (changes) in training data or the input space greatly affect the results?\n",
    "- Can results found from the model be trusted?"
   ]
  },
  {
   "attachments": {},
   "cell_type": "markdown",
   "metadata": {},
   "source": [
    "### Justification\n",
    "- Are the final results found stronger than the benchmark result reported earlier?\n",
    "- Have you thoroughly analyzed and discussed the final solution?\n",
    "- Is the final solution significant enough to have solved the problem?"
   ]
  },
  {
   "attachments": {},
   "cell_type": "markdown",
   "metadata": {},
   "source": [
    "## CONCLUSIONS AND RECOMMENDATIONS"
   ]
  }
 ],
 "metadata": {
  "kernelspec": {
   "display_name": "power_price_pred",
   "language": "python",
   "name": "python3"
  },
  "language_info": {
   "codemirror_mode": {
    "name": "ipython",
    "version": 3
   },
   "file_extension": ".py",
   "mimetype": "text/x-python",
   "name": "python",
   "nbconvert_exporter": "python",
   "pygments_lexer": "ipython3",
   "version": "3.10.9"
  },
  "orig_nbformat": 4
 },
 "nbformat": 4,
 "nbformat_minor": 2
}
