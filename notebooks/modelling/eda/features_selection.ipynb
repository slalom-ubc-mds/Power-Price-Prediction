{
 "cells": [
  {
   "cell_type": "code",
   "execution_count": 1,
   "metadata": {},
   "outputs": [
    {
     "name": "stderr",
     "output_type": "stream",
     "text": [
      "c:\\Users\\rkris\\miniconda3\\envs\\slalomenv\\Lib\\site-packages\\shap\\utils\\_clustering.py:34: NumbaDeprecationWarning: \u001b[1mThe 'nopython' keyword argument was not supplied to the 'numba.jit' decorator. The implicit default value for this argument is currently False, but it will be changed to True in Numba 0.59.0. See https://numba.readthedocs.io/en/stable/reference/deprecation.html#deprecation-of-object-mode-fall-back-behaviour-when-using-jit for details.\u001b[0m\n",
      "  @jit\n",
      "c:\\Users\\rkris\\miniconda3\\envs\\slalomenv\\Lib\\site-packages\\shap\\utils\\_clustering.py:53: NumbaDeprecationWarning: \u001b[1mThe 'nopython' keyword argument was not supplied to the 'numba.jit' decorator. The implicit default value for this argument is currently False, but it will be changed to True in Numba 0.59.0. See https://numba.readthedocs.io/en/stable/reference/deprecation.html#deprecation-of-object-mode-fall-back-behaviour-when-using-jit for details.\u001b[0m\n",
      "  @jit\n",
      "c:\\Users\\rkris\\miniconda3\\envs\\slalomenv\\Lib\\site-packages\\shap\\utils\\_clustering.py:62: NumbaDeprecationWarning: \u001b[1mThe 'nopython' keyword argument was not supplied to the 'numba.jit' decorator. The implicit default value for this argument is currently False, but it will be changed to True in Numba 0.59.0. See https://numba.readthedocs.io/en/stable/reference/deprecation.html#deprecation-of-object-mode-fall-back-behaviour-when-using-jit for details.\u001b[0m\n",
      "  @jit\n",
      "c:\\Users\\rkris\\miniconda3\\envs\\slalomenv\\Lib\\site-packages\\shap\\utils\\_clustering.py:68: NumbaDeprecationWarning: \u001b[1mThe 'nopython' keyword argument was not supplied to the 'numba.jit' decorator. The implicit default value for this argument is currently False, but it will be changed to True in Numba 0.59.0. See https://numba.readthedocs.io/en/stable/reference/deprecation.html#deprecation-of-object-mode-fall-back-behaviour-when-using-jit for details.\u001b[0m\n",
      "  @jit\n",
      "c:\\Users\\rkris\\miniconda3\\envs\\slalomenv\\Lib\\site-packages\\shap\\utils\\_clustering.py:76: NumbaDeprecationWarning: \u001b[1mThe 'nopython' keyword argument was not supplied to the 'numba.jit' decorator. The implicit default value for this argument is currently False, but it will be changed to True in Numba 0.59.0. See https://numba.readthedocs.io/en/stable/reference/deprecation.html#deprecation-of-object-mode-fall-back-behaviour-when-using-jit for details.\u001b[0m\n",
      "  @jit\n",
      "c:\\Users\\rkris\\miniconda3\\envs\\slalomenv\\Lib\\site-packages\\shap\\links.py:4: NumbaDeprecationWarning: \u001b[1mThe 'nopython' keyword argument was not supplied to the 'numba.jit' decorator. The implicit default value for this argument is currently False, but it will be changed to True in Numba 0.59.0. See https://numba.readthedocs.io/en/stable/reference/deprecation.html#deprecation-of-object-mode-fall-back-behaviour-when-using-jit for details.\u001b[0m\n",
      "  @numba.jit\n",
      "c:\\Users\\rkris\\miniconda3\\envs\\slalomenv\\Lib\\site-packages\\shap\\links.py:9: NumbaDeprecationWarning: \u001b[1mThe 'nopython' keyword argument was not supplied to the 'numba.jit' decorator. The implicit default value for this argument is currently False, but it will be changed to True in Numba 0.59.0. See https://numba.readthedocs.io/en/stable/reference/deprecation.html#deprecation-of-object-mode-fall-back-behaviour-when-using-jit for details.\u001b[0m\n",
      "  @numba.jit\n",
      "c:\\Users\\rkris\\miniconda3\\envs\\slalomenv\\Lib\\site-packages\\shap\\links.py:14: NumbaDeprecationWarning: \u001b[1mThe 'nopython' keyword argument was not supplied to the 'numba.jit' decorator. The implicit default value for this argument is currently False, but it will be changed to True in Numba 0.59.0. See https://numba.readthedocs.io/en/stable/reference/deprecation.html#deprecation-of-object-mode-fall-back-behaviour-when-using-jit for details.\u001b[0m\n",
      "  @numba.jit\n",
      "c:\\Users\\rkris\\miniconda3\\envs\\slalomenv\\Lib\\site-packages\\shap\\links.py:19: NumbaDeprecationWarning: \u001b[1mThe 'nopython' keyword argument was not supplied to the 'numba.jit' decorator. The implicit default value for this argument is currently False, but it will be changed to True in Numba 0.59.0. See https://numba.readthedocs.io/en/stable/reference/deprecation.html#deprecation-of-object-mode-fall-back-behaviour-when-using-jit for details.\u001b[0m\n",
      "  @numba.jit\n",
      "c:\\Users\\rkris\\miniconda3\\envs\\slalomenv\\Lib\\site-packages\\shap\\utils\\_masked_model.py:362: NumbaDeprecationWarning: \u001b[1mThe 'nopython' keyword argument was not supplied to the 'numba.jit' decorator. The implicit default value for this argument is currently False, but it will be changed to True in Numba 0.59.0. See https://numba.readthedocs.io/en/stable/reference/deprecation.html#deprecation-of-object-mode-fall-back-behaviour-when-using-jit for details.\u001b[0m\n",
      "  @jit # we can't use this when using a custom link function...\n",
      "c:\\Users\\rkris\\miniconda3\\envs\\slalomenv\\Lib\\site-packages\\shap\\utils\\_masked_model.py:384: NumbaDeprecationWarning: \u001b[1mThe 'nopython' keyword argument was not supplied to the 'numba.jit' decorator. The implicit default value for this argument is currently False, but it will be changed to True in Numba 0.59.0. See https://numba.readthedocs.io/en/stable/reference/deprecation.html#deprecation-of-object-mode-fall-back-behaviour-when-using-jit for details.\u001b[0m\n",
      "  @jit\n",
      "c:\\Users\\rkris\\miniconda3\\envs\\slalomenv\\Lib\\site-packages\\shap\\utils\\_masked_model.py:427: NumbaDeprecationWarning: \u001b[1mThe 'nopython' keyword argument was not supplied to the 'numba.jit' decorator. The implicit default value for this argument is currently False, but it will be changed to True in Numba 0.59.0. See https://numba.readthedocs.io/en/stable/reference/deprecation.html#deprecation-of-object-mode-fall-back-behaviour-when-using-jit for details.\u001b[0m\n",
      "  @jit\n",
      "c:\\Users\\rkris\\miniconda3\\envs\\slalomenv\\Lib\\site-packages\\shap\\utils\\_masked_model.py:438: NumbaDeprecationWarning: \u001b[1mThe 'nopython' keyword argument was not supplied to the 'numba.jit' decorator. The implicit default value for this argument is currently False, but it will be changed to True in Numba 0.59.0. See https://numba.readthedocs.io/en/stable/reference/deprecation.html#deprecation-of-object-mode-fall-back-behaviour-when-using-jit for details.\u001b[0m\n",
      "  @jit\n",
      "c:\\Users\\rkris\\miniconda3\\envs\\slalomenv\\Lib\\site-packages\\shap\\maskers\\_tabular.py:185: NumbaDeprecationWarning: \u001b[1mThe 'nopython' keyword argument was not supplied to the 'numba.jit' decorator. The implicit default value for this argument is currently False, but it will be changed to True in Numba 0.59.0. See https://numba.readthedocs.io/en/stable/reference/deprecation.html#deprecation-of-object-mode-fall-back-behaviour-when-using-jit for details.\u001b[0m\n",
      "  @jit\n",
      "c:\\Users\\rkris\\miniconda3\\envs\\slalomenv\\Lib\\site-packages\\shap\\maskers\\_tabular.py:196: NumbaDeprecationWarning: \u001b[1mThe 'nopython' keyword argument was not supplied to the 'numba.jit' decorator. The implicit default value for this argument is currently False, but it will be changed to True in Numba 0.59.0. See https://numba.readthedocs.io/en/stable/reference/deprecation.html#deprecation-of-object-mode-fall-back-behaviour-when-using-jit for details.\u001b[0m\n",
      "  @jit\n",
      "c:\\Users\\rkris\\miniconda3\\envs\\slalomenv\\Lib\\site-packages\\shap\\maskers\\_image.py:174: NumbaDeprecationWarning: \u001b[1mThe 'nopython' keyword argument was not supplied to the 'numba.jit' decorator. The implicit default value for this argument is currently False, but it will be changed to True in Numba 0.59.0. See https://numba.readthedocs.io/en/stable/reference/deprecation.html#deprecation-of-object-mode-fall-back-behaviour-when-using-jit for details.\u001b[0m\n",
      "  @jit\n",
      "c:\\Users\\rkris\\miniconda3\\envs\\slalomenv\\Lib\\site-packages\\tqdm\\auto.py:21: TqdmWarning: IProgress not found. Please update jupyter and ipywidgets. See https://ipywidgets.readthedocs.io/en/stable/user_install.html\n",
      "  from .autonotebook import tqdm as notebook_tqdm\n",
      "c:\\Users\\rkris\\miniconda3\\envs\\slalomenv\\Lib\\site-packages\\shap\\explainers\\_partition.py:675: NumbaDeprecationWarning: \u001b[1mThe 'nopython' keyword argument was not supplied to the 'numba.jit' decorator. The implicit default value for this argument is currently False, but it will be changed to True in Numba 0.59.0. See https://numba.readthedocs.io/en/stable/reference/deprecation.html#deprecation-of-object-mode-fall-back-behaviour-when-using-jit for details.\u001b[0m\n",
      "  @jit\n",
      "\u001b[1mThe 'nopython' keyword argument was not supplied to the 'numba.jit' decorator. The implicit default value for this argument is currently False, but it will be changed to True in Numba 0.59.0. See https://numba.readthedocs.io/en/stable/reference/deprecation.html#deprecation-of-object-mode-fall-back-behaviour-when-using-jit for details.\u001b[0m\n",
      "\u001b[1mThe 'nopython' keyword argument was not supplied to the 'numba.jit' decorator. The implicit default value for this argument is currently False, but it will be changed to True in Numba 0.59.0. See https://numba.readthedocs.io/en/stable/reference/deprecation.html#deprecation-of-object-mode-fall-back-behaviour-when-using-jit for details.\u001b[0m\n"
     ]
    }
   ],
   "source": [
    "import pandas as pd\n",
    "from scipy.stats import boxcox\n",
    "from scipy.special import inv_boxcox\n",
    "import numpy as np\n",
    "from sktime.forecasting.arima import ARIMA\n",
    "from sktime.forecasting.compose import TransformedTargetForecaster, DirectTimeSeriesRegressionForecaster, DirectTabularRegressionForecaster\n",
    "from sktime.transformations.series.detrend import Deseasonalizer\n",
    "from sktime.forecasting.trend import PolynomialTrendForecaster\n",
    "from sktime.transformations.series.detrend import Detrender\n",
    "from sktime.forecasting.model_selection import temporal_train_test_split\n",
    "from sktime.forecasting.base import ForecastingHorizon\n",
    "from sklearn.metrics import mean_squared_error\n",
    "from sktime.forecasting.compose import make_reduction\n",
    "from sklearn.exceptions import ConvergenceWarning\n",
    "import requests\n",
    "from sklearn.ensemble import HistGradientBoostingRegressor, GradientBoostingRegressor, RandomForestRegressor\n",
    "from sklearn.linear_model import ElasticNetCV\n",
    "from xgboost import XGBRegressor\n",
    "import pandas as pd\n",
    "import numpy as np\n",
    "from sktime.forecasting.model_selection import SlidingWindowSplitter\n",
    "from sktime.forecasting.compose import YfromX\n",
    "from sktime.transformations.series.boxcox import LogTransformer\n",
    "from sktime.transformations.compose import ColumnwiseTransformer\n",
    "from sktime.forecasting.compose import ForecastingPipeline\n",
    "\n",
    "import warnings\n",
    "warnings.filterwarnings('ignore')"
   ]
  },
  {
   "cell_type": "code",
   "execution_count": 2,
   "metadata": {},
   "outputs": [],
   "source": [
    "price_old_df = pd.read_csv('https://raw.githubusercontent.com/slalom-ubc-mds/Power-Price-Prediction/main/data/processed/supply_load_price.csv', parse_dates=['Date (MST)'], index_col='Date (MST)')\n",
    "price_old_df = price_old_df.asfreq('H')\n",
    "price_old_df = price_old_df.sort_values(by='Date (MST)')\n",
    "price_old_df = price_old_df['2022-12':]\n",
    "price_df = price_old_df[['price']]"
   ]
  },
  {
   "cell_type": "code",
   "execution_count": 3,
   "metadata": {},
   "outputs": [],
   "source": [
    "y = price_df\n",
    "X = price_old_df.drop(columns=['price'])"
   ]
  },
  {
   "cell_type": "code",
   "execution_count": 4,
   "metadata": {},
   "outputs": [
    {
     "data": {
      "text/html": [
       "<style>#sk-8cde96aa-68da-46f8-967f-c131b8532fbb {color: black;background-color: white;}#sk-8cde96aa-68da-46f8-967f-c131b8532fbb pre{padding: 0;}#sk-8cde96aa-68da-46f8-967f-c131b8532fbb div.sk-toggleable {background-color: white;}#sk-8cde96aa-68da-46f8-967f-c131b8532fbb label.sk-toggleable__label {cursor: pointer;display: block;width: 100%;margin-bottom: 0;padding: 0.3em;box-sizing: border-box;text-align: center;}#sk-8cde96aa-68da-46f8-967f-c131b8532fbb label.sk-toggleable__label-arrow:before {content: \"▸\";float: left;margin-right: 0.25em;color: #696969;}#sk-8cde96aa-68da-46f8-967f-c131b8532fbb label.sk-toggleable__label-arrow:hover:before {color: black;}#sk-8cde96aa-68da-46f8-967f-c131b8532fbb div.sk-estimator:hover label.sk-toggleable__label-arrow:before {color: black;}#sk-8cde96aa-68da-46f8-967f-c131b8532fbb div.sk-toggleable__content {max-height: 0;max-width: 0;overflow: hidden;text-align: left;background-color: #f0f8ff;}#sk-8cde96aa-68da-46f8-967f-c131b8532fbb div.sk-toggleable__content pre {margin: 0.2em;color: black;border-radius: 0.25em;background-color: #f0f8ff;}#sk-8cde96aa-68da-46f8-967f-c131b8532fbb input.sk-toggleable__control:checked~div.sk-toggleable__content {max-height: 200px;max-width: 100%;overflow: auto;}#sk-8cde96aa-68da-46f8-967f-c131b8532fbb input.sk-toggleable__control:checked~label.sk-toggleable__label-arrow:before {content: \"▾\";}#sk-8cde96aa-68da-46f8-967f-c131b8532fbb div.sk-estimator input.sk-toggleable__control:checked~label.sk-toggleable__label {background-color: #d4ebff;}#sk-8cde96aa-68da-46f8-967f-c131b8532fbb div.sk-label input.sk-toggleable__control:checked~label.sk-toggleable__label {background-color: #d4ebff;}#sk-8cde96aa-68da-46f8-967f-c131b8532fbb input.sk-hidden--visually {border: 0;clip: rect(1px 1px 1px 1px);clip: rect(1px, 1px, 1px, 1px);height: 1px;margin: -1px;overflow: hidden;padding: 0;position: absolute;width: 1px;}#sk-8cde96aa-68da-46f8-967f-c131b8532fbb div.sk-estimator {font-family: monospace;background-color: #f0f8ff;border: 1px dotted black;border-radius: 0.25em;box-sizing: border-box;margin-bottom: 0.5em;}#sk-8cde96aa-68da-46f8-967f-c131b8532fbb div.sk-estimator:hover {background-color: #d4ebff;}#sk-8cde96aa-68da-46f8-967f-c131b8532fbb div.sk-parallel-item::after {content: \"\";width: 100%;border-bottom: 1px solid gray;flex-grow: 1;}#sk-8cde96aa-68da-46f8-967f-c131b8532fbb div.sk-label:hover label.sk-toggleable__label {background-color: #d4ebff;}#sk-8cde96aa-68da-46f8-967f-c131b8532fbb div.sk-serial::before {content: \"\";position: absolute;border-left: 1px solid gray;box-sizing: border-box;top: 2em;bottom: 0;left: 50%;}#sk-8cde96aa-68da-46f8-967f-c131b8532fbb div.sk-serial {display: flex;flex-direction: column;align-items: center;background-color: white;padding-right: 0.2em;padding-left: 0.2em;}#sk-8cde96aa-68da-46f8-967f-c131b8532fbb div.sk-item {z-index: 1;}#sk-8cde96aa-68da-46f8-967f-c131b8532fbb div.sk-parallel {display: flex;align-items: stretch;justify-content: center;background-color: white;}#sk-8cde96aa-68da-46f8-967f-c131b8532fbb div.sk-parallel::before {content: \"\";position: absolute;border-left: 1px solid gray;box-sizing: border-box;top: 2em;bottom: 0;left: 50%;}#sk-8cde96aa-68da-46f8-967f-c131b8532fbb div.sk-parallel-item {display: flex;flex-direction: column;position: relative;background-color: white;}#sk-8cde96aa-68da-46f8-967f-c131b8532fbb div.sk-parallel-item:first-child::after {align-self: flex-end;width: 50%;}#sk-8cde96aa-68da-46f8-967f-c131b8532fbb div.sk-parallel-item:last-child::after {align-self: flex-start;width: 50%;}#sk-8cde96aa-68da-46f8-967f-c131b8532fbb div.sk-parallel-item:only-child::after {width: 0;}#sk-8cde96aa-68da-46f8-967f-c131b8532fbb div.sk-dashed-wrapped {border: 1px dashed gray;margin: 0 0.4em 0.5em 0.4em;box-sizing: border-box;padding-bottom: 0.4em;background-color: white;position: relative;}#sk-8cde96aa-68da-46f8-967f-c131b8532fbb div.sk-label label {font-family: monospace;font-weight: bold;background-color: white;display: inline-block;line-height: 1.2em;}#sk-8cde96aa-68da-46f8-967f-c131b8532fbb div.sk-label-container {position: relative;z-index: 2;text-align: center;}#sk-8cde96aa-68da-46f8-967f-c131b8532fbb div.sk-container {/* jupyter's `normalize.less` sets `[hidden] { display: none; }` but bootstrap.min.css set `[hidden] { display: none !important; }` so we also need the `!important` here to be able to override the default hidden behavior on the sphinx rendered scikit-learn.org. See: https://github.com/scikit-learn/scikit-learn/issues/21755 */display: inline-block !important;position: relative;}#sk-8cde96aa-68da-46f8-967f-c131b8532fbb div.sk-text-repr-fallback {display: none;}</style><div id='sk-8cde96aa-68da-46f8-967f-c131b8532fbb' class=\"sk-top-container\"><div class=\"sk-text-repr-fallback\"><pre>TransformedTargetForecaster(steps=[(&#x27;forecast&#x27;,\n",
       "                                    DirectTabularRegressionForecaster(estimator=RandomForestRegressor(n_estimators=1, n_jobs=-1),\n",
       "                                                                      window_length=24))])</pre><b>Please rerun this cell to show the HTML repr or trust the notebook.</b></div><div class=\"sk-container\" hidden><div class=\"sk-item sk-dashed-wrapped\"><div class='sk-label-container'><div class=\"sk-label sk-toggleable\"><input class=\"sk-toggleable__control sk-hidden--visually\" id=UUID('45f3bde2-90c5-4e09-95b6-fbf215dd723c') type=\"checkbox\" ><label for=UUID('45f3bde2-90c5-4e09-95b6-fbf215dd723c') class='sk-toggleable__label sk-toggleable__label-arrow'>TransformedTargetForecaster</label><div class=\"sk-toggleable__content\"><pre>TransformedTargetForecaster(steps=[(&#x27;forecast&#x27;,\n",
       "                                    DirectTabularRegressionForecaster(estimator=RandomForestRegressor(n_estimators=1, n_jobs=-1),\n",
       "                                                                      window_length=24))])</pre></div></div></div><div class=\"sk-parallel\"><div class=\"sk-parallel-item\"><div class=\"sk-item\"><div class=\"sk-serial\"><div class=\"sk-item sk-dashed-wrapped\"><div class=\"sk-parallel\"><div class=\"sk-parallel-item\"><div class=\"sk-item\"><div class=\"sk-serial\"><div class='sk-item'><div class=\"sk-estimator sk-toggleable\"><input class=\"sk-toggleable__control sk-hidden--visually\" id=UUID('309c71af-b8bc-4081-9cda-e10bb300f7fe') type=\"checkbox\" ><label for=UUID('309c71af-b8bc-4081-9cda-e10bb300f7fe') class='sk-toggleable__label sk-toggleable__label-arrow'>RandomForestRegressor</label><div class=\"sk-toggleable__content\"><pre>RandomForestRegressor(n_estimators=1, n_jobs=-1)</pre></div></div></div></div></div></div></div></div></div></div></div></div></div></div></div>"
      ],
      "text/plain": [
       "TransformedTargetForecaster(steps=[('forecast',\n",
       "                                    DirectTabularRegressionForecaster(estimator=RandomForestRegressor(n_estimators=1, n_jobs=-1),\n",
       "                                                                      window_length=24))])"
      ]
     },
     "execution_count": 4,
     "metadata": {},
     "output_type": "execute_result"
    }
   ],
   "source": [
    "from sklearn.preprocessing import StandardScaler\n",
    "from sktime.forecasting.compose import ForecastingPipeline\n",
    "from sktime.transformations.series.adapt import TabularToSeriesAdaptor\n",
    "\n",
    "direct_pipe_t = TransformedTargetForecaster(\n",
    "                    [\n",
    "                        (\n",
    "                            \"forecast\",\n",
    "                            make_reduction(\n",
    "                                RandomForestRegressor(n_estimators=1, n_jobs=-1),\n",
    "                                window_length=24,\n",
    "                                strategy=\"direct\",\n",
    "                            ),\n",
    "                        ),\n",
    "                    ]\n",
    "                )\n",
    "\n",
    "fh = ForecastingHorizon(np.arange(1, 12+1))\n",
    "direct_pipe_t.fit(y=y, X=X, fh = fh)\n"
   ]
  },
  {
   "cell_type": "code",
   "execution_count": 5,
   "metadata": {},
   "outputs": [
    {
     "data": {
      "text/plain": [
       "1200"
      ]
     },
     "execution_count": 5,
     "metadata": {},
     "output_type": "execute_result"
    }
   ],
   "source": [
    "import pandas as pd\n",
    "def create_lagged_columns(X, lag_range=24):\n",
    "    lagged_names = []\n",
    "    for col in X:\n",
    "        for lag in range(lag_range, 0, -1):\n",
    "            lagged_names.append(f\"{col}_lag{lag}\")\n",
    "    return lagged_names\n",
    "labels = create_lagged_columns(['price'] + X.columns.values.tolist(), lag_range=24)\n",
    "len(labels)"
   ]
  },
  {
   "cell_type": "code",
   "execution_count": 6,
   "metadata": {},
   "outputs": [],
   "source": [
    "y_transformed = direct_pipe_t.transform(y)  # does all the trasnformations on y\n",
    "y_enc, X_enc = direct_pipe_t.forecaster_._transform(y_transformed, X)  # TransfomedTargetForecaster does not transform X, only y. "
   ]
  },
  {
   "cell_type": "code",
   "execution_count": 7,
   "metadata": {},
   "outputs": [
    {
     "data": {
      "text/html": [
       "<div>\n",
       "<style scoped>\n",
       "    .dataframe tbody tr th:only-of-type {\n",
       "        vertical-align: middle;\n",
       "    }\n",
       "\n",
       "    .dataframe tbody tr th {\n",
       "        vertical-align: top;\n",
       "    }\n",
       "\n",
       "    .dataframe thead th {\n",
       "        text-align: right;\n",
       "    }\n",
       "</style>\n",
       "<table border=\"1\" class=\"dataframe\">\n",
       "  <thead>\n",
       "    <tr style=\"text-align: right;\">\n",
       "      <th></th>\n",
       "      <th>price1</th>\n",
       "      <th>price2</th>\n",
       "      <th>price3</th>\n",
       "      <th>price4</th>\n",
       "      <th>price5</th>\n",
       "      <th>price6</th>\n",
       "      <th>price7</th>\n",
       "      <th>price8</th>\n",
       "      <th>price9</th>\n",
       "      <th>price10</th>\n",
       "      <th>price11</th>\n",
       "      <th>price12</th>\n",
       "    </tr>\n",
       "  </thead>\n",
       "  <tbody>\n",
       "    <tr>\n",
       "      <th>0</th>\n",
       "      <td>178.63</td>\n",
       "      <td>150.99</td>\n",
       "      <td>106.89</td>\n",
       "      <td>187.26</td>\n",
       "      <td>596.05</td>\n",
       "      <td>120.79</td>\n",
       "      <td>760.57</td>\n",
       "      <td>574.26</td>\n",
       "      <td>762.16</td>\n",
       "      <td>340.44</td>\n",
       "      <td>178.05</td>\n",
       "      <td>181.82</td>\n",
       "    </tr>\n",
       "    <tr>\n",
       "      <th>1</th>\n",
       "      <td>150.99</td>\n",
       "      <td>106.89</td>\n",
       "      <td>187.26</td>\n",
       "      <td>596.05</td>\n",
       "      <td>120.79</td>\n",
       "      <td>760.57</td>\n",
       "      <td>574.26</td>\n",
       "      <td>762.16</td>\n",
       "      <td>340.44</td>\n",
       "      <td>178.05</td>\n",
       "      <td>181.82</td>\n",
       "      <td>337.13</td>\n",
       "    </tr>\n",
       "    <tr>\n",
       "      <th>2</th>\n",
       "      <td>106.89</td>\n",
       "      <td>187.26</td>\n",
       "      <td>596.05</td>\n",
       "      <td>120.79</td>\n",
       "      <td>760.57</td>\n",
       "      <td>574.26</td>\n",
       "      <td>762.16</td>\n",
       "      <td>340.44</td>\n",
       "      <td>178.05</td>\n",
       "      <td>181.82</td>\n",
       "      <td>337.13</td>\n",
       "      <td>420.30</td>\n",
       "    </tr>\n",
       "    <tr>\n",
       "      <th>3</th>\n",
       "      <td>187.26</td>\n",
       "      <td>596.05</td>\n",
       "      <td>120.79</td>\n",
       "      <td>760.57</td>\n",
       "      <td>574.26</td>\n",
       "      <td>762.16</td>\n",
       "      <td>340.44</td>\n",
       "      <td>178.05</td>\n",
       "      <td>181.82</td>\n",
       "      <td>337.13</td>\n",
       "      <td>420.30</td>\n",
       "      <td>527.70</td>\n",
       "    </tr>\n",
       "    <tr>\n",
       "      <th>4</th>\n",
       "      <td>596.05</td>\n",
       "      <td>120.79</td>\n",
       "      <td>760.57</td>\n",
       "      <td>574.26</td>\n",
       "      <td>762.16</td>\n",
       "      <td>340.44</td>\n",
       "      <td>178.05</td>\n",
       "      <td>181.82</td>\n",
       "      <td>337.13</td>\n",
       "      <td>420.30</td>\n",
       "      <td>527.70</td>\n",
       "      <td>645.20</td>\n",
       "    </tr>\n",
       "    <tr>\n",
       "      <th>...</th>\n",
       "      <td>...</td>\n",
       "      <td>...</td>\n",
       "      <td>...</td>\n",
       "      <td>...</td>\n",
       "      <td>...</td>\n",
       "      <td>...</td>\n",
       "      <td>...</td>\n",
       "      <td>...</td>\n",
       "      <td>...</td>\n",
       "      <td>...</td>\n",
       "      <td>...</td>\n",
       "      <td>...</td>\n",
       "    </tr>\n",
       "    <tr>\n",
       "      <th>2863</th>\n",
       "      <td>51.07</td>\n",
       "      <td>49.35</td>\n",
       "      <td>47.94</td>\n",
       "      <td>49.26</td>\n",
       "      <td>47.61</td>\n",
       "      <td>48.56</td>\n",
       "      <td>46.05</td>\n",
       "      <td>46.53</td>\n",
       "      <td>46.03</td>\n",
       "      <td>43.55</td>\n",
       "      <td>46.25</td>\n",
       "      <td>50.86</td>\n",
       "    </tr>\n",
       "    <tr>\n",
       "      <th>2864</th>\n",
       "      <td>49.35</td>\n",
       "      <td>47.94</td>\n",
       "      <td>49.26</td>\n",
       "      <td>47.61</td>\n",
       "      <td>48.56</td>\n",
       "      <td>46.05</td>\n",
       "      <td>46.53</td>\n",
       "      <td>46.03</td>\n",
       "      <td>43.55</td>\n",
       "      <td>46.25</td>\n",
       "      <td>50.86</td>\n",
       "      <td>49.35</td>\n",
       "    </tr>\n",
       "    <tr>\n",
       "      <th>2865</th>\n",
       "      <td>47.94</td>\n",
       "      <td>49.26</td>\n",
       "      <td>47.61</td>\n",
       "      <td>48.56</td>\n",
       "      <td>46.05</td>\n",
       "      <td>46.53</td>\n",
       "      <td>46.03</td>\n",
       "      <td>43.55</td>\n",
       "      <td>46.25</td>\n",
       "      <td>50.86</td>\n",
       "      <td>49.35</td>\n",
       "      <td>51.28</td>\n",
       "    </tr>\n",
       "    <tr>\n",
       "      <th>2866</th>\n",
       "      <td>49.26</td>\n",
       "      <td>47.61</td>\n",
       "      <td>48.56</td>\n",
       "      <td>46.05</td>\n",
       "      <td>46.53</td>\n",
       "      <td>46.03</td>\n",
       "      <td>43.55</td>\n",
       "      <td>46.25</td>\n",
       "      <td>50.86</td>\n",
       "      <td>49.35</td>\n",
       "      <td>51.28</td>\n",
       "      <td>48.39</td>\n",
       "    </tr>\n",
       "    <tr>\n",
       "      <th>2867</th>\n",
       "      <td>47.61</td>\n",
       "      <td>48.56</td>\n",
       "      <td>46.05</td>\n",
       "      <td>46.53</td>\n",
       "      <td>46.03</td>\n",
       "      <td>43.55</td>\n",
       "      <td>46.25</td>\n",
       "      <td>50.86</td>\n",
       "      <td>49.35</td>\n",
       "      <td>51.28</td>\n",
       "      <td>48.39</td>\n",
       "      <td>46.38</td>\n",
       "    </tr>\n",
       "  </tbody>\n",
       "</table>\n",
       "<p>2868 rows × 12 columns</p>\n",
       "</div>"
      ],
      "text/plain": [
       "      price1  price2  price3  price4  price5  price6  price7  price8  price9  \\\n",
       "0     178.63  150.99  106.89  187.26  596.05  120.79  760.57  574.26  762.16   \n",
       "1     150.99  106.89  187.26  596.05  120.79  760.57  574.26  762.16  340.44   \n",
       "2     106.89  187.26  596.05  120.79  760.57  574.26  762.16  340.44  178.05   \n",
       "3     187.26  596.05  120.79  760.57  574.26  762.16  340.44  178.05  181.82   \n",
       "4     596.05  120.79  760.57  574.26  762.16  340.44  178.05  181.82  337.13   \n",
       "...      ...     ...     ...     ...     ...     ...     ...     ...     ...   \n",
       "2863   51.07   49.35   47.94   49.26   47.61   48.56   46.05   46.53   46.03   \n",
       "2864   49.35   47.94   49.26   47.61   48.56   46.05   46.53   46.03   43.55   \n",
       "2865   47.94   49.26   47.61   48.56   46.05   46.53   46.03   43.55   46.25   \n",
       "2866   49.26   47.61   48.56   46.05   46.53   46.03   43.55   46.25   50.86   \n",
       "2867   47.61   48.56   46.05   46.53   46.03   43.55   46.25   50.86   49.35   \n",
       "\n",
       "      price10  price11  price12  \n",
       "0      340.44   178.05   181.82  \n",
       "1      178.05   181.82   337.13  \n",
       "2      181.82   337.13   420.30  \n",
       "3      337.13   420.30   527.70  \n",
       "4      420.30   527.70   645.20  \n",
       "...       ...      ...      ...  \n",
       "2863    43.55    46.25    50.86  \n",
       "2864    46.25    50.86    49.35  \n",
       "2865    50.86    49.35    51.28  \n",
       "2866    49.35    51.28    48.39  \n",
       "2867    51.28    48.39    46.38  \n",
       "\n",
       "[2868 rows x 12 columns]"
      ]
     },
     "execution_count": 7,
     "metadata": {},
     "output_type": "execute_result"
    }
   ],
   "source": [
    "array_df = pd.DataFrame(y_enc)\n",
    "array_df.columns = ['price1', 'price2', 'price3', 'price4','price5', 'price6','price7', 'price8','price9', 'price10', 'price11', 'price12']\n",
    "array_df"
   ]
  },
  {
   "cell_type": "code",
   "execution_count": 8,
   "metadata": {},
   "outputs": [],
   "source": [
    "X_enc = pd.DataFrame(X_enc, columns=labels)"
   ]
  },
  {
   "cell_type": "code",
   "execution_count": 9,
   "metadata": {},
   "outputs": [],
   "source": [
    "merged_df = pd.concat([X_enc, array_df], axis=1)"
   ]
  },
  {
   "cell_type": "code",
   "execution_count": 10,
   "metadata": {},
   "outputs": [],
   "source": [
    "corr_matrix = merged_df.corr('spearman')"
   ]
  },
  {
   "cell_type": "code",
   "execution_count": 11,
   "metadata": {},
   "outputs": [],
   "source": [
    "import re\n",
    "overall_useless = []\n",
    "\n",
    "for i in range(1, 13):\n",
    "    feature_correlations = corr_matrix[f'price{i}'].drop(f'price{i}')\n",
    "    sorted_correlations = feature_correlations.abs().sort_values(ascending=False)\n",
    "    low = sorted_correlations[sorted_correlations<0.2]\n",
    "    strings = low.index.values\n",
    "    clean_results = []\n",
    "\n",
    "    for string in strings:\n",
    "        clean_string = re.sub(r'_lag\\d+', '', string)\n",
    "        clean_results.append(clean_string)\n",
    "\n",
    "    unique_results = list(set(clean_results))\n",
    "    overall_useless.append(unique_results)"
   ]
  },
  {
   "cell_type": "code",
   "execution_count": 12,
   "metadata": {},
   "outputs": [
    {
     "data": {
      "text/plain": [
       "['total_reserve_margin',\n",
       " 'total_avail',\n",
       " 'hydro_tng',\n",
       " 'total_tng',\n",
       " 'coal_avail_ratio',\n",
       " 'solar_reserve_margin',\n",
       " 'coal_reserve_margin',\n",
       " 'gas_avail_ratio',\n",
       " 'fossil_fuel_ratio',\n",
       " 'solar_tng',\n",
       " 'coal_supply_mix',\n",
       " 'wind_supply_mix',\n",
       " 'coal_tng_ratio',\n",
       " 'hydro_supply_mix',\n",
       " 'ail',\n",
       " 'dual_fuel_supply_mix',\n",
       " 'solar_supply_mix',\n",
       " 'wind_tng',\n",
       " 'avail_gen_ratio',\n",
       " 'hydro_reserve_margin',\n",
       " 'dual_fuel_tng',\n",
       " 'demand_supply_ratio',\n",
       " 'storage_supply_mix',\n",
       " 'solar_avail',\n",
       " 'coal_avail',\n",
       " 'gas_avail',\n",
       " 'energy_reserve_margin',\n",
       " 'coal_tng',\n",
       " 'dual_fuel_avail',\n",
       " 'storage_tng',\n",
       " 'wind_reserve_margin',\n",
       " 'storage_reserve_margin']"
      ]
     },
     "execution_count": 12,
     "metadata": {},
     "output_type": "execute_result"
    }
   ],
   "source": [
    "flattened_list = [item for sublist in overall_useless for item in sublist]\n",
    "list(set(flattened_list))"
   ]
  },
  {
   "cell_type": "code",
   "execution_count": 13,
   "metadata": {},
   "outputs": [
    {
     "data": {
      "text/plain": [
       "['other_tng',\n",
       " 'gas_tng_ratio',\n",
       " 'renewable_energy_ratio',\n",
       " 'other_avail',\n",
       " 'other_reserve_margin',\n",
       " 'gas_reserve_margin',\n",
       " 'storage_avail',\n",
       " 'gas_tng',\n",
       " 'hydro_avail',\n",
       " 'wind_avail',\n",
       " 'other_supply_mix',\n",
       " 'renewable_energy_penetration',\n",
       " 'gas_price',\n",
       " 'gas_supply_mix',\n",
       " 'relative_gas_reserve',\n",
       " 'price',\n",
       " 'load_on_gas_reserve',\n",
       " 'gas_cost']"
      ]
     },
     "execution_count": 13,
     "metadata": {},
     "output_type": "execute_result"
    }
   ],
   "source": [
    "# Usefull features\n",
    "list(set(price_old_df.columns) - set(flattened_list))"
   ]
  },
  {
   "cell_type": "code",
   "execution_count": 19,
   "metadata": {},
   "outputs": [],
   "source": [
    "corr_matrix_pearson = merged_df.corr('pearson')"
   ]
  },
  {
   "cell_type": "code",
   "execution_count": 20,
   "metadata": {},
   "outputs": [],
   "source": [
    "import re\n",
    "overall_useless = []\n",
    "\n",
    "for i in range(1, 13):\n",
    "    feature_correlations = corr_matrix_pearson[f'price{i}'].drop(f'price{i}')\n",
    "    sorted_correlations = feature_correlations.abs().sort_values(ascending=False)\n",
    "    low = sorted_correlations[sorted_correlations<0.2]\n",
    "    strings = low.index.values\n",
    "    clean_results = []\n",
    "\n",
    "    for string in strings:\n",
    "        clean_string = re.sub(r'_lag\\d+', '', string)\n",
    "        clean_results.append(clean_string)\n",
    "\n",
    "    unique_results = list(set(clean_results))\n",
    "    overall_useless.append(unique_results)"
   ]
  },
  {
   "cell_type": "code",
   "execution_count": 21,
   "metadata": {},
   "outputs": [
    {
     "data": {
      "text/plain": [
       "['total_reserve_margin',\n",
       " 'other_avail',\n",
       " 'total_avail',\n",
       " 'wind_avail',\n",
       " 'hydro_tng',\n",
       " 'total_tng',\n",
       " 'coal_avail_ratio',\n",
       " 'solar_reserve_margin',\n",
       " 'coal_reserve_margin',\n",
       " 'gas_avail_ratio',\n",
       " 'solar_tng',\n",
       " 'other_supply_mix',\n",
       " 'coal_supply_mix',\n",
       " 'renewable_energy_penetration',\n",
       " 'storage_avail',\n",
       " 'wind_supply_mix',\n",
       " 'coal_tng_ratio',\n",
       " 'hydro_supply_mix',\n",
       " 'ail',\n",
       " 'dual_fuel_supply_mix',\n",
       " 'solar_supply_mix',\n",
       " 'renewable_energy_ratio',\n",
       " 'other_reserve_margin',\n",
       " 'wind_tng',\n",
       " 'avail_gen_ratio',\n",
       " 'hydro_avail',\n",
       " 'hydro_reserve_margin',\n",
       " 'dual_fuel_tng',\n",
       " 'demand_supply_ratio',\n",
       " 'solar_avail',\n",
       " 'storage_supply_mix',\n",
       " 'coal_avail',\n",
       " 'gas_avail',\n",
       " 'energy_reserve_margin',\n",
       " 'coal_tng',\n",
       " 'dual_fuel_avail',\n",
       " 'storage_tng',\n",
       " 'price',\n",
       " 'wind_reserve_margin',\n",
       " 'storage_reserve_margin']"
      ]
     },
     "execution_count": 21,
     "metadata": {},
     "output_type": "execute_result"
    }
   ],
   "source": [
    "flattened_list = [item for sublist in overall_useless for item in sublist]\n",
    "list(set(flattened_list))"
   ]
  },
  {
   "cell_type": "code",
   "execution_count": 22,
   "metadata": {},
   "outputs": [
    {
     "data": {
      "text/plain": [
       "['other_tng',\n",
       " 'gas_tng_ratio',\n",
       " 'fossil_fuel_ratio',\n",
       " 'gas_reserve_margin',\n",
       " 'gas_tng',\n",
       " 'relative_gas_reserve',\n",
       " 'gas_supply_mix',\n",
       " 'gas_price',\n",
       " 'load_on_gas_reserve',\n",
       " 'gas_cost']"
      ]
     },
     "execution_count": 22,
     "metadata": {},
     "output_type": "execute_result"
    }
   ],
   "source": [
    "# Usefull features\n",
    "list(set(price_old_df.columns) - set(flattened_list))"
   ]
  },
  {
   "cell_type": "code",
   "execution_count": null,
   "metadata": {},
   "outputs": [],
   "source": []
  }
 ],
 "metadata": {
  "kernelspec": {
   "display_name": "slalomenv",
   "language": "python",
   "name": "python3"
  },
  "language_info": {
   "codemirror_mode": {
    "name": "ipython",
    "version": 3
   },
   "file_extension": ".py",
   "mimetype": "text/x-python",
   "name": "python",
   "nbconvert_exporter": "python",
   "pygments_lexer": "ipython3",
   "version": "3.11.3"
  },
  "orig_nbformat": 4
 },
 "nbformat": 4,
 "nbformat_minor": 2
}
