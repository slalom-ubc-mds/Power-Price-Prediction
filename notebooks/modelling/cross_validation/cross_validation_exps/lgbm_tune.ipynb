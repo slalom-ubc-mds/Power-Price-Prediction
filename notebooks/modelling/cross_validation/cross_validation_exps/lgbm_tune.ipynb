{
 "cells": [
  {
   "cell_type": "code",
   "execution_count": 2,
   "metadata": {},
   "outputs": [],
   "source": [
    "# pip install sktime"
   ]
  },
  {
   "attachments": {},
   "cell_type": "markdown",
   "metadata": {},
   "source": [
    "- Using the selected features from the EDA.\n",
    "- Using tuned 'lgbm_pipeline'"
   ]
  },
  {
   "cell_type": "code",
   "execution_count": 3,
   "metadata": {},
   "outputs": [],
   "source": [
    "import pandas as pd\n",
    "from scipy.stats import boxcox\n",
    "from scipy.special import inv_boxcox\n",
    "import numpy as np\n",
    "from sktime.forecasting.arima import ARIMA\n",
    "from sktime.forecasting.compose import TransformedTargetForecaster\n",
    "from sktime.transformations.series.detrend import Deseasonalizer\n",
    "from sktime.forecasting.trend import PolynomialTrendForecaster\n",
    "from sktime.transformations.series.detrend import Detrender\n",
    "from sktime.forecasting.model_selection import temporal_train_test_split\n",
    "from sktime.forecasting.base import ForecastingHorizon\n",
    "from sklearn.metrics import mean_squared_error\n",
    "from sktime.forecasting.compose import make_reduction\n",
    "from sklearn.exceptions import ConvergenceWarning\n",
    "import requests\n",
    "from sklearn.ensemble import (\n",
    "    HistGradientBoostingRegressor,\n",
    "    GradientBoostingRegressor,\n",
    "    RandomForestRegressor,\n",
    ")\n",
    "from sklearn.linear_model import ElasticNetCV\n",
    "from sktime.forecasting.model_selection import (\n",
    "    ForecastingGridSearchCV,\n",
    "    ExpandingWindowSplitter,\n",
    ")\n",
    "from sktime.forecasting.compose import MultiplexForecaster\n",
    "from sklearn.neighbors import KNeighborsRegressor\n",
    "from sktime.forecasting.ets import AutoETS\n",
    "from sktime.transformations.series.boxcox import LogTransformer\n",
    "\n",
    "\n",
    "import warnings\n",
    "warnings.filterwarnings(\"ignore\")"
   ]
  },
  {
   "cell_type": "code",
   "execution_count": 4,
   "metadata": {},
   "outputs": [],
   "source": [
    "from sklearn.preprocessing import StandardScaler\n",
    "from sktime.forecasting.compose import ForecastingPipeline\n",
    "from sktime.transformations.series.adapt import TabularToSeriesAdaptor\n",
    "from sktime.transformations.series.boxcox import BoxCoxTransformer\n",
    "from sktime.forecasting.arima import AutoARIMA\n",
    "from xgboost import XGBRegressor\n",
    "from lightgbm import LGBMRegressor\n",
    "from catboost import CatBoostRegressor\n",
    "\n",
    "\n",
    "def initialize_elasticnet_forecaster():\n",
    "    pipe = TransformedTargetForecaster(\n",
    "                    [\n",
    "                        (\n",
    "                            \"forecast\",\n",
    "                            make_reduction(\n",
    "                                ElasticNetCV(n_jobs=-1),\n",
    "                                window_length=24,\n",
    "                                strategy=\"direct\",\n",
    "                            ),\n",
    "                        ),\n",
    "                    ]\n",
    "                )\n",
    "\n",
    "    return pipe\n",
    "\n",
    "\n",
    "def initialize_rf_forecaster():\n",
    "    pipe = TransformedTargetForecaster(\n",
    "                    [\n",
    "                        (\n",
    "                            \"forecast\",\n",
    "                            make_reduction(\n",
    "                                RandomForestRegressor(n_estimators=100, n_jobs=-1),\n",
    "                                window_length=24,\n",
    "                                strategy=\"direct\",\n",
    "                            ),\n",
    "                        ),\n",
    "                    ]\n",
    "                )\n",
    "\n",
    "    return pipe\n",
    "\n",
    "\n",
    "def initialize_gb_forecaster():\n",
    "    pipe = TransformedTargetForecaster(\n",
    "                    [\n",
    "                        (\n",
    "                            \"forecast\",\n",
    "                            make_reduction(\n",
    "                                GradientBoostingRegressor(n_estimators=200),\n",
    "                                window_length=24,\n",
    "                                strategy=\"direct\",\n",
    "                            ),\n",
    "                        ),\n",
    "                    ]\n",
    "                )\n",
    "           \n",
    "    return pipe\n",
    "\n",
    "\n",
    "def initialize_hist_forecaster():\n",
    "    deseasonalizer_daily = Deseasonalizer(sp=24, model=\"additive\")\n",
    "    pipe = TransformedTargetForecaster(\n",
    "                    [\n",
    "                        (\n",
    "                            \"forecast\",\n",
    "                            make_reduction(\n",
    "                                HistGradientBoostingRegressor(),\n",
    "                                window_length=24,\n",
    "                                strategy=\"direct\",\n",
    "                            ),\n",
    "                        ),\n",
    "                    ]\n",
    "                )\n",
    "            \n",
    "    return pipe\n",
    "\n",
    "def initialize_cat_forecaster():\n",
    "    pipe = TransformedTargetForecaster(\n",
    "                    [\n",
    "                        (\n",
    "                            \"forecast\",\n",
    "                            make_reduction(\n",
    "                                CatBoostRegressor(verbose=0, n_estimators=100),\n",
    "                                window_length=24,\n",
    "                                strategy=\"direct\",\n",
    "                            ),\n",
    "                        ),\n",
    "                    ]\n",
    "                )\n",
    "\n",
    "    return pipe\n",
    "\n",
    "def initialize_lgbm_forecaster():\n",
    "    pipe = TransformedTargetForecaster(\n",
    "                    [\n",
    "                        (\n",
    "                            \"forecast\",\n",
    "                            make_reduction(\n",
    "                                LGBMRegressor(),\n",
    "                                window_length=24,\n",
    "                                strategy=\"direct\",\n",
    "                            ),\n",
    "                        ),\n",
    "                    ]\n",
    "                )\n",
    "\n",
    "    return pipe\n",
    "\n",
    "\n",
    "def initialize_xgb_forecaster():\n",
    "    pipe = TransformedTargetForecaster(\n",
    "                    [\n",
    "                        (\n",
    "                            \"forecast\",\n",
    "                            make_reduction(\n",
    "                                XGBRegressor(objective=\"reg:squarederror\"),\n",
    "                                window_length=24,\n",
    "                                strategy=\"direct\",\n",
    "                            ),\n",
    "                        ),\n",
    "                    ]\n",
    "                )\n",
    "\n",
    "    return pipe"
   ]
  },
  {
   "cell_type": "code",
   "execution_count": 5,
   "metadata": {},
   "outputs": [],
   "source": [
    "elasticnet_pipeline = initialize_elasticnet_forecaster()\n",
    "rf_pipeline = initialize_rf_forecaster()\n",
    "gb_pipeline = initialize_gb_forecaster()\n",
    "hist_pipeline = initialize_hist_forecaster()\n",
    "cat_pipeline = initialize_cat_forecaster()\n",
    "lgbm_pipeline = initialize_lgbm_forecaster()\n",
    "xgb_pipeline = initialize_xgb_forecaster()\n",
    "\n",
    "\n",
    "forecasting_models = {\n",
    "    \"elasticnet_pipeline\": elasticnet_pipeline,\n",
    "    \"rf_pipeline\": rf_pipeline,\n",
    "    \"gb_pipeline\": gb_pipeline,\n",
    "    \"hist_pipeline\": hist_pipeline,\n",
    "    \"cat_pipeline\": cat_pipeline,\n",
    "    \"lgbm_pipeline\": lgbm_pipeline,\n",
    "    \"xgb_pipeline\": xgb_pipeline,\n",
    "}"
   ]
  },
  {
   "cell_type": "code",
   "execution_count": 6,
   "metadata": {},
   "outputs": [],
   "source": [
    "selected_features = [\n",
    "    \"other_tng\",\n",
    "    \"gas_tng_ratio\",\n",
    "    \"renewable_energy_ratio\",\n",
    "    \"other_avail\",\n",
    "    \"other_reserve_margin\",\n",
    "    \"gas_reserve_margin\",\n",
    "    \"storage_avail\",\n",
    "    \"gas_tng\",\n",
    "    \"hydro_avail\",\n",
    "    \"wind_avail\",\n",
    "    \"other_supply_mix\",\n",
    "    \"renewable_energy_penetration\",\n",
    "    \"gas_price\",\n",
    "    \"gas_supply_mix\",\n",
    "    \"relative_gas_reserve\",\n",
    "    \"load_on_gas_reserve\",\n",
    "    \"gas_cost\",\n",
    "    \"rolling_mean\",\n",
    "    \"rolling_std\",\n",
    "    \"rolling_min\",\n",
    "    \"rolling_max\",\n",
    "    \"rolling_median\",\n",
    "    \"exp_moving_avg\",\n",
    "]"
   ]
  },
  {
   "cell_type": "code",
   "execution_count": 7,
   "metadata": {},
   "outputs": [],
   "source": [
    "price_old_df = pd.read_csv(\n",
    "    \"https://raw.githubusercontent.com/slalom-ubc-mds/Power-Price-Prediction/main/data/processed/supply_load_price.csv\",\n",
    "    parse_dates=[\"Date (MST)\"],\n",
    "    index_col=\"Date (MST)\",\n",
    ")\n",
    "\n",
    "window = 24\n",
    "price_old_df = price_old_df.sort_values(by=\"Date (MST)\")\n",
    "price_old_df = price_old_df.asfreq(\"H\")\n",
    "\n",
    "price_old_df['rolling_mean'] = price_old_df['price'].rolling(window).mean().rolling(2).mean().shift(-window // 2)\n",
    "price_old_df['rolling_std'] = price_old_df['price'].rolling(window).std().rolling(2).mean().shift(-window // 2)\n",
    "price_old_df['rolling_min'] = price_old_df['price'].rolling(window).min().rolling(2).mean().shift(-window // 2)\n",
    "price_old_df['rolling_max'] = price_old_df['price'].rolling(window).max().rolling(2).mean().shift(-window // 2)\n",
    "price_old_df['rolling_median'] = price_old_df['price'].rolling(window).median().rolling(2).mean().shift(-window // 2)\n",
    "price_old_df['exp_moving_avg'] = price_old_df['price'].ewm(span=24).mean()"
   ]
  },
  {
   "cell_type": "code",
   "execution_count": 8,
   "metadata": {},
   "outputs": [],
   "source": [
    "price_old_df_filtered = price_old_df.loc[\"2022-12-01\":\"2023-03-28\", selected_features + [\"price\"]]\n",
    "\n",
    "y = price_old_df_filtered[\"price\"]\n",
    "X = price_old_df_filtered[selected_features]\n",
    "\n",
    "# # scale ratios to percentages\n",
    "X[\"gas_supply_mix\"] = X[\"gas_supply_mix\"] * 100\n",
    "X[\"other_supply_mix\"] = X[\"other_supply_mix\"] * 100\n",
    "X['gas_reserve_margin'] = X['gas_reserve_margin'] * 100\n",
    "X['other_reserve_margin'] = X['other_reserve_margin'] * 100"
   ]
  },
  {
   "cell_type": "code",
   "execution_count": 9,
   "metadata": {},
   "outputs": [
    {
     "name": "stdout",
     "output_type": "stream",
     "text": [
      "Number of Folds = 23\n"
     ]
    }
   ],
   "source": [
    "cv = ExpandingWindowSplitter(\n",
    "    initial_window=int(len(X) * 0.9), step_length=12, fh=np.arange(1, 13)\n",
    ")\n",
    "\n",
    "n_splits = cv.get_n_splits(y)\n",
    "print(f\"Number of Folds = {n_splits}\")"
   ]
  },
  {
   "cell_type": "code",
   "execution_count": 12,
   "metadata": {},
   "outputs": [
    {
     "data": {
      "text/plain": [
       "{'steps': [('forecast',\n",
       "   DirectTabularRegressionForecaster(estimator=LGBMRegressor(), window_length=24))],\n",
       " 'forecast': DirectTabularRegressionForecaster(estimator=LGBMRegressor(), window_length=24),\n",
       " 'forecast__estimator': LGBMRegressor(),\n",
       " 'forecast__pooling': 'local',\n",
       " 'forecast__transformers': None,\n",
       " 'forecast__window_length': 24,\n",
       " 'forecast__windows_identical': True,\n",
       " 'forecast__estimator__boosting_type': 'gbdt',\n",
       " 'forecast__estimator__class_weight': None,\n",
       " 'forecast__estimator__colsample_bytree': 1.0,\n",
       " 'forecast__estimator__importance_type': 'split',\n",
       " 'forecast__estimator__learning_rate': 0.1,\n",
       " 'forecast__estimator__max_depth': -1,\n",
       " 'forecast__estimator__min_child_samples': 20,\n",
       " 'forecast__estimator__min_child_weight': 0.001,\n",
       " 'forecast__estimator__min_split_gain': 0.0,\n",
       " 'forecast__estimator__n_estimators': 100,\n",
       " 'forecast__estimator__n_jobs': -1,\n",
       " 'forecast__estimator__num_leaves': 31,\n",
       " 'forecast__estimator__objective': None,\n",
       " 'forecast__estimator__random_state': None,\n",
       " 'forecast__estimator__reg_alpha': 0.0,\n",
       " 'forecast__estimator__reg_lambda': 0.0,\n",
       " 'forecast__estimator__silent': 'warn',\n",
       " 'forecast__estimator__subsample': 1.0,\n",
       " 'forecast__estimator__subsample_for_bin': 200000,\n",
       " 'forecast__estimator__subsample_freq': 0}"
      ]
     },
     "execution_count": 12,
     "metadata": {},
     "output_type": "execute_result"
    }
   ],
   "source": [
    "lgbm_pipeline.get_params()"
   ]
  },
  {
   "cell_type": "code",
   "execution_count": 13,
   "metadata": {},
   "outputs": [],
   "source": [
    "from sklearn.datasets import make_regression\n",
    "from scipy.stats import uniform, randint\n",
    "from sktime.forecasting.model_selection import ForecastingRandomizedSearchCV\n",
    "from sktime.performance_metrics.forecasting import MeanSquaredError\n",
    "\n",
    "# Define the parameter distributions for randomized search\n",
    "param_dist = {\n",
    "    'forecast__estimator__reg_alpha': uniform(0, 1),\n",
    "    'forecast__estimator__reg_lambda': uniform(0, 1),\n",
    "    'forecast__estimator__max_depth': range(5, 30),\n",
    "    'forecast__estimator__learning_rate': uniform(loc=0.01, scale=0.2 - 0.01),\n",
    "}\n",
    "\n",
    "random_search = ForecastingRandomizedSearchCV(lgbm_pipeline, cv=cv, param_distributions=param_dist, n_iter=1, scoring=MeanSquaredError(square_root=True), n_jobs=-1, verbose=1, random_state=1, error_score=\"raise\")"
   ]
  },
  {
   "cell_type": "code",
   "execution_count": 14,
   "metadata": {},
   "outputs": [
    {
     "name": "stdout",
     "output_type": "stream",
     "text": [
      "Fitting 23 folds for each of 1 candidates, totalling 23 fits\n"
     ]
    },
    {
     "data": {
      "text/html": [
       "<style>#sk-f1bd8fc3-9699-4dc7-88ea-9afb158b3232 {color: black;background-color: white;}#sk-f1bd8fc3-9699-4dc7-88ea-9afb158b3232 pre{padding: 0;}#sk-f1bd8fc3-9699-4dc7-88ea-9afb158b3232 div.sk-toggleable {background-color: white;}#sk-f1bd8fc3-9699-4dc7-88ea-9afb158b3232 label.sk-toggleable__label {cursor: pointer;display: block;width: 100%;margin-bottom: 0;padding: 0.3em;box-sizing: border-box;text-align: center;}#sk-f1bd8fc3-9699-4dc7-88ea-9afb158b3232 label.sk-toggleable__label-arrow:before {content: \"▸\";float: left;margin-right: 0.25em;color: #696969;}#sk-f1bd8fc3-9699-4dc7-88ea-9afb158b3232 label.sk-toggleable__label-arrow:hover:before {color: black;}#sk-f1bd8fc3-9699-4dc7-88ea-9afb158b3232 div.sk-estimator:hover label.sk-toggleable__label-arrow:before {color: black;}#sk-f1bd8fc3-9699-4dc7-88ea-9afb158b3232 div.sk-toggleable__content {max-height: 0;max-width: 0;overflow: hidden;text-align: left;background-color: #f0f8ff;}#sk-f1bd8fc3-9699-4dc7-88ea-9afb158b3232 div.sk-toggleable__content pre {margin: 0.2em;color: black;border-radius: 0.25em;background-color: #f0f8ff;}#sk-f1bd8fc3-9699-4dc7-88ea-9afb158b3232 input.sk-toggleable__control:checked~div.sk-toggleable__content {max-height: 200px;max-width: 100%;overflow: auto;}#sk-f1bd8fc3-9699-4dc7-88ea-9afb158b3232 input.sk-toggleable__control:checked~label.sk-toggleable__label-arrow:before {content: \"▾\";}#sk-f1bd8fc3-9699-4dc7-88ea-9afb158b3232 div.sk-estimator input.sk-toggleable__control:checked~label.sk-toggleable__label {background-color: #d4ebff;}#sk-f1bd8fc3-9699-4dc7-88ea-9afb158b3232 div.sk-label input.sk-toggleable__control:checked~label.sk-toggleable__label {background-color: #d4ebff;}#sk-f1bd8fc3-9699-4dc7-88ea-9afb158b3232 input.sk-hidden--visually {border: 0;clip: rect(1px 1px 1px 1px);clip: rect(1px, 1px, 1px, 1px);height: 1px;margin: -1px;overflow: hidden;padding: 0;position: absolute;width: 1px;}#sk-f1bd8fc3-9699-4dc7-88ea-9afb158b3232 div.sk-estimator {font-family: monospace;background-color: #f0f8ff;border: 1px dotted black;border-radius: 0.25em;box-sizing: border-box;margin-bottom: 0.5em;}#sk-f1bd8fc3-9699-4dc7-88ea-9afb158b3232 div.sk-estimator:hover {background-color: #d4ebff;}#sk-f1bd8fc3-9699-4dc7-88ea-9afb158b3232 div.sk-parallel-item::after {content: \"\";width: 100%;border-bottom: 1px solid gray;flex-grow: 1;}#sk-f1bd8fc3-9699-4dc7-88ea-9afb158b3232 div.sk-label:hover label.sk-toggleable__label {background-color: #d4ebff;}#sk-f1bd8fc3-9699-4dc7-88ea-9afb158b3232 div.sk-serial::before {content: \"\";position: absolute;border-left: 1px solid gray;box-sizing: border-box;top: 2em;bottom: 0;left: 50%;}#sk-f1bd8fc3-9699-4dc7-88ea-9afb158b3232 div.sk-serial {display: flex;flex-direction: column;align-items: center;background-color: white;padding-right: 0.2em;padding-left: 0.2em;}#sk-f1bd8fc3-9699-4dc7-88ea-9afb158b3232 div.sk-item {z-index: 1;}#sk-f1bd8fc3-9699-4dc7-88ea-9afb158b3232 div.sk-parallel {display: flex;align-items: stretch;justify-content: center;background-color: white;}#sk-f1bd8fc3-9699-4dc7-88ea-9afb158b3232 div.sk-parallel::before {content: \"\";position: absolute;border-left: 1px solid gray;box-sizing: border-box;top: 2em;bottom: 0;left: 50%;}#sk-f1bd8fc3-9699-4dc7-88ea-9afb158b3232 div.sk-parallel-item {display: flex;flex-direction: column;position: relative;background-color: white;}#sk-f1bd8fc3-9699-4dc7-88ea-9afb158b3232 div.sk-parallel-item:first-child::after {align-self: flex-end;width: 50%;}#sk-f1bd8fc3-9699-4dc7-88ea-9afb158b3232 div.sk-parallel-item:last-child::after {align-self: flex-start;width: 50%;}#sk-f1bd8fc3-9699-4dc7-88ea-9afb158b3232 div.sk-parallel-item:only-child::after {width: 0;}#sk-f1bd8fc3-9699-4dc7-88ea-9afb158b3232 div.sk-dashed-wrapped {border: 1px dashed gray;margin: 0 0.4em 0.5em 0.4em;box-sizing: border-box;padding-bottom: 0.4em;background-color: white;position: relative;}#sk-f1bd8fc3-9699-4dc7-88ea-9afb158b3232 div.sk-label label {font-family: monospace;font-weight: bold;background-color: white;display: inline-block;line-height: 1.2em;}#sk-f1bd8fc3-9699-4dc7-88ea-9afb158b3232 div.sk-label-container {position: relative;z-index: 2;text-align: center;}#sk-f1bd8fc3-9699-4dc7-88ea-9afb158b3232 div.sk-container {/* jupyter's `normalize.less` sets `[hidden] { display: none; }` but bootstrap.min.css set `[hidden] { display: none !important; }` so we also need the `!important` here to be able to override the default hidden behavior on the sphinx rendered scikit-learn.org. See: https://github.com/scikit-learn/scikit-learn/issues/21755 */display: inline-block !important;position: relative;}#sk-f1bd8fc3-9699-4dc7-88ea-9afb158b3232 div.sk-text-repr-fallback {display: none;}</style><div id='sk-f1bd8fc3-9699-4dc7-88ea-9afb158b3232' class=\"sk-top-container\"><div class=\"sk-text-repr-fallback\"><pre>ForecastingRandomizedSearchCV(cv=ExpandingWindowSplitter(fh=array([ 1,  2,  3,  4,  5,  6,  7,  8,  9, 10, 11, 12]),\n",
       "                                                         initial_window=2548,\n",
       "                                                         step_length=12),\n",
       "                              error_score=&#x27;raise&#x27;,\n",
       "                              forecaster=TransformedTargetForecaster(steps=[(&#x27;forecast&#x27;,\n",
       "                                                                             DirectTabularRegressionForecaster(estimator=LGBMRegressor(learning_rate=0.08923418089348906, max_depth=17,\n",
       "              reg_alpha=0.9325573593386588, reg_la...\n",
       "                              param_distributions={&#x27;forecast__estimator__learning_rate&#x27;: &lt;scipy.stats._distn_infrastructure.rv_continuous_frozen object at 0x0000021D874CC590&gt;,\n",
       "                                                   &#x27;forecast__estimator__max_depth&#x27;: range(5, 30),\n",
       "                                                   &#x27;forecast__estimator__reg_alpha&#x27;: &lt;scipy.stats._distn_infrastructure.rv_continuous_frozen object at 0x0000021D874A2350&gt;,\n",
       "                                                   &#x27;forecast__estimator__reg_lambda&#x27;: &lt;scipy.stats._distn_infrastructure.rv_continuous_frozen object at 0x0000021D874CCA90&gt;},\n",
       "                              random_state=1,\n",
       "                              scoring=MeanSquaredError(square_root=True),\n",
       "                              verbose=1)</pre><b>Please rerun this cell to show the HTML repr or trust the notebook.</b></div><div class=\"sk-container\" hidden><div class=\"sk-item sk-dashed-wrapped\"><div class='sk-label-container'><div class=\"sk-label sk-toggleable\"><input class=\"sk-toggleable__control sk-hidden--visually\" id=UUID('3e6e6dde-277d-4277-95f7-3b5a232bb2b2') type=\"checkbox\" ><label for=UUID('3e6e6dde-277d-4277-95f7-3b5a232bb2b2') class='sk-toggleable__label sk-toggleable__label-arrow'>ForecastingRandomizedSearchCV</label><div class=\"sk-toggleable__content\"><pre>ForecastingRandomizedSearchCV(cv=ExpandingWindowSplitter(fh=array([ 1,  2,  3,  4,  5,  6,  7,  8,  9, 10, 11, 12]),\n",
       "                                                         initial_window=2548,\n",
       "                                                         step_length=12),\n",
       "                              error_score=&#x27;raise&#x27;,\n",
       "                              forecaster=TransformedTargetForecaster(steps=[(&#x27;forecast&#x27;,\n",
       "                                                                             DirectTabularRegressionForecaster(estimator=LGBMRegressor(learning_rate=0.08923418089348906, max_depth=17,\n",
       "              reg_alpha=0.9325573593386588, reg_la...\n",
       "                              param_distributions={&#x27;forecast__estimator__learning_rate&#x27;: &lt;scipy.stats._distn_infrastructure.rv_continuous_frozen object at 0x0000021D874CC590&gt;,\n",
       "                                                   &#x27;forecast__estimator__max_depth&#x27;: range(5, 30),\n",
       "                                                   &#x27;forecast__estimator__reg_alpha&#x27;: &lt;scipy.stats._distn_infrastructure.rv_continuous_frozen object at 0x0000021D874A2350&gt;,\n",
       "                                                   &#x27;forecast__estimator__reg_lambda&#x27;: &lt;scipy.stats._distn_infrastructure.rv_continuous_frozen object at 0x0000021D874CCA90&gt;},\n",
       "                              random_state=1,\n",
       "                              scoring=MeanSquaredError(square_root=True),\n",
       "                              verbose=1)</pre></div></div></div><div class=\"sk-parallel\"><div class=\"sk-parallel-item\"><div class=\"sk-item\"><div class=\"sk-serial\"><div class='sk-item'><div class=\"sk-estimator sk-toggleable\"><input class=\"sk-toggleable__control sk-hidden--visually\" id=UUID('be84b9e3-d63d-4f5e-bf2c-ff2b79651ad0') type=\"checkbox\" ><label for=UUID('be84b9e3-d63d-4f5e-bf2c-ff2b79651ad0') class='sk-toggleable__label sk-toggleable__label-arrow'>ExpandingWindowSplitter</label><div class=\"sk-toggleable__content\"><pre>ExpandingWindowSplitter(fh=array([ 1,  2,  3,  4,  5,  6,  7,  8,  9, 10, 11, 12]),\n",
       "                        initial_window=2548, step_length=12)</pre></div></div></div></div></div></div><div class=\"sk-parallel-item\"><div class=\"sk-item\"><div class=\"sk-serial\"><div class=\"sk-item sk-dashed-wrapped\"><div class=\"sk-parallel\"><div class=\"sk-parallel-item\"><div class=\"sk-item\"><div class=\"sk-serial\"><div class=\"sk-item sk-dashed-wrapped\"><div class=\"sk-parallel\"><div class=\"sk-parallel-item\"><div class=\"sk-item\"><div class=\"sk-serial\"><div class='sk-item'><div class=\"sk-estimator sk-toggleable\"><input class=\"sk-toggleable__control sk-hidden--visually\" id=UUID('2fd84cc1-ccf2-48bf-8556-16a6fd6f0ba0') type=\"checkbox\" ><label for=UUID('2fd84cc1-ccf2-48bf-8556-16a6fd6f0ba0') class='sk-toggleable__label sk-toggleable__label-arrow'>LGBMRegressor</label><div class=\"sk-toggleable__content\"><pre>LGBMRegressor(learning_rate=0.08923418089348906, max_depth=17,\n",
       "              reg_alpha=0.9325573593386588, reg_lambda=0.12812444792935673)</pre></div></div></div></div></div></div></div></div></div></div></div></div></div></div></div></div><div class=\"sk-parallel-item\"><div class=\"sk-item\"><div class=\"sk-serial\"><div class='sk-item'><div class=\"sk-estimator sk-toggleable\"><input class=\"sk-toggleable__control sk-hidden--visually\" id=UUID('d3625944-1fdf-4c2f-bf8e-fe942047d047') type=\"checkbox\" ><label for=UUID('d3625944-1fdf-4c2f-bf8e-fe942047d047') class='sk-toggleable__label sk-toggleable__label-arrow'>MeanSquaredError</label><div class=\"sk-toggleable__content\"><pre>MeanSquaredError(square_root=True)</pre></div></div></div></div></div></div></div></div></div></div>"
      ],
      "text/plain": [
       "ForecastingRandomizedSearchCV(cv=ExpandingWindowSplitter(fh=array([ 1,  2,  3,  4,  5,  6,  7,  8,  9, 10, 11, 12]),\n",
       "                                                         initial_window=2548,\n",
       "                                                         step_length=12),\n",
       "                              error_score='raise',\n",
       "                              forecaster=TransformedTargetForecaster(steps=[('forecast',\n",
       "                                                                             DirectTabularRegressionForecaster(estimator=LGBMRegressor(learning_rate=0.08923418089348906, max_depth=17,\n",
       "              reg_alpha=0.9325573593386588, reg_la...\n",
       "                              param_distributions={'forecast__estimator__learning_rate': <scipy.stats._distn_infrastructure.rv_continuous_frozen object at 0x0000021D874CC590>,\n",
       "                                                   'forecast__estimator__max_depth': range(5, 30),\n",
       "                                                   'forecast__estimator__reg_alpha': <scipy.stats._distn_infrastructure.rv_continuous_frozen object at 0x0000021D874A2350>,\n",
       "                                                   'forecast__estimator__reg_lambda': <scipy.stats._distn_infrastructure.rv_continuous_frozen object at 0x0000021D874CCA90>},\n",
       "                              random_state=1,\n",
       "                              scoring=MeanSquaredError(square_root=True),\n",
       "                              verbose=1)"
      ]
     },
     "execution_count": 14,
     "metadata": {},
     "output_type": "execute_result"
    }
   ],
   "source": [
    "random_search.fit(y, X, fh=np.arange(1, 13))"
   ]
  },
  {
   "cell_type": "code",
   "execution_count": 15,
   "metadata": {},
   "outputs": [
    {
     "data": {
      "text/plain": [
       "123.62147381296215"
      ]
     },
     "execution_count": 15,
     "metadata": {},
     "output_type": "execute_result"
    }
   ],
   "source": [
    "random_search.best_score_"
   ]
  },
  {
   "cell_type": "code",
   "execution_count": 16,
   "metadata": {},
   "outputs": [
    {
     "data": {
      "text/plain": [
       "{'forecast__estimator__learning_rate': 0.08923418089348906,\n",
       " 'forecast__estimator__max_depth': 17,\n",
       " 'forecast__estimator__reg_alpha': 0.9325573593386588,\n",
       " 'forecast__estimator__reg_lambda': 0.12812444792935673}"
      ]
     },
     "execution_count": 16,
     "metadata": {},
     "output_type": "execute_result"
    }
   ],
   "source": [
    "random_search.best_params_"
   ]
  },
  {
   "cell_type": "code",
   "execution_count": 17,
   "metadata": {},
   "outputs": [
    {
     "data": {
      "text/html": [
       "<div>\n",
       "<style scoped>\n",
       "    .dataframe tbody tr th:only-of-type {\n",
       "        vertical-align: middle;\n",
       "    }\n",
       "\n",
       "    .dataframe tbody tr th {\n",
       "        vertical-align: top;\n",
       "    }\n",
       "\n",
       "    .dataframe thead th {\n",
       "        text-align: right;\n",
       "    }\n",
       "</style>\n",
       "<table border=\"1\" class=\"dataframe\">\n",
       "  <thead>\n",
       "    <tr style=\"text-align: right;\">\n",
       "      <th></th>\n",
       "      <th>mean_test_MeanSquaredError</th>\n",
       "      <th>mean_fit_time</th>\n",
       "      <th>mean_pred_time</th>\n",
       "      <th>params</th>\n",
       "      <th>rank_test_MeanSquaredError</th>\n",
       "    </tr>\n",
       "  </thead>\n",
       "  <tbody>\n",
       "    <tr>\n",
       "      <th>0</th>\n",
       "      <td>123.621474</td>\n",
       "      <td>24.164921</td>\n",
       "      <td>0.005962</td>\n",
       "      <td>{'forecast__estimator__learning_rate': 0.08923...</td>\n",
       "      <td>1.0</td>\n",
       "    </tr>\n",
       "  </tbody>\n",
       "</table>\n",
       "</div>"
      ],
      "text/plain": [
       "   mean_test_MeanSquaredError  mean_fit_time  mean_pred_time  \\\n",
       "0                  123.621474      24.164921        0.005962   \n",
       "\n",
       "                                              params  \\\n",
       "0  {'forecast__estimator__learning_rate': 0.08923...   \n",
       "\n",
       "   rank_test_MeanSquaredError  \n",
       "0                         1.0  "
      ]
     },
     "execution_count": 17,
     "metadata": {},
     "output_type": "execute_result"
    }
   ],
   "source": [
    "random_search.cv_results_"
   ]
  },
  {
   "cell_type": "code",
   "execution_count": null,
   "metadata": {},
   "outputs": [],
   "source": []
  }
 ],
 "metadata": {
  "kernelspec": {
   "display_name": "mds574",
   "language": "python",
   "name": "python3"
  },
  "language_info": {
   "codemirror_mode": {
    "name": "ipython",
    "version": 3
   },
   "file_extension": ".py",
   "mimetype": "text/x-python",
   "name": "python",
   "nbconvert_exporter": "python",
   "pygments_lexer": "ipython3",
   "version": "3.11.3"
  },
  "orig_nbformat": 4
 },
 "nbformat": 4,
 "nbformat_minor": 2
}
