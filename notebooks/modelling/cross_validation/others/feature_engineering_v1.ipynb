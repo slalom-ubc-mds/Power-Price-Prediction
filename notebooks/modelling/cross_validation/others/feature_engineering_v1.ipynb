{
 "cells": [
  {
   "cell_type": "code",
   "execution_count": 66,
   "metadata": {},
   "outputs": [],
   "source": [
    "import pandas as pd\n",
    "import pandas as pd\n",
    "from scipy.stats import boxcox\n",
    "from scipy.special import inv_boxcox\n",
    "import numpy as np\n",
    "from sktime.forecasting.arima import ARIMA\n",
    "from sktime.forecasting.compose import TransformedTargetForecaster\n",
    "from sktime.transformations.series.detrend import Deseasonalizer\n",
    "from sktime.forecasting.trend import PolynomialTrendForecaster\n",
    "from sktime.transformations.series.detrend import Detrender\n",
    "from sktime.forecasting.model_selection import temporal_train_test_split\n",
    "from sktime.forecasting.base import ForecastingHorizon\n",
    "from sklearn.metrics import mean_squared_error\n",
    "from sktime.forecasting.compose import make_reduction\n",
    "from sklearn.exceptions import ConvergenceWarning\n",
    "import requests\n",
    "from sklearn.ensemble import (\n",
    "    HistGradientBoostingRegressor,\n",
    "    GradientBoostingRegressor,\n",
    "    RandomForestRegressor,\n",
    ")\n",
    "from sklearn.linear_model import ElasticNetCV\n",
    "from sktime.forecasting.model_selection import (\n",
    "    ForecastingGridSearchCV,\n",
    "    ExpandingWindowSplitter,\n",
    ")\n",
    "from sktime.forecasting.compose import MultiplexForecaster\n",
    "from sklearn.neighbors import KNeighborsRegressor\n",
    "from sktime.forecasting.ets import AutoETS\n",
    "from sktime.transformations.series.boxcox import LogTransformer\n",
    "\n",
    "\n",
    "import warnings\n",
    "\n",
    "data_df = pd.read_csv(\n",
    "    \"https://raw.githubusercontent.com/slalom-ubc-mds/Power-Price-Prediction/main/data/processed/supply_load_price.csv\",\n",
    "    parse_dates=[\"Date (MST)\"],\n",
    "    index_col=\"Date (MST)\",\n",
    ")\n",
    "\n",
    "data_df = data_df.sort_index()\n",
    "# select dates after dec 1 2022\n",
    "data_df = data_df.loc[\"2022-06-01\":]"
   ]
  },
  {
   "cell_type": "code",
   "execution_count": 67,
   "metadata": {},
   "outputs": [],
   "source": [
    "X = data_df.drop(columns=[\"price\"])\n",
    "y = data_df[\"price\"]"
   ]
  },
  {
   "cell_type": "code",
   "execution_count": 68,
   "metadata": {},
   "outputs": [],
   "source": [
    "window = 24\n",
    "X['rolling_mean'] = y.rolling(window).mean().rolling(2).mean().shift(-window // 2)\n",
    "X['rolling_std'] = y.rolling(window).std().rolling(2).mean().shift(-window // 2)\n",
    "X['rolling_min'] = y.rolling(window).min().rolling(2).mean().shift(-window // 2)\n",
    "X['rolling_max'] = y.rolling(window).max().rolling(2).mean().shift(-window // 2)\n",
    "X['rolling_median'] = y.rolling(window).median().rolling(2).mean().shift(-window // 2)"
   ]
  },
  {
   "cell_type": "code",
   "execution_count": 69,
   "metadata": {},
   "outputs": [],
   "source": [
    "X['exp_moving_avg'] = y.ewm(span=24).mean()"
   ]
  },
  {
   "cell_type": "code",
   "execution_count": 70,
   "metadata": {},
   "outputs": [],
   "source": [
    "X = X.dropna()\n",
    "y = y[X.index]"
   ]
  },
  {
   "cell_type": "code",
   "execution_count": 71,
   "metadata": {},
   "outputs": [
    {
     "data": {
      "text/plain": [
       "False"
      ]
     },
     "execution_count": 71,
     "metadata": {},
     "output_type": "execute_result"
    }
   ],
   "source": [
    "X[X['exp_moving_avg'] > 1000].any().any()"
   ]
  },
  {
   "cell_type": "code",
   "execution_count": 72,
   "metadata": {},
   "outputs": [
    {
     "data": {
      "text/plain": [
       "False"
      ]
     },
     "execution_count": 72,
     "metadata": {},
     "output_type": "execute_result"
    }
   ],
   "source": [
    "X[X['rolling_mean'] > 1000].any().any() and X[X['rolling_std'] > 1000].any().any() and X[X['rolling_min'] > 1000].any().any() and X[X['rolling_max'] > 1000].any().any() and X[X['rolling_median'] > 1000].any().any()"
   ]
  },
  {
   "cell_type": "code",
   "execution_count": 73,
   "metadata": {},
   "outputs": [
    {
     "data": {
      "text/plain": [
       "False"
      ]
     },
     "execution_count": 73,
     "metadata": {},
     "output_type": "execute_result"
    }
   ],
   "source": [
    "y[y>1000].any()"
   ]
  },
  {
   "cell_type": "code",
   "execution_count": 74,
   "metadata": {},
   "outputs": [
    {
     "data": {
      "text/plain": [
       "7271"
      ]
     },
     "execution_count": 74,
     "metadata": {},
     "output_type": "execute_result"
    }
   ],
   "source": [
    "len(X)"
   ]
  },
  {
   "cell_type": "code",
   "execution_count": 75,
   "metadata": {},
   "outputs": [
    {
     "name": "stderr",
     "output_type": "stream",
     "text": [
      "c:\\Users\\rkris\\miniconda3\\envs\\slalomenv\\Lib\\site-packages\\sklearn\\ensemble\\_gb.py:437: DataConversionWarning: A column-vector y was passed when a 1d array was expected. Please change the shape of y to (n_samples, ), for example using ravel().\n",
      "  y = column_or_1d(y, warn=True)\n"
     ]
    },
    {
     "data": {
      "text/html": [
       "<div>\n",
       "<style scoped>\n",
       "    .dataframe tbody tr th:only-of-type {\n",
       "        vertical-align: middle;\n",
       "    }\n",
       "\n",
       "    .dataframe tbody tr th {\n",
       "        vertical-align: top;\n",
       "    }\n",
       "\n",
       "    .dataframe thead th {\n",
       "        text-align: right;\n",
       "    }\n",
       "</style>\n",
       "<table border=\"1\" class=\"dataframe\">\n",
       "  <thead>\n",
       "    <tr style=\"text-align: right;\">\n",
       "      <th></th>\n",
       "      <th>relative_gas_reserve</th>\n",
       "      <th>hydro_tng</th>\n",
       "      <th>exp_moving_avg</th>\n",
       "      <th>hydro_reserve_margin</th>\n",
       "      <th>rolling_max</th>\n",
       "      <th>other_reserve_margin</th>\n",
       "      <th>hydro_supply_mix</th>\n",
       "      <th>gas_tng</th>\n",
       "      <th>rolling_std</th>\n",
       "      <th>load_on_gas_reserve</th>\n",
       "      <th>other_tng</th>\n",
       "      <th>wind_avail</th>\n",
       "      <th>rolling_mean</th>\n",
       "      <th>rolling_median</th>\n",
       "      <th>rolling_min</th>\n",
       "      <th>storage_tng</th>\n",
       "      <th>gas_reserve_margin</th>\n",
       "      <th>hydro_avail</th>\n",
       "      <th>gas_tng_ratio</th>\n",
       "      <th>storage_reserve_margin</th>\n",
       "    </tr>\n",
       "    <tr>\n",
       "      <th>Date (MST)</th>\n",
       "      <th></th>\n",
       "      <th></th>\n",
       "      <th></th>\n",
       "      <th></th>\n",
       "      <th></th>\n",
       "      <th></th>\n",
       "      <th></th>\n",
       "      <th></th>\n",
       "      <th></th>\n",
       "      <th></th>\n",
       "      <th></th>\n",
       "      <th></th>\n",
       "      <th></th>\n",
       "      <th></th>\n",
       "      <th></th>\n",
       "      <th></th>\n",
       "      <th></th>\n",
       "      <th></th>\n",
       "      <th></th>\n",
       "      <th></th>\n",
       "    </tr>\n",
       "  </thead>\n",
       "  <tbody>\n",
       "    <tr>\n",
       "      <th>2022-06-01 12:00:00</th>\n",
       "      <td>0.240158</td>\n",
       "      <td>272.462938</td>\n",
       "      <td>290.455414</td>\n",
       "      <td>0.616249</td>\n",
       "      <td>559.57</td>\n",
       "      <td>-0.589333</td>\n",
       "      <td>0.030438</td>\n",
       "      <td>6550.406149</td>\n",
       "      <td>144.189217</td>\n",
       "      <td>0.059718</td>\n",
       "      <td>208.202558</td>\n",
       "      <td>2176.0</td>\n",
       "      <td>242.081875</td>\n",
       "      <td>198.135</td>\n",
       "      <td>94.17</td>\n",
       "      <td>0.0</td>\n",
       "      <td>0.058850</td>\n",
       "      <td>710.0</td>\n",
       "      <td>0.731767</td>\n",
       "      <td>1.0</td>\n",
       "    </tr>\n",
       "    <tr>\n",
       "      <th>2022-06-01 13:00:00</th>\n",
       "      <td>0.245573</td>\n",
       "      <td>222.685837</td>\n",
       "      <td>281.892738</td>\n",
       "      <td>0.688115</td>\n",
       "      <td>559.57</td>\n",
       "      <td>-0.539988</td>\n",
       "      <td>0.024989</td>\n",
       "      <td>6526.300993</td>\n",
       "      <td>143.425073</td>\n",
       "      <td>0.062129</td>\n",
       "      <td>201.738381</td>\n",
       "      <td>2187.0</td>\n",
       "      <td>243.216250</td>\n",
       "      <td>198.135</td>\n",
       "      <td>93.60</td>\n",
       "      <td>0.0</td>\n",
       "      <td>0.061099</td>\n",
       "      <td>714.0</td>\n",
       "      <td>0.732349</td>\n",
       "      <td>1.0</td>\n",
       "    </tr>\n",
       "  </tbody>\n",
       "</table>\n",
       "</div>"
      ],
      "text/plain": [
       "                     relative_gas_reserve   hydro_tng  exp_moving_avg  \\\n",
       "Date (MST)                                                              \n",
       "2022-06-01 12:00:00              0.240158  272.462938      290.455414   \n",
       "2022-06-01 13:00:00              0.245573  222.685837      281.892738   \n",
       "\n",
       "                     hydro_reserve_margin  rolling_max  other_reserve_margin  \\\n",
       "Date (MST)                                                                     \n",
       "2022-06-01 12:00:00              0.616249       559.57             -0.589333   \n",
       "2022-06-01 13:00:00              0.688115       559.57             -0.539988   \n",
       "\n",
       "                     hydro_supply_mix      gas_tng  rolling_std  \\\n",
       "Date (MST)                                                        \n",
       "2022-06-01 12:00:00          0.030438  6550.406149   144.189217   \n",
       "2022-06-01 13:00:00          0.024989  6526.300993   143.425073   \n",
       "\n",
       "                     load_on_gas_reserve   other_tng  wind_avail  \\\n",
       "Date (MST)                                                         \n",
       "2022-06-01 12:00:00             0.059718  208.202558      2176.0   \n",
       "2022-06-01 13:00:00             0.062129  201.738381      2187.0   \n",
       "\n",
       "                     rolling_mean  rolling_median  rolling_min  storage_tng  \\\n",
       "Date (MST)                                                                    \n",
       "2022-06-01 12:00:00    242.081875         198.135        94.17          0.0   \n",
       "2022-06-01 13:00:00    243.216250         198.135        93.60          0.0   \n",
       "\n",
       "                     gas_reserve_margin  hydro_avail  gas_tng_ratio  \\\n",
       "Date (MST)                                                            \n",
       "2022-06-01 12:00:00            0.058850        710.0       0.731767   \n",
       "2022-06-01 13:00:00            0.061099        714.0       0.732349   \n",
       "\n",
       "                     storage_reserve_margin  \n",
       "Date (MST)                                   \n",
       "2022-06-01 12:00:00                     1.0  \n",
       "2022-06-01 13:00:00                     1.0  "
      ]
     },
     "execution_count": 75,
     "metadata": {},
     "output_type": "execute_result"
    }
   ],
   "source": [
    "from sktime.transformations.series.feature_selection import FeatureSelection\n",
    "\n",
    "transformer = FeatureSelection(method=\"feature-importances\", n_columns=20)\n",
    "\n",
    "transformer.fit_transform(X, y).head(2)"
   ]
  },
  {
   "cell_type": "code",
   "execution_count": 76,
   "metadata": {},
   "outputs": [],
   "source": [
    "from sklearn.preprocessing import StandardScaler\n",
    "from sktime.forecasting.compose import ForecastingPipeline\n",
    "from sktime.transformations.series.adapt import TabularToSeriesAdaptor\n",
    "\n",
    "pipe = ForecastingPipeline(\n",
    "        steps=[\n",
    "            (\"standardize\", TabularToSeriesAdaptor(StandardScaler())),\n",
    "            (\n",
    "                \"forecaster\",\n",
    "                TransformedTargetForecaster(\n",
    "                    [\n",
    "                        # (\"log_transformer\", LogTransformer()),\n",
    "                        # (\"deseasonalizer_weekly\", Deseasonalizer(sp=24*7, model=\"additive\")),\n",
    "                        (\n",
    "                            \"forecast\",\n",
    "                            make_reduction(\n",
    "                                ElasticNetCV(n_jobs=-1),\n",
    "                                window_length=24,\n",
    "                                strategy=\"direct\",\n",
    "                            ),\n",
    "                        ),\n",
    "                    ]\n",
    "                ),\n",
    "            ),\n",
    "        ]\n",
    "    )"
   ]
  },
  {
   "cell_type": "code",
   "execution_count": 77,
   "metadata": {},
   "outputs": [],
   "source": [
    "# pipe.fit(y, X, fh=np.arange(1, 13))"
   ]
  },
  {
   "cell_type": "code",
   "execution_count": 78,
   "metadata": {},
   "outputs": [],
   "source": [
    "import pandas as pd\n",
    "\n",
    "def create_lagged_columns(X, lag_range=24):\n",
    "    lagged_names = []\n",
    "\n",
    "    for col in X:\n",
    "        for lag in range(1, lag_range + 1):\n",
    "            lagged_names.append(f\"{col}_lag{lag}\")\n",
    "\n",
    "    return lagged_names\n",
    "\n",
    "labels = create_lagged_columns(['price'] + X.columns.values.tolist(), lag_range=24)"
   ]
  },
  {
   "cell_type": "code",
   "execution_count": 79,
   "metadata": {},
   "outputs": [
    {
     "data": {
      "text/plain": [
       "1344"
      ]
     },
     "execution_count": 79,
     "metadata": {},
     "output_type": "execute_result"
    }
   ],
   "source": [
    "len(labels)"
   ]
  },
  {
   "cell_type": "code",
   "execution_count": 80,
   "metadata": {},
   "outputs": [],
   "source": [
    "# pd.DataFrame({'Coefficient': pipe.forecaster_.forecaster_.estimators_[0].coef_, 'Label': labels}).sort_values(by=['Coefficient'], ascending=False).head(50)"
   ]
  },
  {
   "cell_type": "code",
   "execution_count": 82,
   "metadata": {},
   "outputs": [],
   "source": [
    "selected_features = [\n",
    "    \"ail\",\n",
    "    \"gas_price\",\n",
    "    \"gas_tng\",\n",
    "    \"coal_tng\",\n",
    "    \"wind_tng\",\n",
    "    \"gas_avail\",\n",
    "    \"wind_avail\",\n",
    "    \"gas_reserve_margin\",\n",
    "    \"coal_reserve_margin\",\n",
    "    \"wind_reserve_margin\",\n",
    "    \"other_reserve_margin\",\n",
    "    \"gas_supply_mix\",\n",
    "    \"coal_supply_mix\",\n",
    "    \"wind_supply_mix\",\n",
    "    \"other_supply_mix\",\n",
    "    \"total_reserve_margin\",\n",
    "    \"demand_supply_ratio\",\n",
    "    \"fossil_fuel_ratio\",\n",
    "    \"rolling_mean\",\n",
    "    \"rolling_std\",\n",
    "    \"rolling_min\",\n",
    "    \"rolling_max\",\n",
    "    \"rolling_median\",\n",
    "    \"exp_moving_avg\",\n",
    "]"
   ]
  },
  {
   "cell_type": "code",
   "execution_count": 83,
   "metadata": {},
   "outputs": [],
   "source": [
    "X = X.loc[\n",
    "    \"2023-01-01\":\"2023-01-31\",\n",
    "    selected_features,\n",
    "]\n",
    "y = y.loc[\"2023-01-01\":\"2023-01-31\"]"
   ]
  },
  {
   "cell_type": "code",
   "execution_count": 84,
   "metadata": {},
   "outputs": [
    {
     "name": "stdout",
     "output_type": "stream",
     "text": [
      "Number of Folds = 34\n"
     ]
    }
   ],
   "source": [
    "cv = ExpandingWindowSplitter(\n",
    "    initial_window=int(len(X) * 0.94), step_length=1, fh=np.arange(1, 13)\n",
    ")\n",
    "\n",
    "n_splits = cv.get_n_splits(y)\n",
    "print(f\"Number of Folds = {n_splits}\")"
   ]
  },
  {
   "cell_type": "code",
   "execution_count": 85,
   "metadata": {},
   "outputs": [
    {
     "name": "stdout",
     "output_type": "stream",
     "text": [
      "elasticnet_pipeline\n"
     ]
    }
   ],
   "source": [
    "from sktime.forecasting.model_evaluation import evaluate\n",
    "from sktime.performance_metrics.forecasting import MeanSquaredError\n",
    "\n",
    "list_models = [\"elasticnet_pipeline\"]\n",
    "\n",
    "rmse_cv_results = []\n",
    "rmse_cv_std = []\n",
    "for i in list_models:\n",
    "    print(i)\n",
    "    results = evaluate(\n",
    "        forecaster=pipe,\n",
    "        y=y,\n",
    "        X=X,\n",
    "        cv=cv,\n",
    "        strategy=\"refit\",\n",
    "        return_data=True,\n",
    "        scoring=MeanSquaredError(square_root=True),\n",
    "        backend=\"loky\",\n",
    "        error_score='raise'\n",
    "    )\n",
    "    \n",
    "    rmse = results[\"test_MeanSquaredError\"].mean()\n",
    "    rmse_std = results[\"test_MeanSquaredError\"].std()\n",
    "    rmse_cv_results.append(rmse)\n",
    "    rmse_cv_std.append(rmse_std)"
   ]
  },
  {
   "cell_type": "code",
   "execution_count": 86,
   "metadata": {},
   "outputs": [
    {
     "data": {
      "text/html": [
       "<div>\n",
       "<style scoped>\n",
       "    .dataframe tbody tr th:only-of-type {\n",
       "        vertical-align: middle;\n",
       "    }\n",
       "\n",
       "    .dataframe tbody tr th {\n",
       "        vertical-align: top;\n",
       "    }\n",
       "\n",
       "    .dataframe thead th {\n",
       "        text-align: right;\n",
       "    }\n",
       "</style>\n",
       "<table border=\"1\" class=\"dataframe\">\n",
       "  <thead>\n",
       "    <tr style=\"text-align: right;\">\n",
       "      <th></th>\n",
       "      <th>Model</th>\n",
       "      <th>RMSE_CV</th>\n",
       "      <th>RMSE_CV_STD</th>\n",
       "    </tr>\n",
       "  </thead>\n",
       "  <tbody>\n",
       "    <tr>\n",
       "      <th>0</th>\n",
       "      <td>elasticnet_pipeline</td>\n",
       "      <td>41.609048</td>\n",
       "      <td>14.023331</td>\n",
       "    </tr>\n",
       "  </tbody>\n",
       "</table>\n",
       "</div>"
      ],
      "text/plain": [
       "                 Model    RMSE_CV  RMSE_CV_STD\n",
       "0  elasticnet_pipeline  41.609048    14.023331"
      ]
     },
     "execution_count": 86,
     "metadata": {},
     "output_type": "execute_result"
    }
   ],
   "source": [
    "rmse_cv_results_df = pd.DataFrame(\n",
    "    {\"Model\": list_models, \"RMSE_CV\": rmse_cv_results, \"RMSE_CV_STD\": rmse_cv_std}\n",
    ").sort_values(by=[\"RMSE_CV\"])\n",
    "rmse_cv_results_df"
   ]
  },
  {
   "cell_type": "code",
   "execution_count": 88,
   "metadata": {},
   "outputs": [],
   "source": [
    "re_pipe = ForecastingPipeline(\n",
    "        steps=[\n",
    "            (\"standardize\", TabularToSeriesAdaptor(StandardScaler())),\n",
    "            (\n",
    "                \"forecaster\",\n",
    "                TransformedTargetForecaster(\n",
    "                    [\n",
    "                        (\"log_transformer\", LogTransformer()),\n",
    "                        # (\"deseasonalizer_weekly\", Deseasonalizer(sp=24*7, model=\"additive\")),\n",
    "                        (\n",
    "                            \"forecast\",\n",
    "                            make_reduction(\n",
    "                                RandomForestRegressor(n_estimators=100, n_jobs=-1),\n",
    "                                window_length=24,\n",
    "                                strategy=\"direct\",\n",
    "                            ),\n",
    "                        ),\n",
    "                    ]\n",
    "                ),\n",
    "            ),\n",
    "        ]\n",
    "    )"
   ]
  },
  {
   "cell_type": "code",
   "execution_count": 90,
   "metadata": {},
   "outputs": [
    {
     "data": {
      "text/html": [
       "<style>#sk-d1309c0d-760e-4dbf-a95e-28a7c4c9187c {color: black;background-color: white;}#sk-d1309c0d-760e-4dbf-a95e-28a7c4c9187c pre{padding: 0;}#sk-d1309c0d-760e-4dbf-a95e-28a7c4c9187c div.sk-toggleable {background-color: white;}#sk-d1309c0d-760e-4dbf-a95e-28a7c4c9187c label.sk-toggleable__label {cursor: pointer;display: block;width: 100%;margin-bottom: 0;padding: 0.3em;box-sizing: border-box;text-align: center;}#sk-d1309c0d-760e-4dbf-a95e-28a7c4c9187c label.sk-toggleable__label-arrow:before {content: \"▸\";float: left;margin-right: 0.25em;color: #696969;}#sk-d1309c0d-760e-4dbf-a95e-28a7c4c9187c label.sk-toggleable__label-arrow:hover:before {color: black;}#sk-d1309c0d-760e-4dbf-a95e-28a7c4c9187c div.sk-estimator:hover label.sk-toggleable__label-arrow:before {color: black;}#sk-d1309c0d-760e-4dbf-a95e-28a7c4c9187c div.sk-toggleable__content {max-height: 0;max-width: 0;overflow: hidden;text-align: left;background-color: #f0f8ff;}#sk-d1309c0d-760e-4dbf-a95e-28a7c4c9187c div.sk-toggleable__content pre {margin: 0.2em;color: black;border-radius: 0.25em;background-color: #f0f8ff;}#sk-d1309c0d-760e-4dbf-a95e-28a7c4c9187c input.sk-toggleable__control:checked~div.sk-toggleable__content {max-height: 200px;max-width: 100%;overflow: auto;}#sk-d1309c0d-760e-4dbf-a95e-28a7c4c9187c input.sk-toggleable__control:checked~label.sk-toggleable__label-arrow:before {content: \"▾\";}#sk-d1309c0d-760e-4dbf-a95e-28a7c4c9187c div.sk-estimator input.sk-toggleable__control:checked~label.sk-toggleable__label {background-color: #d4ebff;}#sk-d1309c0d-760e-4dbf-a95e-28a7c4c9187c div.sk-label input.sk-toggleable__control:checked~label.sk-toggleable__label {background-color: #d4ebff;}#sk-d1309c0d-760e-4dbf-a95e-28a7c4c9187c input.sk-hidden--visually {border: 0;clip: rect(1px 1px 1px 1px);clip: rect(1px, 1px, 1px, 1px);height: 1px;margin: -1px;overflow: hidden;padding: 0;position: absolute;width: 1px;}#sk-d1309c0d-760e-4dbf-a95e-28a7c4c9187c div.sk-estimator {font-family: monospace;background-color: #f0f8ff;border: 1px dotted black;border-radius: 0.25em;box-sizing: border-box;margin-bottom: 0.5em;}#sk-d1309c0d-760e-4dbf-a95e-28a7c4c9187c div.sk-estimator:hover {background-color: #d4ebff;}#sk-d1309c0d-760e-4dbf-a95e-28a7c4c9187c div.sk-parallel-item::after {content: \"\";width: 100%;border-bottom: 1px solid gray;flex-grow: 1;}#sk-d1309c0d-760e-4dbf-a95e-28a7c4c9187c div.sk-label:hover label.sk-toggleable__label {background-color: #d4ebff;}#sk-d1309c0d-760e-4dbf-a95e-28a7c4c9187c div.sk-serial::before {content: \"\";position: absolute;border-left: 1px solid gray;box-sizing: border-box;top: 2em;bottom: 0;left: 50%;}#sk-d1309c0d-760e-4dbf-a95e-28a7c4c9187c div.sk-serial {display: flex;flex-direction: column;align-items: center;background-color: white;padding-right: 0.2em;padding-left: 0.2em;}#sk-d1309c0d-760e-4dbf-a95e-28a7c4c9187c div.sk-item {z-index: 1;}#sk-d1309c0d-760e-4dbf-a95e-28a7c4c9187c div.sk-parallel {display: flex;align-items: stretch;justify-content: center;background-color: white;}#sk-d1309c0d-760e-4dbf-a95e-28a7c4c9187c div.sk-parallel::before {content: \"\";position: absolute;border-left: 1px solid gray;box-sizing: border-box;top: 2em;bottom: 0;left: 50%;}#sk-d1309c0d-760e-4dbf-a95e-28a7c4c9187c div.sk-parallel-item {display: flex;flex-direction: column;position: relative;background-color: white;}#sk-d1309c0d-760e-4dbf-a95e-28a7c4c9187c div.sk-parallel-item:first-child::after {align-self: flex-end;width: 50%;}#sk-d1309c0d-760e-4dbf-a95e-28a7c4c9187c div.sk-parallel-item:last-child::after {align-self: flex-start;width: 50%;}#sk-d1309c0d-760e-4dbf-a95e-28a7c4c9187c div.sk-parallel-item:only-child::after {width: 0;}#sk-d1309c0d-760e-4dbf-a95e-28a7c4c9187c div.sk-dashed-wrapped {border: 1px dashed gray;margin: 0 0.4em 0.5em 0.4em;box-sizing: border-box;padding-bottom: 0.4em;background-color: white;position: relative;}#sk-d1309c0d-760e-4dbf-a95e-28a7c4c9187c div.sk-label label {font-family: monospace;font-weight: bold;background-color: white;display: inline-block;line-height: 1.2em;}#sk-d1309c0d-760e-4dbf-a95e-28a7c4c9187c div.sk-label-container {position: relative;z-index: 2;text-align: center;}#sk-d1309c0d-760e-4dbf-a95e-28a7c4c9187c div.sk-container {/* jupyter's `normalize.less` sets `[hidden] { display: none; }` but bootstrap.min.css set `[hidden] { display: none !important; }` so we also need the `!important` here to be able to override the default hidden behavior on the sphinx rendered scikit-learn.org. See: https://github.com/scikit-learn/scikit-learn/issues/21755 */display: inline-block !important;position: relative;}#sk-d1309c0d-760e-4dbf-a95e-28a7c4c9187c div.sk-text-repr-fallback {display: none;}</style><div id='sk-d1309c0d-760e-4dbf-a95e-28a7c4c9187c' class=\"sk-top-container\"><div class=\"sk-text-repr-fallback\"><pre>ForecastingPipeline(steps=[(&#x27;standardize&#x27;,\n",
       "                            TabularToSeriesAdaptor(transformer=StandardScaler())),\n",
       "                           (&#x27;forecaster&#x27;,\n",
       "                            TransformedTargetForecaster(steps=[(&#x27;log_transformer&#x27;,\n",
       "                                                                LogTransformer()),\n",
       "                                                               (&#x27;forecast&#x27;,\n",
       "                                                                DirectTabularRegressionForecaster(estimator=RandomForestRegressor(n_jobs=-1),\n",
       "                                                                                                  window_length=24))]))])</pre><b>Please rerun this cell to show the HTML repr or trust the notebook.</b></div><div class=\"sk-container\" hidden><div class=\"sk-item sk-dashed-wrapped\"><div class='sk-label-container'><div class=\"sk-label sk-toggleable\"><input class=\"sk-toggleable__control sk-hidden--visually\" id=UUID('5746a899-d20a-447c-b836-1918a6cc137c') type=\"checkbox\" ><label for=UUID('5746a899-d20a-447c-b836-1918a6cc137c') class='sk-toggleable__label sk-toggleable__label-arrow'>ForecastingPipeline</label><div class=\"sk-toggleable__content\"><pre>ForecastingPipeline(steps=[(&#x27;standardize&#x27;,\n",
       "                            TabularToSeriesAdaptor(transformer=StandardScaler())),\n",
       "                           (&#x27;forecaster&#x27;,\n",
       "                            TransformedTargetForecaster(steps=[(&#x27;log_transformer&#x27;,\n",
       "                                                                LogTransformer()),\n",
       "                                                               (&#x27;forecast&#x27;,\n",
       "                                                                DirectTabularRegressionForecaster(estimator=RandomForestRegressor(n_jobs=-1),\n",
       "                                                                                                  window_length=24))]))])</pre></div></div></div><div class=\"sk-parallel\"><div class=\"sk-parallel-item\"><div class=\"sk-item\"><div class=\"sk-serial\"><div class=\"sk-item sk-dashed-wrapped\"><div class=\"sk-parallel\"><div class=\"sk-parallel-item\"><div class=\"sk-item\"><div class=\"sk-serial\"><div class='sk-item'><div class=\"sk-estimator sk-toggleable\"><input class=\"sk-toggleable__control sk-hidden--visually\" id=UUID('79c99604-1f6a-4fb5-9cf2-12a212026ac9') type=\"checkbox\" ><label for=UUID('79c99604-1f6a-4fb5-9cf2-12a212026ac9') class='sk-toggleable__label sk-toggleable__label-arrow'>StandardScaler</label><div class=\"sk-toggleable__content\"><pre>StandardScaler()</pre></div></div></div></div></div></div></div></div></div></div></div><div class=\"sk-parallel-item\"><div class=\"sk-item\"><div class=\"sk-serial\"><div class=\"sk-item sk-dashed-wrapped\"><div class=\"sk-parallel\"><div class=\"sk-parallel-item\"><div class=\"sk-item\"><div class=\"sk-serial\"><div class='sk-item'><div class=\"sk-estimator sk-toggleable\"><input class=\"sk-toggleable__control sk-hidden--visually\" id=UUID('2bebcda6-e40d-4b21-ab6b-de9ea2e11010') type=\"checkbox\" ><label for=UUID('2bebcda6-e40d-4b21-ab6b-de9ea2e11010') class='sk-toggleable__label sk-toggleable__label-arrow'>LogTransformer</label><div class=\"sk-toggleable__content\"><pre>LogTransformer()</pre></div></div></div></div></div></div><div class=\"sk-parallel-item\"><div class=\"sk-item\"><div class=\"sk-serial\"><div class=\"sk-item sk-dashed-wrapped\"><div class=\"sk-parallel\"><div class=\"sk-parallel-item\"><div class=\"sk-item\"><div class=\"sk-serial\"><div class='sk-item'><div class=\"sk-estimator sk-toggleable\"><input class=\"sk-toggleable__control sk-hidden--visually\" id=UUID('9f4106e5-7a20-4e17-9bc7-80281bd00e01') type=\"checkbox\" ><label for=UUID('9f4106e5-7a20-4e17-9bc7-80281bd00e01') class='sk-toggleable__label sk-toggleable__label-arrow'>RandomForestRegressor</label><div class=\"sk-toggleable__content\"><pre>RandomForestRegressor(n_jobs=-1)</pre></div></div></div></div></div></div></div></div></div></div></div></div></div></div></div></div></div></div></div></div>"
      ],
      "text/plain": [
       "ForecastingPipeline(steps=[('standardize',\n",
       "                            TabularToSeriesAdaptor(transformer=StandardScaler())),\n",
       "                           ('forecaster',\n",
       "                            TransformedTargetForecaster(steps=[('log_transformer',\n",
       "                                                                LogTransformer()),\n",
       "                                                               ('forecast',\n",
       "                                                                DirectTabularRegressionForecaster(estimator=RandomForestRegressor(n_jobs=-1),\n",
       "                                                                                                  window_length=24))]))])"
      ]
     },
     "execution_count": 90,
     "metadata": {},
     "output_type": "execute_result"
    }
   ],
   "source": [
    "re_pipe.fit(y, X, fh=np.arange(1, 13))"
   ]
  },
  {
   "cell_type": "code",
   "execution_count": 91,
   "metadata": {},
   "outputs": [
    {
     "name": "stdout",
     "output_type": "stream",
     "text": [
      "elasticnet_pipeline\n"
     ]
    }
   ],
   "source": [
    "from sktime.forecasting.model_evaluation import evaluate\n",
    "from sktime.performance_metrics.forecasting import MeanSquaredError\n",
    "\n",
    "list_models = [\"elasticnet_pipeline\"]\n",
    "\n",
    "rmse_cv_results = []\n",
    "rmse_cv_std = []\n",
    "for i in list_models:\n",
    "    print(i)\n",
    "    results = evaluate(\n",
    "        forecaster=re_pipe,\n",
    "        y=y,\n",
    "        X=X,\n",
    "        cv=cv,\n",
    "        strategy=\"refit\",\n",
    "        return_data=True,\n",
    "        scoring=MeanSquaredError(square_root=True),\n",
    "        backend=\"loky\",\n",
    "        error_score='raise'\n",
    "    )\n",
    "    \n",
    "    rmse = results[\"test_MeanSquaredError\"].mean()\n",
    "    rmse_std = results[\"test_MeanSquaredError\"].std()\n",
    "    rmse_cv_results.append(rmse)\n",
    "    rmse_cv_std.append(rmse_std)"
   ]
  },
  {
   "cell_type": "code",
   "execution_count": 92,
   "metadata": {},
   "outputs": [
    {
     "data": {
      "text/html": [
       "<div>\n",
       "<style scoped>\n",
       "    .dataframe tbody tr th:only-of-type {\n",
       "        vertical-align: middle;\n",
       "    }\n",
       "\n",
       "    .dataframe tbody tr th {\n",
       "        vertical-align: top;\n",
       "    }\n",
       "\n",
       "    .dataframe thead th {\n",
       "        text-align: right;\n",
       "    }\n",
       "</style>\n",
       "<table border=\"1\" class=\"dataframe\">\n",
       "  <thead>\n",
       "    <tr style=\"text-align: right;\">\n",
       "      <th></th>\n",
       "      <th>Model</th>\n",
       "      <th>RMSE_CV</th>\n",
       "      <th>RMSE_CV_STD</th>\n",
       "    </tr>\n",
       "  </thead>\n",
       "  <tbody>\n",
       "    <tr>\n",
       "      <th>0</th>\n",
       "      <td>elasticnet_pipeline</td>\n",
       "      <td>38.056256</td>\n",
       "      <td>20.215129</td>\n",
       "    </tr>\n",
       "  </tbody>\n",
       "</table>\n",
       "</div>"
      ],
      "text/plain": [
       "                 Model    RMSE_CV  RMSE_CV_STD\n",
       "0  elasticnet_pipeline  38.056256    20.215129"
      ]
     },
     "execution_count": 92,
     "metadata": {},
     "output_type": "execute_result"
    }
   ],
   "source": [
    "rmse_cv_results_df = pd.DataFrame(\n",
    "    {\"Model\": list_models, \"RMSE_CV\": rmse_cv_results, \"RMSE_CV_STD\": rmse_cv_std}\n",
    ").sort_values(by=[\"RMSE_CV\"])\n",
    "rmse_cv_results_df"
   ]
  },
  {
   "cell_type": "code",
   "execution_count": 94,
   "metadata": {},
   "outputs": [
    {
     "data": {
      "text/plain": [
       "{'steps': [('standardize',\n",
       "   TabularToSeriesAdaptor(transformer=StandardScaler())),\n",
       "  ('forecaster',\n",
       "   TransformedTargetForecaster(steps=[('log_transformer', LogTransformer()),\n",
       "                                      ('forecast',\n",
       "                                       DirectTabularRegressionForecaster(estimator=RandomForestRegressor(n_jobs=-1),\n",
       "                                                                         window_length=24))]))],\n",
       " 'standardize': TabularToSeriesAdaptor(transformer=StandardScaler()),\n",
       " 'forecaster': TransformedTargetForecaster(steps=[('log_transformer', LogTransformer()),\n",
       "                                    ('forecast',\n",
       "                                     DirectTabularRegressionForecaster(estimator=RandomForestRegressor(n_jobs=-1),\n",
       "                                                                       window_length=24))]),\n",
       " 'standardize__fit_in_transform': False,\n",
       " 'standardize__transformer': StandardScaler(),\n",
       " 'standardize__transformer__copy': True,\n",
       " 'standardize__transformer__with_mean': True,\n",
       " 'standardize__transformer__with_std': True,\n",
       " 'forecaster__steps': [('log_transformer', LogTransformer()),\n",
       "  ('forecast',\n",
       "   DirectTabularRegressionForecaster(estimator=RandomForestRegressor(n_jobs=-1),\n",
       "                                     window_length=24))],\n",
       " 'forecaster__log_transformer': LogTransformer(),\n",
       " 'forecaster__forecast': DirectTabularRegressionForecaster(estimator=RandomForestRegressor(n_jobs=-1),\n",
       "                                   window_length=24),\n",
       " 'forecaster__log_transformer__offset': 0,\n",
       " 'forecaster__log_transformer__scale': 1,\n",
       " 'forecaster__forecast__estimator': RandomForestRegressor(n_jobs=-1),\n",
       " 'forecaster__forecast__pooling': 'local',\n",
       " 'forecaster__forecast__transformers': None,\n",
       " 'forecaster__forecast__window_length': 24,\n",
       " 'forecaster__forecast__windows_identical': True,\n",
       " 'forecaster__forecast__estimator__bootstrap': True,\n",
       " 'forecaster__forecast__estimator__ccp_alpha': 0.0,\n",
       " 'forecaster__forecast__estimator__criterion': 'squared_error',\n",
       " 'forecaster__forecast__estimator__max_depth': None,\n",
       " 'forecaster__forecast__estimator__max_features': 1.0,\n",
       " 'forecaster__forecast__estimator__max_leaf_nodes': None,\n",
       " 'forecaster__forecast__estimator__max_samples': None,\n",
       " 'forecaster__forecast__estimator__min_impurity_decrease': 0.0,\n",
       " 'forecaster__forecast__estimator__min_samples_leaf': 1,\n",
       " 'forecaster__forecast__estimator__min_samples_split': 2,\n",
       " 'forecaster__forecast__estimator__min_weight_fraction_leaf': 0.0,\n",
       " 'forecaster__forecast__estimator__n_estimators': 100,\n",
       " 'forecaster__forecast__estimator__n_jobs': -1,\n",
       " 'forecaster__forecast__estimator__oob_score': False,\n",
       " 'forecaster__forecast__estimator__random_state': None,\n",
       " 'forecaster__forecast__estimator__verbose': 0,\n",
       " 'forecaster__forecast__estimator__warm_start': False}"
      ]
     },
     "execution_count": 94,
     "metadata": {},
     "output_type": "execute_result"
    }
   ],
   "source": [
    "re_pipe.get_params() "
   ]
  }
 ],
 "metadata": {
  "kernelspec": {
   "display_name": "slalomenv",
   "language": "python",
   "name": "python3"
  },
  "language_info": {
   "codemirror_mode": {
    "name": "ipython",
    "version": 3
   },
   "file_extension": ".py",
   "mimetype": "text/x-python",
   "name": "python",
   "nbconvert_exporter": "python",
   "pygments_lexer": "ipython3",
   "version": "3.11.3"
  },
  "orig_nbformat": 4
 },
 "nbformat": 4,
 "nbformat_minor": 2
}
