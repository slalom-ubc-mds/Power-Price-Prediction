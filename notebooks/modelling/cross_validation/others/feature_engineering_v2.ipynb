{
 "cells": [
  {
   "cell_type": "code",
   "execution_count": null,
   "metadata": {},
   "outputs": [],
   "source": [
    "import pandas as pd\n",
    "import pandas as pd\n",
    "from scipy.stats import boxcox\n",
    "from scipy.special import inv_boxcox\n",
    "import numpy as np\n",
    "from sktime.forecasting.arima import ARIMA\n",
    "from sktime.forecasting.compose import TransformedTargetForecaster\n",
    "from sktime.transformations.series.detrend import Deseasonalizer\n",
    "from sktime.forecasting.trend import PolynomialTrendForecaster\n",
    "from sktime.transformations.series.detrend import Detrender\n",
    "from sktime.forecasting.model_selection import temporal_train_test_split\n",
    "from sktime.forecasting.base import ForecastingHorizon\n",
    "from sklearn.metrics import mean_squared_error\n",
    "from sktime.forecasting.compose import make_reduction\n",
    "from sklearn.exceptions import ConvergenceWarning\n",
    "import requests\n",
    "from sklearn.ensemble import (\n",
    "    HistGradientBoostingRegressor,\n",
    "    GradientBoostingRegressor,\n",
    "    RandomForestRegressor,\n",
    ")\n",
    "from sklearn.linear_model import ElasticNetCV\n",
    "from sktime.forecasting.model_selection import (\n",
    "    ForecastingGridSearchCV,\n",
    "    ExpandingWindowSplitter,\n",
    ")\n",
    "from sktime.forecasting.compose import MultiplexForecaster\n",
    "from sklearn.neighbors import KNeighborsRegressor\n",
    "from sktime.forecasting.ets import AutoETS\n",
    "from sktime.transformations.series.boxcox import LogTransformer\n",
    "\n",
    "\n",
    "import warnings\n",
    "\n",
    "data_df = pd.read_csv(\n",
    "    \"https://raw.githubusercontent.com/slalom-ubc-mds/Power-Price-Prediction/main/data/processed/supply_load_price.csv\",\n",
    "    parse_dates=[\"Date (MST)\"],\n",
    "    index_col=\"Date (MST)\",\n",
    ")\n",
    "\n",
    "data_df = data_df.sort_index()\n",
    "# select dates after dec 1 2022\n",
    "data_df = data_df.loc[\"2022-06-01\":]"
   ]
  },
  {
   "cell_type": "code",
   "execution_count": null,
   "metadata": {},
   "outputs": [],
   "source": [
    "X = data_df.drop(columns=[\"price\"])\n",
    "y = data_df[\"price\"]"
   ]
  },
  {
   "cell_type": "code",
   "execution_count": null,
   "metadata": {},
   "outputs": [],
   "source": [
    "window = 24\n",
    "X['rolling_mean'] = y.rolling(window).mean().rolling(2).mean().shift(-window // 2)\n",
    "X['rolling_std'] = y.rolling(window).std().rolling(2).mean().shift(-window // 2)\n",
    "X['rolling_min'] = y.rolling(window).min().rolling(2).mean().shift(-window // 2)\n",
    "X['rolling_max'] = y.rolling(window).max().rolling(2).mean().shift(-window // 2)\n",
    "X['rolling_median'] = y.rolling(window).median().rolling(2).mean().shift(-window // 2)"
   ]
  },
  {
   "cell_type": "code",
   "execution_count": null,
   "metadata": {},
   "outputs": [],
   "source": [
    "X['exp_moving_avg'] = y.ewm(span=24).mean()"
   ]
  },
  {
   "cell_type": "code",
   "execution_count": null,
   "metadata": {},
   "outputs": [],
   "source": [
    "X = X.dropna()\n",
    "y = y[X.index]"
   ]
  },
  {
   "cell_type": "code",
   "execution_count": null,
   "metadata": {},
   "outputs": [],
   "source": [
    "selected_features = [\n",
    "    \"ail\",\n",
    "    \"gas_price\",\n",
    "    \"gas_tng\",\n",
    "    \"coal_tng\",\n",
    "    \"wind_tng\",\n",
    "    \"gas_avail\",\n",
    "    \"wind_avail\",\n",
    "    \"gas_reserve_margin\",\n",
    "    \"coal_reserve_margin\",\n",
    "    \"wind_reserve_margin\",\n",
    "    \"other_reserve_margin\",\n",
    "    \"gas_supply_mix\",\n",
    "    \"coal_supply_mix\",\n",
    "    \"wind_supply_mix\",\n",
    "    \"other_supply_mix\",\n",
    "    \"total_reserve_margin\",\n",
    "    \"demand_supply_ratio\",\n",
    "    \"fossil_fuel_ratio\",\n",
    "    \"rolling_mean\",\n",
    "    \"rolling_std\",\n",
    "    \"rolling_min\",\n",
    "    \"rolling_max\",\n",
    "    \"rolling_median\",\n",
    "    \"exp_moving_avg\",\n",
    "]"
   ]
  },
  {
   "cell_type": "code",
   "execution_count": null,
   "metadata": {},
   "outputs": [],
   "source": [
    "X = X.loc[\n",
    "    \"2023-01-01\":\"2023-01-31\",\n",
    "    selected_features,\n",
    "]\n",
    "y = y.loc[\"2023-01-01\":\"2023-01-31\"]"
   ]
  },
  {
   "cell_type": "code",
   "execution_count": null,
   "metadata": {},
   "outputs": [],
   "source": [
    "cv = ExpandingWindowSplitter(\n",
    "    initial_window=int(len(X) * 0.94), step_length=1, fh=np.arange(1, 13)\n",
    ")\n",
    "\n",
    "n_splits = cv.get_n_splits(y)\n",
    "print(f\"Number of Folds = {n_splits}\")"
   ]
  },
  {
   "cell_type": "code",
   "execution_count": null,
   "metadata": {},
   "outputs": [],
   "source": [
    "from sklearn.preprocessing import StandardScaler\n",
    "from sktime.forecasting.compose import ForecastingPipeline\n",
    "from sktime.transformations.series.adapt import TabularToSeriesAdaptor\n",
    "\n",
    "pipe = ForecastingPipeline(\n",
    "        steps=[\n",
    "            (\"standardize\", TabularToSeriesAdaptor(StandardScaler())),\n",
    "            (\n",
    "                \"forecaster\",\n",
    "                TransformedTargetForecaster(\n",
    "                    [\n",
    "                        (\"log_transformer\", LogTransformer()),\n",
    "                        (\n",
    "                            \"forecast\",\n",
    "                            make_reduction(\n",
    "                                ElasticNetCV(n_jobs=-1),\n",
    "                                window_length=24,\n",
    "                                strategy=\"direct\",\n",
    "                            ),\n",
    "                        ),\n",
    "                    ]\n",
    "                ),\n",
    "            ),\n",
    "        ]\n",
    "    )"
   ]
  },
  {
   "cell_type": "code",
   "execution_count": null,
   "metadata": {},
   "outputs": [],
   "source": [
    "# set freq\n",
    "y.index.freq = \"H\"\n",
    "X.index.freq = \"H\""
   ]
  },
  {
   "cell_type": "code",
   "execution_count": null,
   "metadata": {},
   "outputs": [],
   "source": [
    "from sktime.forecasting.model_evaluation import evaluate\n",
    "from sktime.performance_metrics.forecasting import MeanSquaredError\n",
    "\n",
    "list_models = [\"elasticnet_pipeline\"]\n",
    "\n",
    "rmse_cv_results = []\n",
    "rmse_cv_std = []\n",
    "for i in list_models:\n",
    "    print(i)\n",
    "    results = evaluate(\n",
    "        forecaster=pipe,\n",
    "        y=y,\n",
    "        X=X,\n",
    "        cv=cv,\n",
    "        strategy=\"refit\",\n",
    "        return_data=True,\n",
    "        scoring=MeanSquaredError(square_root=True),\n",
    "        backend=\"loky\",\n",
    "        error_score='raise'\n",
    "    )\n",
    "    \n",
    "    rmse = results[\"test_MeanSquaredError\"].mean()\n",
    "    rmse_std = results[\"test_MeanSquaredError\"].std()\n",
    "    rmse_cv_results.append(rmse)\n",
    "    rmse_cv_std.append(rmse_std)"
   ]
  },
  {
   "cell_type": "code",
   "execution_count": null,
   "metadata": {},
   "outputs": [],
   "source": [
    "rmse_cv_results_df = pd.DataFrame(\n",
    "    {\"Model\": list_models, \"RMSE_CV\": rmse_cv_results, \"RMSE_CV_STD\": rmse_cv_std}\n",
    ").sort_values(by=[\"RMSE_CV\"])\n",
    "rmse_cv_results_df"
   ]
  },
  {
   "cell_type": "code",
   "execution_count": null,
   "metadata": {},
   "outputs": [],
   "source": [
    "re_pipe = ForecastingPipeline(\n",
    "        steps=[\n",
    "            (\"standardize\", TabularToSeriesAdaptor(StandardScaler())),\n",
    "            (\n",
    "                \"forecaster\",\n",
    "                TransformedTargetForecaster(\n",
    "                    [\n",
    "                        (\"log_transformer\", LogTransformer()),\n",
    "                        (\"deseasonalizer_weekly\", Deseasonalizer(sp=24*7, model=\"additive\")),\n",
    "                        (\n",
    "                            \"forecast\",\n",
    "                            make_reduction(\n",
    "                                RandomForestRegressor(n_estimators=100, n_jobs=-1),\n",
    "                                window_length=24,\n",
    "                                strategy=\"direct\",\n",
    "                            ),\n",
    "                        ),\n",
    "                    ]\n",
    "                ),\n",
    "            ),\n",
    "        ]\n",
    "    )"
   ]
  },
  {
   "cell_type": "code",
   "execution_count": null,
   "metadata": {},
   "outputs": [],
   "source": [
    "re_pipe.fit(y, X, fh=np.arange(1, 13))"
   ]
  },
  {
   "cell_type": "code",
   "execution_count": null,
   "metadata": {},
   "outputs": [],
   "source": [
    "from sktime.forecasting.model_evaluation import evaluate\n",
    "from sktime.performance_metrics.forecasting import MeanSquaredError\n",
    "\n",
    "list_models = [\"elasticnet_pipeline\"]\n",
    "\n",
    "rmse_cv_results = []\n",
    "rmse_cv_std = []\n",
    "for i in list_models:\n",
    "    print(i)\n",
    "    results = evaluate(\n",
    "        forecaster=re_pipe,\n",
    "        y=y,\n",
    "        X=X,\n",
    "        cv=cv,\n",
    "        strategy=\"refit\",\n",
    "        return_data=True,\n",
    "        scoring=MeanSquaredError(square_root=True),\n",
    "        backend=\"loky\",\n",
    "        error_score='raise'\n",
    "    )\n",
    "    \n",
    "    rmse = results[\"test_MeanSquaredError\"].mean()\n",
    "    rmse_std = results[\"test_MeanSquaredError\"].std()\n",
    "    rmse_cv_results.append(rmse)\n",
    "    rmse_cv_std.append(rmse_std)"
   ]
  },
  {
   "cell_type": "code",
   "execution_count": null,
   "metadata": {},
   "outputs": [],
   "source": [
    "rmse_cv_results_df = pd.DataFrame(\n",
    "    {\"Model\": list_models, \"RMSE_CV\": rmse_cv_results, \"RMSE_CV_STD\": rmse_cv_std}\n",
    ").sort_values(by=[\"RMSE_CV\"])\n",
    "rmse_cv_results_df"
   ]
  }
 ],
 "metadata": {
  "kernelspec": {
   "display_name": "slalomenv",
   "language": "python",
   "name": "python3"
  },
  "language_info": {
   "codemirror_mode": {
    "name": "ipython",
    "version": 3
   },
   "file_extension": ".py",
   "mimetype": "text/x-python",
   "name": "python",
   "nbconvert_exporter": "python",
   "pygments_lexer": "ipython3",
   "version": "3.11.3"
  },
  "orig_nbformat": 4
 },
 "nbformat": 4,
 "nbformat_minor": 2
}
