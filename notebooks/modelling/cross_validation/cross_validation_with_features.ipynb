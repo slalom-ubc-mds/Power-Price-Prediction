{
 "cells": [
  {
   "cell_type": "code",
   "execution_count": 9,
   "metadata": {},
   "outputs": [],
   "source": [
    "# pip install sktime\n"
   ]
  },
  {
   "cell_type": "code",
   "execution_count": 10,
   "metadata": {},
   "outputs": [],
   "source": [
    "import pandas as pd\n",
    "from scipy.stats import boxcox\n",
    "from scipy.special import inv_boxcox\n",
    "import numpy as np\n",
    "from sktime.forecasting.arima import ARIMA\n",
    "from sktime.forecasting.compose import TransformedTargetForecaster\n",
    "from sktime.transformations.series.detrend import Deseasonalizer\n",
    "from sktime.forecasting.trend import PolynomialTrendForecaster\n",
    "from sktime.transformations.series.detrend import Detrender\n",
    "from sktime.forecasting.model_selection import temporal_train_test_split\n",
    "from sktime.forecasting.base import ForecastingHorizon\n",
    "from sklearn.metrics import mean_squared_error\n",
    "from sktime.forecasting.compose import make_reduction\n",
    "from sklearn.exceptions import ConvergenceWarning\n",
    "import requests\n",
    "from sklearn.ensemble import (\n",
    "    HistGradientBoostingRegressor,\n",
    "    GradientBoostingRegressor,\n",
    "    RandomForestRegressor,\n",
    ")\n",
    "from sklearn.linear_model import ElasticNetCV\n",
    "from sktime.forecasting.model_selection import (\n",
    "    ForecastingGridSearchCV,\n",
    "    ExpandingWindowSplitter,\n",
    ")\n",
    "from sktime.forecasting.compose import MultiplexForecaster\n",
    "from sklearn.neighbors import KNeighborsRegressor\n",
    "from sktime.forecasting.ets import AutoETS\n",
    "from sktime.transformations.series.boxcox import LogTransformer\n",
    "\n",
    "\n",
    "import warnings\n",
    "\n",
    "warnings.filterwarnings(\"ignore\")"
   ]
  },
  {
   "cell_type": "code",
   "execution_count": 11,
   "metadata": {},
   "outputs": [],
   "source": [
    "from sklearn.preprocessing import StandardScaler\n",
    "from sktime.forecasting.compose import ForecastingPipeline\n",
    "from sktime.transformations.series.adapt import TabularToSeriesAdaptor\n",
    "\n",
    "\n",
    "def initialize_arima_forecaster():\n",
    "    deseasonalizer_daily = Deseasonalizer(sp=24, model=\"additive\")\n",
    "\n",
    "    pipe = ForecastingPipeline(\n",
    "        steps=[\n",
    "            (\"standardize\", TabularToSeriesAdaptor(StandardScaler())),\n",
    "            (\n",
    "                \"forecaster\",\n",
    "                TransformedTargetForecaster(\n",
    "                    [\n",
    "                        (\"log_transformer\", LogTransformer()),\n",
    "                        (\"deseasonalizer_daily\", deseasonalizer_daily),\n",
    "                        (\"residual_forecaster\", ARIMA(1, 0, 1)),\n",
    "                    ]\n",
    "                ),\n",
    "            ),\n",
    "        ]\n",
    "    )\n",
    "\n",
    "    return pipe\n",
    "\n",
    "\n",
    "def initialize_elasticnet_forecaster():\n",
    "    deseasonalizer_daily = Deseasonalizer(sp=24, model=\"additive\")\n",
    "    # Create the TransformedTargetForecaster pipeline\n",
    "    pipe = ForecastingPipeline(\n",
    "        steps=[\n",
    "            (\"standardize\", TabularToSeriesAdaptor(StandardScaler())),\n",
    "            (\n",
    "                \"forecaster\",\n",
    "                TransformedTargetForecaster(\n",
    "                    [\n",
    "                        (\"log_transformer\", LogTransformer()),\n",
    "                        (\"deseasonalizer_daily\", deseasonalizer_daily),\n",
    "                        (\n",
    "                            \"forecast\",\n",
    "                            make_reduction(\n",
    "                                ElasticNetCV(n_jobs=-1),\n",
    "                                window_length=24,\n",
    "                                strategy=\"direct\",\n",
    "                            ),\n",
    "                        ),\n",
    "                    ]\n",
    "                ),\n",
    "            ),\n",
    "        ]\n",
    "    )\n",
    "\n",
    "    return pipe\n",
    "\n",
    "\n",
    "def initialize_rf_forecaster():\n",
    "    deseasonalizer_daily = Deseasonalizer(sp=24, model=\"additive\")\n",
    "\n",
    "    # Create the TransformedTargetForecaster pipeline\n",
    "    pipe = ForecastingPipeline(\n",
    "        steps=[\n",
    "            (\"standardize\", TabularToSeriesAdaptor(StandardScaler())),\n",
    "            (\n",
    "                \"forecaster\",\n",
    "                TransformedTargetForecaster(\n",
    "                    [\n",
    "                        (\"log_transformer\", LogTransformer()),\n",
    "                        (\"deseasonalizer_daily\", deseasonalizer_daily),\n",
    "                        (\n",
    "                            \"forecast\",\n",
    "                            make_reduction(\n",
    "                                RandomForestRegressor(n_estimators=200, n_jobs=-1),\n",
    "                                window_length=24,\n",
    "                                strategy=\"direct\",\n",
    "                            ),\n",
    "                        ),\n",
    "                    ]\n",
    "                ),\n",
    "            ),\n",
    "        ]\n",
    "    )\n",
    "\n",
    "    return pipe\n",
    "\n",
    "\n",
    "def initialize_gb_forecaster():\n",
    "    deseasonalizer_daily = Deseasonalizer(sp=24, model=\"additive\")\n",
    "    pipe = ForecastingPipeline(\n",
    "        steps=[\n",
    "            (\"standardize\", TabularToSeriesAdaptor(StandardScaler())),\n",
    "            (\n",
    "                \"forecaster\",\n",
    "                TransformedTargetForecaster(\n",
    "                    [\n",
    "                        (\"log_transformer\", LogTransformer()),\n",
    "                        (\"deseasonalizer_daily\", deseasonalizer_daily),\n",
    "                        (\n",
    "                            \"forecast\",\n",
    "                            make_reduction(\n",
    "                                GradientBoostingRegressor(n_estimators=200),\n",
    "                                window_length=24,\n",
    "                                strategy=\"direct\",\n",
    "                            ),\n",
    "                        ),\n",
    "                    ]\n",
    "                ),\n",
    "            ),\n",
    "        ]\n",
    "    )\n",
    "\n",
    "    return pipe\n",
    "\n",
    "\n",
    "def initialize_hist_forecaster():\n",
    "    deseasonalizer_daily = Deseasonalizer(sp=24, model=\"additive\")\n",
    "    pipe = ForecastingPipeline(\n",
    "        steps=[\n",
    "            (\"standardize\", TabularToSeriesAdaptor(StandardScaler())),\n",
    "            (\n",
    "                \"forecaster\",\n",
    "                TransformedTargetForecaster(\n",
    "                    [\n",
    "                        (\"log_transformer\", LogTransformer()),\n",
    "                        (\"deseasonalizer_daily\", deseasonalizer_daily),\n",
    "                        (\n",
    "                            \"forecast\",\n",
    "                            make_reduction(\n",
    "                                HistGradientBoostingRegressor(),\n",
    "                                window_length=24,\n",
    "                                strategy=\"direct\",\n",
    "                            ),\n",
    "                        ),\n",
    "                    ]\n",
    "                ),\n",
    "            ),\n",
    "        ]\n",
    "    )\n",
    "\n",
    "    return pipe\n",
    "\n",
    "\n",
    "def initialize_ets_forecaster():\n",
    "    deseasonalizer_daily = Deseasonalizer(sp=24, model=\"additive\")\n",
    "    pipe = TransformedTargetForecaster(\n",
    "        [\n",
    "            (\"log_transformer\", LogTransformer()),\n",
    "            (\"deseasonalizer_daily\", deseasonalizer_daily),\n",
    "            (\n",
    "                \"forecast\",\n",
    "                make_reduction(\n",
    "                    AutoETS(auto=True, sp=24, n_jobs=-1),\n",
    "                    window_length=24,\n",
    "                    strategy=\"direct\",\n",
    "                ),\n",
    "            ),\n",
    "        ]\n",
    "    )\n",
    "\n",
    "    return pipe"
   ]
  },
  {
   "cell_type": "code",
   "execution_count": 12,
   "metadata": {},
   "outputs": [],
   "source": [
    "arima_pipeline = initialize_arima_forecaster()\n",
    "elasticnet_pipeline = initialize_elasticnet_forecaster()\n",
    "rf_pipeline = initialize_rf_forecaster()\n",
    "gb_pipeline = initialize_gb_forecaster()\n",
    "hist_pipeline = initialize_hist_forecaster()\n",
    "ets_pipeline = initialize_ets_forecaster()\n",
    "\n",
    "forecasting_models = {\n",
    "    \"elasticnet_pipeline\": elasticnet_pipeline,\n",
    "    \"rf_pipeline\": rf_pipeline,\n",
    "    \"gb_pipeline\": gb_pipeline,\n",
    "    \"hist_pipeline\": hist_pipeline,\n",
    "    \"ets_pipeline\": ets_pipeline,\n",
    "}\n",
    "\n",
    "forecaster = MultiplexForecaster(\n",
    "    forecasters=[\n",
    "        (\"elasticnet_pipeline\", elasticnet_pipeline),\n",
    "        (\"rf_pipeline\", rf_pipeline),\n",
    "        (\"gb_pipeline\", gb_pipeline),\n",
    "        (\"hist_pipeline\", hist_pipeline),\n",
    "    ]\n",
    ")"
   ]
  },
  {
   "cell_type": "code",
   "execution_count": 47,
   "metadata": {},
   "outputs": [],
   "source": [
    "price_old_df = pd.read_csv(\n",
    "    \"https://raw.githubusercontent.com/slalom-ubc-mds/Power-Price-Prediction/main/data/processed/supply_load_price.csv\",\n",
    "    parse_dates=[\"Date (MST)\"],\n",
    "    index_col=\"Date (MST)\",\n",
    ")\n",
    "price_old_df = price_old_df.sort_values(by=\"Date (MST)\")\n",
    "price_old_df = price_old_df[\"2022-12\":]\n",
    "price_old_df = price_old_df.asfreq(\"H\")\n",
    "\n",
    "price_ail_df = price_old_df[\"price\"]\n",
    "X = price_old_df.drop(columns=[\"price\"])\n",
    "\n",
    "y_train, y_test, X_train, X_test = temporal_train_test_split(\n",
    "    price_ail_df, X, test_size=48\n",
    ")"
   ]
  },
  {
   "cell_type": "code",
   "execution_count": 18,
   "metadata": {},
   "outputs": [
    {
     "name": "stdout",
     "output_type": "stream",
     "text": [
      "Number of Folds = 1\n"
     ]
    }
   ],
   "source": [
    "cv = ExpandingWindowSplitter(\n",
    "    initial_window=int(len(y_train) * 0.996), step_length=1, fh=np.arange(1, 13)\n",
    ")\n",
    "n_splits = cv.get_n_splits(y_train)\n",
    "print(f\"Number of Folds = {n_splits}\")"
   ]
  },
  {
   "cell_type": "code",
   "execution_count": 20,
   "metadata": {},
   "outputs": [],
   "source": [
    "# from plotting import plot_windows, get_windows\n",
    "# train_windows, test_windows = get_windows(y_train, cv)\n",
    "# plot_windows(y_train, train_windows, test_windows)\n"
   ]
  },
  {
   "cell_type": "code",
   "execution_count": 19,
   "metadata": {},
   "outputs": [],
   "source": [
    "from sktime.forecasting.model_evaluation import evaluate\n",
    "from sktime.performance_metrics.forecasting import MeanSquaredScaledError\n",
    "\n",
    "list_models = [\"elasticnet_pipeline\"]\n",
    "\n",
    "rmse_cv_results = []\n",
    "rmse_cv_std = []\n",
    "for i in list_models:\n",
    "    forecaster.set_params(**{\"selected_forecaster\": i})\n",
    "    results = evaluate(\n",
    "        forecaster=forecaster,\n",
    "        y=y_train,\n",
    "        X=X_train,\n",
    "        cv=cv,\n",
    "        strategy=\"refit\",\n",
    "        return_data=True,\n",
    "        scoring=MeanSquaredScaledError(square_root=True),\n",
    "        backend=\"loky\",\n",
    "    )\n",
    "    rmse = results[\"test_MeanSquaredScaledError\"].mean()\n",
    "    rmse_std = results[\"test_MeanSquaredScaledError\"].std()\n",
    "    rmse_cv_results.append(rmse)\n",
    "    rmse_cv_std.append(rmse_std)"
   ]
  },
  {
   "cell_type": "code",
   "execution_count": 22,
   "metadata": {},
   "outputs": [
    {
     "data": {
      "text/html": [
       "<div>\n",
       "<style scoped>\n",
       "    .dataframe tbody tr th:only-of-type {\n",
       "        vertical-align: middle;\n",
       "    }\n",
       "\n",
       "    .dataframe tbody tr th {\n",
       "        vertical-align: top;\n",
       "    }\n",
       "\n",
       "    .dataframe thead th {\n",
       "        text-align: right;\n",
       "    }\n",
       "</style>\n",
       "<table border=\"1\" class=\"dataframe\">\n",
       "  <thead>\n",
       "    <tr style=\"text-align: right;\">\n",
       "      <th></th>\n",
       "      <th>Model</th>\n",
       "      <th>RMSE_CV</th>\n",
       "      <th>RMSE_CV_STD</th>\n",
       "    </tr>\n",
       "  </thead>\n",
       "  <tbody>\n",
       "    <tr>\n",
       "      <th>0</th>\n",
       "      <td>elasticnet_pipeline</td>\n",
       "      <td>1.024729</td>\n",
       "      <td>0.544594</td>\n",
       "    </tr>\n",
       "  </tbody>\n",
       "</table>\n",
       "</div>"
      ],
      "text/plain": [
       "                 Model   RMSE_CV  RMSE_CV_STD\n",
       "0  elasticnet_pipeline  1.024729     0.544594"
      ]
     },
     "execution_count": 22,
     "metadata": {},
     "output_type": "execute_result"
    }
   ],
   "source": [
    "rmse_cv_results_df = pd.DataFrame(\n",
    "    {\"Model\": list_models, \"RMSE_CV\": rmse_cv_results, \"RMSE_CV_STD\": rmse_cv_std}\n",
    ").sort_values(by=[\"RMSE_CV\"])\n",
    "rmse_cv_results_df\n"
   ]
  },
  {
   "cell_type": "code",
   "execution_count": 60,
   "metadata": {},
   "outputs": [],
   "source": [
    "rf_pipeline.fit(y_train, X_train, fh=ForecastingHorizon(np.arange(1, 13)))"
   ]
  },
  {
   "cell_type": "code",
   "execution_count": null,
   "metadata": {},
   "outputs": [],
   "source": []
  },
  {
   "cell_type": "code",
   "execution_count": null,
   "metadata": {},
   "outputs": [],
   "source": []
  },
  {
   "cell_type": "code",
   "execution_count": null,
   "metadata": {},
   "outputs": [],
   "source": []
  },
  {
   "cell_type": "code",
   "execution_count": null,
   "metadata": {},
   "outputs": [],
   "source": []
  },
  {
   "cell_type": "code",
   "execution_count": null,
   "metadata": {},
   "outputs": [],
   "source": []
  },
  {
   "cell_type": "code",
   "execution_count": null,
   "metadata": {},
   "outputs": [],
   "source": []
  },
  {
   "cell_type": "code",
   "execution_count": null,
   "metadata": {},
   "outputs": [],
   "source": []
  },
  {
   "cell_type": "code",
   "execution_count": null,
   "metadata": {},
   "outputs": [],
   "source": []
  },
  {
   "cell_type": "code",
   "execution_count": null,
   "metadata": {},
   "outputs": [],
   "source": []
  },
  {
   "cell_type": "code",
   "execution_count": null,
   "metadata": {},
   "outputs": [],
   "source": []
  },
  {
   "cell_type": "code",
   "execution_count": null,
   "metadata": {},
   "outputs": [],
   "source": []
  },
  {
   "cell_type": "code",
   "execution_count": null,
   "metadata": {},
   "outputs": [],
   "source": []
  },
  {
   "cell_type": "code",
   "execution_count": 21,
   "metadata": {},
   "outputs": [
    {
     "data": {
      "text/html": [
       "<style>#sk-4eb9f997-55e4-4383-9a3d-d383af713853 {color: black;background-color: white;}#sk-4eb9f997-55e4-4383-9a3d-d383af713853 pre{padding: 0;}#sk-4eb9f997-55e4-4383-9a3d-d383af713853 div.sk-toggleable {background-color: white;}#sk-4eb9f997-55e4-4383-9a3d-d383af713853 label.sk-toggleable__label {cursor: pointer;display: block;width: 100%;margin-bottom: 0;padding: 0.3em;box-sizing: border-box;text-align: center;}#sk-4eb9f997-55e4-4383-9a3d-d383af713853 label.sk-toggleable__label-arrow:before {content: \"▸\";float: left;margin-right: 0.25em;color: #696969;}#sk-4eb9f997-55e4-4383-9a3d-d383af713853 label.sk-toggleable__label-arrow:hover:before {color: black;}#sk-4eb9f997-55e4-4383-9a3d-d383af713853 div.sk-estimator:hover label.sk-toggleable__label-arrow:before {color: black;}#sk-4eb9f997-55e4-4383-9a3d-d383af713853 div.sk-toggleable__content {max-height: 0;max-width: 0;overflow: hidden;text-align: left;background-color: #f0f8ff;}#sk-4eb9f997-55e4-4383-9a3d-d383af713853 div.sk-toggleable__content pre {margin: 0.2em;color: black;border-radius: 0.25em;background-color: #f0f8ff;}#sk-4eb9f997-55e4-4383-9a3d-d383af713853 input.sk-toggleable__control:checked~div.sk-toggleable__content {max-height: 200px;max-width: 100%;overflow: auto;}#sk-4eb9f997-55e4-4383-9a3d-d383af713853 input.sk-toggleable__control:checked~label.sk-toggleable__label-arrow:before {content: \"▾\";}#sk-4eb9f997-55e4-4383-9a3d-d383af713853 div.sk-estimator input.sk-toggleable__control:checked~label.sk-toggleable__label {background-color: #d4ebff;}#sk-4eb9f997-55e4-4383-9a3d-d383af713853 div.sk-label input.sk-toggleable__control:checked~label.sk-toggleable__label {background-color: #d4ebff;}#sk-4eb9f997-55e4-4383-9a3d-d383af713853 input.sk-hidden--visually {border: 0;clip: rect(1px 1px 1px 1px);clip: rect(1px, 1px, 1px, 1px);height: 1px;margin: -1px;overflow: hidden;padding: 0;position: absolute;width: 1px;}#sk-4eb9f997-55e4-4383-9a3d-d383af713853 div.sk-estimator {font-family: monospace;background-color: #f0f8ff;border: 1px dotted black;border-radius: 0.25em;box-sizing: border-box;margin-bottom: 0.5em;}#sk-4eb9f997-55e4-4383-9a3d-d383af713853 div.sk-estimator:hover {background-color: #d4ebff;}#sk-4eb9f997-55e4-4383-9a3d-d383af713853 div.sk-parallel-item::after {content: \"\";width: 100%;border-bottom: 1px solid gray;flex-grow: 1;}#sk-4eb9f997-55e4-4383-9a3d-d383af713853 div.sk-label:hover label.sk-toggleable__label {background-color: #d4ebff;}#sk-4eb9f997-55e4-4383-9a3d-d383af713853 div.sk-serial::before {content: \"\";position: absolute;border-left: 1px solid gray;box-sizing: border-box;top: 2em;bottom: 0;left: 50%;}#sk-4eb9f997-55e4-4383-9a3d-d383af713853 div.sk-serial {display: flex;flex-direction: column;align-items: center;background-color: white;padding-right: 0.2em;padding-left: 0.2em;}#sk-4eb9f997-55e4-4383-9a3d-d383af713853 div.sk-item {z-index: 1;}#sk-4eb9f997-55e4-4383-9a3d-d383af713853 div.sk-parallel {display: flex;align-items: stretch;justify-content: center;background-color: white;}#sk-4eb9f997-55e4-4383-9a3d-d383af713853 div.sk-parallel::before {content: \"\";position: absolute;border-left: 1px solid gray;box-sizing: border-box;top: 2em;bottom: 0;left: 50%;}#sk-4eb9f997-55e4-4383-9a3d-d383af713853 div.sk-parallel-item {display: flex;flex-direction: column;position: relative;background-color: white;}#sk-4eb9f997-55e4-4383-9a3d-d383af713853 div.sk-parallel-item:first-child::after {align-self: flex-end;width: 50%;}#sk-4eb9f997-55e4-4383-9a3d-d383af713853 div.sk-parallel-item:last-child::after {align-self: flex-start;width: 50%;}#sk-4eb9f997-55e4-4383-9a3d-d383af713853 div.sk-parallel-item:only-child::after {width: 0;}#sk-4eb9f997-55e4-4383-9a3d-d383af713853 div.sk-dashed-wrapped {border: 1px dashed gray;margin: 0 0.4em 0.5em 0.4em;box-sizing: border-box;padding-bottom: 0.4em;background-color: white;position: relative;}#sk-4eb9f997-55e4-4383-9a3d-d383af713853 div.sk-label label {font-family: monospace;font-weight: bold;background-color: white;display: inline-block;line-height: 1.2em;}#sk-4eb9f997-55e4-4383-9a3d-d383af713853 div.sk-label-container {position: relative;z-index: 2;text-align: center;}#sk-4eb9f997-55e4-4383-9a3d-d383af713853 div.sk-container {/* jupyter's `normalize.less` sets `[hidden] { display: none; }` but bootstrap.min.css set `[hidden] { display: none !important; }` so we also need the `!important` here to be able to override the default hidden behavior on the sphinx rendered scikit-learn.org. See: https://github.com/scikit-learn/scikit-learn/issues/21755 */display: inline-block !important;position: relative;}#sk-4eb9f997-55e4-4383-9a3d-d383af713853 div.sk-text-repr-fallback {display: none;}</style><div id='sk-4eb9f997-55e4-4383-9a3d-d383af713853' class=\"sk-top-container\"><div class=\"sk-text-repr-fallback\"><pre>ForecastingPipeline(steps=[(&#x27;standardize&#x27;,\n",
       "                            TabularToSeriesAdaptor(transformer=StandardScaler())),\n",
       "                           (&#x27;forecaster&#x27;,\n",
       "                            TransformedTargetForecaster(steps=[(&#x27;log_transformer&#x27;,\n",
       "                                                                LogTransformer()),\n",
       "                                                               (&#x27;deseasonalizer_daily&#x27;,\n",
       "                                                                Deseasonalizer(sp=24)),\n",
       "                                                               (&#x27;forecast&#x27;,\n",
       "                                                                DirectTabularRegressionForecaster(estimator=ElasticNetCV(n_jobs=-1),\n",
       "                                                                                                  window_length=24))]))])</pre><b>Please rerun this cell to show the HTML repr or trust the notebook.</b></div><div class=\"sk-container\" hidden><div class=\"sk-item sk-dashed-wrapped\"><div class='sk-label-container'><div class=\"sk-label sk-toggleable\"><input class=\"sk-toggleable__control sk-hidden--visually\" id=UUID('faa8027e-680e-40c7-84d4-194dd9fa9591') type=\"checkbox\" ><label for=UUID('faa8027e-680e-40c7-84d4-194dd9fa9591') class='sk-toggleable__label sk-toggleable__label-arrow'>ForecastingPipeline</label><div class=\"sk-toggleable__content\"><pre>ForecastingPipeline(steps=[(&#x27;standardize&#x27;,\n",
       "                            TabularToSeriesAdaptor(transformer=StandardScaler())),\n",
       "                           (&#x27;forecaster&#x27;,\n",
       "                            TransformedTargetForecaster(steps=[(&#x27;log_transformer&#x27;,\n",
       "                                                                LogTransformer()),\n",
       "                                                               (&#x27;deseasonalizer_daily&#x27;,\n",
       "                                                                Deseasonalizer(sp=24)),\n",
       "                                                               (&#x27;forecast&#x27;,\n",
       "                                                                DirectTabularRegressionForecaster(estimator=ElasticNetCV(n_jobs=-1),\n",
       "                                                                                                  window_length=24))]))])</pre></div></div></div><div class=\"sk-parallel\"><div class=\"sk-parallel-item\"><div class=\"sk-item\"><div class=\"sk-serial\"><div class=\"sk-item sk-dashed-wrapped\"><div class=\"sk-parallel\"><div class=\"sk-parallel-item\"><div class=\"sk-item\"><div class=\"sk-serial\"><div class='sk-item'><div class=\"sk-estimator sk-toggleable\"><input class=\"sk-toggleable__control sk-hidden--visually\" id=UUID('039d7d4d-8356-4bfe-b553-23f163cd3eff') type=\"checkbox\" ><label for=UUID('039d7d4d-8356-4bfe-b553-23f163cd3eff') class='sk-toggleable__label sk-toggleable__label-arrow'>StandardScaler</label><div class=\"sk-toggleable__content\"><pre>StandardScaler()</pre></div></div></div></div></div></div></div></div></div></div></div><div class=\"sk-parallel-item\"><div class=\"sk-item\"><div class=\"sk-serial\"><div class=\"sk-item sk-dashed-wrapped\"><div class=\"sk-parallel\"><div class=\"sk-parallel-item\"><div class=\"sk-item\"><div class=\"sk-serial\"><div class='sk-item'><div class=\"sk-estimator sk-toggleable\"><input class=\"sk-toggleable__control sk-hidden--visually\" id=UUID('ab8e9391-66aa-4783-836e-80d15f861811') type=\"checkbox\" ><label for=UUID('ab8e9391-66aa-4783-836e-80d15f861811') class='sk-toggleable__label sk-toggleable__label-arrow'>LogTransformer</label><div class=\"sk-toggleable__content\"><pre>LogTransformer()</pre></div></div></div></div></div></div><div class=\"sk-parallel-item\"><div class=\"sk-item\"><div class=\"sk-serial\"><div class='sk-item'><div class=\"sk-estimator sk-toggleable\"><input class=\"sk-toggleable__control sk-hidden--visually\" id=UUID('fe395798-b896-468b-be12-8cc65556b85d') type=\"checkbox\" ><label for=UUID('fe395798-b896-468b-be12-8cc65556b85d') class='sk-toggleable__label sk-toggleable__label-arrow'>Deseasonalizer</label><div class=\"sk-toggleable__content\"><pre>Deseasonalizer(sp=24)</pre></div></div></div></div></div></div><div class=\"sk-parallel-item\"><div class=\"sk-item\"><div class=\"sk-serial\"><div class=\"sk-item sk-dashed-wrapped\"><div class=\"sk-parallel\"><div class=\"sk-parallel-item\"><div class=\"sk-item\"><div class=\"sk-serial\"><div class='sk-item'><div class=\"sk-estimator sk-toggleable\"><input class=\"sk-toggleable__control sk-hidden--visually\" id=UUID('be582bbc-58d9-4f15-a814-5cf587018e57') type=\"checkbox\" ><label for=UUID('be582bbc-58d9-4f15-a814-5cf587018e57') class='sk-toggleable__label sk-toggleable__label-arrow'>ElasticNetCV</label><div class=\"sk-toggleable__content\"><pre>ElasticNetCV(n_jobs=-1)</pre></div></div></div></div></div></div></div></div></div></div></div></div></div></div></div></div></div></div></div></div>"
      ],
      "text/plain": [
       "ForecastingPipeline(steps=[('standardize',\n",
       "                            TabularToSeriesAdaptor(transformer=StandardScaler())),\n",
       "                           ('forecaster',\n",
       "                            TransformedTargetForecaster(steps=[('log_transformer',\n",
       "                                                                LogTransformer()),\n",
       "                                                               ('deseasonalizer_daily',\n",
       "                                                                Deseasonalizer(sp=24)),\n",
       "                                                               ('forecast',\n",
       "                                                                DirectTabularRegressionForecaster(estimator=ElasticNetCV(n_jobs=-1),\n",
       "                                                                                                  window_length=24))]))])"
      ]
     },
     "execution_count": 21,
     "metadata": {},
     "output_type": "execute_result"
    }
   ],
   "source": [
    "elasticnet_pipeline.fit(y_train, X_train, fh=ForecastingHorizon(np.arange(1, 13)))"
   ]
  },
  {
   "cell_type": "code",
   "execution_count": 22,
   "metadata": {},
   "outputs": [
    {
     "data": {
      "text/plain": [
       "{'steps': [('log_transformer', LogTransformer()),\n",
       "  ('deseasonalizer_daily', Deseasonalizer(sp=24)),\n",
       "  ('forecast',\n",
       "   DirectTabularRegressionForecaster(estimator=ElasticNetCV(n_jobs=-1),\n",
       "                                     window_length=24))],\n",
       " 'log_transformer': LogTransformer(),\n",
       " 'deseasonalizer_daily': Deseasonalizer(sp=24),\n",
       " 'forecast': DirectTabularRegressionForecaster(estimator=ElasticNetCV(n_jobs=-1),\n",
       "                                   window_length=24),\n",
       " 'log_transformer__offset': 0,\n",
       " 'log_transformer__scale': 1,\n",
       " 'deseasonalizer_daily__model': 'additive',\n",
       " 'deseasonalizer_daily__sp': 24,\n",
       " 'forecast__estimator': ElasticNetCV(n_jobs=-1),\n",
       " 'forecast__pooling': 'local',\n",
       " 'forecast__transformers': None,\n",
       " 'forecast__window_length': 24,\n",
       " 'forecast__windows_identical': True,\n",
       " 'forecast__estimator__alphas': None,\n",
       " 'forecast__estimator__copy_X': True,\n",
       " 'forecast__estimator__cv': None,\n",
       " 'forecast__estimator__eps': 0.001,\n",
       " 'forecast__estimator__fit_intercept': True,\n",
       " 'forecast__estimator__l1_ratio': 0.5,\n",
       " 'forecast__estimator__max_iter': 1000,\n",
       " 'forecast__estimator__n_alphas': 100,\n",
       " 'forecast__estimator__n_jobs': -1,\n",
       " 'forecast__estimator__positive': False,\n",
       " 'forecast__estimator__precompute': 'auto',\n",
       " 'forecast__estimator__random_state': None,\n",
       " 'forecast__estimator__selection': 'cyclic',\n",
       " 'forecast__estimator__tol': 0.0001,\n",
       " 'forecast__estimator__verbose': 0}"
      ]
     },
     "execution_count": 22,
     "metadata": {},
     "output_type": "execute_result"
    }
   ],
   "source": [
    "elasticnet_pipeline.forecaster_.get_params()\n"
   ]
  },
  {
   "cell_type": "code",
   "execution_count": 40,
   "metadata": {},
   "outputs": [
    {
     "data": {
      "text/plain": [
       "{'estimators': [ElasticNetCV(n_jobs=-1),\n",
       "  ElasticNetCV(n_jobs=-1),\n",
       "  ElasticNetCV(n_jobs=-1),\n",
       "  ElasticNetCV(n_jobs=-1),\n",
       "  ElasticNetCV(n_jobs=-1),\n",
       "  ElasticNetCV(n_jobs=-1),\n",
       "  ElasticNetCV(n_jobs=-1),\n",
       "  ElasticNetCV(n_jobs=-1),\n",
       "  ElasticNetCV(n_jobs=-1),\n",
       "  ElasticNetCV(n_jobs=-1),\n",
       "  ElasticNetCV(n_jobs=-1),\n",
       "  ElasticNetCV(n_jobs=-1)],\n",
       " 'transformers': None,\n",
       " 'window_length': 24}"
      ]
     },
     "execution_count": 40,
     "metadata": {},
     "output_type": "execute_result"
    }
   ],
   "source": [
    "elasticnet_pipeline.forecaster_.forecaster_.get_fitted_params()\n"
   ]
  },
  {
   "cell_type": "code",
   "execution_count": 52,
   "metadata": {},
   "outputs": [],
   "source": [
    "import pandas as pd\n",
    "\n",
    "\n",
    "def create_lagged_columns(X, lag_range=24):\n",
    "    lagged_names = []\n",
    "\n",
    "    for col in X:\n",
    "        for lag in range(1, lag_range + 1):\n",
    "            lagged_names.append(f\"{col}_lag{lag}\")\n",
    "\n",
    "    return lagged_names\n",
    "\n",
    "l = create_lagged_columns(['price'] + X.columns.values.tolist(), lag_range=24)"
   ]
  },
  {
   "cell_type": "code",
   "execution_count": 54,
   "metadata": {},
   "outputs": [
    {
     "data": {
      "text/html": [
       "<div>\n",
       "<style scoped>\n",
       "    .dataframe tbody tr th:only-of-type {\n",
       "        vertical-align: middle;\n",
       "    }\n",
       "\n",
       "    .dataframe tbody tr th {\n",
       "        vertical-align: top;\n",
       "    }\n",
       "\n",
       "    .dataframe thead th {\n",
       "        text-align: right;\n",
       "    }\n",
       "</style>\n",
       "<table border=\"1\" class=\"dataframe\">\n",
       "  <thead>\n",
       "    <tr style=\"text-align: right;\">\n",
       "      <th></th>\n",
       "      <th>Coefficient</th>\n",
       "      <th>Label</th>\n",
       "    </tr>\n",
       "  </thead>\n",
       "  <tbody>\n",
       "    <tr>\n",
       "      <th>0</th>\n",
       "      <td>0.038054</td>\n",
       "      <td>price_lag1</td>\n",
       "    </tr>\n",
       "    <tr>\n",
       "      <th>1</th>\n",
       "      <td>0.026322</td>\n",
       "      <td>price_lag2</td>\n",
       "    </tr>\n",
       "    <tr>\n",
       "      <th>2</th>\n",
       "      <td>0.000529</td>\n",
       "      <td>price_lag3</td>\n",
       "    </tr>\n",
       "    <tr>\n",
       "      <th>3</th>\n",
       "      <td>-0.000000</td>\n",
       "      <td>price_lag4</td>\n",
       "    </tr>\n",
       "    <tr>\n",
       "      <th>4</th>\n",
       "      <td>-0.000000</td>\n",
       "      <td>price_lag5</td>\n",
       "    </tr>\n",
       "    <tr>\n",
       "      <th>...</th>\n",
       "      <td>...</td>\n",
       "      <td>...</td>\n",
       "    </tr>\n",
       "    <tr>\n",
       "      <th>1195</th>\n",
       "      <td>0.000000</td>\n",
       "      <td>renewable_energy_penetration_lag20</td>\n",
       "    </tr>\n",
       "    <tr>\n",
       "      <th>1196</th>\n",
       "      <td>0.000000</td>\n",
       "      <td>renewable_energy_penetration_lag21</td>\n",
       "    </tr>\n",
       "    <tr>\n",
       "      <th>1197</th>\n",
       "      <td>0.000000</td>\n",
       "      <td>renewable_energy_penetration_lag22</td>\n",
       "    </tr>\n",
       "    <tr>\n",
       "      <th>1198</th>\n",
       "      <td>0.000000</td>\n",
       "      <td>renewable_energy_penetration_lag23</td>\n",
       "    </tr>\n",
       "    <tr>\n",
       "      <th>1199</th>\n",
       "      <td>-0.072785</td>\n",
       "      <td>renewable_energy_penetration_lag24</td>\n",
       "    </tr>\n",
       "  </tbody>\n",
       "</table>\n",
       "<p>1200 rows × 2 columns</p>\n",
       "</div>"
      ],
      "text/plain": [
       "      Coefficient                               Label\n",
       "0        0.038054                          price_lag1\n",
       "1        0.026322                          price_lag2\n",
       "2        0.000529                          price_lag3\n",
       "3       -0.000000                          price_lag4\n",
       "4       -0.000000                          price_lag5\n",
       "...           ...                                 ...\n",
       "1195     0.000000  renewable_energy_penetration_lag20\n",
       "1196     0.000000  renewable_energy_penetration_lag21\n",
       "1197     0.000000  renewable_energy_penetration_lag22\n",
       "1198     0.000000  renewable_energy_penetration_lag23\n",
       "1199    -0.072785  renewable_energy_penetration_lag24\n",
       "\n",
       "[1200 rows x 2 columns]"
      ]
     },
     "execution_count": 54,
     "metadata": {},
     "output_type": "execute_result"
    }
   ],
   "source": [
    "coef_df = pd.DataFrame({'Coefficient': elasticnet_pipeline.forecaster_.forecaster_.estimators_[0].coef_, 'Label': l})"
   ]
  },
  {
   "cell_type": "code",
   "execution_count": 59,
   "metadata": {},
   "outputs": [
    {
     "data": {
      "text/html": [
       "<div>\n",
       "<style scoped>\n",
       "    .dataframe tbody tr th:only-of-type {\n",
       "        vertical-align: middle;\n",
       "    }\n",
       "\n",
       "    .dataframe tbody tr th {\n",
       "        vertical-align: top;\n",
       "    }\n",
       "\n",
       "    .dataframe thead th {\n",
       "        text-align: right;\n",
       "    }\n",
       "</style>\n",
       "<table border=\"1\" class=\"dataframe\">\n",
       "  <thead>\n",
       "    <tr style=\"text-align: right;\">\n",
       "      <th></th>\n",
       "      <th>Coefficient</th>\n",
       "      <th>Label</th>\n",
       "    </tr>\n",
       "  </thead>\n",
       "  <tbody>\n",
       "    <tr>\n",
       "      <th>23</th>\n",
       "      <td>0.523520</td>\n",
       "      <td>price_lag24</td>\n",
       "    </tr>\n",
       "    <tr>\n",
       "      <th>815</th>\n",
       "      <td>0.075052</td>\n",
       "      <td>hydro_supply_mix_lag24</td>\n",
       "    </tr>\n",
       "    <tr>\n",
       "      <th>1079</th>\n",
       "      <td>0.061297</td>\n",
       "      <td>gas_cost_lag24</td>\n",
       "    </tr>\n",
       "    <tr>\n",
       "      <th>31</th>\n",
       "      <td>0.042804</td>\n",
       "      <td>ail_lag8</td>\n",
       "    </tr>\n",
       "    <tr>\n",
       "      <th>0</th>\n",
       "      <td>0.038054</td>\n",
       "      <td>price_lag1</td>\n",
       "    </tr>\n",
       "    <tr>\n",
       "      <th>778</th>\n",
       "      <td>0.037429</td>\n",
       "      <td>solar_supply_mix_lag11</td>\n",
       "    </tr>\n",
       "    <tr>\n",
       "      <th>14</th>\n",
       "      <td>0.026615</td>\n",
       "      <td>price_lag15</td>\n",
       "    </tr>\n",
       "    <tr>\n",
       "      <th>1</th>\n",
       "      <td>0.026322</td>\n",
       "      <td>price_lag2</td>\n",
       "    </tr>\n",
       "    <tr>\n",
       "      <th>573</th>\n",
       "      <td>0.024159</td>\n",
       "      <td>hydro_reserve_margin_lag22</td>\n",
       "    </tr>\n",
       "    <tr>\n",
       "      <th>998</th>\n",
       "      <td>0.023719</td>\n",
       "      <td>renewable_energy_ratio_lag15</td>\n",
       "    </tr>\n",
       "  </tbody>\n",
       "</table>\n",
       "</div>"
      ],
      "text/plain": [
       "      Coefficient                         Label\n",
       "23       0.523520                   price_lag24\n",
       "815      0.075052        hydro_supply_mix_lag24\n",
       "1079     0.061297                gas_cost_lag24\n",
       "31       0.042804                      ail_lag8\n",
       "0        0.038054                    price_lag1\n",
       "778      0.037429        solar_supply_mix_lag11\n",
       "14       0.026615                   price_lag15\n",
       "1        0.026322                    price_lag2\n",
       "573      0.024159    hydro_reserve_margin_lag22\n",
       "998      0.023719  renewable_energy_ratio_lag15"
      ]
     },
     "execution_count": 59,
     "metadata": {},
     "output_type": "execute_result"
    }
   ],
   "source": [
    "# print top 10 features\n",
    "coef_df.sort_values(by=['Coefficient'], ascending=False).head(10)"
   ]
  },
  {
   "cell_type": "code",
   "execution_count": null,
   "metadata": {},
   "outputs": [],
   "source": [
    "coef_df_2 = pd.DataFrame({'Coefficient': elasticnet_pipeline.forecaster_.forecaster_.estimators_[1].coef_, 'Label': l})\n",
    "coef_df_2.sort_values(by=['Coefficient'], ascending=False).head(10)"
   ]
  },
  {
   "cell_type": "code",
   "execution_count": null,
   "metadata": {},
   "outputs": [],
   "source": [
    "coef_df_2 = pd.DataFrame({'Coefficient': elasticnet_pipeline.forecaster_.forecaster_.estimators_[2].coef_, 'Label': l})\n",
    "coef_df_2.sort_values(by=['Coefficient'], ascending=False).head(10)"
   ]
  },
  {
   "cell_type": "code",
   "execution_count": null,
   "metadata": {},
   "outputs": [],
   "source": [
    "coef_df_2 = pd.DataFrame({'Coefficient': elasticnet_pipeline.forecaster_.forecaster_.estimators_[3].coef_, 'Label': l})\n",
    "coef_df_2.sort_values(by=['Coefficient'], ascending=False).head(10)"
   ]
  },
  {
   "cell_type": "code",
   "execution_count": null,
   "metadata": {},
   "outputs": [],
   "source": [
    "coef_df_2 = pd.DataFrame({'Coefficient': elasticnet_pipeline.forecaster_.forecaster_.estimators_[4].coef_, 'Label': l})\n",
    "coef_df_2.sort_values(by=['Coefficient'], ascending=False).head(10)"
   ]
  },
  {
   "cell_type": "code",
   "execution_count": null,
   "metadata": {},
   "outputs": [],
   "source": [
    "coef_df_2 = pd.DataFrame({'Coefficient': elasticnet_pipeline.forecaster_.forecaster_.estimators_[5].coef_, 'Label': l})\n",
    "coef_df_2.sort_values(by=['Coefficient'], ascending=False).head(10)"
   ]
  },
  {
   "cell_type": "code",
   "execution_count": null,
   "metadata": {},
   "outputs": [],
   "source": [
    "coef_df_2 = pd.DataFrame({'Coefficient': elasticnet_pipeline.forecaster_.forecaster_.estimators_[6].coef_, 'Label': l})\n",
    "coef_df_2.sort_values(by=['Coefficient'], ascending=False).head(10)"
   ]
  },
  {
   "cell_type": "code",
   "execution_count": null,
   "metadata": {},
   "outputs": [],
   "source": [
    "coef_df_2 = pd.DataFrame({'Coefficient': elasticnet_pipeline.forecaster_.forecaster_.estimators_[7].coef_, 'Label': l})\n",
    "coef_df_2.sort_values(by=['Coefficient'], ascending=False).head(10)"
   ]
  },
  {
   "cell_type": "code",
   "execution_count": null,
   "metadata": {},
   "outputs": [],
   "source": [
    "coef_df_2 = pd.DataFrame({'Coefficient': elasticnet_pipeline.forecaster_.forecaster_.estimators_[8].coef_, 'Label': l})\n",
    "coef_df_2.sort_values(by=['Coefficient'], ascending=False).head(10)"
   ]
  },
  {
   "cell_type": "code",
   "execution_count": null,
   "metadata": {},
   "outputs": [],
   "source": [
    "coef_df_2 = pd.DataFrame({'Coefficient': elasticnet_pipeline.forecaster_.forecaster_.estimators_[9].coef_, 'Label': l})\n",
    "coef_df_2.sort_values(by=['Coefficient'], ascending=False).head(10)"
   ]
  },
  {
   "cell_type": "code",
   "execution_count": null,
   "metadata": {},
   "outputs": [],
   "source": [
    "coef_df_2 = pd.DataFrame({'Coefficient': elasticnet_pipeline.forecaster_.forecaster_.estimators_[10].coef_, 'Label': l})\n",
    "coef_df_2.sort_values(by=['Coefficient'], ascending=False).head(10)"
   ]
  },
  {
   "cell_type": "code",
   "execution_count": null,
   "metadata": {},
   "outputs": [],
   "source": [
    "coef_df_2 = pd.DataFrame({'Coefficient': elasticnet_pipeline.forecaster_.forecaster_.estimators_[11].coef_, 'Label': l})\n",
    "coef_df_2.sort_values(by=['Coefficient'], ascending=False).head(10)"
   ]
  }
 ],
 "metadata": {
  "kernelspec": {
   "display_name": "mds574",
   "language": "python",
   "name": "python3"
  },
  "language_info": {
   "codemirror_mode": {
    "name": "ipython",
    "version": 3
   },
   "file_extension": ".py",
   "mimetype": "text/x-python",
   "name": "python",
   "nbconvert_exporter": "python",
   "pygments_lexer": "ipython3",
   "version": "3.11.3"
  },
  "orig_nbformat": 4
 },
 "nbformat": 4,
 "nbformat_minor": 2
}
