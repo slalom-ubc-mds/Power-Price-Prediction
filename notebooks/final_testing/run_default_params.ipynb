{
 "cells": [
  {
   "cell_type": "code",
   "execution_count": 1,
   "metadata": {},
   "outputs": [],
   "source": [
    "import pandas as pd\n",
    "import numpy as np\n",
    "from sktime.forecasting.base import ForecastingHorizon\n",
    "from sklearn.metrics import mean_squared_error\n",
    "import plotly.express as px\n",
    "\n",
    "import warnings\n",
    "\n",
    "warnings.filterwarnings(\"ignore\")"
   ]
  },
  {
   "cell_type": "code",
   "execution_count": 2,
   "metadata": {},
   "outputs": [],
   "source": [
    "import sys\n",
    "sys.path.append(\"../utils/\")"
   ]
  },
  {
   "cell_type": "code",
   "execution_count": 3,
   "metadata": {},
   "outputs": [],
   "source": [
    "import pipeline_helpers as ph"
   ]
  },
  {
   "attachments": {},
   "cell_type": "markdown",
   "metadata": {},
   "source": [
    "### Pipeline to evaluate the default hyperparameters on the test set\n",
    "- Update pool price one at a time."
   ]
  },
  {
   "cell_type": "code",
   "execution_count": 4,
   "metadata": {},
   "outputs": [],
   "source": [
    "X_train = pd.read_csv(\n",
    "    \"https://raw.githubusercontent.com/slalom-ubc-mds/Power-Price-Prediction/main/data/processed/train/X_train.csv\",\n",
    "    parse_dates=[\"date\"],\n",
    "    index_col=\"date\",\n",
    ")\n",
    "\n",
    "y_train = pd.read_csv(\n",
    "    \"https://raw.githubusercontent.com/slalom-ubc-mds/Power-Price-Prediction/main/data/processed/train/y_train.csv\",\n",
    "    parse_dates=[\"date\"],\n",
    "    index_col=\"date\",\n",
    ")\n",
    "\n",
    "X_train = X_train.sort_values(by=\"date\")\n",
    "X_train = X_train.asfreq(\"H\")\n",
    "y_train = y_train.sort_values(by=\"date\")\n",
    "y_train = y_train.asfreq(\"H\")"
   ]
  },
  {
   "cell_type": "code",
   "execution_count": 5,
   "metadata": {},
   "outputs": [],
   "source": [
    "X_test = pd.read_csv(\n",
    "    \"https://raw.githubusercontent.com/slalom-ubc-mds/Power-Price-Prediction/main/data/processed/test/X_test.csv\",\n",
    "    parse_dates=[\"date\"],\n",
    "    index_col=\"date\",\n",
    ")\n",
    "\n",
    "y_test = pd.read_csv(\n",
    "    \"https://raw.githubusercontent.com/slalom-ubc-mds/Power-Price-Prediction/main/data/processed/test/y_test.csv\",\n",
    "    parse_dates=[\"date\"],\n",
    "    index_col=\"date\",\n",
    ")\n",
    "\n",
    "X_test = X_test.sort_values(by=\"date\")\n",
    "X_test = X_test.asfreq(\"H\")\n",
    "y_test = y_test.sort_values(by=\"date\")\n",
    "y_test = y_test.asfreq(\"H\")"
   ]
  },
  {
   "cell_type": "code",
   "execution_count": 6,
   "metadata": {},
   "outputs": [],
   "source": [
    "X_test = X_test[:\"2023-02-03\"]\n",
    "y_test = y_test[:\"2023-02-03\"]"
   ]
  },
  {
   "cell_type": "code",
   "execution_count": 7,
   "metadata": {},
   "outputs": [],
   "source": [
    "lgbm_pipeline = ph.initialize_default_lgbm_forecaster(n_estimators=1)\n",
    "fh = ForecastingHorizon(np.arange(1, 12 + 1))"
   ]
  },
  {
   "cell_type": "code",
   "execution_count": 8,
   "metadata": {},
   "outputs": [],
   "source": [
    "forecast_len = 12\n",
    "step_length = 1"
   ]
  },
  {
   "cell_type": "code",
   "execution_count": 9,
   "metadata": {},
   "outputs": [
    {
     "data": {
      "text/html": [
       "<style>#sk-9484b2ac-151f-4097-9ef4-e946dbc1e479 {color: black;background-color: white;}#sk-9484b2ac-151f-4097-9ef4-e946dbc1e479 pre{padding: 0;}#sk-9484b2ac-151f-4097-9ef4-e946dbc1e479 div.sk-toggleable {background-color: white;}#sk-9484b2ac-151f-4097-9ef4-e946dbc1e479 label.sk-toggleable__label {cursor: pointer;display: block;width: 100%;margin-bottom: 0;padding: 0.3em;box-sizing: border-box;text-align: center;}#sk-9484b2ac-151f-4097-9ef4-e946dbc1e479 label.sk-toggleable__label-arrow:before {content: \"▸\";float: left;margin-right: 0.25em;color: #696969;}#sk-9484b2ac-151f-4097-9ef4-e946dbc1e479 label.sk-toggleable__label-arrow:hover:before {color: black;}#sk-9484b2ac-151f-4097-9ef4-e946dbc1e479 div.sk-estimator:hover label.sk-toggleable__label-arrow:before {color: black;}#sk-9484b2ac-151f-4097-9ef4-e946dbc1e479 div.sk-toggleable__content {max-height: 0;max-width: 0;overflow: hidden;text-align: left;background-color: #f0f8ff;}#sk-9484b2ac-151f-4097-9ef4-e946dbc1e479 div.sk-toggleable__content pre {margin: 0.2em;color: black;border-radius: 0.25em;background-color: #f0f8ff;}#sk-9484b2ac-151f-4097-9ef4-e946dbc1e479 input.sk-toggleable__control:checked~div.sk-toggleable__content {max-height: 200px;max-width: 100%;overflow: auto;}#sk-9484b2ac-151f-4097-9ef4-e946dbc1e479 input.sk-toggleable__control:checked~label.sk-toggleable__label-arrow:before {content: \"▾\";}#sk-9484b2ac-151f-4097-9ef4-e946dbc1e479 div.sk-estimator input.sk-toggleable__control:checked~label.sk-toggleable__label {background-color: #d4ebff;}#sk-9484b2ac-151f-4097-9ef4-e946dbc1e479 div.sk-label input.sk-toggleable__control:checked~label.sk-toggleable__label {background-color: #d4ebff;}#sk-9484b2ac-151f-4097-9ef4-e946dbc1e479 input.sk-hidden--visually {border: 0;clip: rect(1px 1px 1px 1px);clip: rect(1px, 1px, 1px, 1px);height: 1px;margin: -1px;overflow: hidden;padding: 0;position: absolute;width: 1px;}#sk-9484b2ac-151f-4097-9ef4-e946dbc1e479 div.sk-estimator {font-family: monospace;background-color: #f0f8ff;border: 1px dotted black;border-radius: 0.25em;box-sizing: border-box;margin-bottom: 0.5em;}#sk-9484b2ac-151f-4097-9ef4-e946dbc1e479 div.sk-estimator:hover {background-color: #d4ebff;}#sk-9484b2ac-151f-4097-9ef4-e946dbc1e479 div.sk-parallel-item::after {content: \"\";width: 100%;border-bottom: 1px solid gray;flex-grow: 1;}#sk-9484b2ac-151f-4097-9ef4-e946dbc1e479 div.sk-label:hover label.sk-toggleable__label {background-color: #d4ebff;}#sk-9484b2ac-151f-4097-9ef4-e946dbc1e479 div.sk-serial::before {content: \"\";position: absolute;border-left: 1px solid gray;box-sizing: border-box;top: 2em;bottom: 0;left: 50%;}#sk-9484b2ac-151f-4097-9ef4-e946dbc1e479 div.sk-serial {display: flex;flex-direction: column;align-items: center;background-color: white;padding-right: 0.2em;padding-left: 0.2em;}#sk-9484b2ac-151f-4097-9ef4-e946dbc1e479 div.sk-item {z-index: 1;}#sk-9484b2ac-151f-4097-9ef4-e946dbc1e479 div.sk-parallel {display: flex;align-items: stretch;justify-content: center;background-color: white;}#sk-9484b2ac-151f-4097-9ef4-e946dbc1e479 div.sk-parallel::before {content: \"\";position: absolute;border-left: 1px solid gray;box-sizing: border-box;top: 2em;bottom: 0;left: 50%;}#sk-9484b2ac-151f-4097-9ef4-e946dbc1e479 div.sk-parallel-item {display: flex;flex-direction: column;position: relative;background-color: white;}#sk-9484b2ac-151f-4097-9ef4-e946dbc1e479 div.sk-parallel-item:first-child::after {align-self: flex-end;width: 50%;}#sk-9484b2ac-151f-4097-9ef4-e946dbc1e479 div.sk-parallel-item:last-child::after {align-self: flex-start;width: 50%;}#sk-9484b2ac-151f-4097-9ef4-e946dbc1e479 div.sk-parallel-item:only-child::after {width: 0;}#sk-9484b2ac-151f-4097-9ef4-e946dbc1e479 div.sk-dashed-wrapped {border: 1px dashed gray;margin: 0 0.4em 0.5em 0.4em;box-sizing: border-box;padding-bottom: 0.4em;background-color: white;position: relative;}#sk-9484b2ac-151f-4097-9ef4-e946dbc1e479 div.sk-label label {font-family: monospace;font-weight: bold;background-color: white;display: inline-block;line-height: 1.2em;}#sk-9484b2ac-151f-4097-9ef4-e946dbc1e479 div.sk-label-container {position: relative;z-index: 2;text-align: center;}#sk-9484b2ac-151f-4097-9ef4-e946dbc1e479 div.sk-container {/* jupyter's `normalize.less` sets `[hidden] { display: none; }` but bootstrap.min.css set `[hidden] { display: none !important; }` so we also need the `!important` here to be able to override the default hidden behavior on the sphinx rendered scikit-learn.org. See: https://github.com/scikit-learn/scikit-learn/issues/21755 */display: inline-block !important;position: relative;}#sk-9484b2ac-151f-4097-9ef4-e946dbc1e479 div.sk-text-repr-fallback {display: none;}</style><div id='sk-9484b2ac-151f-4097-9ef4-e946dbc1e479' class=\"sk-top-container\"><div class=\"sk-text-repr-fallback\"><pre>ForecastingPipeline(steps=[(&#x27;forecaster&#x27;,\n",
       "                            TransformedTargetForecaster(steps=[(&#x27;forecast&#x27;,\n",
       "                                                                DirectTabularRegressionForecaster(estimator=LGBMRegressor(device=&#x27;gpu&#x27;, n_estimators=1),\n",
       "                                                                                                  window_length=24))]))])</pre><b>Please rerun this cell to show the HTML repr or trust the notebook.</b></div><div class=\"sk-container\" hidden><div class=\"sk-item sk-dashed-wrapped\"><div class='sk-label-container'><div class=\"sk-label sk-toggleable\"><input class=\"sk-toggleable__control sk-hidden--visually\" id=UUID('9e6a027c-fef6-4907-99f6-2bcea7ab4e23') type=\"checkbox\" ><label for=UUID('9e6a027c-fef6-4907-99f6-2bcea7ab4e23') class='sk-toggleable__label sk-toggleable__label-arrow'>ForecastingPipeline</label><div class=\"sk-toggleable__content\"><pre>ForecastingPipeline(steps=[(&#x27;forecaster&#x27;,\n",
       "                            TransformedTargetForecaster(steps=[(&#x27;forecast&#x27;,\n",
       "                                                                DirectTabularRegressionForecaster(estimator=LGBMRegressor(device=&#x27;gpu&#x27;, n_estimators=1),\n",
       "                                                                                                  window_length=24))]))])</pre></div></div></div><div class=\"sk-parallel\"><div class=\"sk-parallel-item\"><div class=\"sk-item\"><div class=\"sk-serial\"><div class=\"sk-item sk-dashed-wrapped\"><div class=\"sk-parallel\"><div class=\"sk-parallel-item\"><div class=\"sk-item\"><div class=\"sk-serial\"><div class=\"sk-item sk-dashed-wrapped\"><div class=\"sk-parallel\"><div class=\"sk-parallel-item\"><div class=\"sk-item\"><div class=\"sk-serial\"><div class='sk-item'><div class=\"sk-estimator sk-toggleable\"><input class=\"sk-toggleable__control sk-hidden--visually\" id=UUID('701d2c2d-a30b-4631-852e-43040fc9080d') type=\"checkbox\" ><label for=UUID('701d2c2d-a30b-4631-852e-43040fc9080d') class='sk-toggleable__label sk-toggleable__label-arrow'>LGBMRegressor</label><div class=\"sk-toggleable__content\"><pre>LGBMRegressor(device=&#x27;gpu&#x27;, n_estimators=1)</pre></div></div></div></div></div></div></div></div></div></div></div></div></div></div></div></div></div></div></div></div>"
      ],
      "text/plain": [
       "ForecastingPipeline(steps=[('forecaster',\n",
       "                            TransformedTargetForecaster(steps=[('forecast',\n",
       "                                                                DirectTabularRegressionForecaster(estimator=LGBMRegressor(device='gpu', n_estimators=1),\n",
       "                                                                                                  window_length=24))]))])"
      ]
     },
     "execution_count": 9,
     "metadata": {},
     "output_type": "execute_result"
    }
   ],
   "source": [
    "lgbm_pipeline.fit(y=y_train, X=X_train, fh=fh)"
   ]
  },
  {
   "cell_type": "code",
   "execution_count": 10,
   "metadata": {},
   "outputs": [],
   "source": [
    "rolling_prediction_df = ph.get_rolling_predictions(lgbm_pipeline, X_train, X_test, y_test, fh, 1, forecast_len, verbose=False)"
   ]
  },
  {
   "cell_type": "code",
   "execution_count": 11,
   "metadata": {},
   "outputs": [],
   "source": [
    "fold_actuals, fold_predictions_list, rmse_list = ph.get_fold_predictions(rolling_prediction_df, y_test)"
   ]
  },
  {
   "cell_type": "code",
   "execution_count": 12,
   "metadata": {},
   "outputs": [
    {
     "name": "stdout",
     "output_type": "stream",
     "text": [
      "Average RMSE for each fold: 87.36114874604462\n"
     ]
    }
   ],
   "source": [
    "# Print Average RMSE of all folds\n",
    "print(f\"Average RMSE for each fold: {np.mean(rmse_list)}\")"
   ]
  },
  {
   "cell_type": "code",
   "execution_count": 13,
   "metadata": {},
   "outputs": [],
   "source": [
    "predictions = ph.generate_step_predictions(rolling_prediction_df, y_test, forecast_len)"
   ]
  },
  {
   "cell_type": "code",
   "execution_count": 14,
   "metadata": {},
   "outputs": [],
   "source": [
    "actuals, rmses = ph.generate_step_errors(predictions, y_test, forecast_len)"
   ]
  },
  {
   "cell_type": "code",
   "execution_count": 15,
   "metadata": {},
   "outputs": [
    {
     "name": "stdout",
     "output_type": "stream",
     "text": [
      "1 Step RMSE for model: 87.86196660240233\n",
      "2 Step RMSE for model: 89.52852235578926\n",
      "3 Step RMSE for model: 92.60853322990205\n",
      "4 Step RMSE for model: 92.53822239134469\n",
      "5 Step RMSE for model: 92.99105893164197\n",
      "6 Step RMSE for model: 92.54250318557827\n",
      "7 Step RMSE for model: 93.46687159125872\n",
      "8 Step RMSE for model: 93.10866155638999\n",
      "9 Step RMSE for model: 93.78179953416338\n",
      "10 Step RMSE for model: 95.50674211186083\n",
      "11 Step RMSE for model: 97.41722847570227\n",
      "12 Step RMSE for model: 97.13119600447668\n"
     ]
    }
   ],
   "source": [
    "# print rmse for each step\n",
    "for step, rmse in zip(range(1, forecast_len + 1), rmses):\n",
    "    print(f\"{step} Step RMSE for model: {rmse}\")"
   ]
  },
  {
   "cell_type": "code",
   "execution_count": 16,
   "metadata": {},
   "outputs": [],
   "source": [
    "y_hist = pd.read_csv(\n",
    "    \"https://raw.githubusercontent.com/slalom-ubc-mds/Power-Price-Prediction/main/data/processed/filtered_target_medium.csv\",\n",
    "    parse_dates=[\"date\"],\n",
    "    index_col=\"date\",\n",
    ")\n",
    "\n",
    "y_hist = y_hist.sort_values(by=\"date\")\n",
    "y_hist = y_hist.asfreq(\"H\")"
   ]
  },
  {
   "cell_type": "code",
   "execution_count": 17,
   "metadata": {},
   "outputs": [],
   "source": [
    "ddf = ph.get_plotting_df(fold_actuals=fold_actuals, fold_predictions_list=fold_predictions_list, y_hist=y_hist)"
   ]
  },
  {
   "cell_type": "code",
   "execution_count": 18,
   "metadata": {},
   "outputs": [
    {
     "data": {
      "application/vnd.plotly.v1+json": {
       "config": {
        "plotlyServerURL": "https://plot.ly"
       },
       "data": [
        {
         "hovertemplate": "variable=HistoricalPrice<br>timestep=0<br>periodstep=%{x}<br>value=%{y}<extra></extra>",
         "legendgroup": "HistoricalPrice",
         "line": {
          "color": "#636efa",
          "dash": "solid"
         },
         "marker": {
          "symbol": "circle"
         },
         "mode": "lines",
         "name": "HistoricalPrice",
         "orientation": "v",
         "showlegend": true,
         "type": "scatter",
         "x": [
          1,
          2,
          3,
          4,
          5,
          6,
          7,
          8,
          9,
          10,
          11,
          12,
          13,
          14,
          15,
          16,
          17,
          18,
          19,
          20,
          21,
          22,
          23,
          24
         ],
         "xaxis": "x",
         "y": [
          59.91,
          64.2,
          64.15,
          67.2,
          67.58,
          293.09,
          186.2,
          75,
          106.58,
          67.44,
          66.31,
          83.71,
          null,
          null,
          null,
          null,
          null,
          null,
          null,
          null,
          null,
          null,
          null,
          null
         ],
         "yaxis": "y"
        },
        {
         "hovertemplate": "variable=FuturePrice<br>timestep=0<br>periodstep=%{x}<br>value=%{y}<extra></extra>",
         "legendgroup": "FuturePrice",
         "line": {
          "color": "#EF553B",
          "dash": "solid"
         },
         "marker": {
          "symbol": "circle"
         },
         "mode": "lines",
         "name": "FuturePrice",
         "orientation": "v",
         "showlegend": true,
         "type": "scatter",
         "x": [
          1,
          2,
          3,
          4,
          5,
          6,
          7,
          8,
          9,
          10,
          11,
          12,
          13,
          14,
          15,
          16,
          17,
          18,
          19,
          20,
          21,
          22,
          23,
          24
         ],
         "xaxis": "x",
         "y": [
          null,
          null,
          null,
          null,
          null,
          null,
          null,
          null,
          null,
          null,
          null,
          null,
          65.51,
          57.34,
          55.57,
          56.42,
          59.36,
          60.26,
          55.97,
          60.71,
          60.15,
          57.11,
          58.05,
          61.79
         ],
         "yaxis": "y"
        },
        {
         "hovertemplate": "variable=Predicted<br>timestep=0<br>periodstep=%{x}<br>value=%{y}<extra></extra>",
         "legendgroup": "Predicted",
         "line": {
          "color": "#00cc96",
          "dash": "solid"
         },
         "marker": {
          "symbol": "circle"
         },
         "mode": "lines",
         "name": "Predicted",
         "orientation": "v",
         "showlegend": true,
         "type": "scatter",
         "x": [
          1,
          2,
          3,
          4,
          5,
          6,
          7,
          8,
          9,
          10,
          11,
          12,
          13,
          14,
          15,
          16,
          17,
          18,
          19,
          20,
          21,
          22,
          23,
          24
         ],
         "xaxis": "x",
         "y": [
          null,
          null,
          null,
          null,
          null,
          null,
          null,
          null,
          null,
          null,
          null,
          null,
          127.57724290974929,
          128.1012345218249,
          127.78766574965053,
          124.6099716036553,
          124.5422109386208,
          125.23643597662678,
          130.30493415853798,
          130.04199844745955,
          130.3072333301011,
          130.53717966753948,
          130.4918509178089,
          129.0015861065635
         ],
         "yaxis": "y"
        }
       ],
       "frames": [
        {
         "data": [
          {
           "hovertemplate": "variable=HistoricalPrice<br>timestep=0<br>periodstep=%{x}<br>value=%{y}<extra></extra>",
           "legendgroup": "HistoricalPrice",
           "line": {
            "color": "#636efa",
            "dash": "solid"
           },
           "marker": {
            "symbol": "circle"
           },
           "mode": "lines",
           "name": "HistoricalPrice",
           "orientation": "v",
           "showlegend": true,
           "type": "scatter",
           "x": [
            1,
            2,
            3,
            4,
            5,
            6,
            7,
            8,
            9,
            10,
            11,
            12,
            13,
            14,
            15,
            16,
            17,
            18,
            19,
            20,
            21,
            22,
            23,
            24
           ],
           "xaxis": "x",
           "y": [
            59.91,
            64.2,
            64.15,
            67.2,
            67.58,
            293.09,
            186.2,
            75,
            106.58,
            67.44,
            66.31,
            83.71,
            null,
            null,
            null,
            null,
            null,
            null,
            null,
            null,
            null,
            null,
            null,
            null
           ],
           "yaxis": "y"
          },
          {
           "hovertemplate": "variable=FuturePrice<br>timestep=0<br>periodstep=%{x}<br>value=%{y}<extra></extra>",
           "legendgroup": "FuturePrice",
           "line": {
            "color": "#EF553B",
            "dash": "solid"
           },
           "marker": {
            "symbol": "circle"
           },
           "mode": "lines",
           "name": "FuturePrice",
           "orientation": "v",
           "showlegend": true,
           "type": "scatter",
           "x": [
            1,
            2,
            3,
            4,
            5,
            6,
            7,
            8,
            9,
            10,
            11,
            12,
            13,
            14,
            15,
            16,
            17,
            18,
            19,
            20,
            21,
            22,
            23,
            24
           ],
           "xaxis": "x",
           "y": [
            null,
            null,
            null,
            null,
            null,
            null,
            null,
            null,
            null,
            null,
            null,
            null,
            65.51,
            57.34,
            55.57,
            56.42,
            59.36,
            60.26,
            55.97,
            60.71,
            60.15,
            57.11,
            58.05,
            61.79
           ],
           "yaxis": "y"
          },
          {
           "hovertemplate": "variable=Predicted<br>timestep=0<br>periodstep=%{x}<br>value=%{y}<extra></extra>",
           "legendgroup": "Predicted",
           "line": {
            "color": "#00cc96",
            "dash": "solid"
           },
           "marker": {
            "symbol": "circle"
           },
           "mode": "lines",
           "name": "Predicted",
           "orientation": "v",
           "showlegend": true,
           "type": "scatter",
           "x": [
            1,
            2,
            3,
            4,
            5,
            6,
            7,
            8,
            9,
            10,
            11,
            12,
            13,
            14,
            15,
            16,
            17,
            18,
            19,
            20,
            21,
            22,
            23,
            24
           ],
           "xaxis": "x",
           "y": [
            null,
            null,
            null,
            null,
            null,
            null,
            null,
            null,
            null,
            null,
            null,
            null,
            127.57724290974929,
            128.1012345218249,
            127.78766574965053,
            124.6099716036553,
            124.5422109386208,
            125.23643597662678,
            130.30493415853798,
            130.04199844745955,
            130.3072333301011,
            130.53717966753948,
            130.4918509178089,
            129.0015861065635
           ],
           "yaxis": "y"
          }
         ],
         "name": "0"
        },
        {
         "data": [
          {
           "hovertemplate": "variable=HistoricalPrice<br>timestep=1<br>periodstep=%{x}<br>value=%{y}<extra></extra>",
           "legendgroup": "HistoricalPrice",
           "line": {
            "color": "#636efa",
            "dash": "solid"
           },
           "marker": {
            "symbol": "circle"
           },
           "mode": "lines",
           "name": "HistoricalPrice",
           "orientation": "v",
           "showlegend": true,
           "type": "scatter",
           "x": [
            1,
            2,
            3,
            4,
            5,
            6,
            7,
            8,
            9,
            10,
            11,
            12,
            13,
            14,
            15,
            16,
            17,
            18,
            19,
            20,
            21,
            22,
            23,
            24
           ],
           "xaxis": "x",
           "y": [
            64.2,
            64.15,
            67.2,
            67.58,
            293.09,
            186.2,
            75,
            106.58,
            67.44,
            66.31,
            83.71,
            65.51,
            null,
            null,
            null,
            null,
            null,
            null,
            null,
            null,
            null,
            null,
            null,
            null
           ],
           "yaxis": "y"
          },
          {
           "hovertemplate": "variable=FuturePrice<br>timestep=1<br>periodstep=%{x}<br>value=%{y}<extra></extra>",
           "legendgroup": "FuturePrice",
           "line": {
            "color": "#EF553B",
            "dash": "solid"
           },
           "marker": {
            "symbol": "circle"
           },
           "mode": "lines",
           "name": "FuturePrice",
           "orientation": "v",
           "showlegend": true,
           "type": "scatter",
           "x": [
            1,
            2,
            3,
            4,
            5,
            6,
            7,
            8,
            9,
            10,
            11,
            12,
            13,
            14,
            15,
            16,
            17,
            18,
            19,
            20,
            21,
            22,
            23,
            24
           ],
           "xaxis": "x",
           "y": [
            null,
            null,
            null,
            null,
            null,
            null,
            null,
            null,
            null,
            null,
            null,
            null,
            57.34,
            55.57,
            56.42,
            59.36,
            60.26,
            55.97,
            60.71,
            60.15,
            57.11,
            58.05,
            61.79,
            61.89
           ],
           "yaxis": "y"
          },
          {
           "hovertemplate": "variable=Predicted<br>timestep=1<br>periodstep=%{x}<br>value=%{y}<extra></extra>",
           "legendgroup": "Predicted",
           "line": {
            "color": "#00cc96",
            "dash": "solid"
           },
           "marker": {
            "symbol": "circle"
           },
           "mode": "lines",
           "name": "Predicted",
           "orientation": "v",
           "showlegend": true,
           "type": "scatter",
           "x": [
            1,
            2,
            3,
            4,
            5,
            6,
            7,
            8,
            9,
            10,
            11,
            12,
            13,
            14,
            15,
            16,
            17,
            18,
            19,
            20,
            21,
            22,
            23,
            24
           ],
           "xaxis": "x",
           "y": [
            null,
            null,
            null,
            null,
            null,
            null,
            null,
            null,
            null,
            null,
            null,
            null,
            125.42139459950675,
            128.1012345218249,
            127.78766574965053,
            124.6099716036553,
            124.5422109386208,
            127.85657068918573,
            130.30493415853798,
            130.04199844745955,
            130.3072333301011,
            130.53717966753948,
            130.4918509178089,
            129.0015861065635
           ],
           "yaxis": "y"
          }
         ],
         "name": "1"
        },
        {
         "data": [
          {
           "hovertemplate": "variable=HistoricalPrice<br>timestep=2<br>periodstep=%{x}<br>value=%{y}<extra></extra>",
           "legendgroup": "HistoricalPrice",
           "line": {
            "color": "#636efa",
            "dash": "solid"
           },
           "marker": {
            "symbol": "circle"
           },
           "mode": "lines",
           "name": "HistoricalPrice",
           "orientation": "v",
           "showlegend": true,
           "type": "scatter",
           "x": [
            1,
            2,
            3,
            4,
            5,
            6,
            7,
            8,
            9,
            10,
            11,
            12,
            13,
            14,
            15,
            16,
            17,
            18,
            19,
            20,
            21,
            22,
            23,
            24
           ],
           "xaxis": "x",
           "y": [
            64.15,
            67.2,
            67.58,
            293.09,
            186.2,
            75,
            106.58,
            67.44,
            66.31,
            83.71,
            65.51,
            57.34,
            null,
            null,
            null,
            null,
            null,
            null,
            null,
            null,
            null,
            null,
            null,
            null
           ],
           "yaxis": "y"
          },
          {
           "hovertemplate": "variable=FuturePrice<br>timestep=2<br>periodstep=%{x}<br>value=%{y}<extra></extra>",
           "legendgroup": "FuturePrice",
           "line": {
            "color": "#EF553B",
            "dash": "solid"
           },
           "marker": {
            "symbol": "circle"
           },
           "mode": "lines",
           "name": "FuturePrice",
           "orientation": "v",
           "showlegend": true,
           "type": "scatter",
           "x": [
            1,
            2,
            3,
            4,
            5,
            6,
            7,
            8,
            9,
            10,
            11,
            12,
            13,
            14,
            15,
            16,
            17,
            18,
            19,
            20,
            21,
            22,
            23,
            24
           ],
           "xaxis": "x",
           "y": [
            null,
            null,
            null,
            null,
            null,
            null,
            null,
            null,
            null,
            null,
            null,
            null,
            55.57,
            56.42,
            59.36,
            60.26,
            55.97,
            60.71,
            60.15,
            57.11,
            58.05,
            61.79,
            61.89,
            59.01
           ],
           "yaxis": "y"
          },
          {
           "hovertemplate": "variable=Predicted<br>timestep=2<br>periodstep=%{x}<br>value=%{y}<extra></extra>",
           "legendgroup": "Predicted",
           "line": {
            "color": "#00cc96",
            "dash": "solid"
           },
           "marker": {
            "symbol": "circle"
           },
           "mode": "lines",
           "name": "Predicted",
           "orientation": "v",
           "showlegend": true,
           "type": "scatter",
           "x": [
            1,
            2,
            3,
            4,
            5,
            6,
            7,
            8,
            9,
            10,
            11,
            12,
            13,
            14,
            15,
            16,
            17,
            18,
            19,
            20,
            21,
            22,
            23,
            24
           ],
           "xaxis": "x",
           "y": [
            null,
            null,
            null,
            null,
            null,
            null,
            null,
            null,
            null,
            null,
            null,
            null,
            125.42139459950675,
            124.56045664843059,
            127.78766574965053,
            124.6099716036553,
            130.04748944647804,
            127.85657068918573,
            130.30493415853798,
            130.04199844745955,
            130.3072333301011,
            130.53717966753948,
            130.4918509178089,
            129.0015861065635
           ],
           "yaxis": "y"
          }
         ],
         "name": "2"
        },
        {
         "data": [
          {
           "hovertemplate": "variable=HistoricalPrice<br>timestep=3<br>periodstep=%{x}<br>value=%{y}<extra></extra>",
           "legendgroup": "HistoricalPrice",
           "line": {
            "color": "#636efa",
            "dash": "solid"
           },
           "marker": {
            "symbol": "circle"
           },
           "mode": "lines",
           "name": "HistoricalPrice",
           "orientation": "v",
           "showlegend": true,
           "type": "scatter",
           "x": [
            1,
            2,
            3,
            4,
            5,
            6,
            7,
            8,
            9,
            10,
            11,
            12,
            13,
            14,
            15,
            16,
            17,
            18,
            19,
            20,
            21,
            22,
            23,
            24
           ],
           "xaxis": "x",
           "y": [
            67.2,
            67.58,
            293.09,
            186.2,
            75,
            106.58,
            67.44,
            66.31,
            83.71,
            65.51,
            57.34,
            55.57,
            null,
            null,
            null,
            null,
            null,
            null,
            null,
            null,
            null,
            null,
            null,
            null
           ],
           "yaxis": "y"
          },
          {
           "hovertemplate": "variable=FuturePrice<br>timestep=3<br>periodstep=%{x}<br>value=%{y}<extra></extra>",
           "legendgroup": "FuturePrice",
           "line": {
            "color": "#EF553B",
            "dash": "solid"
           },
           "marker": {
            "symbol": "circle"
           },
           "mode": "lines",
           "name": "FuturePrice",
           "orientation": "v",
           "showlegend": true,
           "type": "scatter",
           "x": [
            1,
            2,
            3,
            4,
            5,
            6,
            7,
            8,
            9,
            10,
            11,
            12,
            13,
            14,
            15,
            16,
            17,
            18,
            19,
            20,
            21,
            22,
            23,
            24
           ],
           "xaxis": "x",
           "y": [
            null,
            null,
            null,
            null,
            null,
            null,
            null,
            null,
            null,
            null,
            null,
            null,
            56.42,
            59.36,
            60.26,
            55.97,
            60.71,
            60.15,
            57.11,
            58.05,
            61.79,
            61.89,
            59.01,
            48.92
           ],
           "yaxis": "y"
          },
          {
           "hovertemplate": "variable=Predicted<br>timestep=3<br>periodstep=%{x}<br>value=%{y}<extra></extra>",
           "legendgroup": "Predicted",
           "line": {
            "color": "#00cc96",
            "dash": "solid"
           },
           "marker": {
            "symbol": "circle"
           },
           "mode": "lines",
           "name": "Predicted",
           "orientation": "v",
           "showlegend": true,
           "type": "scatter",
           "x": [
            1,
            2,
            3,
            4,
            5,
            6,
            7,
            8,
            9,
            10,
            11,
            12,
            13,
            14,
            15,
            16,
            17,
            18,
            19,
            20,
            21,
            22,
            23,
            24
           ],
           "xaxis": "x",
           "y": [
            null,
            null,
            null,
            null,
            null,
            null,
            null,
            null,
            null,
            null,
            null,
            null,
            125.42139459950675,
            124.56045664843059,
            124.9165409601146,
            130.13827599652325,
            130.04748944647804,
            127.85657068918573,
            130.30493415853798,
            130.04199844745955,
            130.3072333301011,
            130.53717966753948,
            130.4918509178089,
            129.0015861065635
           ],
           "yaxis": "y"
          }
         ],
         "name": "3"
        },
        {
         "data": [
          {
           "hovertemplate": "variable=HistoricalPrice<br>timestep=4<br>periodstep=%{x}<br>value=%{y}<extra></extra>",
           "legendgroup": "HistoricalPrice",
           "line": {
            "color": "#636efa",
            "dash": "solid"
           },
           "marker": {
            "symbol": "circle"
           },
           "mode": "lines",
           "name": "HistoricalPrice",
           "orientation": "v",
           "showlegend": true,
           "type": "scatter",
           "x": [
            1,
            2,
            3,
            4,
            5,
            6,
            7,
            8,
            9,
            10,
            11,
            12,
            13,
            14,
            15,
            16,
            17,
            18,
            19,
            20,
            21,
            22,
            23,
            24
           ],
           "xaxis": "x",
           "y": [
            67.58,
            293.09,
            186.2,
            75,
            106.58,
            67.44,
            66.31,
            83.71,
            65.51,
            57.34,
            55.57,
            56.42,
            null,
            null,
            null,
            null,
            null,
            null,
            null,
            null,
            null,
            null,
            null,
            null
           ],
           "yaxis": "y"
          },
          {
           "hovertemplate": "variable=FuturePrice<br>timestep=4<br>periodstep=%{x}<br>value=%{y}<extra></extra>",
           "legendgroup": "FuturePrice",
           "line": {
            "color": "#EF553B",
            "dash": "solid"
           },
           "marker": {
            "symbol": "circle"
           },
           "mode": "lines",
           "name": "FuturePrice",
           "orientation": "v",
           "showlegend": true,
           "type": "scatter",
           "x": [
            1,
            2,
            3,
            4,
            5,
            6,
            7,
            8,
            9,
            10,
            11,
            12,
            13,
            14,
            15,
            16,
            17,
            18,
            19,
            20,
            21,
            22,
            23,
            24
           ],
           "xaxis": "x",
           "y": [
            null,
            null,
            null,
            null,
            null,
            null,
            null,
            null,
            null,
            null,
            null,
            null,
            59.36,
            60.26,
            55.97,
            60.71,
            60.15,
            57.11,
            58.05,
            61.79,
            61.89,
            59.01,
            48.92,
            55.19
           ],
           "yaxis": "y"
          },
          {
           "hovertemplate": "variable=Predicted<br>timestep=4<br>periodstep=%{x}<br>value=%{y}<extra></extra>",
           "legendgroup": "Predicted",
           "line": {
            "color": "#00cc96",
            "dash": "solid"
           },
           "marker": {
            "symbol": "circle"
           },
           "mode": "lines",
           "name": "Predicted",
           "orientation": "v",
           "showlegend": true,
           "type": "scatter",
           "x": [
            1,
            2,
            3,
            4,
            5,
            6,
            7,
            8,
            9,
            10,
            11,
            12,
            13,
            14,
            15,
            16,
            17,
            18,
            19,
            20,
            21,
            22,
            23,
            24
           ],
           "xaxis": "x",
           "y": [
            null,
            null,
            null,
            null,
            null,
            null,
            null,
            null,
            null,
            null,
            null,
            null,
            125.42139459950675,
            124.56045664843059,
            124.9165409601146,
            130.13827599652325,
            130.04748944647804,
            127.85657068918573,
            130.30493415853798,
            130.04199844745955,
            130.3072333301011,
            130.53717966753948,
            130.4918509178089,
            129.0015861065635
           ],
           "yaxis": "y"
          }
         ],
         "name": "4"
        },
        {
         "data": [
          {
           "hovertemplate": "variable=HistoricalPrice<br>timestep=5<br>periodstep=%{x}<br>value=%{y}<extra></extra>",
           "legendgroup": "HistoricalPrice",
           "line": {
            "color": "#636efa",
            "dash": "solid"
           },
           "marker": {
            "symbol": "circle"
           },
           "mode": "lines",
           "name": "HistoricalPrice",
           "orientation": "v",
           "showlegend": true,
           "type": "scatter",
           "x": [
            1,
            2,
            3,
            4,
            5,
            6,
            7,
            8,
            9,
            10,
            11,
            12,
            13,
            14,
            15,
            16,
            17,
            18,
            19,
            20,
            21,
            22,
            23,
            24
           ],
           "xaxis": "x",
           "y": [
            293.09,
            186.2,
            75,
            106.58,
            67.44,
            66.31,
            83.71,
            65.51,
            57.34,
            55.57,
            56.42,
            59.36,
            null,
            null,
            null,
            null,
            null,
            null,
            null,
            null,
            null,
            null,
            null,
            null
           ],
           "yaxis": "y"
          },
          {
           "hovertemplate": "variable=FuturePrice<br>timestep=5<br>periodstep=%{x}<br>value=%{y}<extra></extra>",
           "legendgroup": "FuturePrice",
           "line": {
            "color": "#EF553B",
            "dash": "solid"
           },
           "marker": {
            "symbol": "circle"
           },
           "mode": "lines",
           "name": "FuturePrice",
           "orientation": "v",
           "showlegend": true,
           "type": "scatter",
           "x": [
            1,
            2,
            3,
            4,
            5,
            6,
            7,
            8,
            9,
            10,
            11,
            12,
            13,
            14,
            15,
            16,
            17,
            18,
            19,
            20,
            21,
            22,
            23,
            24
           ],
           "xaxis": "x",
           "y": [
            null,
            null,
            null,
            null,
            null,
            null,
            null,
            null,
            null,
            null,
            null,
            null,
            60.26,
            55.97,
            60.71,
            60.15,
            57.11,
            58.05,
            61.79,
            61.89,
            59.01,
            48.92,
            55.19,
            68.53
           ],
           "yaxis": "y"
          },
          {
           "hovertemplate": "variable=Predicted<br>timestep=5<br>periodstep=%{x}<br>value=%{y}<extra></extra>",
           "legendgroup": "Predicted",
           "line": {
            "color": "#00cc96",
            "dash": "solid"
           },
           "marker": {
            "symbol": "circle"
           },
           "mode": "lines",
           "name": "Predicted",
           "orientation": "v",
           "showlegend": true,
           "type": "scatter",
           "x": [
            1,
            2,
            3,
            4,
            5,
            6,
            7,
            8,
            9,
            10,
            11,
            12,
            13,
            14,
            15,
            16,
            17,
            18,
            19,
            20,
            21,
            22,
            23,
            24
           ],
           "xaxis": "x",
           "y": [
            null,
            null,
            null,
            null,
            null,
            null,
            null,
            null,
            null,
            null,
            null,
            null,
            125.42139459950675,
            124.56045664843059,
            127.78766574965053,
            130.13827599652325,
            130.04748944647804,
            127.85657068918573,
            130.30493415853798,
            130.04199844745955,
            130.3072333301011,
            130.53717966753948,
            130.4918509178089,
            136.27513923516977
           ],
           "yaxis": "y"
          }
         ],
         "name": "5"
        },
        {
         "data": [
          {
           "hovertemplate": "variable=HistoricalPrice<br>timestep=6<br>periodstep=%{x}<br>value=%{y}<extra></extra>",
           "legendgroup": "HistoricalPrice",
           "line": {
            "color": "#636efa",
            "dash": "solid"
           },
           "marker": {
            "symbol": "circle"
           },
           "mode": "lines",
           "name": "HistoricalPrice",
           "orientation": "v",
           "showlegend": true,
           "type": "scatter",
           "x": [
            1,
            2,
            3,
            4,
            5,
            6,
            7,
            8,
            9,
            10,
            11,
            12,
            13,
            14,
            15,
            16,
            17,
            18,
            19,
            20,
            21,
            22,
            23,
            24
           ],
           "xaxis": "x",
           "y": [
            186.2,
            75,
            106.58,
            67.44,
            66.31,
            83.71,
            65.51,
            57.34,
            55.57,
            56.42,
            59.36,
            60.26,
            null,
            null,
            null,
            null,
            null,
            null,
            null,
            null,
            null,
            null,
            null,
            null
           ],
           "yaxis": "y"
          },
          {
           "hovertemplate": "variable=FuturePrice<br>timestep=6<br>periodstep=%{x}<br>value=%{y}<extra></extra>",
           "legendgroup": "FuturePrice",
           "line": {
            "color": "#EF553B",
            "dash": "solid"
           },
           "marker": {
            "symbol": "circle"
           },
           "mode": "lines",
           "name": "FuturePrice",
           "orientation": "v",
           "showlegend": true,
           "type": "scatter",
           "x": [
            1,
            2,
            3,
            4,
            5,
            6,
            7,
            8,
            9,
            10,
            11,
            12,
            13,
            14,
            15,
            16,
            17,
            18,
            19,
            20,
            21,
            22,
            23,
            24
           ],
           "xaxis": "x",
           "y": [
            null,
            null,
            null,
            null,
            null,
            null,
            null,
            null,
            null,
            null,
            null,
            null,
            55.97,
            60.71,
            60.15,
            57.11,
            58.05,
            61.79,
            61.89,
            59.01,
            48.92,
            55.19,
            68.53,
            233.28
           ],
           "yaxis": "y"
          },
          {
           "hovertemplate": "variable=Predicted<br>timestep=6<br>periodstep=%{x}<br>value=%{y}<extra></extra>",
           "legendgroup": "Predicted",
           "line": {
            "color": "#00cc96",
            "dash": "solid"
           },
           "marker": {
            "symbol": "circle"
           },
           "mode": "lines",
           "name": "Predicted",
           "orientation": "v",
           "showlegend": true,
           "type": "scatter",
           "x": [
            1,
            2,
            3,
            4,
            5,
            6,
            7,
            8,
            9,
            10,
            11,
            12,
            13,
            14,
            15,
            16,
            17,
            18,
            19,
            20,
            21,
            22,
            23,
            24
           ],
           "xaxis": "x",
           "y": [
            null,
            null,
            null,
            null,
            null,
            null,
            null,
            null,
            null,
            null,
            null,
            null,
            125.42139459950675,
            124.56045664843059,
            127.78766574965053,
            130.13827599652325,
            130.04748944647804,
            127.85657068918573,
            130.30493415853798,
            130.04199844745955,
            130.3072333301011,
            130.53717966753948,
            136.189073357899,
            133.6709962675787
           ],
           "yaxis": "y"
          }
         ],
         "name": "6"
        },
        {
         "data": [
          {
           "hovertemplate": "variable=HistoricalPrice<br>timestep=7<br>periodstep=%{x}<br>value=%{y}<extra></extra>",
           "legendgroup": "HistoricalPrice",
           "line": {
            "color": "#636efa",
            "dash": "solid"
           },
           "marker": {
            "symbol": "circle"
           },
           "mode": "lines",
           "name": "HistoricalPrice",
           "orientation": "v",
           "showlegend": true,
           "type": "scatter",
           "x": [
            1,
            2,
            3,
            4,
            5,
            6,
            7,
            8,
            9,
            10,
            11,
            12,
            13,
            14,
            15,
            16,
            17,
            18,
            19,
            20,
            21,
            22,
            23,
            24
           ],
           "xaxis": "x",
           "y": [
            75,
            106.58,
            67.44,
            66.31,
            83.71,
            65.51,
            57.34,
            55.57,
            56.42,
            59.36,
            60.26,
            55.97,
            null,
            null,
            null,
            null,
            null,
            null,
            null,
            null,
            null,
            null,
            null,
            null
           ],
           "yaxis": "y"
          },
          {
           "hovertemplate": "variable=FuturePrice<br>timestep=7<br>periodstep=%{x}<br>value=%{y}<extra></extra>",
           "legendgroup": "FuturePrice",
           "line": {
            "color": "#EF553B",
            "dash": "solid"
           },
           "marker": {
            "symbol": "circle"
           },
           "mode": "lines",
           "name": "FuturePrice",
           "orientation": "v",
           "showlegend": true,
           "type": "scatter",
           "x": [
            1,
            2,
            3,
            4,
            5,
            6,
            7,
            8,
            9,
            10,
            11,
            12,
            13,
            14,
            15,
            16,
            17,
            18,
            19,
            20,
            21,
            22,
            23,
            24
           ],
           "xaxis": "x",
           "y": [
            null,
            null,
            null,
            null,
            null,
            null,
            null,
            null,
            null,
            null,
            null,
            null,
            60.71,
            60.15,
            57.11,
            58.05,
            61.79,
            61.89,
            59.01,
            48.92,
            55.19,
            68.53,
            233.28,
            346.29
           ],
           "yaxis": "y"
          },
          {
           "hovertemplate": "variable=Predicted<br>timestep=7<br>periodstep=%{x}<br>value=%{y}<extra></extra>",
           "legendgroup": "Predicted",
           "line": {
            "color": "#00cc96",
            "dash": "solid"
           },
           "marker": {
            "symbol": "circle"
           },
           "mode": "lines",
           "name": "Predicted",
           "orientation": "v",
           "showlegend": true,
           "type": "scatter",
           "x": [
            1,
            2,
            3,
            4,
            5,
            6,
            7,
            8,
            9,
            10,
            11,
            12,
            13,
            14,
            15,
            16,
            17,
            18,
            19,
            20,
            21,
            22,
            23,
            24
           ],
           "xaxis": "x",
           "y": [
            null,
            null,
            null,
            null,
            null,
            null,
            null,
            null,
            null,
            null,
            null,
            null,
            125.42139459950675,
            124.56045664843059,
            124.9165409601146,
            130.13827599652325,
            130.04748944647804,
            127.85657068918573,
            130.30493415853798,
            130.04199844745955,
            130.3072333301011,
            136.18775708035923,
            177.70114217512813,
            129.0015861065635
           ],
           "yaxis": "y"
          }
         ],
         "name": "7"
        },
        {
         "data": [
          {
           "hovertemplate": "variable=HistoricalPrice<br>timestep=8<br>periodstep=%{x}<br>value=%{y}<extra></extra>",
           "legendgroup": "HistoricalPrice",
           "line": {
            "color": "#636efa",
            "dash": "solid"
           },
           "marker": {
            "symbol": "circle"
           },
           "mode": "lines",
           "name": "HistoricalPrice",
           "orientation": "v",
           "showlegend": true,
           "type": "scatter",
           "x": [
            1,
            2,
            3,
            4,
            5,
            6,
            7,
            8,
            9,
            10,
            11,
            12,
            13,
            14,
            15,
            16,
            17,
            18,
            19,
            20,
            21,
            22,
            23,
            24
           ],
           "xaxis": "x",
           "y": [
            106.58,
            67.44,
            66.31,
            83.71,
            65.51,
            57.34,
            55.57,
            56.42,
            59.36,
            60.26,
            55.97,
            60.71,
            null,
            null,
            null,
            null,
            null,
            null,
            null,
            null,
            null,
            null,
            null,
            null
           ],
           "yaxis": "y"
          },
          {
           "hovertemplate": "variable=FuturePrice<br>timestep=8<br>periodstep=%{x}<br>value=%{y}<extra></extra>",
           "legendgroup": "FuturePrice",
           "line": {
            "color": "#EF553B",
            "dash": "solid"
           },
           "marker": {
            "symbol": "circle"
           },
           "mode": "lines",
           "name": "FuturePrice",
           "orientation": "v",
           "showlegend": true,
           "type": "scatter",
           "x": [
            1,
            2,
            3,
            4,
            5,
            6,
            7,
            8,
            9,
            10,
            11,
            12,
            13,
            14,
            15,
            16,
            17,
            18,
            19,
            20,
            21,
            22,
            23,
            24
           ],
           "xaxis": "x",
           "y": [
            null,
            null,
            null,
            null,
            null,
            null,
            null,
            null,
            null,
            null,
            null,
            null,
            60.15,
            57.11,
            58.05,
            61.79,
            61.89,
            59.01,
            48.92,
            55.19,
            68.53,
            233.28,
            346.29,
            364.65
           ],
           "yaxis": "y"
          },
          {
           "hovertemplate": "variable=Predicted<br>timestep=8<br>periodstep=%{x}<br>value=%{y}<extra></extra>",
           "legendgroup": "Predicted",
           "line": {
            "color": "#00cc96",
            "dash": "solid"
           },
           "marker": {
            "symbol": "circle"
           },
           "mode": "lines",
           "name": "Predicted",
           "orientation": "v",
           "showlegend": true,
           "type": "scatter",
           "x": [
            1,
            2,
            3,
            4,
            5,
            6,
            7,
            8,
            9,
            10,
            11,
            12,
            13,
            14,
            15,
            16,
            17,
            18,
            19,
            20,
            21,
            22,
            23,
            24
           ],
           "xaxis": "x",
           "y": [
            null,
            null,
            null,
            null,
            null,
            null,
            null,
            null,
            null,
            null,
            null,
            null,
            125.42139459950675,
            124.56045664843059,
            127.78766574965053,
            130.13827599652325,
            130.04748944647804,
            127.85657068918573,
            130.30493415853798,
            130.04199844745955,
            130.93330697403127,
            144.4371188308991,
            130.4918509178089,
            136.27513923516977
           ],
           "yaxis": "y"
          }
         ],
         "name": "8"
        },
        {
         "data": [
          {
           "hovertemplate": "variable=HistoricalPrice<br>timestep=9<br>periodstep=%{x}<br>value=%{y}<extra></extra>",
           "legendgroup": "HistoricalPrice",
           "line": {
            "color": "#636efa",
            "dash": "solid"
           },
           "marker": {
            "symbol": "circle"
           },
           "mode": "lines",
           "name": "HistoricalPrice",
           "orientation": "v",
           "showlegend": true,
           "type": "scatter",
           "x": [
            1,
            2,
            3,
            4,
            5,
            6,
            7,
            8,
            9,
            10,
            11,
            12,
            13,
            14,
            15,
            16,
            17,
            18,
            19,
            20,
            21,
            22,
            23,
            24
           ],
           "xaxis": "x",
           "y": [
            67.44,
            66.31,
            83.71,
            65.51,
            57.34,
            55.57,
            56.42,
            59.36,
            60.26,
            55.97,
            60.71,
            60.15,
            null,
            null,
            null,
            null,
            null,
            null,
            null,
            null,
            null,
            null,
            null,
            null
           ],
           "yaxis": "y"
          },
          {
           "hovertemplate": "variable=FuturePrice<br>timestep=9<br>periodstep=%{x}<br>value=%{y}<extra></extra>",
           "legendgroup": "FuturePrice",
           "line": {
            "color": "#EF553B",
            "dash": "solid"
           },
           "marker": {
            "symbol": "circle"
           },
           "mode": "lines",
           "name": "FuturePrice",
           "orientation": "v",
           "showlegend": true,
           "type": "scatter",
           "x": [
            1,
            2,
            3,
            4,
            5,
            6,
            7,
            8,
            9,
            10,
            11,
            12,
            13,
            14,
            15,
            16,
            17,
            18,
            19,
            20,
            21,
            22,
            23,
            24
           ],
           "xaxis": "x",
           "y": [
            null,
            null,
            null,
            null,
            null,
            null,
            null,
            null,
            null,
            null,
            null,
            null,
            57.11,
            58.05,
            61.79,
            61.89,
            59.01,
            48.92,
            55.19,
            68.53,
            233.28,
            346.29,
            364.65,
            421.68
           ],
           "yaxis": "y"
          },
          {
           "hovertemplate": "variable=Predicted<br>timestep=9<br>periodstep=%{x}<br>value=%{y}<extra></extra>",
           "legendgroup": "Predicted",
           "line": {
            "color": "#00cc96",
            "dash": "solid"
           },
           "marker": {
            "symbol": "circle"
           },
           "mode": "lines",
           "name": "Predicted",
           "orientation": "v",
           "showlegend": true,
           "type": "scatter",
           "x": [
            1,
            2,
            3,
            4,
            5,
            6,
            7,
            8,
            9,
            10,
            11,
            12,
            13,
            14,
            15,
            16,
            17,
            18,
            19,
            20,
            21,
            22,
            23,
            24
           ],
           "xaxis": "x",
           "y": [
            null,
            null,
            null,
            null,
            null,
            null,
            null,
            null,
            null,
            null,
            null,
            null,
            125.42139459950675,
            124.56045664843059,
            127.78766574965053,
            130.13827599652325,
            130.04748944647804,
            127.85657068918573,
            130.30493415853798,
            135.42710949364914,
            133.8477283487089,
            130.53717966753948,
            136.189073357899,
            129.0015861065635
           ],
           "yaxis": "y"
          }
         ],
         "name": "9"
        },
        {
         "data": [
          {
           "hovertemplate": "variable=HistoricalPrice<br>timestep=10<br>periodstep=%{x}<br>value=%{y}<extra></extra>",
           "legendgroup": "HistoricalPrice",
           "line": {
            "color": "#636efa",
            "dash": "solid"
           },
           "marker": {
            "symbol": "circle"
           },
           "mode": "lines",
           "name": "HistoricalPrice",
           "orientation": "v",
           "showlegend": true,
           "type": "scatter",
           "x": [
            1,
            2,
            3,
            4,
            5,
            6,
            7,
            8,
            9,
            10,
            11,
            12,
            13,
            14,
            15,
            16,
            17,
            18,
            19,
            20,
            21,
            22,
            23,
            24
           ],
           "xaxis": "x",
           "y": [
            66.31,
            83.71,
            65.51,
            57.34,
            55.57,
            56.42,
            59.36,
            60.26,
            55.97,
            60.71,
            60.15,
            57.11,
            null,
            null,
            null,
            null,
            null,
            null,
            null,
            null,
            null,
            null,
            null,
            null
           ],
           "yaxis": "y"
          },
          {
           "hovertemplate": "variable=FuturePrice<br>timestep=10<br>periodstep=%{x}<br>value=%{y}<extra></extra>",
           "legendgroup": "FuturePrice",
           "line": {
            "color": "#EF553B",
            "dash": "solid"
           },
           "marker": {
            "symbol": "circle"
           },
           "mode": "lines",
           "name": "FuturePrice",
           "orientation": "v",
           "showlegend": true,
           "type": "scatter",
           "x": [
            1,
            2,
            3,
            4,
            5,
            6,
            7,
            8,
            9,
            10,
            11,
            12,
            13,
            14,
            15,
            16,
            17,
            18,
            19,
            20,
            21,
            22,
            23,
            24
           ],
           "xaxis": "x",
           "y": [
            null,
            null,
            null,
            null,
            null,
            null,
            null,
            null,
            null,
            null,
            null,
            null,
            58.05,
            61.79,
            61.89,
            59.01,
            48.92,
            55.19,
            68.53,
            233.28,
            346.29,
            364.65,
            421.68,
            400.11
           ],
           "yaxis": "y"
          },
          {
           "hovertemplate": "variable=Predicted<br>timestep=10<br>periodstep=%{x}<br>value=%{y}<extra></extra>",
           "legendgroup": "Predicted",
           "line": {
            "color": "#00cc96",
            "dash": "solid"
           },
           "marker": {
            "symbol": "circle"
           },
           "mode": "lines",
           "name": "Predicted",
           "orientation": "v",
           "showlegend": true,
           "type": "scatter",
           "x": [
            1,
            2,
            3,
            4,
            5,
            6,
            7,
            8,
            9,
            10,
            11,
            12,
            13,
            14,
            15,
            16,
            17,
            18,
            19,
            20,
            21,
            22,
            23,
            24
           ],
           "xaxis": "x",
           "y": [
            null,
            null,
            null,
            null,
            null,
            null,
            null,
            null,
            null,
            null,
            null,
            null,
            125.42139459950675,
            124.56045664843059,
            124.9165409601146,
            130.13827599652325,
            130.04748944647804,
            127.85657068918573,
            129.15377535920905,
            132.98119605284583,
            130.3072333301011,
            136.18775708035923,
            130.4918509178089,
            129.0015861065635
           ],
           "yaxis": "y"
          }
         ],
         "name": "10"
        },
        {
         "data": [
          {
           "hovertemplate": "variable=HistoricalPrice<br>timestep=11<br>periodstep=%{x}<br>value=%{y}<extra></extra>",
           "legendgroup": "HistoricalPrice",
           "line": {
            "color": "#636efa",
            "dash": "solid"
           },
           "marker": {
            "symbol": "circle"
           },
           "mode": "lines",
           "name": "HistoricalPrice",
           "orientation": "v",
           "showlegend": true,
           "type": "scatter",
           "x": [
            1,
            2,
            3,
            4,
            5,
            6,
            7,
            8,
            9,
            10,
            11,
            12,
            13,
            14,
            15,
            16,
            17,
            18,
            19,
            20,
            21,
            22,
            23,
            24
           ],
           "xaxis": "x",
           "y": [
            83.71,
            65.51,
            57.34,
            55.57,
            56.42,
            59.36,
            60.26,
            55.97,
            60.71,
            60.15,
            57.11,
            58.05,
            null,
            null,
            null,
            null,
            null,
            null,
            null,
            null,
            null,
            null,
            null,
            null
           ],
           "yaxis": "y"
          },
          {
           "hovertemplate": "variable=FuturePrice<br>timestep=11<br>periodstep=%{x}<br>value=%{y}<extra></extra>",
           "legendgroup": "FuturePrice",
           "line": {
            "color": "#EF553B",
            "dash": "solid"
           },
           "marker": {
            "symbol": "circle"
           },
           "mode": "lines",
           "name": "FuturePrice",
           "orientation": "v",
           "showlegend": true,
           "type": "scatter",
           "x": [
            1,
            2,
            3,
            4,
            5,
            6,
            7,
            8,
            9,
            10,
            11,
            12,
            13,
            14,
            15,
            16,
            17,
            18,
            19,
            20,
            21,
            22,
            23,
            24
           ],
           "xaxis": "x",
           "y": [
            null,
            null,
            null,
            null,
            null,
            null,
            null,
            null,
            null,
            null,
            null,
            null,
            61.79,
            61.89,
            59.01,
            48.92,
            55.19,
            68.53,
            233.28,
            346.29,
            364.65,
            421.68,
            400.11,
            161.55
           ],
           "yaxis": "y"
          },
          {
           "hovertemplate": "variable=Predicted<br>timestep=11<br>periodstep=%{x}<br>value=%{y}<extra></extra>",
           "legendgroup": "Predicted",
           "line": {
            "color": "#00cc96",
            "dash": "solid"
           },
           "marker": {
            "symbol": "circle"
           },
           "mode": "lines",
           "name": "Predicted",
           "orientation": "v",
           "showlegend": true,
           "type": "scatter",
           "x": [
            1,
            2,
            3,
            4,
            5,
            6,
            7,
            8,
            9,
            10,
            11,
            12,
            13,
            14,
            15,
            16,
            17,
            18,
            19,
            20,
            21,
            22,
            23,
            24
           ],
           "xaxis": "x",
           "y": [
            null,
            null,
            null,
            null,
            null,
            null,
            null,
            null,
            null,
            null,
            null,
            null,
            125.42139459950675,
            124.56045664843059,
            127.78766574965053,
            130.13827599652325,
            137.84798365255782,
            129.14619518279943,
            140.5304401580169,
            130.04199844745955,
            130.93330697403127,
            130.53717966753948,
            130.4918509178089,
            131.2792529518786
           ],
           "yaxis": "y"
          }
         ],
         "name": "11"
        },
        {
         "data": [
          {
           "hovertemplate": "variable=HistoricalPrice<br>timestep=12<br>periodstep=%{x}<br>value=%{y}<extra></extra>",
           "legendgroup": "HistoricalPrice",
           "line": {
            "color": "#636efa",
            "dash": "solid"
           },
           "marker": {
            "symbol": "circle"
           },
           "mode": "lines",
           "name": "HistoricalPrice",
           "orientation": "v",
           "showlegend": true,
           "type": "scatter",
           "x": [
            1,
            2,
            3,
            4,
            5,
            6,
            7,
            8,
            9,
            10,
            11,
            12,
            13,
            14,
            15,
            16,
            17,
            18,
            19,
            20,
            21,
            22,
            23,
            24
           ],
           "xaxis": "x",
           "y": [
            65.51,
            57.34,
            55.57,
            56.42,
            59.36,
            60.26,
            55.97,
            60.71,
            60.15,
            57.11,
            58.05,
            61.79,
            null,
            null,
            null,
            null,
            null,
            null,
            null,
            null,
            null,
            null,
            null,
            null
           ],
           "yaxis": "y"
          },
          {
           "hovertemplate": "variable=FuturePrice<br>timestep=12<br>periodstep=%{x}<br>value=%{y}<extra></extra>",
           "legendgroup": "FuturePrice",
           "line": {
            "color": "#EF553B",
            "dash": "solid"
           },
           "marker": {
            "symbol": "circle"
           },
           "mode": "lines",
           "name": "FuturePrice",
           "orientation": "v",
           "showlegend": true,
           "type": "scatter",
           "x": [
            1,
            2,
            3,
            4,
            5,
            6,
            7,
            8,
            9,
            10,
            11,
            12,
            13,
            14,
            15,
            16,
            17,
            18,
            19,
            20,
            21,
            22,
            23,
            24
           ],
           "xaxis": "x",
           "y": [
            null,
            null,
            null,
            null,
            null,
            null,
            null,
            null,
            null,
            null,
            null,
            null,
            61.89,
            59.01,
            48.92,
            55.19,
            68.53,
            233.28,
            346.29,
            364.65,
            421.68,
            400.11,
            161.55,
            207.69
           ],
           "yaxis": "y"
          },
          {
           "hovertemplate": "variable=Predicted<br>timestep=12<br>periodstep=%{x}<br>value=%{y}<extra></extra>",
           "legendgroup": "Predicted",
           "line": {
            "color": "#00cc96",
            "dash": "solid"
           },
           "marker": {
            "symbol": "circle"
           },
           "mode": "lines",
           "name": "Predicted",
           "orientation": "v",
           "showlegend": true,
           "type": "scatter",
           "x": [
            1,
            2,
            3,
            4,
            5,
            6,
            7,
            8,
            9,
            10,
            11,
            12,
            13,
            14,
            15,
            16,
            17,
            18,
            19,
            20,
            21,
            22,
            23,
            24
           ],
           "xaxis": "x",
           "y": [
            null,
            null,
            null,
            null,
            null,
            null,
            null,
            null,
            null,
            null,
            null,
            null,
            125.42139459950675,
            128.1012345218249,
            127.78766574965053,
            130.13827599652325,
            130.04748944647804,
            130.6545568163636,
            130.30493415853798,
            135.42710949364914,
            130.3072333301011,
            130.53717966753948,
            131.27708564770052,
            125.25719177155716
           ],
           "yaxis": "y"
          }
         ],
         "name": "12"
        },
        {
         "data": [
          {
           "hovertemplate": "variable=HistoricalPrice<br>timestep=13<br>periodstep=%{x}<br>value=%{y}<extra></extra>",
           "legendgroup": "HistoricalPrice",
           "line": {
            "color": "#636efa",
            "dash": "solid"
           },
           "marker": {
            "symbol": "circle"
           },
           "mode": "lines",
           "name": "HistoricalPrice",
           "orientation": "v",
           "showlegend": true,
           "type": "scatter",
           "x": [
            1,
            2,
            3,
            4,
            5,
            6,
            7,
            8,
            9,
            10,
            11,
            12,
            13,
            14,
            15,
            16,
            17,
            18,
            19,
            20,
            21,
            22,
            23,
            24
           ],
           "xaxis": "x",
           "y": [
            57.34,
            55.57,
            56.42,
            59.36,
            60.26,
            55.97,
            60.71,
            60.15,
            57.11,
            58.05,
            61.79,
            61.89,
            null,
            null,
            null,
            null,
            null,
            null,
            null,
            null,
            null,
            null,
            null,
            null
           ],
           "yaxis": "y"
          },
          {
           "hovertemplate": "variable=FuturePrice<br>timestep=13<br>periodstep=%{x}<br>value=%{y}<extra></extra>",
           "legendgroup": "FuturePrice",
           "line": {
            "color": "#EF553B",
            "dash": "solid"
           },
           "marker": {
            "symbol": "circle"
           },
           "mode": "lines",
           "name": "FuturePrice",
           "orientation": "v",
           "showlegend": true,
           "type": "scatter",
           "x": [
            1,
            2,
            3,
            4,
            5,
            6,
            7,
            8,
            9,
            10,
            11,
            12,
            13,
            14,
            15,
            16,
            17,
            18,
            19,
            20,
            21,
            22,
            23,
            24
           ],
           "xaxis": "x",
           "y": [
            null,
            null,
            null,
            null,
            null,
            null,
            null,
            null,
            null,
            null,
            null,
            null,
            59.01,
            48.92,
            55.19,
            68.53,
            233.28,
            346.29,
            364.65,
            421.68,
            400.11,
            161.55,
            207.69,
            137.84
           ],
           "yaxis": "y"
          },
          {
           "hovertemplate": "variable=Predicted<br>timestep=13<br>periodstep=%{x}<br>value=%{y}<extra></extra>",
           "legendgroup": "Predicted",
           "line": {
            "color": "#00cc96",
            "dash": "solid"
           },
           "marker": {
            "symbol": "circle"
           },
           "mode": "lines",
           "name": "Predicted",
           "orientation": "v",
           "showlegend": true,
           "type": "scatter",
           "x": [
            1,
            2,
            3,
            4,
            5,
            6,
            7,
            8,
            9,
            10,
            11,
            12,
            13,
            14,
            15,
            16,
            17,
            18,
            19,
            20,
            21,
            22,
            23,
            24
           ],
           "xaxis": "x",
           "y": [
            null,
            null,
            null,
            null,
            null,
            null,
            null,
            null,
            null,
            null,
            null,
            null,
            125.42139459950675,
            128.1012345218249,
            127.78766574965053,
            130.13827599652325,
            132.29583778800753,
            127.85657068918573,
            129.15377535920905,
            130.04199844745955,
            130.3072333301011,
            131.27576930435023,
            125.25452983215835,
            125.25719177155716
           ],
           "yaxis": "y"
          }
         ],
         "name": "13"
        },
        {
         "data": [
          {
           "hovertemplate": "variable=HistoricalPrice<br>timestep=14<br>periodstep=%{x}<br>value=%{y}<extra></extra>",
           "legendgroup": "HistoricalPrice",
           "line": {
            "color": "#636efa",
            "dash": "solid"
           },
           "marker": {
            "symbol": "circle"
           },
           "mode": "lines",
           "name": "HistoricalPrice",
           "orientation": "v",
           "showlegend": true,
           "type": "scatter",
           "x": [
            1,
            2,
            3,
            4,
            5,
            6,
            7,
            8,
            9,
            10,
            11,
            12,
            13,
            14,
            15,
            16,
            17,
            18,
            19,
            20,
            21,
            22,
            23,
            24
           ],
           "xaxis": "x",
           "y": [
            55.57,
            56.42,
            59.36,
            60.26,
            55.97,
            60.71,
            60.15,
            57.11,
            58.05,
            61.79,
            61.89,
            59.01,
            null,
            null,
            null,
            null,
            null,
            null,
            null,
            null,
            null,
            null,
            null,
            null
           ],
           "yaxis": "y"
          },
          {
           "hovertemplate": "variable=FuturePrice<br>timestep=14<br>periodstep=%{x}<br>value=%{y}<extra></extra>",
           "legendgroup": "FuturePrice",
           "line": {
            "color": "#EF553B",
            "dash": "solid"
           },
           "marker": {
            "symbol": "circle"
           },
           "mode": "lines",
           "name": "FuturePrice",
           "orientation": "v",
           "showlegend": true,
           "type": "scatter",
           "x": [
            1,
            2,
            3,
            4,
            5,
            6,
            7,
            8,
            9,
            10,
            11,
            12,
            13,
            14,
            15,
            16,
            17,
            18,
            19,
            20,
            21,
            22,
            23,
            24
           ],
           "xaxis": "x",
           "y": [
            null,
            null,
            null,
            null,
            null,
            null,
            null,
            null,
            null,
            null,
            null,
            null,
            48.92,
            55.19,
            68.53,
            233.28,
            346.29,
            364.65,
            421.68,
            400.11,
            161.55,
            207.69,
            137.84,
            204
           ],
           "yaxis": "y"
          },
          {
           "hovertemplate": "variable=Predicted<br>timestep=14<br>periodstep=%{x}<br>value=%{y}<extra></extra>",
           "legendgroup": "Predicted",
           "line": {
            "color": "#00cc96",
            "dash": "solid"
           },
           "marker": {
            "symbol": "circle"
           },
           "mode": "lines",
           "name": "Predicted",
           "orientation": "v",
           "showlegend": true,
           "type": "scatter",
           "x": [
            1,
            2,
            3,
            4,
            5,
            6,
            7,
            8,
            9,
            10,
            11,
            12,
            13,
            14,
            15,
            16,
            17,
            18,
            19,
            20,
            21,
            22,
            23,
            24
           ],
           "xaxis": "x",
           "y": [
            null,
            null,
            null,
            null,
            null,
            null,
            null,
            null,
            null,
            null,
            null,
            null,
            125.42139459950675,
            124.56045664843059,
            135.05794924981754,
            130.13827599652325,
            130.04748944647804,
            129.14619518279943,
            130.30493415853798,
            130.04199844745955,
            130.93330697403127,
            125.25311904071302,
            125.25452983215835,
            125.25719177155716
           ],
           "yaxis": "y"
          }
         ],
         "name": "14"
        },
        {
         "data": [
          {
           "hovertemplate": "variable=HistoricalPrice<br>timestep=15<br>periodstep=%{x}<br>value=%{y}<extra></extra>",
           "legendgroup": "HistoricalPrice",
           "line": {
            "color": "#636efa",
            "dash": "solid"
           },
           "marker": {
            "symbol": "circle"
           },
           "mode": "lines",
           "name": "HistoricalPrice",
           "orientation": "v",
           "showlegend": true,
           "type": "scatter",
           "x": [
            1,
            2,
            3,
            4,
            5,
            6,
            7,
            8,
            9,
            10,
            11,
            12,
            13,
            14,
            15,
            16,
            17,
            18,
            19,
            20,
            21,
            22,
            23,
            24
           ],
           "xaxis": "x",
           "y": [
            56.42,
            59.36,
            60.26,
            55.97,
            60.71,
            60.15,
            57.11,
            58.05,
            61.79,
            61.89,
            59.01,
            48.92,
            null,
            null,
            null,
            null,
            null,
            null,
            null,
            null,
            null,
            null,
            null,
            null
           ],
           "yaxis": "y"
          },
          {
           "hovertemplate": "variable=FuturePrice<br>timestep=15<br>periodstep=%{x}<br>value=%{y}<extra></extra>",
           "legendgroup": "FuturePrice",
           "line": {
            "color": "#EF553B",
            "dash": "solid"
           },
           "marker": {
            "symbol": "circle"
           },
           "mode": "lines",
           "name": "FuturePrice",
           "orientation": "v",
           "showlegend": true,
           "type": "scatter",
           "x": [
            1,
            2,
            3,
            4,
            5,
            6,
            7,
            8,
            9,
            10,
            11,
            12,
            13,
            14,
            15,
            16,
            17,
            18,
            19,
            20,
            21,
            22,
            23,
            24
           ],
           "xaxis": "x",
           "y": [
            null,
            null,
            null,
            null,
            null,
            null,
            null,
            null,
            null,
            null,
            null,
            null,
            55.19,
            68.53,
            233.28,
            346.29,
            364.65,
            421.68,
            400.11,
            161.55,
            207.69,
            137.84,
            204,
            169.9
           ],
           "yaxis": "y"
          },
          {
           "hovertemplate": "variable=Predicted<br>timestep=15<br>periodstep=%{x}<br>value=%{y}<extra></extra>",
           "legendgroup": "Predicted",
           "line": {
            "color": "#00cc96",
            "dash": "solid"
           },
           "marker": {
            "symbol": "circle"
           },
           "mode": "lines",
           "name": "Predicted",
           "orientation": "v",
           "showlegend": true,
           "type": "scatter",
           "x": [
            1,
            2,
            3,
            4,
            5,
            6,
            7,
            8,
            9,
            10,
            11,
            12,
            13,
            14,
            15,
            16,
            17,
            18,
            19,
            20,
            21,
            22,
            23,
            24
           ],
           "xaxis": "x",
           "y": [
            null,
            null,
            null,
            null,
            null,
            null,
            null,
            null,
            null,
            null,
            null,
            null,
            125.42139459950675,
            124.56045664843059,
            124.9165409601146,
            126.17051669723918,
            126.50399189554744,
            127.85657068918573,
            130.30493415853798,
            131.11456885119748,
            125.25147005554666,
            125.25311904071302,
            125.25452983215835,
            125.25719177155716
           ],
           "yaxis": "y"
          }
         ],
         "name": "15"
        },
        {
         "data": [
          {
           "hovertemplate": "variable=HistoricalPrice<br>timestep=16<br>periodstep=%{x}<br>value=%{y}<extra></extra>",
           "legendgroup": "HistoricalPrice",
           "line": {
            "color": "#636efa",
            "dash": "solid"
           },
           "marker": {
            "symbol": "circle"
           },
           "mode": "lines",
           "name": "HistoricalPrice",
           "orientation": "v",
           "showlegend": true,
           "type": "scatter",
           "x": [
            1,
            2,
            3,
            4,
            5,
            6,
            7,
            8,
            9,
            10,
            11,
            12,
            13,
            14,
            15,
            16,
            17,
            18,
            19,
            20,
            21,
            22,
            23,
            24
           ],
           "xaxis": "x",
           "y": [
            59.36,
            60.26,
            55.97,
            60.71,
            60.15,
            57.11,
            58.05,
            61.79,
            61.89,
            59.01,
            48.92,
            55.19,
            null,
            null,
            null,
            null,
            null,
            null,
            null,
            null,
            null,
            null,
            null,
            null
           ],
           "yaxis": "y"
          },
          {
           "hovertemplate": "variable=FuturePrice<br>timestep=16<br>periodstep=%{x}<br>value=%{y}<extra></extra>",
           "legendgroup": "FuturePrice",
           "line": {
            "color": "#EF553B",
            "dash": "solid"
           },
           "marker": {
            "symbol": "circle"
           },
           "mode": "lines",
           "name": "FuturePrice",
           "orientation": "v",
           "showlegend": true,
           "type": "scatter",
           "x": [
            1,
            2,
            3,
            4,
            5,
            6,
            7,
            8,
            9,
            10,
            11,
            12,
            13,
            14,
            15,
            16,
            17,
            18,
            19,
            20,
            21,
            22,
            23,
            24
           ],
           "xaxis": "x",
           "y": [
            null,
            null,
            null,
            null,
            null,
            null,
            null,
            null,
            null,
            null,
            null,
            null,
            68.53,
            233.28,
            346.29,
            364.65,
            421.68,
            400.11,
            161.55,
            207.69,
            137.84,
            204,
            169.9,
            98.2
           ],
           "yaxis": "y"
          },
          {
           "hovertemplate": "variable=Predicted<br>timestep=16<br>periodstep=%{x}<br>value=%{y}<extra></extra>",
           "legendgroup": "Predicted",
           "line": {
            "color": "#00cc96",
            "dash": "solid"
           },
           "marker": {
            "symbol": "circle"
           },
           "mode": "lines",
           "name": "Predicted",
           "orientation": "v",
           "showlegend": true,
           "type": "scatter",
           "x": [
            1,
            2,
            3,
            4,
            5,
            6,
            7,
            8,
            9,
            10,
            11,
            12,
            13,
            14,
            15,
            16,
            17,
            18,
            19,
            20,
            21,
            22,
            23,
            24
           ],
           "xaxis": "x",
           "y": [
            null,
            null,
            null,
            null,
            null,
            null,
            null,
            null,
            null,
            null,
            null,
            null,
            125.42139459950675,
            124.56045664843059,
            124.9165409601146,
            130.13827599652325,
            130.04748944647804,
            127.85657068918573,
            129.15377535920905,
            125.24779467456325,
            125.25147005554666,
            125.25311904071302,
            125.25452983215835,
            125.25719177155716
           ],
           "yaxis": "y"
          }
         ],
         "name": "16"
        },
        {
         "data": [
          {
           "hovertemplate": "variable=HistoricalPrice<br>timestep=17<br>periodstep=%{x}<br>value=%{y}<extra></extra>",
           "legendgroup": "HistoricalPrice",
           "line": {
            "color": "#636efa",
            "dash": "solid"
           },
           "marker": {
            "symbol": "circle"
           },
           "mode": "lines",
           "name": "HistoricalPrice",
           "orientation": "v",
           "showlegend": true,
           "type": "scatter",
           "x": [
            1,
            2,
            3,
            4,
            5,
            6,
            7,
            8,
            9,
            10,
            11,
            12,
            13,
            14,
            15,
            16,
            17,
            18,
            19,
            20,
            21,
            22,
            23,
            24
           ],
           "xaxis": "x",
           "y": [
            60.26,
            55.97,
            60.71,
            60.15,
            57.11,
            58.05,
            61.79,
            61.89,
            59.01,
            48.92,
            55.19,
            68.53,
            null,
            null,
            null,
            null,
            null,
            null,
            null,
            null,
            null,
            null,
            null,
            null
           ],
           "yaxis": "y"
          },
          {
           "hovertemplate": "variable=FuturePrice<br>timestep=17<br>periodstep=%{x}<br>value=%{y}<extra></extra>",
           "legendgroup": "FuturePrice",
           "line": {
            "color": "#EF553B",
            "dash": "solid"
           },
           "marker": {
            "symbol": "circle"
           },
           "mode": "lines",
           "name": "FuturePrice",
           "orientation": "v",
           "showlegend": true,
           "type": "scatter",
           "x": [
            1,
            2,
            3,
            4,
            5,
            6,
            7,
            8,
            9,
            10,
            11,
            12,
            13,
            14,
            15,
            16,
            17,
            18,
            19,
            20,
            21,
            22,
            23,
            24
           ],
           "xaxis": "x",
           "y": [
            null,
            null,
            null,
            null,
            null,
            null,
            null,
            null,
            null,
            null,
            null,
            null,
            233.28,
            346.29,
            364.65,
            421.68,
            400.11,
            161.55,
            207.69,
            137.84,
            204,
            169.9,
            98.2,
            60.18
           ],
           "yaxis": "y"
          },
          {
           "hovertemplate": "variable=Predicted<br>timestep=17<br>periodstep=%{x}<br>value=%{y}<extra></extra>",
           "legendgroup": "Predicted",
           "line": {
            "color": "#00cc96",
            "dash": "solid"
           },
           "marker": {
            "symbol": "circle"
           },
           "mode": "lines",
           "name": "Predicted",
           "orientation": "v",
           "showlegend": true,
           "type": "scatter",
           "x": [
            1,
            2,
            3,
            4,
            5,
            6,
            7,
            8,
            9,
            10,
            11,
            12,
            13,
            14,
            15,
            16,
            17,
            18,
            19,
            20,
            21,
            22,
            23,
            24
           ],
           "xaxis": "x",
           "y": [
            null,
            null,
            null,
            null,
            null,
            null,
            null,
            null,
            null,
            null,
            null,
            null,
            125.42139459950675,
            128.1012345218249,
            127.78766574965053,
            130.13827599652325,
            130.04748944647804,
            129.14619518279943,
            125.2449534874269,
            125.24779467456325,
            125.25147005554666,
            125.25311904071302,
            125.25452983215835,
            125.25719177155716
           ],
           "yaxis": "y"
          }
         ],
         "name": "17"
        },
        {
         "data": [
          {
           "hovertemplate": "variable=HistoricalPrice<br>timestep=18<br>periodstep=%{x}<br>value=%{y}<extra></extra>",
           "legendgroup": "HistoricalPrice",
           "line": {
            "color": "#636efa",
            "dash": "solid"
           },
           "marker": {
            "symbol": "circle"
           },
           "mode": "lines",
           "name": "HistoricalPrice",
           "orientation": "v",
           "showlegend": true,
           "type": "scatter",
           "x": [
            1,
            2,
            3,
            4,
            5,
            6,
            7,
            8,
            9,
            10,
            11,
            12,
            13,
            14,
            15,
            16,
            17,
            18,
            19,
            20,
            21,
            22,
            23,
            24
           ],
           "xaxis": "x",
           "y": [
            55.97,
            60.71,
            60.15,
            57.11,
            58.05,
            61.79,
            61.89,
            59.01,
            48.92,
            55.19,
            68.53,
            233.28,
            null,
            null,
            null,
            null,
            null,
            null,
            null,
            null,
            null,
            null,
            null,
            null
           ],
           "yaxis": "y"
          },
          {
           "hovertemplate": "variable=FuturePrice<br>timestep=18<br>periodstep=%{x}<br>value=%{y}<extra></extra>",
           "legendgroup": "FuturePrice",
           "line": {
            "color": "#EF553B",
            "dash": "solid"
           },
           "marker": {
            "symbol": "circle"
           },
           "mode": "lines",
           "name": "FuturePrice",
           "orientation": "v",
           "showlegend": true,
           "type": "scatter",
           "x": [
            1,
            2,
            3,
            4,
            5,
            6,
            7,
            8,
            9,
            10,
            11,
            12,
            13,
            14,
            15,
            16,
            17,
            18,
            19,
            20,
            21,
            22,
            23,
            24
           ],
           "xaxis": "x",
           "y": [
            null,
            null,
            null,
            null,
            null,
            null,
            null,
            null,
            null,
            null,
            null,
            null,
            346.29,
            364.65,
            421.68,
            400.11,
            161.55,
            207.69,
            137.84,
            204,
            169.9,
            98.2,
            60.18,
            59.18
           ],
           "yaxis": "y"
          },
          {
           "hovertemplate": "variable=Predicted<br>timestep=18<br>periodstep=%{x}<br>value=%{y}<extra></extra>",
           "legendgroup": "Predicted",
           "line": {
            "color": "#00cc96",
            "dash": "solid"
           },
           "marker": {
            "symbol": "circle"
           },
           "mode": "lines",
           "name": "Predicted",
           "orientation": "v",
           "showlegend": true,
           "type": "scatter",
           "x": [
            1,
            2,
            3,
            4,
            5,
            6,
            7,
            8,
            9,
            10,
            11,
            12,
            13,
            14,
            15,
            16,
            17,
            18,
            19,
            20,
            21,
            22,
            23,
            24
           ],
           "xaxis": "x",
           "y": [
            null,
            null,
            null,
            null,
            null,
            null,
            null,
            null,
            null,
            null,
            null,
            null,
            144.17032548669047,
            139.6642682407703,
            133.93247541736804,
            129.16937741031074,
            130.13629887794426,
            125.23643597662678,
            125.2449534874269,
            125.24779467456325,
            125.25147005554666,
            125.25311904071302,
            125.25452983215835,
            125.25719177155716
           ],
           "yaxis": "y"
          }
         ],
         "name": "18"
        },
        {
         "data": [
          {
           "hovertemplate": "variable=HistoricalPrice<br>timestep=19<br>periodstep=%{x}<br>value=%{y}<extra></extra>",
           "legendgroup": "HistoricalPrice",
           "line": {
            "color": "#636efa",
            "dash": "solid"
           },
           "marker": {
            "symbol": "circle"
           },
           "mode": "lines",
           "name": "HistoricalPrice",
           "orientation": "v",
           "showlegend": true,
           "type": "scatter",
           "x": [
            1,
            2,
            3,
            4,
            5,
            6,
            7,
            8,
            9,
            10,
            11,
            12,
            13,
            14,
            15,
            16,
            17,
            18,
            19,
            20,
            21,
            22,
            23,
            24
           ],
           "xaxis": "x",
           "y": [
            60.71,
            60.15,
            57.11,
            58.05,
            61.79,
            61.89,
            59.01,
            48.92,
            55.19,
            68.53,
            233.28,
            346.29,
            null,
            null,
            null,
            null,
            null,
            null,
            null,
            null,
            null,
            null,
            null,
            null
           ],
           "yaxis": "y"
          },
          {
           "hovertemplate": "variable=FuturePrice<br>timestep=19<br>periodstep=%{x}<br>value=%{y}<extra></extra>",
           "legendgroup": "FuturePrice",
           "line": {
            "color": "#EF553B",
            "dash": "solid"
           },
           "marker": {
            "symbol": "circle"
           },
           "mode": "lines",
           "name": "FuturePrice",
           "orientation": "v",
           "showlegend": true,
           "type": "scatter",
           "x": [
            1,
            2,
            3,
            4,
            5,
            6,
            7,
            8,
            9,
            10,
            11,
            12,
            13,
            14,
            15,
            16,
            17,
            18,
            19,
            20,
            21,
            22,
            23,
            24
           ],
           "xaxis": "x",
           "y": [
            null,
            null,
            null,
            null,
            null,
            null,
            null,
            null,
            null,
            null,
            null,
            null,
            364.65,
            421.68,
            400.11,
            161.55,
            207.69,
            137.84,
            204,
            169.9,
            98.2,
            60.18,
            59.18,
            80.55
           ],
           "yaxis": "y"
          },
          {
           "hovertemplate": "variable=Predicted<br>timestep=19<br>periodstep=%{x}<br>value=%{y}<extra></extra>",
           "legendgroup": "Predicted",
           "line": {
            "color": "#00cc96",
            "dash": "solid"
           },
           "marker": {
            "symbol": "circle"
           },
           "mode": "lines",
           "name": "Predicted",
           "orientation": "v",
           "showlegend": true,
           "type": "scatter",
           "x": [
            1,
            2,
            3,
            4,
            5,
            6,
            7,
            8,
            9,
            10,
            11,
            12,
            13,
            14,
            15,
            16,
            17,
            18,
            19,
            20,
            21,
            22,
            23,
            24
           ],
           "xaxis": "x",
           "y": [
            null,
            null,
            null,
            null,
            null,
            null,
            null,
            null,
            null,
            null,
            null,
            null,
            144.17032548669047,
            142.27514586432528,
            129.82405156473257,
            132.52824275208692,
            130.13629887794426,
            125.23643597662678,
            125.2449534874269,
            125.24779467456325,
            125.25147005554666,
            125.25311904071302,
            125.25452983215835,
            129.0015861065635
           ],
           "yaxis": "y"
          }
         ],
         "name": "19"
        },
        {
         "data": [
          {
           "hovertemplate": "variable=HistoricalPrice<br>timestep=20<br>periodstep=%{x}<br>value=%{y}<extra></extra>",
           "legendgroup": "HistoricalPrice",
           "line": {
            "color": "#636efa",
            "dash": "solid"
           },
           "marker": {
            "symbol": "circle"
           },
           "mode": "lines",
           "name": "HistoricalPrice",
           "orientation": "v",
           "showlegend": true,
           "type": "scatter",
           "x": [
            1,
            2,
            3,
            4,
            5,
            6,
            7,
            8,
            9,
            10,
            11,
            12,
            13,
            14,
            15,
            16,
            17,
            18,
            19,
            20,
            21,
            22,
            23,
            24
           ],
           "xaxis": "x",
           "y": [
            60.15,
            57.11,
            58.05,
            61.79,
            61.89,
            59.01,
            48.92,
            55.19,
            68.53,
            233.28,
            346.29,
            364.65,
            null,
            null,
            null,
            null,
            null,
            null,
            null,
            null,
            null,
            null,
            null,
            null
           ],
           "yaxis": "y"
          },
          {
           "hovertemplate": "variable=FuturePrice<br>timestep=20<br>periodstep=%{x}<br>value=%{y}<extra></extra>",
           "legendgroup": "FuturePrice",
           "line": {
            "color": "#EF553B",
            "dash": "solid"
           },
           "marker": {
            "symbol": "circle"
           },
           "mode": "lines",
           "name": "FuturePrice",
           "orientation": "v",
           "showlegend": true,
           "type": "scatter",
           "x": [
            1,
            2,
            3,
            4,
            5,
            6,
            7,
            8,
            9,
            10,
            11,
            12,
            13,
            14,
            15,
            16,
            17,
            18,
            19,
            20,
            21,
            22,
            23,
            24
           ],
           "xaxis": "x",
           "y": [
            null,
            null,
            null,
            null,
            null,
            null,
            null,
            null,
            null,
            null,
            null,
            null,
            421.68,
            400.11,
            161.55,
            207.69,
            137.84,
            204,
            169.9,
            98.2,
            60.18,
            59.18,
            80.55,
            206.91
           ],
           "yaxis": "y"
          },
          {
           "hovertemplate": "variable=Predicted<br>timestep=20<br>periodstep=%{x}<br>value=%{y}<extra></extra>",
           "legendgroup": "Predicted",
           "line": {
            "color": "#00cc96",
            "dash": "solid"
           },
           "marker": {
            "symbol": "circle"
           },
           "mode": "lines",
           "name": "Predicted",
           "orientation": "v",
           "showlegend": true,
           "type": "scatter",
           "x": [
            1,
            2,
            3,
            4,
            5,
            6,
            7,
            8,
            9,
            10,
            11,
            12,
            13,
            14,
            15,
            16,
            17,
            18,
            19,
            20,
            21,
            22,
            23,
            24
           ],
           "xaxis": "x",
           "y": [
            null,
            null,
            null,
            null,
            null,
            null,
            null,
            null,
            null,
            null,
            null,
            null,
            144.17032548669047,
            142.27514586432528,
            134.9786742094099,
            132.52824275208692,
            130.13629887794426,
            125.23643597662678,
            125.2449534874269,
            125.24779467456325,
            125.25147005554666,
            125.25311904071302,
            130.4918509178089,
            129.0015861065635
           ],
           "yaxis": "y"
          }
         ],
         "name": "20"
        },
        {
         "data": [
          {
           "hovertemplate": "variable=HistoricalPrice<br>timestep=21<br>periodstep=%{x}<br>value=%{y}<extra></extra>",
           "legendgroup": "HistoricalPrice",
           "line": {
            "color": "#636efa",
            "dash": "solid"
           },
           "marker": {
            "symbol": "circle"
           },
           "mode": "lines",
           "name": "HistoricalPrice",
           "orientation": "v",
           "showlegend": true,
           "type": "scatter",
           "x": [
            1,
            2,
            3,
            4,
            5,
            6,
            7,
            8,
            9,
            10,
            11,
            12,
            13,
            14,
            15,
            16,
            17,
            18,
            19,
            20,
            21,
            22,
            23,
            24
           ],
           "xaxis": "x",
           "y": [
            57.11,
            58.05,
            61.79,
            61.89,
            59.01,
            48.92,
            55.19,
            68.53,
            233.28,
            346.29,
            364.65,
            421.68,
            null,
            null,
            null,
            null,
            null,
            null,
            null,
            null,
            null,
            null,
            null,
            null
           ],
           "yaxis": "y"
          },
          {
           "hovertemplate": "variable=FuturePrice<br>timestep=21<br>periodstep=%{x}<br>value=%{y}<extra></extra>",
           "legendgroup": "FuturePrice",
           "line": {
            "color": "#EF553B",
            "dash": "solid"
           },
           "marker": {
            "symbol": "circle"
           },
           "mode": "lines",
           "name": "FuturePrice",
           "orientation": "v",
           "showlegend": true,
           "type": "scatter",
           "x": [
            1,
            2,
            3,
            4,
            5,
            6,
            7,
            8,
            9,
            10,
            11,
            12,
            13,
            14,
            15,
            16,
            17,
            18,
            19,
            20,
            21,
            22,
            23,
            24
           ],
           "xaxis": "x",
           "y": [
            null,
            null,
            null,
            null,
            null,
            null,
            null,
            null,
            null,
            null,
            null,
            null,
            400.11,
            161.55,
            207.69,
            137.84,
            204,
            169.9,
            98.2,
            60.18,
            59.18,
            80.55,
            206.91,
            107.13
           ],
           "yaxis": "y"
          },
          {
           "hovertemplate": "variable=Predicted<br>timestep=21<br>periodstep=%{x}<br>value=%{y}<extra></extra>",
           "legendgroup": "Predicted",
           "line": {
            "color": "#00cc96",
            "dash": "solid"
           },
           "marker": {
            "symbol": "circle"
           },
           "mode": "lines",
           "name": "Predicted",
           "orientation": "v",
           "showlegend": true,
           "type": "scatter",
           "x": [
            1,
            2,
            3,
            4,
            5,
            6,
            7,
            8,
            9,
            10,
            11,
            12,
            13,
            14,
            15,
            16,
            17,
            18,
            19,
            20,
            21,
            22,
            23,
            24
           ],
           "xaxis": "x",
           "y": [
            null,
            null,
            null,
            null,
            null,
            null,
            null,
            null,
            null,
            null,
            null,
            null,
            145.20390577019302,
            142.20344609483533,
            134.9786742094099,
            132.52824275208692,
            130.13629887794426,
            125.23643597662678,
            125.2449534874269,
            125.24779467456325,
            125.25147005554666,
            130.53717966753948,
            130.4918509178089,
            129.0015861065635
           ],
           "yaxis": "y"
          }
         ],
         "name": "21"
        },
        {
         "data": [
          {
           "hovertemplate": "variable=HistoricalPrice<br>timestep=22<br>periodstep=%{x}<br>value=%{y}<extra></extra>",
           "legendgroup": "HistoricalPrice",
           "line": {
            "color": "#636efa",
            "dash": "solid"
           },
           "marker": {
            "symbol": "circle"
           },
           "mode": "lines",
           "name": "HistoricalPrice",
           "orientation": "v",
           "showlegend": true,
           "type": "scatter",
           "x": [
            1,
            2,
            3,
            4,
            5,
            6,
            7,
            8,
            9,
            10,
            11,
            12,
            13,
            14,
            15,
            16,
            17,
            18,
            19,
            20,
            21,
            22,
            23,
            24
           ],
           "xaxis": "x",
           "y": [
            58.05,
            61.79,
            61.89,
            59.01,
            48.92,
            55.19,
            68.53,
            233.28,
            346.29,
            364.65,
            421.68,
            400.11,
            null,
            null,
            null,
            null,
            null,
            null,
            null,
            null,
            null,
            null,
            null,
            null
           ],
           "yaxis": "y"
          },
          {
           "hovertemplate": "variable=FuturePrice<br>timestep=22<br>periodstep=%{x}<br>value=%{y}<extra></extra>",
           "legendgroup": "FuturePrice",
           "line": {
            "color": "#EF553B",
            "dash": "solid"
           },
           "marker": {
            "symbol": "circle"
           },
           "mode": "lines",
           "name": "FuturePrice",
           "orientation": "v",
           "showlegend": true,
           "type": "scatter",
           "x": [
            1,
            2,
            3,
            4,
            5,
            6,
            7,
            8,
            9,
            10,
            11,
            12,
            13,
            14,
            15,
            16,
            17,
            18,
            19,
            20,
            21,
            22,
            23,
            24
           ],
           "xaxis": "x",
           "y": [
            null,
            null,
            null,
            null,
            null,
            null,
            null,
            null,
            null,
            null,
            null,
            null,
            161.55,
            207.69,
            137.84,
            204,
            169.9,
            98.2,
            60.18,
            59.18,
            80.55,
            206.91,
            107.13,
            62.02
           ],
           "yaxis": "y"
          },
          {
           "hovertemplate": "variable=Predicted<br>timestep=22<br>periodstep=%{x}<br>value=%{y}<extra></extra>",
           "legendgroup": "Predicted",
           "line": {
            "color": "#00cc96",
            "dash": "solid"
           },
           "marker": {
            "symbol": "circle"
           },
           "mode": "lines",
           "name": "Predicted",
           "orientation": "v",
           "showlegend": true,
           "type": "scatter",
           "x": [
            1,
            2,
            3,
            4,
            5,
            6,
            7,
            8,
            9,
            10,
            11,
            12,
            13,
            14,
            15,
            16,
            17,
            18,
            19,
            20,
            21,
            22,
            23,
            24
           ],
           "xaxis": "x",
           "y": [
            null,
            null,
            null,
            null,
            null,
            null,
            null,
            null,
            null,
            null,
            null,
            null,
            145.20390577019302,
            142.20344609483533,
            134.9786742094099,
            132.52824275208692,
            130.13629887794426,
            125.23643597662678,
            125.2449534874269,
            125.24779467456325,
            130.3072333301011,
            130.53717966753948,
            130.4918509178089,
            129.0015861065635
           ],
           "yaxis": "y"
          }
         ],
         "name": "22"
        },
        {
         "data": [
          {
           "hovertemplate": "variable=HistoricalPrice<br>timestep=23<br>periodstep=%{x}<br>value=%{y}<extra></extra>",
           "legendgroup": "HistoricalPrice",
           "line": {
            "color": "#636efa",
            "dash": "solid"
           },
           "marker": {
            "symbol": "circle"
           },
           "mode": "lines",
           "name": "HistoricalPrice",
           "orientation": "v",
           "showlegend": true,
           "type": "scatter",
           "x": [
            1,
            2,
            3,
            4,
            5,
            6,
            7,
            8,
            9,
            10,
            11,
            12,
            13,
            14,
            15,
            16,
            17,
            18,
            19,
            20,
            21,
            22,
            23,
            24
           ],
           "xaxis": "x",
           "y": [
            61.79,
            61.89,
            59.01,
            48.92,
            55.19,
            68.53,
            233.28,
            346.29,
            364.65,
            421.68,
            400.11,
            161.55,
            null,
            null,
            null,
            null,
            null,
            null,
            null,
            null,
            null,
            null,
            null,
            null
           ],
           "yaxis": "y"
          },
          {
           "hovertemplate": "variable=FuturePrice<br>timestep=23<br>periodstep=%{x}<br>value=%{y}<extra></extra>",
           "legendgroup": "FuturePrice",
           "line": {
            "color": "#EF553B",
            "dash": "solid"
           },
           "marker": {
            "symbol": "circle"
           },
           "mode": "lines",
           "name": "FuturePrice",
           "orientation": "v",
           "showlegend": true,
           "type": "scatter",
           "x": [
            1,
            2,
            3,
            4,
            5,
            6,
            7,
            8,
            9,
            10,
            11,
            12,
            13,
            14,
            15,
            16,
            17,
            18,
            19,
            20,
            21,
            22,
            23,
            24
           ],
           "xaxis": "x",
           "y": [
            null,
            null,
            null,
            null,
            null,
            null,
            null,
            null,
            null,
            null,
            null,
            null,
            207.69,
            137.84,
            204,
            169.9,
            98.2,
            60.18,
            59.18,
            80.55,
            206.91,
            107.13,
            62.02,
            67.35
           ],
           "yaxis": "y"
          },
          {
           "hovertemplate": "variable=Predicted<br>timestep=23<br>periodstep=%{x}<br>value=%{y}<extra></extra>",
           "legendgroup": "Predicted",
           "line": {
            "color": "#00cc96",
            "dash": "solid"
           },
           "marker": {
            "symbol": "circle"
           },
           "mode": "lines",
           "name": "Predicted",
           "orientation": "v",
           "showlegend": true,
           "type": "scatter",
           "x": [
            1,
            2,
            3,
            4,
            5,
            6,
            7,
            8,
            9,
            10,
            11,
            12,
            13,
            14,
            15,
            16,
            17,
            18,
            19,
            20,
            21,
            22,
            23,
            24
           ],
           "xaxis": "x",
           "y": [
            null,
            null,
            null,
            null,
            null,
            null,
            null,
            null,
            null,
            null,
            null,
            null,
            134.07029006208452,
            130.1551913421247,
            129.82405156473257,
            129.16937741031074,
            130.13629887794426,
            125.23643597662678,
            125.2449534874269,
            130.04199844745955,
            130.3072333301011,
            130.53717966753948,
            130.4918509178089,
            129.0015861065635
           ],
           "yaxis": "y"
          }
         ],
         "name": "23"
        },
        {
         "data": [
          {
           "hovertemplate": "variable=HistoricalPrice<br>timestep=24<br>periodstep=%{x}<br>value=%{y}<extra></extra>",
           "legendgroup": "HistoricalPrice",
           "line": {
            "color": "#636efa",
            "dash": "solid"
           },
           "marker": {
            "symbol": "circle"
           },
           "mode": "lines",
           "name": "HistoricalPrice",
           "orientation": "v",
           "showlegend": true,
           "type": "scatter",
           "x": [
            1,
            2,
            3,
            4,
            5,
            6,
            7,
            8,
            9,
            10,
            11,
            12,
            13,
            14,
            15,
            16,
            17,
            18,
            19,
            20,
            21,
            22,
            23,
            24
           ],
           "xaxis": "x",
           "y": [
            61.89,
            59.01,
            48.92,
            55.19,
            68.53,
            233.28,
            346.29,
            364.65,
            421.68,
            400.11,
            161.55,
            207.69,
            null,
            null,
            null,
            null,
            null,
            null,
            null,
            null,
            null,
            null,
            null,
            null
           ],
           "yaxis": "y"
          },
          {
           "hovertemplate": "variable=FuturePrice<br>timestep=24<br>periodstep=%{x}<br>value=%{y}<extra></extra>",
           "legendgroup": "FuturePrice",
           "line": {
            "color": "#EF553B",
            "dash": "solid"
           },
           "marker": {
            "symbol": "circle"
           },
           "mode": "lines",
           "name": "FuturePrice",
           "orientation": "v",
           "showlegend": true,
           "type": "scatter",
           "x": [
            1,
            2,
            3,
            4,
            5,
            6,
            7,
            8,
            9,
            10,
            11,
            12,
            13,
            14,
            15,
            16,
            17,
            18,
            19,
            20,
            21,
            22,
            23,
            24
           ],
           "xaxis": "x",
           "y": [
            null,
            null,
            null,
            null,
            null,
            null,
            null,
            null,
            null,
            null,
            null,
            null,
            137.84,
            204,
            169.9,
            98.2,
            60.18,
            59.18,
            80.55,
            206.91,
            107.13,
            62.02,
            67.35,
            60.29
           ],
           "yaxis": "y"
          },
          {
           "hovertemplate": "variable=Predicted<br>timestep=24<br>periodstep=%{x}<br>value=%{y}<extra></extra>",
           "legendgroup": "Predicted",
           "line": {
            "color": "#00cc96",
            "dash": "solid"
           },
           "marker": {
            "symbol": "circle"
           },
           "mode": "lines",
           "name": "Predicted",
           "orientation": "v",
           "showlegend": true,
           "type": "scatter",
           "x": [
            1,
            2,
            3,
            4,
            5,
            6,
            7,
            8,
            9,
            10,
            11,
            12,
            13,
            14,
            15,
            16,
            17,
            18,
            19,
            20,
            21,
            22,
            23,
            24
           ],
           "xaxis": "x",
           "y": [
            null,
            null,
            null,
            null,
            null,
            null,
            null,
            null,
            null,
            null,
            null,
            null,
            134.07029006208452,
            130.1551913421247,
            129.82405156473257,
            129.16937741031074,
            130.13629887794426,
            125.23643597662678,
            130.30493415853798,
            130.04199844745955,
            130.3072333301011,
            130.53717966753948,
            130.4918509178089,
            129.0015861065635
           ],
           "yaxis": "y"
          }
         ],
         "name": "24"
        },
        {
         "data": [
          {
           "hovertemplate": "variable=HistoricalPrice<br>timestep=25<br>periodstep=%{x}<br>value=%{y}<extra></extra>",
           "legendgroup": "HistoricalPrice",
           "line": {
            "color": "#636efa",
            "dash": "solid"
           },
           "marker": {
            "symbol": "circle"
           },
           "mode": "lines",
           "name": "HistoricalPrice",
           "orientation": "v",
           "showlegend": true,
           "type": "scatter",
           "x": [
            1,
            2,
            3,
            4,
            5,
            6,
            7,
            8,
            9,
            10,
            11,
            12,
            13,
            14,
            15,
            16,
            17,
            18,
            19,
            20,
            21,
            22,
            23,
            24
           ],
           "xaxis": "x",
           "y": [
            59.01,
            48.92,
            55.19,
            68.53,
            233.28,
            346.29,
            364.65,
            421.68,
            400.11,
            161.55,
            207.69,
            137.84,
            null,
            null,
            null,
            null,
            null,
            null,
            null,
            null,
            null,
            null,
            null,
            null
           ],
           "yaxis": "y"
          },
          {
           "hovertemplate": "variable=FuturePrice<br>timestep=25<br>periodstep=%{x}<br>value=%{y}<extra></extra>",
           "legendgroup": "FuturePrice",
           "line": {
            "color": "#EF553B",
            "dash": "solid"
           },
           "marker": {
            "symbol": "circle"
           },
           "mode": "lines",
           "name": "FuturePrice",
           "orientation": "v",
           "showlegend": true,
           "type": "scatter",
           "x": [
            1,
            2,
            3,
            4,
            5,
            6,
            7,
            8,
            9,
            10,
            11,
            12,
            13,
            14,
            15,
            16,
            17,
            18,
            19,
            20,
            21,
            22,
            23,
            24
           ],
           "xaxis": "x",
           "y": [
            null,
            null,
            null,
            null,
            null,
            null,
            null,
            null,
            null,
            null,
            null,
            null,
            204,
            169.9,
            98.2,
            60.18,
            59.18,
            80.55,
            206.91,
            107.13,
            62.02,
            67.35,
            60.29,
            57.36
           ],
           "yaxis": "y"
          },
          {
           "hovertemplate": "variable=Predicted<br>timestep=25<br>periodstep=%{x}<br>value=%{y}<extra></extra>",
           "legendgroup": "Predicted",
           "line": {
            "color": "#00cc96",
            "dash": "solid"
           },
           "marker": {
            "symbol": "circle"
           },
           "mode": "lines",
           "name": "Predicted",
           "orientation": "v",
           "showlegend": true,
           "type": "scatter",
           "x": [
            1,
            2,
            3,
            4,
            5,
            6,
            7,
            8,
            9,
            10,
            11,
            12,
            13,
            14,
            15,
            16,
            17,
            18,
            19,
            20,
            21,
            22,
            23,
            24
           ],
           "xaxis": "x",
           "y": [
            null,
            null,
            null,
            null,
            null,
            null,
            null,
            null,
            null,
            null,
            null,
            null,
            134.07029006208452,
            130.1551913421247,
            129.82405156473257,
            129.16937741031074,
            141.2463012639982,
            134.53448099859057,
            130.30493415853798,
            130.04199844745955,
            130.3072333301011,
            130.53717966753948,
            130.4918509178089,
            129.0015861065635
           ],
           "yaxis": "y"
          }
         ],
         "name": "25"
        },
        {
         "data": [
          {
           "hovertemplate": "variable=HistoricalPrice<br>timestep=26<br>periodstep=%{x}<br>value=%{y}<extra></extra>",
           "legendgroup": "HistoricalPrice",
           "line": {
            "color": "#636efa",
            "dash": "solid"
           },
           "marker": {
            "symbol": "circle"
           },
           "mode": "lines",
           "name": "HistoricalPrice",
           "orientation": "v",
           "showlegend": true,
           "type": "scatter",
           "x": [
            1,
            2,
            3,
            4,
            5,
            6,
            7,
            8,
            9,
            10,
            11,
            12,
            13,
            14,
            15,
            16,
            17,
            18,
            19,
            20,
            21,
            22,
            23,
            24
           ],
           "xaxis": "x",
           "y": [
            48.92,
            55.19,
            68.53,
            233.28,
            346.29,
            364.65,
            421.68,
            400.11,
            161.55,
            207.69,
            137.84,
            204,
            null,
            null,
            null,
            null,
            null,
            null,
            null,
            null,
            null,
            null,
            null,
            null
           ],
           "yaxis": "y"
          },
          {
           "hovertemplate": "variable=FuturePrice<br>timestep=26<br>periodstep=%{x}<br>value=%{y}<extra></extra>",
           "legendgroup": "FuturePrice",
           "line": {
            "color": "#EF553B",
            "dash": "solid"
           },
           "marker": {
            "symbol": "circle"
           },
           "mode": "lines",
           "name": "FuturePrice",
           "orientation": "v",
           "showlegend": true,
           "type": "scatter",
           "x": [
            1,
            2,
            3,
            4,
            5,
            6,
            7,
            8,
            9,
            10,
            11,
            12,
            13,
            14,
            15,
            16,
            17,
            18,
            19,
            20,
            21,
            22,
            23,
            24
           ],
           "xaxis": "x",
           "y": [
            null,
            null,
            null,
            null,
            null,
            null,
            null,
            null,
            null,
            null,
            null,
            null,
            169.9,
            98.2,
            60.18,
            59.18,
            80.55,
            206.91,
            107.13,
            62.02,
            67.35,
            60.29,
            57.36,
            54.33
           ],
           "yaxis": "y"
          },
          {
           "hovertemplate": "variable=Predicted<br>timestep=26<br>periodstep=%{x}<br>value=%{y}<extra></extra>",
           "legendgroup": "Predicted",
           "line": {
            "color": "#00cc96",
            "dash": "solid"
           },
           "marker": {
            "symbol": "circle"
           },
           "mode": "lines",
           "name": "Predicted",
           "orientation": "v",
           "showlegend": true,
           "type": "scatter",
           "x": [
            1,
            2,
            3,
            4,
            5,
            6,
            7,
            8,
            9,
            10,
            11,
            12,
            13,
            14,
            15,
            16,
            17,
            18,
            19,
            20,
            21,
            22,
            23,
            24
           ],
           "xaxis": "x",
           "y": [
            null,
            null,
            null,
            null,
            null,
            null,
            null,
            null,
            null,
            null,
            null,
            null,
            134.07029006208452,
            130.1551913421247,
            129.82405156473257,
            138.7375060794457,
            141.2463012639982,
            134.53448099859057,
            130.30493415853798,
            130.04199844745955,
            130.3072333301011,
            130.53717966753948,
            130.4918509178089,
            129.0015861065635
           ],
           "yaxis": "y"
          }
         ],
         "name": "26"
        },
        {
         "data": [
          {
           "hovertemplate": "variable=HistoricalPrice<br>timestep=27<br>periodstep=%{x}<br>value=%{y}<extra></extra>",
           "legendgroup": "HistoricalPrice",
           "line": {
            "color": "#636efa",
            "dash": "solid"
           },
           "marker": {
            "symbol": "circle"
           },
           "mode": "lines",
           "name": "HistoricalPrice",
           "orientation": "v",
           "showlegend": true,
           "type": "scatter",
           "x": [
            1,
            2,
            3,
            4,
            5,
            6,
            7,
            8,
            9,
            10,
            11,
            12,
            13,
            14,
            15,
            16,
            17,
            18,
            19,
            20,
            21,
            22,
            23,
            24
           ],
           "xaxis": "x",
           "y": [
            55.19,
            68.53,
            233.28,
            346.29,
            364.65,
            421.68,
            400.11,
            161.55,
            207.69,
            137.84,
            204,
            169.9,
            null,
            null,
            null,
            null,
            null,
            null,
            null,
            null,
            null,
            null,
            null,
            null
           ],
           "yaxis": "y"
          },
          {
           "hovertemplate": "variable=FuturePrice<br>timestep=27<br>periodstep=%{x}<br>value=%{y}<extra></extra>",
           "legendgroup": "FuturePrice",
           "line": {
            "color": "#EF553B",
            "dash": "solid"
           },
           "marker": {
            "symbol": "circle"
           },
           "mode": "lines",
           "name": "FuturePrice",
           "orientation": "v",
           "showlegend": true,
           "type": "scatter",
           "x": [
            1,
            2,
            3,
            4,
            5,
            6,
            7,
            8,
            9,
            10,
            11,
            12,
            13,
            14,
            15,
            16,
            17,
            18,
            19,
            20,
            21,
            22,
            23,
            24
           ],
           "xaxis": "x",
           "y": [
            null,
            null,
            null,
            null,
            null,
            null,
            null,
            null,
            null,
            null,
            null,
            null,
            98.2,
            60.18,
            59.18,
            80.55,
            206.91,
            107.13,
            62.02,
            67.35,
            60.29,
            57.36,
            54.33,
            60.23
           ],
           "yaxis": "y"
          },
          {
           "hovertemplate": "variable=Predicted<br>timestep=27<br>periodstep=%{x}<br>value=%{y}<extra></extra>",
           "legendgroup": "Predicted",
           "line": {
            "color": "#00cc96",
            "dash": "solid"
           },
           "marker": {
            "symbol": "circle"
           },
           "mode": "lines",
           "name": "Predicted",
           "orientation": "v",
           "showlegend": true,
           "type": "scatter",
           "x": [
            1,
            2,
            3,
            4,
            5,
            6,
            7,
            8,
            9,
            10,
            11,
            12,
            13,
            14,
            15,
            16,
            17,
            18,
            19,
            20,
            21,
            22,
            23,
            24
           ],
           "xaxis": "x",
           "y": [
            null,
            null,
            null,
            null,
            null,
            null,
            null,
            null,
            null,
            null,
            null,
            null,
            152.65766174161158,
            130.1551913421247,
            137.0201719181395,
            138.7375060794457,
            141.2463012639982,
            134.53448099859057,
            130.30493415853798,
            130.04199844745955,
            130.3072333301011,
            130.53717966753948,
            130.4918509178089,
            129.0015861065635
           ],
           "yaxis": "y"
          }
         ],
         "name": "27"
        },
        {
         "data": [
          {
           "hovertemplate": "variable=HistoricalPrice<br>timestep=28<br>periodstep=%{x}<br>value=%{y}<extra></extra>",
           "legendgroup": "HistoricalPrice",
           "line": {
            "color": "#636efa",
            "dash": "solid"
           },
           "marker": {
            "symbol": "circle"
           },
           "mode": "lines",
           "name": "HistoricalPrice",
           "orientation": "v",
           "showlegend": true,
           "type": "scatter",
           "x": [
            1,
            2,
            3,
            4,
            5,
            6,
            7,
            8,
            9,
            10,
            11,
            12,
            13,
            14,
            15,
            16,
            17,
            18,
            19,
            20,
            21,
            22,
            23,
            24
           ],
           "xaxis": "x",
           "y": [
            68.53,
            233.28,
            346.29,
            364.65,
            421.68,
            400.11,
            161.55,
            207.69,
            137.84,
            204,
            169.9,
            98.2,
            null,
            null,
            null,
            null,
            null,
            null,
            null,
            null,
            null,
            null,
            null,
            null
           ],
           "yaxis": "y"
          },
          {
           "hovertemplate": "variable=FuturePrice<br>timestep=28<br>periodstep=%{x}<br>value=%{y}<extra></extra>",
           "legendgroup": "FuturePrice",
           "line": {
            "color": "#EF553B",
            "dash": "solid"
           },
           "marker": {
            "symbol": "circle"
           },
           "mode": "lines",
           "name": "FuturePrice",
           "orientation": "v",
           "showlegend": true,
           "type": "scatter",
           "x": [
            1,
            2,
            3,
            4,
            5,
            6,
            7,
            8,
            9,
            10,
            11,
            12,
            13,
            14,
            15,
            16,
            17,
            18,
            19,
            20,
            21,
            22,
            23,
            24
           ],
           "xaxis": "x",
           "y": [
            null,
            null,
            null,
            null,
            null,
            null,
            null,
            null,
            null,
            null,
            null,
            null,
            60.18,
            59.18,
            80.55,
            206.91,
            107.13,
            62.02,
            67.35,
            60.29,
            57.36,
            54.33,
            60.23,
            58.99
           ],
           "yaxis": "y"
          },
          {
           "hovertemplate": "variable=Predicted<br>timestep=28<br>periodstep=%{x}<br>value=%{y}<extra></extra>",
           "legendgroup": "Predicted",
           "line": {
            "color": "#00cc96",
            "dash": "solid"
           },
           "marker": {
            "symbol": "circle"
           },
           "mode": "lines",
           "name": "Predicted",
           "orientation": "v",
           "showlegend": true,
           "type": "scatter",
           "x": [
            1,
            2,
            3,
            4,
            5,
            6,
            7,
            8,
            9,
            10,
            11,
            12,
            13,
            14,
            15,
            16,
            17,
            18,
            19,
            20,
            21,
            22,
            23,
            24
           ],
           "xaxis": "x",
           "y": [
            null,
            null,
            null,
            null,
            null,
            null,
            null,
            null,
            null,
            null,
            null,
            null,
            130.32454028871655,
            151.54143313879126,
            133.93247541736804,
            134.3992861996545,
            134.75450474673187,
            134.53448099859057,
            130.30493415853798,
            130.04199844745955,
            130.3072333301011,
            130.53717966753948,
            130.4918509178089,
            129.0015861065635
           ],
           "yaxis": "y"
          }
         ],
         "name": "28"
        },
        {
         "data": [
          {
           "hovertemplate": "variable=HistoricalPrice<br>timestep=29<br>periodstep=%{x}<br>value=%{y}<extra></extra>",
           "legendgroup": "HistoricalPrice",
           "line": {
            "color": "#636efa",
            "dash": "solid"
           },
           "marker": {
            "symbol": "circle"
           },
           "mode": "lines",
           "name": "HistoricalPrice",
           "orientation": "v",
           "showlegend": true,
           "type": "scatter",
           "x": [
            1,
            2,
            3,
            4,
            5,
            6,
            7,
            8,
            9,
            10,
            11,
            12,
            13,
            14,
            15,
            16,
            17,
            18,
            19,
            20,
            21,
            22,
            23,
            24
           ],
           "xaxis": "x",
           "y": [
            233.28,
            346.29,
            364.65,
            421.68,
            400.11,
            161.55,
            207.69,
            137.84,
            204,
            169.9,
            98.2,
            60.18,
            null,
            null,
            null,
            null,
            null,
            null,
            null,
            null,
            null,
            null,
            null,
            null
           ],
           "yaxis": "y"
          },
          {
           "hovertemplate": "variable=FuturePrice<br>timestep=29<br>periodstep=%{x}<br>value=%{y}<extra></extra>",
           "legendgroup": "FuturePrice",
           "line": {
            "color": "#EF553B",
            "dash": "solid"
           },
           "marker": {
            "symbol": "circle"
           },
           "mode": "lines",
           "name": "FuturePrice",
           "orientation": "v",
           "showlegend": true,
           "type": "scatter",
           "x": [
            1,
            2,
            3,
            4,
            5,
            6,
            7,
            8,
            9,
            10,
            11,
            12,
            13,
            14,
            15,
            16,
            17,
            18,
            19,
            20,
            21,
            22,
            23,
            24
           ],
           "xaxis": "x",
           "y": [
            null,
            null,
            null,
            null,
            null,
            null,
            null,
            null,
            null,
            null,
            null,
            null,
            59.18,
            80.55,
            206.91,
            107.13,
            62.02,
            67.35,
            60.29,
            57.36,
            54.33,
            60.23,
            58.99,
            61.64
           ],
           "yaxis": "y"
          },
          {
           "hovertemplate": "variable=Predicted<br>timestep=29<br>periodstep=%{x}<br>value=%{y}<extra></extra>",
           "legendgroup": "Predicted",
           "line": {
            "color": "#00cc96",
            "dash": "solid"
           },
           "marker": {
            "symbol": "circle"
           },
           "mode": "lines",
           "name": "Predicted",
           "orientation": "v",
           "showlegend": true,
           "type": "scatter",
           "x": [
            1,
            2,
            3,
            4,
            5,
            6,
            7,
            8,
            9,
            10,
            11,
            12,
            13,
            14,
            15,
            16,
            17,
            18,
            19,
            20,
            21,
            22,
            23,
            24
           ],
           "xaxis": "x",
           "y": [
            null,
            null,
            null,
            null,
            null,
            null,
            null,
            null,
            null,
            null,
            null,
            null,
            125.42139459950675,
            124.56045664843059,
            127.78766574965053,
            130.13827599652325,
            130.04748944647804,
            127.85657068918573,
            130.30493415853798,
            130.04199844745955,
            130.3072333301011,
            130.53717966753948,
            130.4918509178089,
            180.5171307190557
           ],
           "yaxis": "y"
          }
         ],
         "name": "29"
        },
        {
         "data": [
          {
           "hovertemplate": "variable=HistoricalPrice<br>timestep=30<br>periodstep=%{x}<br>value=%{y}<extra></extra>",
           "legendgroup": "HistoricalPrice",
           "line": {
            "color": "#636efa",
            "dash": "solid"
           },
           "marker": {
            "symbol": "circle"
           },
           "mode": "lines",
           "name": "HistoricalPrice",
           "orientation": "v",
           "showlegend": true,
           "type": "scatter",
           "x": [
            1,
            2,
            3,
            4,
            5,
            6,
            7,
            8,
            9,
            10,
            11,
            12,
            13,
            14,
            15,
            16,
            17,
            18,
            19,
            20,
            21,
            22,
            23,
            24
           ],
           "xaxis": "x",
           "y": [
            346.29,
            364.65,
            421.68,
            400.11,
            161.55,
            207.69,
            137.84,
            204,
            169.9,
            98.2,
            60.18,
            59.18,
            null,
            null,
            null,
            null,
            null,
            null,
            null,
            null,
            null,
            null,
            null,
            null
           ],
           "yaxis": "y"
          },
          {
           "hovertemplate": "variable=FuturePrice<br>timestep=30<br>periodstep=%{x}<br>value=%{y}<extra></extra>",
           "legendgroup": "FuturePrice",
           "line": {
            "color": "#EF553B",
            "dash": "solid"
           },
           "marker": {
            "symbol": "circle"
           },
           "mode": "lines",
           "name": "FuturePrice",
           "orientation": "v",
           "showlegend": true,
           "type": "scatter",
           "x": [
            1,
            2,
            3,
            4,
            5,
            6,
            7,
            8,
            9,
            10,
            11,
            12,
            13,
            14,
            15,
            16,
            17,
            18,
            19,
            20,
            21,
            22,
            23,
            24
           ],
           "xaxis": "x",
           "y": [
            null,
            null,
            null,
            null,
            null,
            null,
            null,
            null,
            null,
            null,
            null,
            null,
            80.55,
            206.91,
            107.13,
            62.02,
            67.35,
            60.29,
            57.36,
            54.33,
            60.23,
            58.99,
            61.64,
            64.46
           ],
           "yaxis": "y"
          },
          {
           "hovertemplate": "variable=Predicted<br>timestep=30<br>periodstep=%{x}<br>value=%{y}<extra></extra>",
           "legendgroup": "Predicted",
           "line": {
            "color": "#00cc96",
            "dash": "solid"
           },
           "marker": {
            "symbol": "circle"
           },
           "mode": "lines",
           "name": "Predicted",
           "orientation": "v",
           "showlegend": true,
           "type": "scatter",
           "x": [
            1,
            2,
            3,
            4,
            5,
            6,
            7,
            8,
            9,
            10,
            11,
            12,
            13,
            14,
            15,
            16,
            17,
            18,
            19,
            20,
            21,
            22,
            23,
            24
           ],
           "xaxis": "x",
           "y": [
            null,
            null,
            null,
            null,
            null,
            null,
            null,
            null,
            null,
            null,
            null,
            null,
            125.42139459950675,
            124.56045664843059,
            127.78766574965053,
            130.13827599652325,
            130.04748944647804,
            127.85657068918573,
            130.30493415853798,
            130.04199844745955,
            130.3072333301011,
            130.53717966753948,
            180.51496231447442,
            180.5171307190557
           ],
           "yaxis": "y"
          }
         ],
         "name": "30"
        },
        {
         "data": [
          {
           "hovertemplate": "variable=HistoricalPrice<br>timestep=31<br>periodstep=%{x}<br>value=%{y}<extra></extra>",
           "legendgroup": "HistoricalPrice",
           "line": {
            "color": "#636efa",
            "dash": "solid"
           },
           "marker": {
            "symbol": "circle"
           },
           "mode": "lines",
           "name": "HistoricalPrice",
           "orientation": "v",
           "showlegend": true,
           "type": "scatter",
           "x": [
            1,
            2,
            3,
            4,
            5,
            6,
            7,
            8,
            9,
            10,
            11,
            12,
            13,
            14,
            15,
            16,
            17,
            18,
            19,
            20,
            21,
            22,
            23,
            24
           ],
           "xaxis": "x",
           "y": [
            364.65,
            421.68,
            400.11,
            161.55,
            207.69,
            137.84,
            204,
            169.9,
            98.2,
            60.18,
            59.18,
            80.55,
            null,
            null,
            null,
            null,
            null,
            null,
            null,
            null,
            null,
            null,
            null,
            null
           ],
           "yaxis": "y"
          },
          {
           "hovertemplate": "variable=FuturePrice<br>timestep=31<br>periodstep=%{x}<br>value=%{y}<extra></extra>",
           "legendgroup": "FuturePrice",
           "line": {
            "color": "#EF553B",
            "dash": "solid"
           },
           "marker": {
            "symbol": "circle"
           },
           "mode": "lines",
           "name": "FuturePrice",
           "orientation": "v",
           "showlegend": true,
           "type": "scatter",
           "x": [
            1,
            2,
            3,
            4,
            5,
            6,
            7,
            8,
            9,
            10,
            11,
            12,
            13,
            14,
            15,
            16,
            17,
            18,
            19,
            20,
            21,
            22,
            23,
            24
           ],
           "xaxis": "x",
           "y": [
            null,
            null,
            null,
            null,
            null,
            null,
            null,
            null,
            null,
            null,
            null,
            null,
            206.91,
            107.13,
            62.02,
            67.35,
            60.29,
            57.36,
            54.33,
            60.23,
            58.99,
            61.64,
            64.46,
            73.53
           ],
           "yaxis": "y"
          },
          {
           "hovertemplate": "variable=Predicted<br>timestep=31<br>periodstep=%{x}<br>value=%{y}<extra></extra>",
           "legendgroup": "Predicted",
           "line": {
            "color": "#00cc96",
            "dash": "solid"
           },
           "marker": {
            "symbol": "circle"
           },
           "mode": "lines",
           "name": "Predicted",
           "orientation": "v",
           "showlegend": true,
           "type": "scatter",
           "x": [
            1,
            2,
            3,
            4,
            5,
            6,
            7,
            8,
            9,
            10,
            11,
            12,
            13,
            14,
            15,
            16,
            17,
            18,
            19,
            20,
            21,
            22,
            23,
            24
           ],
           "xaxis": "x",
           "y": [
            null,
            null,
            null,
            null,
            null,
            null,
            null,
            null,
            null,
            null,
            null,
            null,
            127.57724290974929,
            128.1012345218249,
            127.78766574965053,
            130.13827599652325,
            130.04748944647804,
            127.85657068918573,
            130.30493415853798,
            130.04199844745955,
            130.3072333301011,
            180.5136460645951,
            180.51496231447442,
            133.6709962675787
           ],
           "yaxis": "y"
          }
         ],
         "name": "31"
        },
        {
         "data": [
          {
           "hovertemplate": "variable=HistoricalPrice<br>timestep=32<br>periodstep=%{x}<br>value=%{y}<extra></extra>",
           "legendgroup": "HistoricalPrice",
           "line": {
            "color": "#636efa",
            "dash": "solid"
           },
           "marker": {
            "symbol": "circle"
           },
           "mode": "lines",
           "name": "HistoricalPrice",
           "orientation": "v",
           "showlegend": true,
           "type": "scatter",
           "x": [
            1,
            2,
            3,
            4,
            5,
            6,
            7,
            8,
            9,
            10,
            11,
            12,
            13,
            14,
            15,
            16,
            17,
            18,
            19,
            20,
            21,
            22,
            23,
            24
           ],
           "xaxis": "x",
           "y": [
            421.68,
            400.11,
            161.55,
            207.69,
            137.84,
            204,
            169.9,
            98.2,
            60.18,
            59.18,
            80.55,
            206.91,
            null,
            null,
            null,
            null,
            null,
            null,
            null,
            null,
            null,
            null,
            null,
            null
           ],
           "yaxis": "y"
          },
          {
           "hovertemplate": "variable=FuturePrice<br>timestep=32<br>periodstep=%{x}<br>value=%{y}<extra></extra>",
           "legendgroup": "FuturePrice",
           "line": {
            "color": "#EF553B",
            "dash": "solid"
           },
           "marker": {
            "symbol": "circle"
           },
           "mode": "lines",
           "name": "FuturePrice",
           "orientation": "v",
           "showlegend": true,
           "type": "scatter",
           "x": [
            1,
            2,
            3,
            4,
            5,
            6,
            7,
            8,
            9,
            10,
            11,
            12,
            13,
            14,
            15,
            16,
            17,
            18,
            19,
            20,
            21,
            22,
            23,
            24
           ],
           "xaxis": "x",
           "y": [
            null,
            null,
            null,
            null,
            null,
            null,
            null,
            null,
            null,
            null,
            null,
            null,
            107.13,
            62.02,
            67.35,
            60.29,
            57.36,
            54.33,
            60.23,
            58.99,
            61.64,
            64.46,
            73.53,
            68.5
           ],
           "yaxis": "y"
          },
          {
           "hovertemplate": "variable=Predicted<br>timestep=32<br>periodstep=%{x}<br>value=%{y}<extra></extra>",
           "legendgroup": "Predicted",
           "line": {
            "color": "#00cc96",
            "dash": "solid"
           },
           "marker": {
            "symbol": "circle"
           },
           "mode": "lines",
           "name": "Predicted",
           "orientation": "v",
           "showlegend": true,
           "type": "scatter",
           "x": [
            1,
            2,
            3,
            4,
            5,
            6,
            7,
            8,
            9,
            10,
            11,
            12,
            13,
            14,
            15,
            16,
            17,
            18,
            19,
            20,
            21,
            22,
            23,
            24
           ],
           "xaxis": "x",
           "y": [
            null,
            null,
            null,
            null,
            null,
            null,
            null,
            null,
            null,
            null,
            null,
            null,
            152.65766174161158,
            139.6642682407703,
            170.07779395618257,
            142.71908809446836,
            134.75450474673187,
            134.53448099859057,
            130.30493415853798,
            130.04199844745955,
            144.48970617286778,
            180.5136460645951,
            177.70114217512813,
            173.50337396612454
           ],
           "yaxis": "y"
          }
         ],
         "name": "32"
        },
        {
         "data": [
          {
           "hovertemplate": "variable=HistoricalPrice<br>timestep=33<br>periodstep=%{x}<br>value=%{y}<extra></extra>",
           "legendgroup": "HistoricalPrice",
           "line": {
            "color": "#636efa",
            "dash": "solid"
           },
           "marker": {
            "symbol": "circle"
           },
           "mode": "lines",
           "name": "HistoricalPrice",
           "orientation": "v",
           "showlegend": true,
           "type": "scatter",
           "x": [
            1,
            2,
            3,
            4,
            5,
            6,
            7,
            8,
            9,
            10,
            11,
            12,
            13,
            14,
            15,
            16,
            17,
            18,
            19,
            20,
            21,
            22,
            23,
            24
           ],
           "xaxis": "x",
           "y": [
            400.11,
            161.55,
            207.69,
            137.84,
            204,
            169.9,
            98.2,
            60.18,
            59.18,
            80.55,
            206.91,
            107.13,
            null,
            null,
            null,
            null,
            null,
            null,
            null,
            null,
            null,
            null,
            null,
            null
           ],
           "yaxis": "y"
          },
          {
           "hovertemplate": "variable=FuturePrice<br>timestep=33<br>periodstep=%{x}<br>value=%{y}<extra></extra>",
           "legendgroup": "FuturePrice",
           "line": {
            "color": "#EF553B",
            "dash": "solid"
           },
           "marker": {
            "symbol": "circle"
           },
           "mode": "lines",
           "name": "FuturePrice",
           "orientation": "v",
           "showlegend": true,
           "type": "scatter",
           "x": [
            1,
            2,
            3,
            4,
            5,
            6,
            7,
            8,
            9,
            10,
            11,
            12,
            13,
            14,
            15,
            16,
            17,
            18,
            19,
            20,
            21,
            22,
            23,
            24
           ],
           "xaxis": "x",
           "y": [
            null,
            null,
            null,
            null,
            null,
            null,
            null,
            null,
            null,
            null,
            null,
            null,
            62.02,
            67.35,
            60.29,
            57.36,
            54.33,
            60.23,
            58.99,
            61.64,
            64.46,
            73.53,
            68.5,
            70.18
           ],
           "yaxis": "y"
          },
          {
           "hovertemplate": "variable=Predicted<br>timestep=33<br>periodstep=%{x}<br>value=%{y}<extra></extra>",
           "legendgroup": "Predicted",
           "line": {
            "color": "#00cc96",
            "dash": "solid"
           },
           "marker": {
            "symbol": "circle"
           },
           "mode": "lines",
           "name": "Predicted",
           "orientation": "v",
           "showlegend": true,
           "type": "scatter",
           "x": [
            1,
            2,
            3,
            4,
            5,
            6,
            7,
            8,
            9,
            10,
            11,
            12,
            13,
            14,
            15,
            16,
            17,
            18,
            19,
            20,
            21,
            22,
            23,
            24
           ],
           "xaxis": "x",
           "y": [
            null,
            null,
            null,
            null,
            null,
            null,
            null,
            null,
            null,
            null,
            null,
            null,
            130.32454028871655,
            139.6642682407703,
            144.10308833689433,
            142.71908809446836,
            134.75450474673187,
            134.53448099859057,
            130.30493415853798,
            135.42710949364914,
            130.93330697403127,
            144.4371188308991,
            177.70114217512813,
            173.50337396612454
           ],
           "yaxis": "y"
          }
         ],
         "name": "33"
        },
        {
         "data": [
          {
           "hovertemplate": "variable=HistoricalPrice<br>timestep=34<br>periodstep=%{x}<br>value=%{y}<extra></extra>",
           "legendgroup": "HistoricalPrice",
           "line": {
            "color": "#636efa",
            "dash": "solid"
           },
           "marker": {
            "symbol": "circle"
           },
           "mode": "lines",
           "name": "HistoricalPrice",
           "orientation": "v",
           "showlegend": true,
           "type": "scatter",
           "x": [
            1,
            2,
            3,
            4,
            5,
            6,
            7,
            8,
            9,
            10,
            11,
            12,
            13,
            14,
            15,
            16,
            17,
            18,
            19,
            20,
            21,
            22,
            23,
            24
           ],
           "xaxis": "x",
           "y": [
            161.55,
            207.69,
            137.84,
            204,
            169.9,
            98.2,
            60.18,
            59.18,
            80.55,
            206.91,
            107.13,
            62.02,
            null,
            null,
            null,
            null,
            null,
            null,
            null,
            null,
            null,
            null,
            null,
            null
           ],
           "yaxis": "y"
          },
          {
           "hovertemplate": "variable=FuturePrice<br>timestep=34<br>periodstep=%{x}<br>value=%{y}<extra></extra>",
           "legendgroup": "FuturePrice",
           "line": {
            "color": "#EF553B",
            "dash": "solid"
           },
           "marker": {
            "symbol": "circle"
           },
           "mode": "lines",
           "name": "FuturePrice",
           "orientation": "v",
           "showlegend": true,
           "type": "scatter",
           "x": [
            1,
            2,
            3,
            4,
            5,
            6,
            7,
            8,
            9,
            10,
            11,
            12,
            13,
            14,
            15,
            16,
            17,
            18,
            19,
            20,
            21,
            22,
            23,
            24
           ],
           "xaxis": "x",
           "y": [
            null,
            null,
            null,
            null,
            null,
            null,
            null,
            null,
            null,
            null,
            null,
            null,
            67.35,
            60.29,
            57.36,
            54.33,
            60.23,
            58.99,
            61.64,
            64.46,
            73.53,
            68.5,
            70.18,
            64.59
           ],
           "yaxis": "y"
          },
          {
           "hovertemplate": "variable=Predicted<br>timestep=34<br>periodstep=%{x}<br>value=%{y}<extra></extra>",
           "legendgroup": "Predicted",
           "line": {
            "color": "#00cc96",
            "dash": "solid"
           },
           "marker": {
            "symbol": "circle"
           },
           "mode": "lines",
           "name": "Predicted",
           "orientation": "v",
           "showlegend": true,
           "type": "scatter",
           "x": [
            1,
            2,
            3,
            4,
            5,
            6,
            7,
            8,
            9,
            10,
            11,
            12,
            13,
            14,
            15,
            16,
            17,
            18,
            19,
            20,
            21,
            22,
            23,
            24
           ],
           "xaxis": "x",
           "y": [
            null,
            null,
            null,
            null,
            null,
            null,
            null,
            null,
            null,
            null,
            null,
            null,
            125.42139459950675,
            128.1012345218249,
            127.78766574965053,
            130.13827599652325,
            130.04748944647804,
            127.85657068918573,
            152.74456861063956,
            135.42710949364914,
            133.8477283487089,
            144.4371188308991,
            177.70114217512813,
            173.50337396612454
           ],
           "yaxis": "y"
          }
         ],
         "name": "34"
        },
        {
         "data": [
          {
           "hovertemplate": "variable=HistoricalPrice<br>timestep=35<br>periodstep=%{x}<br>value=%{y}<extra></extra>",
           "legendgroup": "HistoricalPrice",
           "line": {
            "color": "#636efa",
            "dash": "solid"
           },
           "marker": {
            "symbol": "circle"
           },
           "mode": "lines",
           "name": "HistoricalPrice",
           "orientation": "v",
           "showlegend": true,
           "type": "scatter",
           "x": [
            1,
            2,
            3,
            4,
            5,
            6,
            7,
            8,
            9,
            10,
            11,
            12,
            13,
            14,
            15,
            16,
            17,
            18,
            19,
            20,
            21,
            22,
            23,
            24
           ],
           "xaxis": "x",
           "y": [
            207.69,
            137.84,
            204,
            169.9,
            98.2,
            60.18,
            59.18,
            80.55,
            206.91,
            107.13,
            62.02,
            67.35,
            null,
            null,
            null,
            null,
            null,
            null,
            null,
            null,
            null,
            null,
            null,
            null
           ],
           "yaxis": "y"
          },
          {
           "hovertemplate": "variable=FuturePrice<br>timestep=35<br>periodstep=%{x}<br>value=%{y}<extra></extra>",
           "legendgroup": "FuturePrice",
           "line": {
            "color": "#EF553B",
            "dash": "solid"
           },
           "marker": {
            "symbol": "circle"
           },
           "mode": "lines",
           "name": "FuturePrice",
           "orientation": "v",
           "showlegend": true,
           "type": "scatter",
           "x": [
            1,
            2,
            3,
            4,
            5,
            6,
            7,
            8,
            9,
            10,
            11,
            12,
            13,
            14,
            15,
            16,
            17,
            18,
            19,
            20,
            21,
            22,
            23,
            24
           ],
           "xaxis": "x",
           "y": [
            null,
            null,
            null,
            null,
            null,
            null,
            null,
            null,
            null,
            null,
            null,
            null,
            60.29,
            57.36,
            54.33,
            60.23,
            58.99,
            61.64,
            64.46,
            73.53,
            68.5,
            70.18,
            64.59,
            68.32
           ],
           "yaxis": "y"
          },
          {
           "hovertemplate": "variable=Predicted<br>timestep=35<br>periodstep=%{x}<br>value=%{y}<extra></extra>",
           "legendgroup": "Predicted",
           "line": {
            "color": "#00cc96",
            "dash": "solid"
           },
           "marker": {
            "symbol": "circle"
           },
           "mode": "lines",
           "name": "Predicted",
           "orientation": "v",
           "showlegend": true,
           "type": "scatter",
           "x": [
            1,
            2,
            3,
            4,
            5,
            6,
            7,
            8,
            9,
            10,
            11,
            12,
            13,
            14,
            15,
            16,
            17,
            18,
            19,
            20,
            21,
            22,
            23,
            24
           ],
           "xaxis": "x",
           "y": [
            null,
            null,
            null,
            null,
            null,
            null,
            null,
            null,
            null,
            null,
            null,
            null,
            125.42139459950675,
            128.1012345218249,
            127.78766574965053,
            130.13827599652325,
            137.84798365255782,
            129.14619518279943,
            152.74456861063956,
            132.98119605284583,
            149.61829215246055,
            144.4371188308991,
            177.70114217512813,
            131.2792529518786
           ],
           "yaxis": "y"
          }
         ],
         "name": "35"
        },
        {
         "data": [
          {
           "hovertemplate": "variable=HistoricalPrice<br>timestep=36<br>periodstep=%{x}<br>value=%{y}<extra></extra>",
           "legendgroup": "HistoricalPrice",
           "line": {
            "color": "#636efa",
            "dash": "solid"
           },
           "marker": {
            "symbol": "circle"
           },
           "mode": "lines",
           "name": "HistoricalPrice",
           "orientation": "v",
           "showlegend": true,
           "type": "scatter",
           "x": [
            1,
            2,
            3,
            4,
            5,
            6,
            7,
            8,
            9,
            10,
            11,
            12,
            13,
            14,
            15,
            16,
            17,
            18,
            19,
            20,
            21,
            22,
            23,
            24
           ],
           "xaxis": "x",
           "y": [
            137.84,
            204,
            169.9,
            98.2,
            60.18,
            59.18,
            80.55,
            206.91,
            107.13,
            62.02,
            67.35,
            60.29,
            null,
            null,
            null,
            null,
            null,
            null,
            null,
            null,
            null,
            null,
            null,
            null
           ],
           "yaxis": "y"
          },
          {
           "hovertemplate": "variable=FuturePrice<br>timestep=36<br>periodstep=%{x}<br>value=%{y}<extra></extra>",
           "legendgroup": "FuturePrice",
           "line": {
            "color": "#EF553B",
            "dash": "solid"
           },
           "marker": {
            "symbol": "circle"
           },
           "mode": "lines",
           "name": "FuturePrice",
           "orientation": "v",
           "showlegend": true,
           "type": "scatter",
           "x": [
            1,
            2,
            3,
            4,
            5,
            6,
            7,
            8,
            9,
            10,
            11,
            12,
            13,
            14,
            15,
            16,
            17,
            18,
            19,
            20,
            21,
            22,
            23,
            24
           ],
           "xaxis": "x",
           "y": [
            null,
            null,
            null,
            null,
            null,
            null,
            null,
            null,
            null,
            null,
            null,
            null,
            57.36,
            54.33,
            60.23,
            58.99,
            61.64,
            64.46,
            73.53,
            68.5,
            70.18,
            64.59,
            68.32,
            100.48
           ],
           "yaxis": "y"
          },
          {
           "hovertemplate": "variable=Predicted<br>timestep=36<br>periodstep=%{x}<br>value=%{y}<extra></extra>",
           "legendgroup": "Predicted",
           "line": {
            "color": "#00cc96",
            "dash": "solid"
           },
           "marker": {
            "symbol": "circle"
           },
           "mode": "lines",
           "name": "Predicted",
           "orientation": "v",
           "showlegend": true,
           "type": "scatter",
           "x": [
            1,
            2,
            3,
            4,
            5,
            6,
            7,
            8,
            9,
            10,
            11,
            12,
            13,
            14,
            15,
            16,
            17,
            18,
            19,
            20,
            21,
            22,
            23,
            24
           ],
           "xaxis": "x",
           "y": [
            null,
            null,
            null,
            null,
            null,
            null,
            null,
            null,
            null,
            null,
            null,
            null,
            125.42139459950675,
            124.56045664843059,
            127.78766574965053,
            130.13827599652325,
            137.84798365255782,
            129.14619518279943,
            140.5304401580169,
            132.98119605284583,
            149.61829215246055,
            144.4371188308991,
            131.27708564770052,
            131.2792529518786
           ],
           "yaxis": "y"
          }
         ],
         "name": "36"
        },
        {
         "data": [
          {
           "hovertemplate": "variable=HistoricalPrice<br>timestep=37<br>periodstep=%{x}<br>value=%{y}<extra></extra>",
           "legendgroup": "HistoricalPrice",
           "line": {
            "color": "#636efa",
            "dash": "solid"
           },
           "marker": {
            "symbol": "circle"
           },
           "mode": "lines",
           "name": "HistoricalPrice",
           "orientation": "v",
           "showlegend": true,
           "type": "scatter",
           "x": [
            1,
            2,
            3,
            4,
            5,
            6,
            7,
            8,
            9,
            10,
            11,
            12,
            13,
            14,
            15,
            16,
            17,
            18,
            19,
            20,
            21,
            22,
            23,
            24
           ],
           "xaxis": "x",
           "y": [
            204,
            169.9,
            98.2,
            60.18,
            59.18,
            80.55,
            206.91,
            107.13,
            62.02,
            67.35,
            60.29,
            57.36,
            null,
            null,
            null,
            null,
            null,
            null,
            null,
            null,
            null,
            null,
            null,
            null
           ],
           "yaxis": "y"
          },
          {
           "hovertemplate": "variable=FuturePrice<br>timestep=37<br>periodstep=%{x}<br>value=%{y}<extra></extra>",
           "legendgroup": "FuturePrice",
           "line": {
            "color": "#EF553B",
            "dash": "solid"
           },
           "marker": {
            "symbol": "circle"
           },
           "mode": "lines",
           "name": "FuturePrice",
           "orientation": "v",
           "showlegend": true,
           "type": "scatter",
           "x": [
            1,
            2,
            3,
            4,
            5,
            6,
            7,
            8,
            9,
            10,
            11,
            12,
            13,
            14,
            15,
            16,
            17,
            18,
            19,
            20,
            21,
            22,
            23,
            24
           ],
           "xaxis": "x",
           "y": [
            null,
            null,
            null,
            null,
            null,
            null,
            null,
            null,
            null,
            null,
            null,
            null,
            54.33,
            60.23,
            58.99,
            61.64,
            64.46,
            73.53,
            68.5,
            70.18,
            64.59,
            68.32,
            100.48,
            62.45
           ],
           "yaxis": "y"
          },
          {
           "hovertemplate": "variable=Predicted<br>timestep=37<br>periodstep=%{x}<br>value=%{y}<extra></extra>",
           "legendgroup": "Predicted",
           "line": {
            "color": "#00cc96",
            "dash": "solid"
           },
           "marker": {
            "symbol": "circle"
           },
           "mode": "lines",
           "name": "Predicted",
           "orientation": "v",
           "showlegend": true,
           "type": "scatter",
           "x": [
            1,
            2,
            3,
            4,
            5,
            6,
            7,
            8,
            9,
            10,
            11,
            12,
            13,
            14,
            15,
            16,
            17,
            18,
            19,
            20,
            21,
            22,
            23,
            24
           ],
           "xaxis": "x",
           "y": [
            null,
            null,
            null,
            null,
            null,
            null,
            null,
            null,
            null,
            null,
            null,
            null,
            125.42139459950675,
            124.56045664843059,
            135.05794924981754,
            130.13827599652325,
            137.84798365255782,
            130.6545568163636,
            129.50557560115487,
            132.98119605284583,
            133.8477283487089,
            131.27576930435023,
            131.27708564770052,
            131.2792529518786
           ],
           "yaxis": "y"
          }
         ],
         "name": "37"
        },
        {
         "data": [
          {
           "hovertemplate": "variable=HistoricalPrice<br>timestep=38<br>periodstep=%{x}<br>value=%{y}<extra></extra>",
           "legendgroup": "HistoricalPrice",
           "line": {
            "color": "#636efa",
            "dash": "solid"
           },
           "marker": {
            "symbol": "circle"
           },
           "mode": "lines",
           "name": "HistoricalPrice",
           "orientation": "v",
           "showlegend": true,
           "type": "scatter",
           "x": [
            1,
            2,
            3,
            4,
            5,
            6,
            7,
            8,
            9,
            10,
            11,
            12,
            13,
            14,
            15,
            16,
            17,
            18,
            19,
            20,
            21,
            22,
            23,
            24
           ],
           "xaxis": "x",
           "y": [
            169.9,
            98.2,
            60.18,
            59.18,
            80.55,
            206.91,
            107.13,
            62.02,
            67.35,
            60.29,
            57.36,
            54.33,
            null,
            null,
            null,
            null,
            null,
            null,
            null,
            null,
            null,
            null,
            null,
            null
           ],
           "yaxis": "y"
          },
          {
           "hovertemplate": "variable=FuturePrice<br>timestep=38<br>periodstep=%{x}<br>value=%{y}<extra></extra>",
           "legendgroup": "FuturePrice",
           "line": {
            "color": "#EF553B",
            "dash": "solid"
           },
           "marker": {
            "symbol": "circle"
           },
           "mode": "lines",
           "name": "FuturePrice",
           "orientation": "v",
           "showlegend": true,
           "type": "scatter",
           "x": [
            1,
            2,
            3,
            4,
            5,
            6,
            7,
            8,
            9,
            10,
            11,
            12,
            13,
            14,
            15,
            16,
            17,
            18,
            19,
            20,
            21,
            22,
            23,
            24
           ],
           "xaxis": "x",
           "y": [
            null,
            null,
            null,
            null,
            null,
            null,
            null,
            null,
            null,
            null,
            null,
            null,
            60.23,
            58.99,
            61.64,
            64.46,
            73.53,
            68.5,
            70.18,
            64.59,
            68.32,
            100.48,
            62.45,
            50.67
           ],
           "yaxis": "y"
          },
          {
           "hovertemplate": "variable=Predicted<br>timestep=38<br>periodstep=%{x}<br>value=%{y}<extra></extra>",
           "legendgroup": "Predicted",
           "line": {
            "color": "#00cc96",
            "dash": "solid"
           },
           "marker": {
            "symbol": "circle"
           },
           "mode": "lines",
           "name": "Predicted",
           "orientation": "v",
           "showlegend": true,
           "type": "scatter",
           "x": [
            1,
            2,
            3,
            4,
            5,
            6,
            7,
            8,
            9,
            10,
            11,
            12,
            13,
            14,
            15,
            16,
            17,
            18,
            19,
            20,
            21,
            22,
            23,
            24
           ],
           "xaxis": "x",
           "y": [
            null,
            null,
            null,
            null,
            null,
            null,
            null,
            null,
            null,
            null,
            null,
            null,
            125.42139459950675,
            124.56045664843059,
            124.9165409601146,
            126.17051669723918,
            132.29583778800753,
            130.6545568163636,
            129.50557560115487,
            132.98119605284583,
            130.93330697403127,
            131.27576930435023,
            131.27708564770052,
            131.2792529518786
           ],
           "yaxis": "y"
          }
         ],
         "name": "38"
        },
        {
         "data": [
          {
           "hovertemplate": "variable=HistoricalPrice<br>timestep=39<br>periodstep=%{x}<br>value=%{y}<extra></extra>",
           "legendgroup": "HistoricalPrice",
           "line": {
            "color": "#636efa",
            "dash": "solid"
           },
           "marker": {
            "symbol": "circle"
           },
           "mode": "lines",
           "name": "HistoricalPrice",
           "orientation": "v",
           "showlegend": true,
           "type": "scatter",
           "x": [
            1,
            2,
            3,
            4,
            5,
            6,
            7,
            8,
            9,
            10,
            11,
            12,
            13,
            14,
            15,
            16,
            17,
            18,
            19,
            20,
            21,
            22,
            23,
            24
           ],
           "xaxis": "x",
           "y": [
            98.2,
            60.18,
            59.18,
            80.55,
            206.91,
            107.13,
            62.02,
            67.35,
            60.29,
            57.36,
            54.33,
            60.23,
            null,
            null,
            null,
            null,
            null,
            null,
            null,
            null,
            null,
            null,
            null,
            null
           ],
           "yaxis": "y"
          },
          {
           "hovertemplate": "variable=FuturePrice<br>timestep=39<br>periodstep=%{x}<br>value=%{y}<extra></extra>",
           "legendgroup": "FuturePrice",
           "line": {
            "color": "#EF553B",
            "dash": "solid"
           },
           "marker": {
            "symbol": "circle"
           },
           "mode": "lines",
           "name": "FuturePrice",
           "orientation": "v",
           "showlegend": true,
           "type": "scatter",
           "x": [
            1,
            2,
            3,
            4,
            5,
            6,
            7,
            8,
            9,
            10,
            11,
            12,
            13,
            14,
            15,
            16,
            17,
            18,
            19,
            20,
            21,
            22,
            23,
            24
           ],
           "xaxis": "x",
           "y": [
            null,
            null,
            null,
            null,
            null,
            null,
            null,
            null,
            null,
            null,
            null,
            null,
            58.99,
            61.64,
            64.46,
            73.53,
            68.5,
            70.18,
            64.59,
            68.32,
            100.48,
            62.45,
            50.67,
            54.53
           ],
           "yaxis": "y"
          },
          {
           "hovertemplate": "variable=Predicted<br>timestep=39<br>periodstep=%{x}<br>value=%{y}<extra></extra>",
           "legendgroup": "Predicted",
           "line": {
            "color": "#00cc96",
            "dash": "solid"
           },
           "marker": {
            "symbol": "circle"
           },
           "mode": "lines",
           "name": "Predicted",
           "orientation": "v",
           "showlegend": true,
           "type": "scatter",
           "x": [
            1,
            2,
            3,
            4,
            5,
            6,
            7,
            8,
            9,
            10,
            11,
            12,
            13,
            14,
            15,
            16,
            17,
            18,
            19,
            20,
            21,
            22,
            23,
            24
           ],
           "xaxis": "x",
           "y": [
            null,
            null,
            null,
            null,
            null,
            null,
            null,
            null,
            null,
            null,
            null,
            null,
            125.42139459950675,
            124.56045664843059,
            135.05794924981754,
            130.13827599652325,
            132.29583778800753,
            130.6545568163636,
            129.50557560115487,
            131.11456885119748,
            130.93330697403127,
            131.27576930435023,
            131.27708564770052,
            131.2792529518786
           ],
           "yaxis": "y"
          }
         ],
         "name": "39"
        },
        {
         "data": [
          {
           "hovertemplate": "variable=HistoricalPrice<br>timestep=40<br>periodstep=%{x}<br>value=%{y}<extra></extra>",
           "legendgroup": "HistoricalPrice",
           "line": {
            "color": "#636efa",
            "dash": "solid"
           },
           "marker": {
            "symbol": "circle"
           },
           "mode": "lines",
           "name": "HistoricalPrice",
           "orientation": "v",
           "showlegend": true,
           "type": "scatter",
           "x": [
            1,
            2,
            3,
            4,
            5,
            6,
            7,
            8,
            9,
            10,
            11,
            12,
            13,
            14,
            15,
            16,
            17,
            18,
            19,
            20,
            21,
            22,
            23,
            24
           ],
           "xaxis": "x",
           "y": [
            60.18,
            59.18,
            80.55,
            206.91,
            107.13,
            62.02,
            67.35,
            60.29,
            57.36,
            54.33,
            60.23,
            58.99,
            null,
            null,
            null,
            null,
            null,
            null,
            null,
            null,
            null,
            null,
            null,
            null
           ],
           "yaxis": "y"
          },
          {
           "hovertemplate": "variable=FuturePrice<br>timestep=40<br>periodstep=%{x}<br>value=%{y}<extra></extra>",
           "legendgroup": "FuturePrice",
           "line": {
            "color": "#EF553B",
            "dash": "solid"
           },
           "marker": {
            "symbol": "circle"
           },
           "mode": "lines",
           "name": "FuturePrice",
           "orientation": "v",
           "showlegend": true,
           "type": "scatter",
           "x": [
            1,
            2,
            3,
            4,
            5,
            6,
            7,
            8,
            9,
            10,
            11,
            12,
            13,
            14,
            15,
            16,
            17,
            18,
            19,
            20,
            21,
            22,
            23,
            24
           ],
           "xaxis": "x",
           "y": [
            null,
            null,
            null,
            null,
            null,
            null,
            null,
            null,
            null,
            null,
            null,
            null,
            61.64,
            64.46,
            73.53,
            68.5,
            70.18,
            64.59,
            68.32,
            100.48,
            62.45,
            50.67,
            54.53,
            60.56
           ],
           "yaxis": "y"
          },
          {
           "hovertemplate": "variable=Predicted<br>timestep=40<br>periodstep=%{x}<br>value=%{y}<extra></extra>",
           "legendgroup": "Predicted",
           "line": {
            "color": "#00cc96",
            "dash": "solid"
           },
           "marker": {
            "symbol": "circle"
           },
           "mode": "lines",
           "name": "Predicted",
           "orientation": "v",
           "showlegend": true,
           "type": "scatter",
           "x": [
            1,
            2,
            3,
            4,
            5,
            6,
            7,
            8,
            9,
            10,
            11,
            12,
            13,
            14,
            15,
            16,
            17,
            18,
            19,
            20,
            21,
            22,
            23,
            24
           ],
           "xaxis": "x",
           "y": [
            null,
            null,
            null,
            null,
            null,
            null,
            null,
            null,
            null,
            null,
            null,
            null,
            125.42139459950675,
            124.56045664843059,
            135.05794924981754,
            130.13827599652325,
            132.29583778800753,
            130.6545568163636,
            129.15377535920905,
            131.11456885119748,
            129.95394195637573,
            131.27576930435023,
            131.27708564770052,
            125.25719177155716
           ],
           "yaxis": "y"
          }
         ],
         "name": "40"
        },
        {
         "data": [
          {
           "hovertemplate": "variable=HistoricalPrice<br>timestep=41<br>periodstep=%{x}<br>value=%{y}<extra></extra>",
           "legendgroup": "HistoricalPrice",
           "line": {
            "color": "#636efa",
            "dash": "solid"
           },
           "marker": {
            "symbol": "circle"
           },
           "mode": "lines",
           "name": "HistoricalPrice",
           "orientation": "v",
           "showlegend": true,
           "type": "scatter",
           "x": [
            1,
            2,
            3,
            4,
            5,
            6,
            7,
            8,
            9,
            10,
            11,
            12,
            13,
            14,
            15,
            16,
            17,
            18,
            19,
            20,
            21,
            22,
            23,
            24
           ],
           "xaxis": "x",
           "y": [
            59.18,
            80.55,
            206.91,
            107.13,
            62.02,
            67.35,
            60.29,
            57.36,
            54.33,
            60.23,
            58.99,
            61.64,
            null,
            null,
            null,
            null,
            null,
            null,
            null,
            null,
            null,
            null,
            null,
            null
           ],
           "yaxis": "y"
          },
          {
           "hovertemplate": "variable=FuturePrice<br>timestep=41<br>periodstep=%{x}<br>value=%{y}<extra></extra>",
           "legendgroup": "FuturePrice",
           "line": {
            "color": "#EF553B",
            "dash": "solid"
           },
           "marker": {
            "symbol": "circle"
           },
           "mode": "lines",
           "name": "FuturePrice",
           "orientation": "v",
           "showlegend": true,
           "type": "scatter",
           "x": [
            1,
            2,
            3,
            4,
            5,
            6,
            7,
            8,
            9,
            10,
            11,
            12,
            13,
            14,
            15,
            16,
            17,
            18,
            19,
            20,
            21,
            22,
            23,
            24
           ],
           "xaxis": "x",
           "y": [
            null,
            null,
            null,
            null,
            null,
            null,
            null,
            null,
            null,
            null,
            null,
            null,
            64.46,
            73.53,
            68.5,
            70.18,
            64.59,
            68.32,
            100.48,
            62.45,
            50.67,
            54.53,
            60.56,
            58.36
           ],
           "yaxis": "y"
          },
          {
           "hovertemplate": "variable=Predicted<br>timestep=41<br>periodstep=%{x}<br>value=%{y}<extra></extra>",
           "legendgroup": "Predicted",
           "line": {
            "color": "#00cc96",
            "dash": "solid"
           },
           "marker": {
            "symbol": "circle"
           },
           "mode": "lines",
           "name": "Predicted",
           "orientation": "v",
           "showlegend": true,
           "type": "scatter",
           "x": [
            1,
            2,
            3,
            4,
            5,
            6,
            7,
            8,
            9,
            10,
            11,
            12,
            13,
            14,
            15,
            16,
            17,
            18,
            19,
            20,
            21,
            22,
            23,
            24
           ],
           "xaxis": "x",
           "y": [
            null,
            null,
            null,
            null,
            null,
            null,
            null,
            null,
            null,
            null,
            null,
            null,
            125.42139459950675,
            128.1012345218249,
            127.78766574965053,
            130.13827599652325,
            132.29583778800753,
            129.14619518279943,
            129.15377535920905,
            131.11456885119748,
            129.95394195637573,
            131.27576930435023,
            125.25452983215835,
            125.25719177155716
           ],
           "yaxis": "y"
          }
         ],
         "name": "41"
        },
        {
         "data": [
          {
           "hovertemplate": "variable=HistoricalPrice<br>timestep=42<br>periodstep=%{x}<br>value=%{y}<extra></extra>",
           "legendgroup": "HistoricalPrice",
           "line": {
            "color": "#636efa",
            "dash": "solid"
           },
           "marker": {
            "symbol": "circle"
           },
           "mode": "lines",
           "name": "HistoricalPrice",
           "orientation": "v",
           "showlegend": true,
           "type": "scatter",
           "x": [
            1,
            2,
            3,
            4,
            5,
            6,
            7,
            8,
            9,
            10,
            11,
            12,
            13,
            14,
            15,
            16,
            17,
            18,
            19,
            20,
            21,
            22,
            23,
            24
           ],
           "xaxis": "x",
           "y": [
            80.55,
            206.91,
            107.13,
            62.02,
            67.35,
            60.29,
            57.36,
            54.33,
            60.23,
            58.99,
            61.64,
            64.46,
            null,
            null,
            null,
            null,
            null,
            null,
            null,
            null,
            null,
            null,
            null,
            null
           ],
           "yaxis": "y"
          },
          {
           "hovertemplate": "variable=FuturePrice<br>timestep=42<br>periodstep=%{x}<br>value=%{y}<extra></extra>",
           "legendgroup": "FuturePrice",
           "line": {
            "color": "#EF553B",
            "dash": "solid"
           },
           "marker": {
            "symbol": "circle"
           },
           "mode": "lines",
           "name": "FuturePrice",
           "orientation": "v",
           "showlegend": true,
           "type": "scatter",
           "x": [
            1,
            2,
            3,
            4,
            5,
            6,
            7,
            8,
            9,
            10,
            11,
            12,
            13,
            14,
            15,
            16,
            17,
            18,
            19,
            20,
            21,
            22,
            23,
            24
           ],
           "xaxis": "x",
           "y": [
            null,
            null,
            null,
            null,
            null,
            null,
            null,
            null,
            null,
            null,
            null,
            null,
            73.53,
            68.5,
            70.18,
            64.59,
            68.32,
            100.48,
            62.45,
            50.67,
            54.53,
            60.56,
            58.36,
            49.22
           ],
           "yaxis": "y"
          },
          {
           "hovertemplate": "variable=Predicted<br>timestep=42<br>periodstep=%{x}<br>value=%{y}<extra></extra>",
           "legendgroup": "Predicted",
           "line": {
            "color": "#00cc96",
            "dash": "solid"
           },
           "marker": {
            "symbol": "circle"
           },
           "mode": "lines",
           "name": "Predicted",
           "orientation": "v",
           "showlegend": true,
           "type": "scatter",
           "x": [
            1,
            2,
            3,
            4,
            5,
            6,
            7,
            8,
            9,
            10,
            11,
            12,
            13,
            14,
            15,
            16,
            17,
            18,
            19,
            20,
            21,
            22,
            23,
            24
           ],
           "xaxis": "x",
           "y": [
            null,
            null,
            null,
            null,
            null,
            null,
            null,
            null,
            null,
            null,
            null,
            null,
            125.42139459950675,
            128.1012345218249,
            127.78766574965053,
            130.13827599652325,
            124.5422109386208,
            129.14619518279943,
            129.15377535920905,
            131.11456885119748,
            129.95394195637573,
            125.25311904071302,
            125.25452983215835,
            131.2792529518786
           ],
           "yaxis": "y"
          }
         ],
         "name": "42"
        },
        {
         "data": [
          {
           "hovertemplate": "variable=HistoricalPrice<br>timestep=43<br>periodstep=%{x}<br>value=%{y}<extra></extra>",
           "legendgroup": "HistoricalPrice",
           "line": {
            "color": "#636efa",
            "dash": "solid"
           },
           "marker": {
            "symbol": "circle"
           },
           "mode": "lines",
           "name": "HistoricalPrice",
           "orientation": "v",
           "showlegend": true,
           "type": "scatter",
           "x": [
            1,
            2,
            3,
            4,
            5,
            6,
            7,
            8,
            9,
            10,
            11,
            12,
            13,
            14,
            15,
            16,
            17,
            18,
            19,
            20,
            21,
            22,
            23,
            24
           ],
           "xaxis": "x",
           "y": [
            206.91,
            107.13,
            62.02,
            67.35,
            60.29,
            57.36,
            54.33,
            60.23,
            58.99,
            61.64,
            64.46,
            73.53,
            null,
            null,
            null,
            null,
            null,
            null,
            null,
            null,
            null,
            null,
            null,
            null
           ],
           "yaxis": "y"
          },
          {
           "hovertemplate": "variable=FuturePrice<br>timestep=43<br>periodstep=%{x}<br>value=%{y}<extra></extra>",
           "legendgroup": "FuturePrice",
           "line": {
            "color": "#EF553B",
            "dash": "solid"
           },
           "marker": {
            "symbol": "circle"
           },
           "mode": "lines",
           "name": "FuturePrice",
           "orientation": "v",
           "showlegend": true,
           "type": "scatter",
           "x": [
            1,
            2,
            3,
            4,
            5,
            6,
            7,
            8,
            9,
            10,
            11,
            12,
            13,
            14,
            15,
            16,
            17,
            18,
            19,
            20,
            21,
            22,
            23,
            24
           ],
           "xaxis": "x",
           "y": [
            null,
            null,
            null,
            null,
            null,
            null,
            null,
            null,
            null,
            null,
            null,
            null,
            68.5,
            70.18,
            64.59,
            68.32,
            100.48,
            62.45,
            50.67,
            54.53,
            60.56,
            58.36,
            49.22,
            48.2
           ],
           "yaxis": "y"
          },
          {
           "hovertemplate": "variable=Predicted<br>timestep=43<br>periodstep=%{x}<br>value=%{y}<extra></extra>",
           "legendgroup": "Predicted",
           "line": {
            "color": "#00cc96",
            "dash": "solid"
           },
           "marker": {
            "symbol": "circle"
           },
           "mode": "lines",
           "name": "Predicted",
           "orientation": "v",
           "showlegend": true,
           "type": "scatter",
           "x": [
            1,
            2,
            3,
            4,
            5,
            6,
            7,
            8,
            9,
            10,
            11,
            12,
            13,
            14,
            15,
            16,
            17,
            18,
            19,
            20,
            21,
            22,
            23,
            24
           ],
           "xaxis": "x",
           "y": [
            null,
            null,
            null,
            null,
            null,
            null,
            null,
            null,
            null,
            null,
            null,
            null,
            127.57724290974929,
            128.1012345218249,
            127.78766574965053,
            124.6099716036553,
            124.5422109386208,
            129.14619518279943,
            129.15377535920905,
            131.11456885119748,
            125.25147005554666,
            125.25311904071302,
            131.27708564770052,
            131.2792529518786
           ],
           "yaxis": "y"
          }
         ],
         "name": "43"
        },
        {
         "data": [
          {
           "hovertemplate": "variable=HistoricalPrice<br>timestep=44<br>periodstep=%{x}<br>value=%{y}<extra></extra>",
           "legendgroup": "HistoricalPrice",
           "line": {
            "color": "#636efa",
            "dash": "solid"
           },
           "marker": {
            "symbol": "circle"
           },
           "mode": "lines",
           "name": "HistoricalPrice",
           "orientation": "v",
           "showlegend": true,
           "type": "scatter",
           "x": [
            1,
            2,
            3,
            4,
            5,
            6,
            7,
            8,
            9,
            10,
            11,
            12,
            13,
            14,
            15,
            16,
            17,
            18,
            19,
            20,
            21,
            22,
            23,
            24
           ],
           "xaxis": "x",
           "y": [
            107.13,
            62.02,
            67.35,
            60.29,
            57.36,
            54.33,
            60.23,
            58.99,
            61.64,
            64.46,
            73.53,
            68.5,
            null,
            null,
            null,
            null,
            null,
            null,
            null,
            null,
            null,
            null,
            null,
            null
           ],
           "yaxis": "y"
          },
          {
           "hovertemplate": "variable=FuturePrice<br>timestep=44<br>periodstep=%{x}<br>value=%{y}<extra></extra>",
           "legendgroup": "FuturePrice",
           "line": {
            "color": "#EF553B",
            "dash": "solid"
           },
           "marker": {
            "symbol": "circle"
           },
           "mode": "lines",
           "name": "FuturePrice",
           "orientation": "v",
           "showlegend": true,
           "type": "scatter",
           "x": [
            1,
            2,
            3,
            4,
            5,
            6,
            7,
            8,
            9,
            10,
            11,
            12,
            13,
            14,
            15,
            16,
            17,
            18,
            19,
            20,
            21,
            22,
            23,
            24
           ],
           "xaxis": "x",
           "y": [
            null,
            null,
            null,
            null,
            null,
            null,
            null,
            null,
            null,
            null,
            null,
            null,
            70.18,
            64.59,
            68.32,
            100.48,
            62.45,
            50.67,
            54.53,
            60.56,
            58.36,
            49.22,
            48.2,
            56.23
           ],
           "yaxis": "y"
          },
          {
           "hovertemplate": "variable=Predicted<br>timestep=44<br>periodstep=%{x}<br>value=%{y}<extra></extra>",
           "legendgroup": "Predicted",
           "line": {
            "color": "#00cc96",
            "dash": "solid"
           },
           "marker": {
            "symbol": "circle"
           },
           "mode": "lines",
           "name": "Predicted",
           "orientation": "v",
           "showlegend": true,
           "type": "scatter",
           "x": [
            1,
            2,
            3,
            4,
            5,
            6,
            7,
            8,
            9,
            10,
            11,
            12,
            13,
            14,
            15,
            16,
            17,
            18,
            19,
            20,
            21,
            22,
            23,
            24
           ],
           "xaxis": "x",
           "y": [
            null,
            null,
            null,
            null,
            null,
            null,
            null,
            null,
            null,
            null,
            null,
            null,
            125.42139459950675,
            128.1012345218249,
            127.78766574965053,
            124.6099716036553,
            124.5422109386208,
            129.14619518279943,
            129.15377535920905,
            125.24779467456325,
            125.25147005554666,
            131.27576930435023,
            131.27708564770052,
            131.2792529518786
           ],
           "yaxis": "y"
          }
         ],
         "name": "44"
        },
        {
         "data": [
          {
           "hovertemplate": "variable=HistoricalPrice<br>timestep=45<br>periodstep=%{x}<br>value=%{y}<extra></extra>",
           "legendgroup": "HistoricalPrice",
           "line": {
            "color": "#636efa",
            "dash": "solid"
           },
           "marker": {
            "symbol": "circle"
           },
           "mode": "lines",
           "name": "HistoricalPrice",
           "orientation": "v",
           "showlegend": true,
           "type": "scatter",
           "x": [
            1,
            2,
            3,
            4,
            5,
            6,
            7,
            8,
            9,
            10,
            11,
            12,
            13,
            14,
            15,
            16,
            17,
            18,
            19,
            20,
            21,
            22,
            23,
            24
           ],
           "xaxis": "x",
           "y": [
            62.02,
            67.35,
            60.29,
            57.36,
            54.33,
            60.23,
            58.99,
            61.64,
            64.46,
            73.53,
            68.5,
            70.18,
            null,
            null,
            null,
            null,
            null,
            null,
            null,
            null,
            null,
            null,
            null,
            null
           ],
           "yaxis": "y"
          },
          {
           "hovertemplate": "variable=FuturePrice<br>timestep=45<br>periodstep=%{x}<br>value=%{y}<extra></extra>",
           "legendgroup": "FuturePrice",
           "line": {
            "color": "#EF553B",
            "dash": "solid"
           },
           "marker": {
            "symbol": "circle"
           },
           "mode": "lines",
           "name": "FuturePrice",
           "orientation": "v",
           "showlegend": true,
           "type": "scatter",
           "x": [
            1,
            2,
            3,
            4,
            5,
            6,
            7,
            8,
            9,
            10,
            11,
            12,
            13,
            14,
            15,
            16,
            17,
            18,
            19,
            20,
            21,
            22,
            23,
            24
           ],
           "xaxis": "x",
           "y": [
            null,
            null,
            null,
            null,
            null,
            null,
            null,
            null,
            null,
            null,
            null,
            null,
            64.59,
            68.32,
            100.48,
            62.45,
            50.67,
            54.53,
            60.56,
            58.36,
            49.22,
            48.2,
            56.23,
            76.84
           ],
           "yaxis": "y"
          },
          {
           "hovertemplate": "variable=Predicted<br>timestep=45<br>periodstep=%{x}<br>value=%{y}<extra></extra>",
           "legendgroup": "Predicted",
           "line": {
            "color": "#00cc96",
            "dash": "solid"
           },
           "marker": {
            "symbol": "circle"
           },
           "mode": "lines",
           "name": "Predicted",
           "orientation": "v",
           "showlegend": true,
           "type": "scatter",
           "x": [
            1,
            2,
            3,
            4,
            5,
            6,
            7,
            8,
            9,
            10,
            11,
            12,
            13,
            14,
            15,
            16,
            17,
            18,
            19,
            20,
            21,
            22,
            23,
            24
           ],
           "xaxis": "x",
           "y": [
            null,
            null,
            null,
            null,
            null,
            null,
            null,
            null,
            null,
            null,
            null,
            null,
            127.57724290974929,
            128.1012345218249,
            127.78766574965053,
            124.6099716036553,
            124.5422109386208,
            129.14619518279943,
            125.2449534874269,
            125.24779467456325,
            129.95394195637573,
            131.27576930435023,
            131.27708564770052,
            129.0015861065635
           ],
           "yaxis": "y"
          }
         ],
         "name": "45"
        },
        {
         "data": [
          {
           "hovertemplate": "variable=HistoricalPrice<br>timestep=46<br>periodstep=%{x}<br>value=%{y}<extra></extra>",
           "legendgroup": "HistoricalPrice",
           "line": {
            "color": "#636efa",
            "dash": "solid"
           },
           "marker": {
            "symbol": "circle"
           },
           "mode": "lines",
           "name": "HistoricalPrice",
           "orientation": "v",
           "showlegend": true,
           "type": "scatter",
           "x": [
            1,
            2,
            3,
            4,
            5,
            6,
            7,
            8,
            9,
            10,
            11,
            12,
            13,
            14,
            15,
            16,
            17,
            18,
            19,
            20,
            21,
            22,
            23,
            24
           ],
           "xaxis": "x",
           "y": [
            67.35,
            60.29,
            57.36,
            54.33,
            60.23,
            58.99,
            61.64,
            64.46,
            73.53,
            68.5,
            70.18,
            64.59,
            null,
            null,
            null,
            null,
            null,
            null,
            null,
            null,
            null,
            null,
            null,
            null
           ],
           "yaxis": "y"
          },
          {
           "hovertemplate": "variable=FuturePrice<br>timestep=46<br>periodstep=%{x}<br>value=%{y}<extra></extra>",
           "legendgroup": "FuturePrice",
           "line": {
            "color": "#EF553B",
            "dash": "solid"
           },
           "marker": {
            "symbol": "circle"
           },
           "mode": "lines",
           "name": "FuturePrice",
           "orientation": "v",
           "showlegend": true,
           "type": "scatter",
           "x": [
            1,
            2,
            3,
            4,
            5,
            6,
            7,
            8,
            9,
            10,
            11,
            12,
            13,
            14,
            15,
            16,
            17,
            18,
            19,
            20,
            21,
            22,
            23,
            24
           ],
           "xaxis": "x",
           "y": [
            null,
            null,
            null,
            null,
            null,
            null,
            null,
            null,
            null,
            null,
            null,
            null,
            68.32,
            100.48,
            62.45,
            50.67,
            54.53,
            60.56,
            58.36,
            49.22,
            48.2,
            56.23,
            76.84,
            55.26
           ],
           "yaxis": "y"
          },
          {
           "hovertemplate": "variable=Predicted<br>timestep=46<br>periodstep=%{x}<br>value=%{y}<extra></extra>",
           "legendgroup": "Predicted",
           "line": {
            "color": "#00cc96",
            "dash": "solid"
           },
           "marker": {
            "symbol": "circle"
           },
           "mode": "lines",
           "name": "Predicted",
           "orientation": "v",
           "showlegend": true,
           "type": "scatter",
           "x": [
            1,
            2,
            3,
            4,
            5,
            6,
            7,
            8,
            9,
            10,
            11,
            12,
            13,
            14,
            15,
            16,
            17,
            18,
            19,
            20,
            21,
            22,
            23,
            24
           ],
           "xaxis": "x",
           "y": [
            null,
            null,
            null,
            null,
            null,
            null,
            null,
            null,
            null,
            null,
            null,
            null,
            125.42139459950675,
            128.1012345218249,
            127.78766574965053,
            124.6099716036553,
            124.5422109386208,
            125.23643597662678,
            125.2449534874269,
            131.11456885119748,
            129.95394195637573,
            131.27576930435023,
            130.4918509178089,
            129.0015861065635
           ],
           "yaxis": "y"
          }
         ],
         "name": "46"
        },
        {
         "data": [
          {
           "hovertemplate": "variable=HistoricalPrice<br>timestep=47<br>periodstep=%{x}<br>value=%{y}<extra></extra>",
           "legendgroup": "HistoricalPrice",
           "line": {
            "color": "#636efa",
            "dash": "solid"
           },
           "marker": {
            "symbol": "circle"
           },
           "mode": "lines",
           "name": "HistoricalPrice",
           "orientation": "v",
           "showlegend": true,
           "type": "scatter",
           "x": [
            1,
            2,
            3,
            4,
            5,
            6,
            7,
            8,
            9,
            10,
            11,
            12,
            13,
            14,
            15,
            16,
            17,
            18,
            19,
            20,
            21,
            22,
            23,
            24
           ],
           "xaxis": "x",
           "y": [
            60.29,
            57.36,
            54.33,
            60.23,
            58.99,
            61.64,
            64.46,
            73.53,
            68.5,
            70.18,
            64.59,
            68.32,
            null,
            null,
            null,
            null,
            null,
            null,
            null,
            null,
            null,
            null,
            null,
            null
           ],
           "yaxis": "y"
          },
          {
           "hovertemplate": "variable=FuturePrice<br>timestep=47<br>periodstep=%{x}<br>value=%{y}<extra></extra>",
           "legendgroup": "FuturePrice",
           "line": {
            "color": "#EF553B",
            "dash": "solid"
           },
           "marker": {
            "symbol": "circle"
           },
           "mode": "lines",
           "name": "FuturePrice",
           "orientation": "v",
           "showlegend": true,
           "type": "scatter",
           "x": [
            1,
            2,
            3,
            4,
            5,
            6,
            7,
            8,
            9,
            10,
            11,
            12,
            13,
            14,
            15,
            16,
            17,
            18,
            19,
            20,
            21,
            22,
            23,
            24
           ],
           "xaxis": "x",
           "y": [
            null,
            null,
            null,
            null,
            null,
            null,
            null,
            null,
            null,
            null,
            null,
            null,
            100.48,
            62.45,
            50.67,
            54.53,
            60.56,
            58.36,
            49.22,
            48.2,
            56.23,
            76.84,
            55.26,
            56.32
           ],
           "yaxis": "y"
          },
          {
           "hovertemplate": "variable=Predicted<br>timestep=47<br>periodstep=%{x}<br>value=%{y}<extra></extra>",
           "legendgroup": "Predicted",
           "line": {
            "color": "#00cc96",
            "dash": "solid"
           },
           "marker": {
            "symbol": "circle"
           },
           "mode": "lines",
           "name": "Predicted",
           "orientation": "v",
           "showlegend": true,
           "type": "scatter",
           "x": [
            1,
            2,
            3,
            4,
            5,
            6,
            7,
            8,
            9,
            10,
            11,
            12,
            13,
            14,
            15,
            16,
            17,
            18,
            19,
            20,
            21,
            22,
            23,
            24
           ],
           "xaxis": "x",
           "y": [
            null,
            null,
            null,
            null,
            null,
            null,
            null,
            null,
            null,
            null,
            null,
            null,
            125.42139459950675,
            128.1012345218249,
            127.78766574965053,
            124.6099716036553,
            124.5422109386208,
            125.23643597662678,
            129.15377535920905,
            131.11456885119748,
            130.93330697403127,
            130.53717966753948,
            130.4918509178089,
            129.0015861065635
           ],
           "yaxis": "y"
          }
         ],
         "name": "47"
        },
        {
         "data": [
          {
           "hovertemplate": "variable=HistoricalPrice<br>timestep=48<br>periodstep=%{x}<br>value=%{y}<extra></extra>",
           "legendgroup": "HistoricalPrice",
           "line": {
            "color": "#636efa",
            "dash": "solid"
           },
           "marker": {
            "symbol": "circle"
           },
           "mode": "lines",
           "name": "HistoricalPrice",
           "orientation": "v",
           "showlegend": true,
           "type": "scatter",
           "x": [
            1,
            2,
            3,
            4,
            5,
            6,
            7,
            8,
            9,
            10,
            11,
            12,
            13,
            14,
            15,
            16,
            17,
            18,
            19,
            20,
            21,
            22,
            23,
            24
           ],
           "xaxis": "x",
           "y": [
            57.36,
            54.33,
            60.23,
            58.99,
            61.64,
            64.46,
            73.53,
            68.5,
            70.18,
            64.59,
            68.32,
            100.48,
            null,
            null,
            null,
            null,
            null,
            null,
            null,
            null,
            null,
            null,
            null,
            null
           ],
           "yaxis": "y"
          },
          {
           "hovertemplate": "variable=FuturePrice<br>timestep=48<br>periodstep=%{x}<br>value=%{y}<extra></extra>",
           "legendgroup": "FuturePrice",
           "line": {
            "color": "#EF553B",
            "dash": "solid"
           },
           "marker": {
            "symbol": "circle"
           },
           "mode": "lines",
           "name": "FuturePrice",
           "orientation": "v",
           "showlegend": true,
           "type": "scatter",
           "x": [
            1,
            2,
            3,
            4,
            5,
            6,
            7,
            8,
            9,
            10,
            11,
            12,
            13,
            14,
            15,
            16,
            17,
            18,
            19,
            20,
            21,
            22,
            23,
            24
           ],
           "xaxis": "x",
           "y": [
            null,
            null,
            null,
            null,
            null,
            null,
            null,
            null,
            null,
            null,
            null,
            null,
            62.45,
            50.67,
            54.53,
            60.56,
            58.36,
            49.22,
            48.2,
            56.23,
            76.84,
            55.26,
            56.32,
            55.86
           ],
           "yaxis": "y"
          },
          {
           "hovertemplate": "variable=Predicted<br>timestep=48<br>periodstep=%{x}<br>value=%{y}<extra></extra>",
           "legendgroup": "Predicted",
           "line": {
            "color": "#00cc96",
            "dash": "solid"
           },
           "marker": {
            "symbol": "circle"
           },
           "mode": "lines",
           "name": "Predicted",
           "orientation": "v",
           "showlegend": true,
           "type": "scatter",
           "x": [
            1,
            2,
            3,
            4,
            5,
            6,
            7,
            8,
            9,
            10,
            11,
            12,
            13,
            14,
            15,
            16,
            17,
            18,
            19,
            20,
            21,
            22,
            23,
            24
           ],
           "xaxis": "x",
           "y": [
            null,
            null,
            null,
            null,
            null,
            null,
            null,
            null,
            null,
            null,
            null,
            null,
            130.32454028871655,
            130.1551913421247,
            129.82405156473257,
            129.16937741031074,
            130.13629887794426,
            129.14619518279943,
            129.15377535920905,
            131.11456885119748,
            130.3072333301011,
            130.53717966753948,
            130.4918509178089,
            129.0015861065635
           ],
           "yaxis": "y"
          }
         ],
         "name": "48"
        },
        {
         "data": [
          {
           "hovertemplate": "variable=HistoricalPrice<br>timestep=49<br>periodstep=%{x}<br>value=%{y}<extra></extra>",
           "legendgroup": "HistoricalPrice",
           "line": {
            "color": "#636efa",
            "dash": "solid"
           },
           "marker": {
            "symbol": "circle"
           },
           "mode": "lines",
           "name": "HistoricalPrice",
           "orientation": "v",
           "showlegend": true,
           "type": "scatter",
           "x": [
            1,
            2,
            3,
            4,
            5,
            6,
            7,
            8,
            9,
            10,
            11,
            12,
            13,
            14,
            15,
            16,
            17,
            18,
            19,
            20,
            21,
            22,
            23,
            24
           ],
           "xaxis": "x",
           "y": [
            54.33,
            60.23,
            58.99,
            61.64,
            64.46,
            73.53,
            68.5,
            70.18,
            64.59,
            68.32,
            100.48,
            62.45,
            null,
            null,
            null,
            null,
            null,
            null,
            null,
            null,
            null,
            null,
            null,
            null
           ],
           "yaxis": "y"
          },
          {
           "hovertemplate": "variable=FuturePrice<br>timestep=49<br>periodstep=%{x}<br>value=%{y}<extra></extra>",
           "legendgroup": "FuturePrice",
           "line": {
            "color": "#EF553B",
            "dash": "solid"
           },
           "marker": {
            "symbol": "circle"
           },
           "mode": "lines",
           "name": "FuturePrice",
           "orientation": "v",
           "showlegend": true,
           "type": "scatter",
           "x": [
            1,
            2,
            3,
            4,
            5,
            6,
            7,
            8,
            9,
            10,
            11,
            12,
            13,
            14,
            15,
            16,
            17,
            18,
            19,
            20,
            21,
            22,
            23,
            24
           ],
           "xaxis": "x",
           "y": [
            null,
            null,
            null,
            null,
            null,
            null,
            null,
            null,
            null,
            null,
            null,
            null,
            50.67,
            54.53,
            60.56,
            58.36,
            49.22,
            48.2,
            56.23,
            76.84,
            55.26,
            56.32,
            55.86,
            57.05
           ],
           "yaxis": "y"
          },
          {
           "hovertemplate": "variable=Predicted<br>timestep=49<br>periodstep=%{x}<br>value=%{y}<extra></extra>",
           "legendgroup": "Predicted",
           "line": {
            "color": "#00cc96",
            "dash": "solid"
           },
           "marker": {
            "symbol": "circle"
           },
           "mode": "lines",
           "name": "Predicted",
           "orientation": "v",
           "showlegend": true,
           "type": "scatter",
           "x": [
            1,
            2,
            3,
            4,
            5,
            6,
            7,
            8,
            9,
            10,
            11,
            12,
            13,
            14,
            15,
            16,
            17,
            18,
            19,
            20,
            21,
            22,
            23,
            24
           ],
           "xaxis": "x",
           "y": [
            null,
            null,
            null,
            null,
            null,
            null,
            null,
            null,
            null,
            null,
            null,
            null,
            125.42139459950675,
            128.1012345218249,
            127.78766574965053,
            124.6099716036553,
            124.5422109386208,
            129.14619518279943,
            129.15377535920905,
            130.04199844745955,
            130.3072333301011,
            130.53717966753948,
            130.4918509178089,
            129.0015861065635
           ],
           "yaxis": "y"
          }
         ],
         "name": "49"
        },
        {
         "data": [
          {
           "hovertemplate": "variable=HistoricalPrice<br>timestep=50<br>periodstep=%{x}<br>value=%{y}<extra></extra>",
           "legendgroup": "HistoricalPrice",
           "line": {
            "color": "#636efa",
            "dash": "solid"
           },
           "marker": {
            "symbol": "circle"
           },
           "mode": "lines",
           "name": "HistoricalPrice",
           "orientation": "v",
           "showlegend": true,
           "type": "scatter",
           "x": [
            1,
            2,
            3,
            4,
            5,
            6,
            7,
            8,
            9,
            10,
            11,
            12,
            13,
            14,
            15,
            16,
            17,
            18,
            19,
            20,
            21,
            22,
            23,
            24
           ],
           "xaxis": "x",
           "y": [
            60.23,
            58.99,
            61.64,
            64.46,
            73.53,
            68.5,
            70.18,
            64.59,
            68.32,
            100.48,
            62.45,
            50.67,
            null,
            null,
            null,
            null,
            null,
            null,
            null,
            null,
            null,
            null,
            null,
            null
           ],
           "yaxis": "y"
          },
          {
           "hovertemplate": "variable=FuturePrice<br>timestep=50<br>periodstep=%{x}<br>value=%{y}<extra></extra>",
           "legendgroup": "FuturePrice",
           "line": {
            "color": "#EF553B",
            "dash": "solid"
           },
           "marker": {
            "symbol": "circle"
           },
           "mode": "lines",
           "name": "FuturePrice",
           "orientation": "v",
           "showlegend": true,
           "type": "scatter",
           "x": [
            1,
            2,
            3,
            4,
            5,
            6,
            7,
            8,
            9,
            10,
            11,
            12,
            13,
            14,
            15,
            16,
            17,
            18,
            19,
            20,
            21,
            22,
            23,
            24
           ],
           "xaxis": "x",
           "y": [
            null,
            null,
            null,
            null,
            null,
            null,
            null,
            null,
            null,
            null,
            null,
            null,
            54.53,
            60.56,
            58.36,
            49.22,
            48.2,
            56.23,
            76.84,
            55.26,
            56.32,
            55.86,
            57.05,
            56.3
           ],
           "yaxis": "y"
          },
          {
           "hovertemplate": "variable=Predicted<br>timestep=50<br>periodstep=%{x}<br>value=%{y}<extra></extra>",
           "legendgroup": "Predicted",
           "line": {
            "color": "#00cc96",
            "dash": "solid"
           },
           "marker": {
            "symbol": "circle"
           },
           "mode": "lines",
           "name": "Predicted",
           "orientation": "v",
           "showlegend": true,
           "type": "scatter",
           "x": [
            1,
            2,
            3,
            4,
            5,
            6,
            7,
            8,
            9,
            10,
            11,
            12,
            13,
            14,
            15,
            16,
            17,
            18,
            19,
            20,
            21,
            22,
            23,
            24
           ],
           "xaxis": "x",
           "y": [
            null,
            null,
            null,
            null,
            null,
            null,
            null,
            null,
            null,
            null,
            null,
            null,
            125.42139459950675,
            124.56045664843059,
            124.9165409601146,
            124.6099716036553,
            126.50399189554744,
            129.14619518279943,
            130.30493415853798,
            130.04199844745955,
            130.3072333301011,
            130.53717966753948,
            130.4918509178089,
            129.0015861065635
           ],
           "yaxis": "y"
          }
         ],
         "name": "50"
        },
        {
         "data": [
          {
           "hovertemplate": "variable=HistoricalPrice<br>timestep=51<br>periodstep=%{x}<br>value=%{y}<extra></extra>",
           "legendgroup": "HistoricalPrice",
           "line": {
            "color": "#636efa",
            "dash": "solid"
           },
           "marker": {
            "symbol": "circle"
           },
           "mode": "lines",
           "name": "HistoricalPrice",
           "orientation": "v",
           "showlegend": true,
           "type": "scatter",
           "x": [
            1,
            2,
            3,
            4,
            5,
            6,
            7,
            8,
            9,
            10,
            11,
            12,
            13,
            14,
            15,
            16,
            17,
            18,
            19,
            20,
            21,
            22,
            23,
            24
           ],
           "xaxis": "x",
           "y": [
            58.99,
            61.64,
            64.46,
            73.53,
            68.5,
            70.18,
            64.59,
            68.32,
            100.48,
            62.45,
            50.67,
            54.53,
            null,
            null,
            null,
            null,
            null,
            null,
            null,
            null,
            null,
            null,
            null,
            null
           ],
           "yaxis": "y"
          },
          {
           "hovertemplate": "variable=FuturePrice<br>timestep=51<br>periodstep=%{x}<br>value=%{y}<extra></extra>",
           "legendgroup": "FuturePrice",
           "line": {
            "color": "#EF553B",
            "dash": "solid"
           },
           "marker": {
            "symbol": "circle"
           },
           "mode": "lines",
           "name": "FuturePrice",
           "orientation": "v",
           "showlegend": true,
           "type": "scatter",
           "x": [
            1,
            2,
            3,
            4,
            5,
            6,
            7,
            8,
            9,
            10,
            11,
            12,
            13,
            14,
            15,
            16,
            17,
            18,
            19,
            20,
            21,
            22,
            23,
            24
           ],
           "xaxis": "x",
           "y": [
            null,
            null,
            null,
            null,
            null,
            null,
            null,
            null,
            null,
            null,
            null,
            null,
            60.56,
            58.36,
            49.22,
            48.2,
            56.23,
            76.84,
            55.26,
            56.32,
            55.86,
            57.05,
            56.3,
            57.89
           ],
           "yaxis": "y"
          },
          {
           "hovertemplate": "variable=Predicted<br>timestep=51<br>periodstep=%{x}<br>value=%{y}<extra></extra>",
           "legendgroup": "Predicted",
           "line": {
            "color": "#00cc96",
            "dash": "solid"
           },
           "marker": {
            "symbol": "circle"
           },
           "mode": "lines",
           "name": "Predicted",
           "orientation": "v",
           "showlegend": true,
           "type": "scatter",
           "x": [
            1,
            2,
            3,
            4,
            5,
            6,
            7,
            8,
            9,
            10,
            11,
            12,
            13,
            14,
            15,
            16,
            17,
            18,
            19,
            20,
            21,
            22,
            23,
            24
           ],
           "xaxis": "x",
           "y": [
            null,
            null,
            null,
            null,
            null,
            null,
            null,
            null,
            null,
            null,
            null,
            null,
            125.42139459950675,
            124.56045664843059,
            124.9165409601146,
            126.17051669723918,
            130.04748944647804,
            127.85657068918573,
            130.30493415853798,
            130.04199844745955,
            130.3072333301011,
            130.53717966753948,
            130.4918509178089,
            129.0015861065635
           ],
           "yaxis": "y"
          }
         ],
         "name": "51"
        },
        {
         "data": [
          {
           "hovertemplate": "variable=HistoricalPrice<br>timestep=52<br>periodstep=%{x}<br>value=%{y}<extra></extra>",
           "legendgroup": "HistoricalPrice",
           "line": {
            "color": "#636efa",
            "dash": "solid"
           },
           "marker": {
            "symbol": "circle"
           },
           "mode": "lines",
           "name": "HistoricalPrice",
           "orientation": "v",
           "showlegend": true,
           "type": "scatter",
           "x": [
            1,
            2,
            3,
            4,
            5,
            6,
            7,
            8,
            9,
            10,
            11,
            12,
            13,
            14,
            15,
            16,
            17,
            18,
            19,
            20,
            21,
            22,
            23,
            24
           ],
           "xaxis": "x",
           "y": [
            61.64,
            64.46,
            73.53,
            68.5,
            70.18,
            64.59,
            68.32,
            100.48,
            62.45,
            50.67,
            54.53,
            60.56,
            null,
            null,
            null,
            null,
            null,
            null,
            null,
            null,
            null,
            null,
            null,
            null
           ],
           "yaxis": "y"
          },
          {
           "hovertemplate": "variable=FuturePrice<br>timestep=52<br>periodstep=%{x}<br>value=%{y}<extra></extra>",
           "legendgroup": "FuturePrice",
           "line": {
            "color": "#EF553B",
            "dash": "solid"
           },
           "marker": {
            "symbol": "circle"
           },
           "mode": "lines",
           "name": "FuturePrice",
           "orientation": "v",
           "showlegend": true,
           "type": "scatter",
           "x": [
            1,
            2,
            3,
            4,
            5,
            6,
            7,
            8,
            9,
            10,
            11,
            12,
            13,
            14,
            15,
            16,
            17,
            18,
            19,
            20,
            21,
            22,
            23,
            24
           ],
           "xaxis": "x",
           "y": [
            null,
            null,
            null,
            null,
            null,
            null,
            null,
            null,
            null,
            null,
            null,
            null,
            58.36,
            49.22,
            48.2,
            56.23,
            76.84,
            55.26,
            56.32,
            55.86,
            57.05,
            56.3,
            57.89,
            53.86
           ],
           "yaxis": "y"
          },
          {
           "hovertemplate": "variable=Predicted<br>timestep=52<br>periodstep=%{x}<br>value=%{y}<extra></extra>",
           "legendgroup": "Predicted",
           "line": {
            "color": "#00cc96",
            "dash": "solid"
           },
           "marker": {
            "symbol": "circle"
           },
           "mode": "lines",
           "name": "Predicted",
           "orientation": "v",
           "showlegend": true,
           "type": "scatter",
           "x": [
            1,
            2,
            3,
            4,
            5,
            6,
            7,
            8,
            9,
            10,
            11,
            12,
            13,
            14,
            15,
            16,
            17,
            18,
            19,
            20,
            21,
            22,
            23,
            24
           ],
           "xaxis": "x",
           "y": [
            null,
            null,
            null,
            null,
            null,
            null,
            null,
            null,
            null,
            null,
            null,
            null,
            125.42139459950675,
            124.56045664843059,
            127.78766574965053,
            130.13827599652325,
            130.04748944647804,
            127.85657068918573,
            130.30493415853798,
            130.04199844745955,
            130.3072333301011,
            130.53717966753948,
            130.4918509178089,
            129.0015861065635
           ],
           "yaxis": "y"
          }
         ],
         "name": "52"
        },
        {
         "data": [
          {
           "hovertemplate": "variable=HistoricalPrice<br>timestep=53<br>periodstep=%{x}<br>value=%{y}<extra></extra>",
           "legendgroup": "HistoricalPrice",
           "line": {
            "color": "#636efa",
            "dash": "solid"
           },
           "marker": {
            "symbol": "circle"
           },
           "mode": "lines",
           "name": "HistoricalPrice",
           "orientation": "v",
           "showlegend": true,
           "type": "scatter",
           "x": [
            1,
            2,
            3,
            4,
            5,
            6,
            7,
            8,
            9,
            10,
            11,
            12,
            13,
            14,
            15,
            16,
            17,
            18,
            19,
            20,
            21,
            22,
            23,
            24
           ],
           "xaxis": "x",
           "y": [
            64.46,
            73.53,
            68.5,
            70.18,
            64.59,
            68.32,
            100.48,
            62.45,
            50.67,
            54.53,
            60.56,
            58.36,
            null,
            null,
            null,
            null,
            null,
            null,
            null,
            null,
            null,
            null,
            null,
            null
           ],
           "yaxis": "y"
          },
          {
           "hovertemplate": "variable=FuturePrice<br>timestep=53<br>periodstep=%{x}<br>value=%{y}<extra></extra>",
           "legendgroup": "FuturePrice",
           "line": {
            "color": "#EF553B",
            "dash": "solid"
           },
           "marker": {
            "symbol": "circle"
           },
           "mode": "lines",
           "name": "FuturePrice",
           "orientation": "v",
           "showlegend": true,
           "type": "scatter",
           "x": [
            1,
            2,
            3,
            4,
            5,
            6,
            7,
            8,
            9,
            10,
            11,
            12,
            13,
            14,
            15,
            16,
            17,
            18,
            19,
            20,
            21,
            22,
            23,
            24
           ],
           "xaxis": "x",
           "y": [
            null,
            null,
            null,
            null,
            null,
            null,
            null,
            null,
            null,
            null,
            null,
            null,
            49.22,
            48.2,
            56.23,
            76.84,
            55.26,
            56.32,
            55.86,
            57.05,
            56.3,
            57.89,
            53.86,
            52.56
           ],
           "yaxis": "y"
          },
          {
           "hovertemplate": "variable=Predicted<br>timestep=53<br>periodstep=%{x}<br>value=%{y}<extra></extra>",
           "legendgroup": "Predicted",
           "line": {
            "color": "#00cc96",
            "dash": "solid"
           },
           "marker": {
            "symbol": "circle"
           },
           "mode": "lines",
           "name": "Predicted",
           "orientation": "v",
           "showlegend": true,
           "type": "scatter",
           "x": [
            1,
            2,
            3,
            4,
            5,
            6,
            7,
            8,
            9,
            10,
            11,
            12,
            13,
            14,
            15,
            16,
            17,
            18,
            19,
            20,
            21,
            22,
            23,
            24
           ],
           "xaxis": "x",
           "y": [
            null,
            null,
            null,
            null,
            null,
            null,
            null,
            null,
            null,
            null,
            null,
            null,
            125.42139459950675,
            124.56045664843059,
            127.78766574965053,
            130.13827599652325,
            130.04748944647804,
            127.85657068918573,
            130.30493415853798,
            130.04199844745955,
            130.3072333301011,
            130.53717966753948,
            130.4918509178089,
            129.0015861065635
           ],
           "yaxis": "y"
          }
         ],
         "name": "53"
        },
        {
         "data": [
          {
           "hovertemplate": "variable=HistoricalPrice<br>timestep=54<br>periodstep=%{x}<br>value=%{y}<extra></extra>",
           "legendgroup": "HistoricalPrice",
           "line": {
            "color": "#636efa",
            "dash": "solid"
           },
           "marker": {
            "symbol": "circle"
           },
           "mode": "lines",
           "name": "HistoricalPrice",
           "orientation": "v",
           "showlegend": true,
           "type": "scatter",
           "x": [
            1,
            2,
            3,
            4,
            5,
            6,
            7,
            8,
            9,
            10,
            11,
            12,
            13,
            14,
            15,
            16,
            17,
            18,
            19,
            20,
            21,
            22,
            23,
            24
           ],
           "xaxis": "x",
           "y": [
            73.53,
            68.5,
            70.18,
            64.59,
            68.32,
            100.48,
            62.45,
            50.67,
            54.53,
            60.56,
            58.36,
            49.22,
            null,
            null,
            null,
            null,
            null,
            null,
            null,
            null,
            null,
            null,
            null,
            null
           ],
           "yaxis": "y"
          },
          {
           "hovertemplate": "variable=FuturePrice<br>timestep=54<br>periodstep=%{x}<br>value=%{y}<extra></extra>",
           "legendgroup": "FuturePrice",
           "line": {
            "color": "#EF553B",
            "dash": "solid"
           },
           "marker": {
            "symbol": "circle"
           },
           "mode": "lines",
           "name": "FuturePrice",
           "orientation": "v",
           "showlegend": true,
           "type": "scatter",
           "x": [
            1,
            2,
            3,
            4,
            5,
            6,
            7,
            8,
            9,
            10,
            11,
            12,
            13,
            14,
            15,
            16,
            17,
            18,
            19,
            20,
            21,
            22,
            23,
            24
           ],
           "xaxis": "x",
           "y": [
            null,
            null,
            null,
            null,
            null,
            null,
            null,
            null,
            null,
            null,
            null,
            null,
            48.2,
            56.23,
            76.84,
            55.26,
            56.32,
            55.86,
            57.05,
            56.3,
            57.89,
            53.86,
            52.56,
            52.9
           ],
           "yaxis": "y"
          },
          {
           "hovertemplate": "variable=Predicted<br>timestep=54<br>periodstep=%{x}<br>value=%{y}<extra></extra>",
           "legendgroup": "Predicted",
           "line": {
            "color": "#00cc96",
            "dash": "solid"
           },
           "marker": {
            "symbol": "circle"
           },
           "mode": "lines",
           "name": "Predicted",
           "orientation": "v",
           "showlegend": true,
           "type": "scatter",
           "x": [
            1,
            2,
            3,
            4,
            5,
            6,
            7,
            8,
            9,
            10,
            11,
            12,
            13,
            14,
            15,
            16,
            17,
            18,
            19,
            20,
            21,
            22,
            23,
            24
           ],
           "xaxis": "x",
           "y": [
            null,
            null,
            null,
            null,
            null,
            null,
            null,
            null,
            null,
            null,
            null,
            null,
            125.42139459950675,
            124.56045664843059,
            124.9165409601146,
            126.17051669723918,
            126.50399189554744,
            127.85657068918573,
            130.30493415853798,
            130.04199844745955,
            130.3072333301011,
            130.53717966753948,
            130.4918509178089,
            136.27513923516977
           ],
           "yaxis": "y"
          }
         ],
         "name": "54"
        },
        {
         "data": [
          {
           "hovertemplate": "variable=HistoricalPrice<br>timestep=55<br>periodstep=%{x}<br>value=%{y}<extra></extra>",
           "legendgroup": "HistoricalPrice",
           "line": {
            "color": "#636efa",
            "dash": "solid"
           },
           "marker": {
            "symbol": "circle"
           },
           "mode": "lines",
           "name": "HistoricalPrice",
           "orientation": "v",
           "showlegend": true,
           "type": "scatter",
           "x": [
            1,
            2,
            3,
            4,
            5,
            6,
            7,
            8,
            9,
            10,
            11,
            12,
            13,
            14,
            15,
            16,
            17,
            18,
            19,
            20,
            21,
            22,
            23,
            24
           ],
           "xaxis": "x",
           "y": [
            68.5,
            70.18,
            64.59,
            68.32,
            100.48,
            62.45,
            50.67,
            54.53,
            60.56,
            58.36,
            49.22,
            48.2,
            null,
            null,
            null,
            null,
            null,
            null,
            null,
            null,
            null,
            null,
            null,
            null
           ],
           "yaxis": "y"
          },
          {
           "hovertemplate": "variable=FuturePrice<br>timestep=55<br>periodstep=%{x}<br>value=%{y}<extra></extra>",
           "legendgroup": "FuturePrice",
           "line": {
            "color": "#EF553B",
            "dash": "solid"
           },
           "marker": {
            "symbol": "circle"
           },
           "mode": "lines",
           "name": "FuturePrice",
           "orientation": "v",
           "showlegend": true,
           "type": "scatter",
           "x": [
            1,
            2,
            3,
            4,
            5,
            6,
            7,
            8,
            9,
            10,
            11,
            12,
            13,
            14,
            15,
            16,
            17,
            18,
            19,
            20,
            21,
            22,
            23,
            24
           ],
           "xaxis": "x",
           "y": [
            null,
            null,
            null,
            null,
            null,
            null,
            null,
            null,
            null,
            null,
            null,
            null,
            56.23,
            76.84,
            55.26,
            56.32,
            55.86,
            57.05,
            56.3,
            57.89,
            53.86,
            52.56,
            52.9,
            57.21
           ],
           "yaxis": "y"
          },
          {
           "hovertemplate": "variable=Predicted<br>timestep=55<br>periodstep=%{x}<br>value=%{y}<extra></extra>",
           "legendgroup": "Predicted",
           "line": {
            "color": "#00cc96",
            "dash": "solid"
           },
           "marker": {
            "symbol": "circle"
           },
           "mode": "lines",
           "name": "Predicted",
           "orientation": "v",
           "showlegend": true,
           "type": "scatter",
           "x": [
            1,
            2,
            3,
            4,
            5,
            6,
            7,
            8,
            9,
            10,
            11,
            12,
            13,
            14,
            15,
            16,
            17,
            18,
            19,
            20,
            21,
            22,
            23,
            24
           ],
           "xaxis": "x",
           "y": [
            null,
            null,
            null,
            null,
            null,
            null,
            null,
            null,
            null,
            null,
            null,
            null,
            123.2053561368372,
            124.56045664843059,
            124.9165409601146,
            126.17051669723918,
            126.50399189554744,
            127.85657068918573,
            130.30493415853798,
            130.04199844745955,
            130.3072333301011,
            130.53717966753948,
            136.189073357899,
            129.0015861065635
           ],
           "yaxis": "y"
          }
         ],
         "name": "55"
        },
        {
         "data": [
          {
           "hovertemplate": "variable=HistoricalPrice<br>timestep=56<br>periodstep=%{x}<br>value=%{y}<extra></extra>",
           "legendgroup": "HistoricalPrice",
           "line": {
            "color": "#636efa",
            "dash": "solid"
           },
           "marker": {
            "symbol": "circle"
           },
           "mode": "lines",
           "name": "HistoricalPrice",
           "orientation": "v",
           "showlegend": true,
           "type": "scatter",
           "x": [
            1,
            2,
            3,
            4,
            5,
            6,
            7,
            8,
            9,
            10,
            11,
            12,
            13,
            14,
            15,
            16,
            17,
            18,
            19,
            20,
            21,
            22,
            23,
            24
           ],
           "xaxis": "x",
           "y": [
            70.18,
            64.59,
            68.32,
            100.48,
            62.45,
            50.67,
            54.53,
            60.56,
            58.36,
            49.22,
            48.2,
            56.23,
            null,
            null,
            null,
            null,
            null,
            null,
            null,
            null,
            null,
            null,
            null,
            null
           ],
           "yaxis": "y"
          },
          {
           "hovertemplate": "variable=FuturePrice<br>timestep=56<br>periodstep=%{x}<br>value=%{y}<extra></extra>",
           "legendgroup": "FuturePrice",
           "line": {
            "color": "#EF553B",
            "dash": "solid"
           },
           "marker": {
            "symbol": "circle"
           },
           "mode": "lines",
           "name": "FuturePrice",
           "orientation": "v",
           "showlegend": true,
           "type": "scatter",
           "x": [
            1,
            2,
            3,
            4,
            5,
            6,
            7,
            8,
            9,
            10,
            11,
            12,
            13,
            14,
            15,
            16,
            17,
            18,
            19,
            20,
            21,
            22,
            23,
            24
           ],
           "xaxis": "x",
           "y": [
            null,
            null,
            null,
            null,
            null,
            null,
            null,
            null,
            null,
            null,
            null,
            null,
            76.84,
            55.26,
            56.32,
            55.86,
            57.05,
            56.3,
            57.89,
            53.86,
            52.56,
            52.9,
            57.21,
            53.98
           ],
           "yaxis": "y"
          },
          {
           "hovertemplate": "variable=Predicted<br>timestep=56<br>periodstep=%{x}<br>value=%{y}<extra></extra>",
           "legendgroup": "Predicted",
           "line": {
            "color": "#00cc96",
            "dash": "solid"
           },
           "marker": {
            "symbol": "circle"
           },
           "mode": "lines",
           "name": "Predicted",
           "orientation": "v",
           "showlegend": true,
           "type": "scatter",
           "x": [
            1,
            2,
            3,
            4,
            5,
            6,
            7,
            8,
            9,
            10,
            11,
            12,
            13,
            14,
            15,
            16,
            17,
            18,
            19,
            20,
            21,
            22,
            23,
            24
           ],
           "xaxis": "x",
           "y": [
            null,
            null,
            null,
            null,
            null,
            null,
            null,
            null,
            null,
            null,
            null,
            null,
            125.42139459950675,
            124.56045664843059,
            124.9165409601146,
            130.13827599652325,
            130.04748944647804,
            127.85657068918573,
            130.30493415853798,
            130.04199844745955,
            130.3072333301011,
            136.18775708035923,
            130.4918509178089,
            129.0015861065635
           ],
           "yaxis": "y"
          }
         ],
         "name": "56"
        },
        {
         "data": [
          {
           "hovertemplate": "variable=HistoricalPrice<br>timestep=57<br>periodstep=%{x}<br>value=%{y}<extra></extra>",
           "legendgroup": "HistoricalPrice",
           "line": {
            "color": "#636efa",
            "dash": "solid"
           },
           "marker": {
            "symbol": "circle"
           },
           "mode": "lines",
           "name": "HistoricalPrice",
           "orientation": "v",
           "showlegend": true,
           "type": "scatter",
           "x": [
            1,
            2,
            3,
            4,
            5,
            6,
            7,
            8,
            9,
            10,
            11,
            12,
            13,
            14,
            15,
            16,
            17,
            18,
            19,
            20,
            21,
            22,
            23,
            24
           ],
           "xaxis": "x",
           "y": [
            64.59,
            68.32,
            100.48,
            62.45,
            50.67,
            54.53,
            60.56,
            58.36,
            49.22,
            48.2,
            56.23,
            76.84,
            null,
            null,
            null,
            null,
            null,
            null,
            null,
            null,
            null,
            null,
            null,
            null
           ],
           "yaxis": "y"
          },
          {
           "hovertemplate": "variable=FuturePrice<br>timestep=57<br>periodstep=%{x}<br>value=%{y}<extra></extra>",
           "legendgroup": "FuturePrice",
           "line": {
            "color": "#EF553B",
            "dash": "solid"
           },
           "marker": {
            "symbol": "circle"
           },
           "mode": "lines",
           "name": "FuturePrice",
           "orientation": "v",
           "showlegend": true,
           "type": "scatter",
           "x": [
            1,
            2,
            3,
            4,
            5,
            6,
            7,
            8,
            9,
            10,
            11,
            12,
            13,
            14,
            15,
            16,
            17,
            18,
            19,
            20,
            21,
            22,
            23,
            24
           ],
           "xaxis": "x",
           "y": [
            null,
            null,
            null,
            null,
            null,
            null,
            null,
            null,
            null,
            null,
            null,
            null,
            55.26,
            56.32,
            55.86,
            57.05,
            56.3,
            57.89,
            53.86,
            52.56,
            52.9,
            57.21,
            53.98,
            50.09
           ],
           "yaxis": "y"
          },
          {
           "hovertemplate": "variable=Predicted<br>timestep=57<br>periodstep=%{x}<br>value=%{y}<extra></extra>",
           "legendgroup": "Predicted",
           "line": {
            "color": "#00cc96",
            "dash": "solid"
           },
           "marker": {
            "symbol": "circle"
           },
           "mode": "lines",
           "name": "Predicted",
           "orientation": "v",
           "showlegend": true,
           "type": "scatter",
           "x": [
            1,
            2,
            3,
            4,
            5,
            6,
            7,
            8,
            9,
            10,
            11,
            12,
            13,
            14,
            15,
            16,
            17,
            18,
            19,
            20,
            21,
            22,
            23,
            24
           ],
           "xaxis": "x",
           "y": [
            null,
            null,
            null,
            null,
            null,
            null,
            null,
            null,
            null,
            null,
            null,
            null,
            127.57724290974929,
            128.1012345218249,
            135.05794924981754,
            130.13827599652325,
            130.04748944647804,
            127.85657068918573,
            130.30493415853798,
            130.04199844745955,
            130.93330697403127,
            130.53717966753948,
            130.4918509178089,
            129.0015861065635
           ],
           "yaxis": "y"
          }
         ],
         "name": "57"
        },
        {
         "data": [
          {
           "hovertemplate": "variable=HistoricalPrice<br>timestep=58<br>periodstep=%{x}<br>value=%{y}<extra></extra>",
           "legendgroup": "HistoricalPrice",
           "line": {
            "color": "#636efa",
            "dash": "solid"
           },
           "marker": {
            "symbol": "circle"
           },
           "mode": "lines",
           "name": "HistoricalPrice",
           "orientation": "v",
           "showlegend": true,
           "type": "scatter",
           "x": [
            1,
            2,
            3,
            4,
            5,
            6,
            7,
            8,
            9,
            10,
            11,
            12,
            13,
            14,
            15,
            16,
            17,
            18,
            19,
            20,
            21,
            22,
            23,
            24
           ],
           "xaxis": "x",
           "y": [
            68.32,
            100.48,
            62.45,
            50.67,
            54.53,
            60.56,
            58.36,
            49.22,
            48.2,
            56.23,
            76.84,
            55.26,
            null,
            null,
            null,
            null,
            null,
            null,
            null,
            null,
            null,
            null,
            null,
            null
           ],
           "yaxis": "y"
          },
          {
           "hovertemplate": "variable=FuturePrice<br>timestep=58<br>periodstep=%{x}<br>value=%{y}<extra></extra>",
           "legendgroup": "FuturePrice",
           "line": {
            "color": "#EF553B",
            "dash": "solid"
           },
           "marker": {
            "symbol": "circle"
           },
           "mode": "lines",
           "name": "FuturePrice",
           "orientation": "v",
           "showlegend": true,
           "type": "scatter",
           "x": [
            1,
            2,
            3,
            4,
            5,
            6,
            7,
            8,
            9,
            10,
            11,
            12,
            13,
            14,
            15,
            16,
            17,
            18,
            19,
            20,
            21,
            22,
            23,
            24
           ],
           "xaxis": "x",
           "y": [
            null,
            null,
            null,
            null,
            null,
            null,
            null,
            null,
            null,
            null,
            null,
            null,
            56.32,
            55.86,
            57.05,
            56.3,
            57.89,
            53.86,
            52.56,
            52.9,
            57.21,
            53.98,
            50.09,
            38.74
           ],
           "yaxis": "y"
          },
          {
           "hovertemplate": "variable=Predicted<br>timestep=58<br>periodstep=%{x}<br>value=%{y}<extra></extra>",
           "legendgroup": "Predicted",
           "line": {
            "color": "#00cc96",
            "dash": "solid"
           },
           "marker": {
            "symbol": "circle"
           },
           "mode": "lines",
           "name": "Predicted",
           "orientation": "v",
           "showlegend": true,
           "type": "scatter",
           "x": [
            1,
            2,
            3,
            4,
            5,
            6,
            7,
            8,
            9,
            10,
            11,
            12,
            13,
            14,
            15,
            16,
            17,
            18,
            19,
            20,
            21,
            22,
            23,
            24
           ],
           "xaxis": "x",
           "y": [
            null,
            null,
            null,
            null,
            null,
            null,
            null,
            null,
            null,
            null,
            null,
            null,
            125.42139459950675,
            124.56045664843059,
            124.9165409601146,
            130.13827599652325,
            130.04748944647804,
            127.85657068918573,
            130.30493415853798,
            135.42710949364914,
            130.3072333301011,
            130.53717966753948,
            130.4918509178089,
            129.0015861065635
           ],
           "yaxis": "y"
          }
         ],
         "name": "58"
        },
        {
         "data": [
          {
           "hovertemplate": "variable=HistoricalPrice<br>timestep=59<br>periodstep=%{x}<br>value=%{y}<extra></extra>",
           "legendgroup": "HistoricalPrice",
           "line": {
            "color": "#636efa",
            "dash": "solid"
           },
           "marker": {
            "symbol": "circle"
           },
           "mode": "lines",
           "name": "HistoricalPrice",
           "orientation": "v",
           "showlegend": true,
           "type": "scatter",
           "x": [
            1,
            2,
            3,
            4,
            5,
            6,
            7,
            8,
            9,
            10,
            11,
            12,
            13,
            14,
            15,
            16,
            17,
            18,
            19,
            20,
            21,
            22,
            23,
            24
           ],
           "xaxis": "x",
           "y": [
            100.48,
            62.45,
            50.67,
            54.53,
            60.56,
            58.36,
            49.22,
            48.2,
            56.23,
            76.84,
            55.26,
            56.32,
            null,
            null,
            null,
            null,
            null,
            null,
            null,
            null,
            null,
            null,
            null,
            null
           ],
           "yaxis": "y"
          },
          {
           "hovertemplate": "variable=FuturePrice<br>timestep=59<br>periodstep=%{x}<br>value=%{y}<extra></extra>",
           "legendgroup": "FuturePrice",
           "line": {
            "color": "#EF553B",
            "dash": "solid"
           },
           "marker": {
            "symbol": "circle"
           },
           "mode": "lines",
           "name": "FuturePrice",
           "orientation": "v",
           "showlegend": true,
           "type": "scatter",
           "x": [
            1,
            2,
            3,
            4,
            5,
            6,
            7,
            8,
            9,
            10,
            11,
            12,
            13,
            14,
            15,
            16,
            17,
            18,
            19,
            20,
            21,
            22,
            23,
            24
           ],
           "xaxis": "x",
           "y": [
            null,
            null,
            null,
            null,
            null,
            null,
            null,
            null,
            null,
            null,
            null,
            null,
            55.86,
            57.05,
            56.3,
            57.89,
            53.86,
            52.56,
            52.9,
            57.21,
            53.98,
            50.09,
            38.74,
            40
           ],
           "yaxis": "y"
          },
          {
           "hovertemplate": "variable=Predicted<br>timestep=59<br>periodstep=%{x}<br>value=%{y}<extra></extra>",
           "legendgroup": "Predicted",
           "line": {
            "color": "#00cc96",
            "dash": "solid"
           },
           "marker": {
            "symbol": "circle"
           },
           "mode": "lines",
           "name": "Predicted",
           "orientation": "v",
           "showlegend": true,
           "type": "scatter",
           "x": [
            1,
            2,
            3,
            4,
            5,
            6,
            7,
            8,
            9,
            10,
            11,
            12,
            13,
            14,
            15,
            16,
            17,
            18,
            19,
            20,
            21,
            22,
            23,
            24
           ],
           "xaxis": "x",
           "y": [
            null,
            null,
            null,
            null,
            null,
            null,
            null,
            null,
            null,
            null,
            null,
            null,
            125.42139459950675,
            124.56045664843059,
            124.9165409601146,
            130.13827599652325,
            130.04748944647804,
            127.85657068918573,
            134.8454922350198,
            130.04199844745955,
            130.3072333301011,
            130.53717966753948,
            130.4918509178089,
            131.2792529518786
           ],
           "yaxis": "y"
          }
         ],
         "name": "59"
        }
       ],
       "layout": {
        "height": 700,
        "legend": {
         "title": {
          "text": "variable"
         },
         "tracegroupgap": 0
        },
        "margin": {
         "t": 60
        },
        "sliders": [
         {
          "active": 0,
          "currentvalue": {
           "prefix": "timestep="
          },
          "len": 0.9,
          "pad": {
           "b": 10,
           "t": 60
          },
          "steps": [
           {
            "args": [
             [
              "0"
             ],
             {
              "frame": {
               "duration": 0,
               "redraw": false
              },
              "fromcurrent": true,
              "mode": "immediate",
              "transition": {
               "duration": 0,
               "easing": "linear"
              }
             }
            ],
            "label": "0",
            "method": "animate"
           },
           {
            "args": [
             [
              "1"
             ],
             {
              "frame": {
               "duration": 0,
               "redraw": false
              },
              "fromcurrent": true,
              "mode": "immediate",
              "transition": {
               "duration": 0,
               "easing": "linear"
              }
             }
            ],
            "label": "1",
            "method": "animate"
           },
           {
            "args": [
             [
              "2"
             ],
             {
              "frame": {
               "duration": 0,
               "redraw": false
              },
              "fromcurrent": true,
              "mode": "immediate",
              "transition": {
               "duration": 0,
               "easing": "linear"
              }
             }
            ],
            "label": "2",
            "method": "animate"
           },
           {
            "args": [
             [
              "3"
             ],
             {
              "frame": {
               "duration": 0,
               "redraw": false
              },
              "fromcurrent": true,
              "mode": "immediate",
              "transition": {
               "duration": 0,
               "easing": "linear"
              }
             }
            ],
            "label": "3",
            "method": "animate"
           },
           {
            "args": [
             [
              "4"
             ],
             {
              "frame": {
               "duration": 0,
               "redraw": false
              },
              "fromcurrent": true,
              "mode": "immediate",
              "transition": {
               "duration": 0,
               "easing": "linear"
              }
             }
            ],
            "label": "4",
            "method": "animate"
           },
           {
            "args": [
             [
              "5"
             ],
             {
              "frame": {
               "duration": 0,
               "redraw": false
              },
              "fromcurrent": true,
              "mode": "immediate",
              "transition": {
               "duration": 0,
               "easing": "linear"
              }
             }
            ],
            "label": "5",
            "method": "animate"
           },
           {
            "args": [
             [
              "6"
             ],
             {
              "frame": {
               "duration": 0,
               "redraw": false
              },
              "fromcurrent": true,
              "mode": "immediate",
              "transition": {
               "duration": 0,
               "easing": "linear"
              }
             }
            ],
            "label": "6",
            "method": "animate"
           },
           {
            "args": [
             [
              "7"
             ],
             {
              "frame": {
               "duration": 0,
               "redraw": false
              },
              "fromcurrent": true,
              "mode": "immediate",
              "transition": {
               "duration": 0,
               "easing": "linear"
              }
             }
            ],
            "label": "7",
            "method": "animate"
           },
           {
            "args": [
             [
              "8"
             ],
             {
              "frame": {
               "duration": 0,
               "redraw": false
              },
              "fromcurrent": true,
              "mode": "immediate",
              "transition": {
               "duration": 0,
               "easing": "linear"
              }
             }
            ],
            "label": "8",
            "method": "animate"
           },
           {
            "args": [
             [
              "9"
             ],
             {
              "frame": {
               "duration": 0,
               "redraw": false
              },
              "fromcurrent": true,
              "mode": "immediate",
              "transition": {
               "duration": 0,
               "easing": "linear"
              }
             }
            ],
            "label": "9",
            "method": "animate"
           },
           {
            "args": [
             [
              "10"
             ],
             {
              "frame": {
               "duration": 0,
               "redraw": false
              },
              "fromcurrent": true,
              "mode": "immediate",
              "transition": {
               "duration": 0,
               "easing": "linear"
              }
             }
            ],
            "label": "10",
            "method": "animate"
           },
           {
            "args": [
             [
              "11"
             ],
             {
              "frame": {
               "duration": 0,
               "redraw": false
              },
              "fromcurrent": true,
              "mode": "immediate",
              "transition": {
               "duration": 0,
               "easing": "linear"
              }
             }
            ],
            "label": "11",
            "method": "animate"
           },
           {
            "args": [
             [
              "12"
             ],
             {
              "frame": {
               "duration": 0,
               "redraw": false
              },
              "fromcurrent": true,
              "mode": "immediate",
              "transition": {
               "duration": 0,
               "easing": "linear"
              }
             }
            ],
            "label": "12",
            "method": "animate"
           },
           {
            "args": [
             [
              "13"
             ],
             {
              "frame": {
               "duration": 0,
               "redraw": false
              },
              "fromcurrent": true,
              "mode": "immediate",
              "transition": {
               "duration": 0,
               "easing": "linear"
              }
             }
            ],
            "label": "13",
            "method": "animate"
           },
           {
            "args": [
             [
              "14"
             ],
             {
              "frame": {
               "duration": 0,
               "redraw": false
              },
              "fromcurrent": true,
              "mode": "immediate",
              "transition": {
               "duration": 0,
               "easing": "linear"
              }
             }
            ],
            "label": "14",
            "method": "animate"
           },
           {
            "args": [
             [
              "15"
             ],
             {
              "frame": {
               "duration": 0,
               "redraw": false
              },
              "fromcurrent": true,
              "mode": "immediate",
              "transition": {
               "duration": 0,
               "easing": "linear"
              }
             }
            ],
            "label": "15",
            "method": "animate"
           },
           {
            "args": [
             [
              "16"
             ],
             {
              "frame": {
               "duration": 0,
               "redraw": false
              },
              "fromcurrent": true,
              "mode": "immediate",
              "transition": {
               "duration": 0,
               "easing": "linear"
              }
             }
            ],
            "label": "16",
            "method": "animate"
           },
           {
            "args": [
             [
              "17"
             ],
             {
              "frame": {
               "duration": 0,
               "redraw": false
              },
              "fromcurrent": true,
              "mode": "immediate",
              "transition": {
               "duration": 0,
               "easing": "linear"
              }
             }
            ],
            "label": "17",
            "method": "animate"
           },
           {
            "args": [
             [
              "18"
             ],
             {
              "frame": {
               "duration": 0,
               "redraw": false
              },
              "fromcurrent": true,
              "mode": "immediate",
              "transition": {
               "duration": 0,
               "easing": "linear"
              }
             }
            ],
            "label": "18",
            "method": "animate"
           },
           {
            "args": [
             [
              "19"
             ],
             {
              "frame": {
               "duration": 0,
               "redraw": false
              },
              "fromcurrent": true,
              "mode": "immediate",
              "transition": {
               "duration": 0,
               "easing": "linear"
              }
             }
            ],
            "label": "19",
            "method": "animate"
           },
           {
            "args": [
             [
              "20"
             ],
             {
              "frame": {
               "duration": 0,
               "redraw": false
              },
              "fromcurrent": true,
              "mode": "immediate",
              "transition": {
               "duration": 0,
               "easing": "linear"
              }
             }
            ],
            "label": "20",
            "method": "animate"
           },
           {
            "args": [
             [
              "21"
             ],
             {
              "frame": {
               "duration": 0,
               "redraw": false
              },
              "fromcurrent": true,
              "mode": "immediate",
              "transition": {
               "duration": 0,
               "easing": "linear"
              }
             }
            ],
            "label": "21",
            "method": "animate"
           },
           {
            "args": [
             [
              "22"
             ],
             {
              "frame": {
               "duration": 0,
               "redraw": false
              },
              "fromcurrent": true,
              "mode": "immediate",
              "transition": {
               "duration": 0,
               "easing": "linear"
              }
             }
            ],
            "label": "22",
            "method": "animate"
           },
           {
            "args": [
             [
              "23"
             ],
             {
              "frame": {
               "duration": 0,
               "redraw": false
              },
              "fromcurrent": true,
              "mode": "immediate",
              "transition": {
               "duration": 0,
               "easing": "linear"
              }
             }
            ],
            "label": "23",
            "method": "animate"
           },
           {
            "args": [
             [
              "24"
             ],
             {
              "frame": {
               "duration": 0,
               "redraw": false
              },
              "fromcurrent": true,
              "mode": "immediate",
              "transition": {
               "duration": 0,
               "easing": "linear"
              }
             }
            ],
            "label": "24",
            "method": "animate"
           },
           {
            "args": [
             [
              "25"
             ],
             {
              "frame": {
               "duration": 0,
               "redraw": false
              },
              "fromcurrent": true,
              "mode": "immediate",
              "transition": {
               "duration": 0,
               "easing": "linear"
              }
             }
            ],
            "label": "25",
            "method": "animate"
           },
           {
            "args": [
             [
              "26"
             ],
             {
              "frame": {
               "duration": 0,
               "redraw": false
              },
              "fromcurrent": true,
              "mode": "immediate",
              "transition": {
               "duration": 0,
               "easing": "linear"
              }
             }
            ],
            "label": "26",
            "method": "animate"
           },
           {
            "args": [
             [
              "27"
             ],
             {
              "frame": {
               "duration": 0,
               "redraw": false
              },
              "fromcurrent": true,
              "mode": "immediate",
              "transition": {
               "duration": 0,
               "easing": "linear"
              }
             }
            ],
            "label": "27",
            "method": "animate"
           },
           {
            "args": [
             [
              "28"
             ],
             {
              "frame": {
               "duration": 0,
               "redraw": false
              },
              "fromcurrent": true,
              "mode": "immediate",
              "transition": {
               "duration": 0,
               "easing": "linear"
              }
             }
            ],
            "label": "28",
            "method": "animate"
           },
           {
            "args": [
             [
              "29"
             ],
             {
              "frame": {
               "duration": 0,
               "redraw": false
              },
              "fromcurrent": true,
              "mode": "immediate",
              "transition": {
               "duration": 0,
               "easing": "linear"
              }
             }
            ],
            "label": "29",
            "method": "animate"
           },
           {
            "args": [
             [
              "30"
             ],
             {
              "frame": {
               "duration": 0,
               "redraw": false
              },
              "fromcurrent": true,
              "mode": "immediate",
              "transition": {
               "duration": 0,
               "easing": "linear"
              }
             }
            ],
            "label": "30",
            "method": "animate"
           },
           {
            "args": [
             [
              "31"
             ],
             {
              "frame": {
               "duration": 0,
               "redraw": false
              },
              "fromcurrent": true,
              "mode": "immediate",
              "transition": {
               "duration": 0,
               "easing": "linear"
              }
             }
            ],
            "label": "31",
            "method": "animate"
           },
           {
            "args": [
             [
              "32"
             ],
             {
              "frame": {
               "duration": 0,
               "redraw": false
              },
              "fromcurrent": true,
              "mode": "immediate",
              "transition": {
               "duration": 0,
               "easing": "linear"
              }
             }
            ],
            "label": "32",
            "method": "animate"
           },
           {
            "args": [
             [
              "33"
             ],
             {
              "frame": {
               "duration": 0,
               "redraw": false
              },
              "fromcurrent": true,
              "mode": "immediate",
              "transition": {
               "duration": 0,
               "easing": "linear"
              }
             }
            ],
            "label": "33",
            "method": "animate"
           },
           {
            "args": [
             [
              "34"
             ],
             {
              "frame": {
               "duration": 0,
               "redraw": false
              },
              "fromcurrent": true,
              "mode": "immediate",
              "transition": {
               "duration": 0,
               "easing": "linear"
              }
             }
            ],
            "label": "34",
            "method": "animate"
           },
           {
            "args": [
             [
              "35"
             ],
             {
              "frame": {
               "duration": 0,
               "redraw": false
              },
              "fromcurrent": true,
              "mode": "immediate",
              "transition": {
               "duration": 0,
               "easing": "linear"
              }
             }
            ],
            "label": "35",
            "method": "animate"
           },
           {
            "args": [
             [
              "36"
             ],
             {
              "frame": {
               "duration": 0,
               "redraw": false
              },
              "fromcurrent": true,
              "mode": "immediate",
              "transition": {
               "duration": 0,
               "easing": "linear"
              }
             }
            ],
            "label": "36",
            "method": "animate"
           },
           {
            "args": [
             [
              "37"
             ],
             {
              "frame": {
               "duration": 0,
               "redraw": false
              },
              "fromcurrent": true,
              "mode": "immediate",
              "transition": {
               "duration": 0,
               "easing": "linear"
              }
             }
            ],
            "label": "37",
            "method": "animate"
           },
           {
            "args": [
             [
              "38"
             ],
             {
              "frame": {
               "duration": 0,
               "redraw": false
              },
              "fromcurrent": true,
              "mode": "immediate",
              "transition": {
               "duration": 0,
               "easing": "linear"
              }
             }
            ],
            "label": "38",
            "method": "animate"
           },
           {
            "args": [
             [
              "39"
             ],
             {
              "frame": {
               "duration": 0,
               "redraw": false
              },
              "fromcurrent": true,
              "mode": "immediate",
              "transition": {
               "duration": 0,
               "easing": "linear"
              }
             }
            ],
            "label": "39",
            "method": "animate"
           },
           {
            "args": [
             [
              "40"
             ],
             {
              "frame": {
               "duration": 0,
               "redraw": false
              },
              "fromcurrent": true,
              "mode": "immediate",
              "transition": {
               "duration": 0,
               "easing": "linear"
              }
             }
            ],
            "label": "40",
            "method": "animate"
           },
           {
            "args": [
             [
              "41"
             ],
             {
              "frame": {
               "duration": 0,
               "redraw": false
              },
              "fromcurrent": true,
              "mode": "immediate",
              "transition": {
               "duration": 0,
               "easing": "linear"
              }
             }
            ],
            "label": "41",
            "method": "animate"
           },
           {
            "args": [
             [
              "42"
             ],
             {
              "frame": {
               "duration": 0,
               "redraw": false
              },
              "fromcurrent": true,
              "mode": "immediate",
              "transition": {
               "duration": 0,
               "easing": "linear"
              }
             }
            ],
            "label": "42",
            "method": "animate"
           },
           {
            "args": [
             [
              "43"
             ],
             {
              "frame": {
               "duration": 0,
               "redraw": false
              },
              "fromcurrent": true,
              "mode": "immediate",
              "transition": {
               "duration": 0,
               "easing": "linear"
              }
             }
            ],
            "label": "43",
            "method": "animate"
           },
           {
            "args": [
             [
              "44"
             ],
             {
              "frame": {
               "duration": 0,
               "redraw": false
              },
              "fromcurrent": true,
              "mode": "immediate",
              "transition": {
               "duration": 0,
               "easing": "linear"
              }
             }
            ],
            "label": "44",
            "method": "animate"
           },
           {
            "args": [
             [
              "45"
             ],
             {
              "frame": {
               "duration": 0,
               "redraw": false
              },
              "fromcurrent": true,
              "mode": "immediate",
              "transition": {
               "duration": 0,
               "easing": "linear"
              }
             }
            ],
            "label": "45",
            "method": "animate"
           },
           {
            "args": [
             [
              "46"
             ],
             {
              "frame": {
               "duration": 0,
               "redraw": false
              },
              "fromcurrent": true,
              "mode": "immediate",
              "transition": {
               "duration": 0,
               "easing": "linear"
              }
             }
            ],
            "label": "46",
            "method": "animate"
           },
           {
            "args": [
             [
              "47"
             ],
             {
              "frame": {
               "duration": 0,
               "redraw": false
              },
              "fromcurrent": true,
              "mode": "immediate",
              "transition": {
               "duration": 0,
               "easing": "linear"
              }
             }
            ],
            "label": "47",
            "method": "animate"
           },
           {
            "args": [
             [
              "48"
             ],
             {
              "frame": {
               "duration": 0,
               "redraw": false
              },
              "fromcurrent": true,
              "mode": "immediate",
              "transition": {
               "duration": 0,
               "easing": "linear"
              }
             }
            ],
            "label": "48",
            "method": "animate"
           },
           {
            "args": [
             [
              "49"
             ],
             {
              "frame": {
               "duration": 0,
               "redraw": false
              },
              "fromcurrent": true,
              "mode": "immediate",
              "transition": {
               "duration": 0,
               "easing": "linear"
              }
             }
            ],
            "label": "49",
            "method": "animate"
           },
           {
            "args": [
             [
              "50"
             ],
             {
              "frame": {
               "duration": 0,
               "redraw": false
              },
              "fromcurrent": true,
              "mode": "immediate",
              "transition": {
               "duration": 0,
               "easing": "linear"
              }
             }
            ],
            "label": "50",
            "method": "animate"
           },
           {
            "args": [
             [
              "51"
             ],
             {
              "frame": {
               "duration": 0,
               "redraw": false
              },
              "fromcurrent": true,
              "mode": "immediate",
              "transition": {
               "duration": 0,
               "easing": "linear"
              }
             }
            ],
            "label": "51",
            "method": "animate"
           },
           {
            "args": [
             [
              "52"
             ],
             {
              "frame": {
               "duration": 0,
               "redraw": false
              },
              "fromcurrent": true,
              "mode": "immediate",
              "transition": {
               "duration": 0,
               "easing": "linear"
              }
             }
            ],
            "label": "52",
            "method": "animate"
           },
           {
            "args": [
             [
              "53"
             ],
             {
              "frame": {
               "duration": 0,
               "redraw": false
              },
              "fromcurrent": true,
              "mode": "immediate",
              "transition": {
               "duration": 0,
               "easing": "linear"
              }
             }
            ],
            "label": "53",
            "method": "animate"
           },
           {
            "args": [
             [
              "54"
             ],
             {
              "frame": {
               "duration": 0,
               "redraw": false
              },
              "fromcurrent": true,
              "mode": "immediate",
              "transition": {
               "duration": 0,
               "easing": "linear"
              }
             }
            ],
            "label": "54",
            "method": "animate"
           },
           {
            "args": [
             [
              "55"
             ],
             {
              "frame": {
               "duration": 0,
               "redraw": false
              },
              "fromcurrent": true,
              "mode": "immediate",
              "transition": {
               "duration": 0,
               "easing": "linear"
              }
             }
            ],
            "label": "55",
            "method": "animate"
           },
           {
            "args": [
             [
              "56"
             ],
             {
              "frame": {
               "duration": 0,
               "redraw": false
              },
              "fromcurrent": true,
              "mode": "immediate",
              "transition": {
               "duration": 0,
               "easing": "linear"
              }
             }
            ],
            "label": "56",
            "method": "animate"
           },
           {
            "args": [
             [
              "57"
             ],
             {
              "frame": {
               "duration": 0,
               "redraw": false
              },
              "fromcurrent": true,
              "mode": "immediate",
              "transition": {
               "duration": 0,
               "easing": "linear"
              }
             }
            ],
            "label": "57",
            "method": "animate"
           },
           {
            "args": [
             [
              "58"
             ],
             {
              "frame": {
               "duration": 0,
               "redraw": false
              },
              "fromcurrent": true,
              "mode": "immediate",
              "transition": {
               "duration": 0,
               "easing": "linear"
              }
             }
            ],
            "label": "58",
            "method": "animate"
           },
           {
            "args": [
             [
              "59"
             ],
             {
              "frame": {
               "duration": 0,
               "redraw": false
              },
              "fromcurrent": true,
              "mode": "immediate",
              "transition": {
               "duration": 0,
               "easing": "linear"
              }
             }
            ],
            "label": "59",
            "method": "animate"
           }
          ],
          "x": 0.1,
          "xanchor": "left",
          "y": 0,
          "yanchor": "top"
         }
        ],
        "template": {
         "data": {
          "bar": [
           {
            "error_x": {
             "color": "#2a3f5f"
            },
            "error_y": {
             "color": "#2a3f5f"
            },
            "marker": {
             "line": {
              "color": "#E5ECF6",
              "width": 0.5
             },
             "pattern": {
              "fillmode": "overlay",
              "size": 10,
              "solidity": 0.2
             }
            },
            "type": "bar"
           }
          ],
          "barpolar": [
           {
            "marker": {
             "line": {
              "color": "#E5ECF6",
              "width": 0.5
             },
             "pattern": {
              "fillmode": "overlay",
              "size": 10,
              "solidity": 0.2
             }
            },
            "type": "barpolar"
           }
          ],
          "carpet": [
           {
            "aaxis": {
             "endlinecolor": "#2a3f5f",
             "gridcolor": "white",
             "linecolor": "white",
             "minorgridcolor": "white",
             "startlinecolor": "#2a3f5f"
            },
            "baxis": {
             "endlinecolor": "#2a3f5f",
             "gridcolor": "white",
             "linecolor": "white",
             "minorgridcolor": "white",
             "startlinecolor": "#2a3f5f"
            },
            "type": "carpet"
           }
          ],
          "choropleth": [
           {
            "colorbar": {
             "outlinewidth": 0,
             "ticks": ""
            },
            "type": "choropleth"
           }
          ],
          "contour": [
           {
            "colorbar": {
             "outlinewidth": 0,
             "ticks": ""
            },
            "colorscale": [
             [
              0,
              "#0d0887"
             ],
             [
              0.1111111111111111,
              "#46039f"
             ],
             [
              0.2222222222222222,
              "#7201a8"
             ],
             [
              0.3333333333333333,
              "#9c179e"
             ],
             [
              0.4444444444444444,
              "#bd3786"
             ],
             [
              0.5555555555555556,
              "#d8576b"
             ],
             [
              0.6666666666666666,
              "#ed7953"
             ],
             [
              0.7777777777777778,
              "#fb9f3a"
             ],
             [
              0.8888888888888888,
              "#fdca26"
             ],
             [
              1,
              "#f0f921"
             ]
            ],
            "type": "contour"
           }
          ],
          "contourcarpet": [
           {
            "colorbar": {
             "outlinewidth": 0,
             "ticks": ""
            },
            "type": "contourcarpet"
           }
          ],
          "heatmap": [
           {
            "colorbar": {
             "outlinewidth": 0,
             "ticks": ""
            },
            "colorscale": [
             [
              0,
              "#0d0887"
             ],
             [
              0.1111111111111111,
              "#46039f"
             ],
             [
              0.2222222222222222,
              "#7201a8"
             ],
             [
              0.3333333333333333,
              "#9c179e"
             ],
             [
              0.4444444444444444,
              "#bd3786"
             ],
             [
              0.5555555555555556,
              "#d8576b"
             ],
             [
              0.6666666666666666,
              "#ed7953"
             ],
             [
              0.7777777777777778,
              "#fb9f3a"
             ],
             [
              0.8888888888888888,
              "#fdca26"
             ],
             [
              1,
              "#f0f921"
             ]
            ],
            "type": "heatmap"
           }
          ],
          "heatmapgl": [
           {
            "colorbar": {
             "outlinewidth": 0,
             "ticks": ""
            },
            "colorscale": [
             [
              0,
              "#0d0887"
             ],
             [
              0.1111111111111111,
              "#46039f"
             ],
             [
              0.2222222222222222,
              "#7201a8"
             ],
             [
              0.3333333333333333,
              "#9c179e"
             ],
             [
              0.4444444444444444,
              "#bd3786"
             ],
             [
              0.5555555555555556,
              "#d8576b"
             ],
             [
              0.6666666666666666,
              "#ed7953"
             ],
             [
              0.7777777777777778,
              "#fb9f3a"
             ],
             [
              0.8888888888888888,
              "#fdca26"
             ],
             [
              1,
              "#f0f921"
             ]
            ],
            "type": "heatmapgl"
           }
          ],
          "histogram": [
           {
            "marker": {
             "pattern": {
              "fillmode": "overlay",
              "size": 10,
              "solidity": 0.2
             }
            },
            "type": "histogram"
           }
          ],
          "histogram2d": [
           {
            "colorbar": {
             "outlinewidth": 0,
             "ticks": ""
            },
            "colorscale": [
             [
              0,
              "#0d0887"
             ],
             [
              0.1111111111111111,
              "#46039f"
             ],
             [
              0.2222222222222222,
              "#7201a8"
             ],
             [
              0.3333333333333333,
              "#9c179e"
             ],
             [
              0.4444444444444444,
              "#bd3786"
             ],
             [
              0.5555555555555556,
              "#d8576b"
             ],
             [
              0.6666666666666666,
              "#ed7953"
             ],
             [
              0.7777777777777778,
              "#fb9f3a"
             ],
             [
              0.8888888888888888,
              "#fdca26"
             ],
             [
              1,
              "#f0f921"
             ]
            ],
            "type": "histogram2d"
           }
          ],
          "histogram2dcontour": [
           {
            "colorbar": {
             "outlinewidth": 0,
             "ticks": ""
            },
            "colorscale": [
             [
              0,
              "#0d0887"
             ],
             [
              0.1111111111111111,
              "#46039f"
             ],
             [
              0.2222222222222222,
              "#7201a8"
             ],
             [
              0.3333333333333333,
              "#9c179e"
             ],
             [
              0.4444444444444444,
              "#bd3786"
             ],
             [
              0.5555555555555556,
              "#d8576b"
             ],
             [
              0.6666666666666666,
              "#ed7953"
             ],
             [
              0.7777777777777778,
              "#fb9f3a"
             ],
             [
              0.8888888888888888,
              "#fdca26"
             ],
             [
              1,
              "#f0f921"
             ]
            ],
            "type": "histogram2dcontour"
           }
          ],
          "mesh3d": [
           {
            "colorbar": {
             "outlinewidth": 0,
             "ticks": ""
            },
            "type": "mesh3d"
           }
          ],
          "parcoords": [
           {
            "line": {
             "colorbar": {
              "outlinewidth": 0,
              "ticks": ""
             }
            },
            "type": "parcoords"
           }
          ],
          "pie": [
           {
            "automargin": true,
            "type": "pie"
           }
          ],
          "scatter": [
           {
            "fillpattern": {
             "fillmode": "overlay",
             "size": 10,
             "solidity": 0.2
            },
            "type": "scatter"
           }
          ],
          "scatter3d": [
           {
            "line": {
             "colorbar": {
              "outlinewidth": 0,
              "ticks": ""
             }
            },
            "marker": {
             "colorbar": {
              "outlinewidth": 0,
              "ticks": ""
             }
            },
            "type": "scatter3d"
           }
          ],
          "scattercarpet": [
           {
            "marker": {
             "colorbar": {
              "outlinewidth": 0,
              "ticks": ""
             }
            },
            "type": "scattercarpet"
           }
          ],
          "scattergeo": [
           {
            "marker": {
             "colorbar": {
              "outlinewidth": 0,
              "ticks": ""
             }
            },
            "type": "scattergeo"
           }
          ],
          "scattergl": [
           {
            "marker": {
             "colorbar": {
              "outlinewidth": 0,
              "ticks": ""
             }
            },
            "type": "scattergl"
           }
          ],
          "scattermapbox": [
           {
            "marker": {
             "colorbar": {
              "outlinewidth": 0,
              "ticks": ""
             }
            },
            "type": "scattermapbox"
           }
          ],
          "scatterpolar": [
           {
            "marker": {
             "colorbar": {
              "outlinewidth": 0,
              "ticks": ""
             }
            },
            "type": "scatterpolar"
           }
          ],
          "scatterpolargl": [
           {
            "marker": {
             "colorbar": {
              "outlinewidth": 0,
              "ticks": ""
             }
            },
            "type": "scatterpolargl"
           }
          ],
          "scatterternary": [
           {
            "marker": {
             "colorbar": {
              "outlinewidth": 0,
              "ticks": ""
             }
            },
            "type": "scatterternary"
           }
          ],
          "surface": [
           {
            "colorbar": {
             "outlinewidth": 0,
             "ticks": ""
            },
            "colorscale": [
             [
              0,
              "#0d0887"
             ],
             [
              0.1111111111111111,
              "#46039f"
             ],
             [
              0.2222222222222222,
              "#7201a8"
             ],
             [
              0.3333333333333333,
              "#9c179e"
             ],
             [
              0.4444444444444444,
              "#bd3786"
             ],
             [
              0.5555555555555556,
              "#d8576b"
             ],
             [
              0.6666666666666666,
              "#ed7953"
             ],
             [
              0.7777777777777778,
              "#fb9f3a"
             ],
             [
              0.8888888888888888,
              "#fdca26"
             ],
             [
              1,
              "#f0f921"
             ]
            ],
            "type": "surface"
           }
          ],
          "table": [
           {
            "cells": {
             "fill": {
              "color": "#EBF0F8"
             },
             "line": {
              "color": "white"
             }
            },
            "header": {
             "fill": {
              "color": "#C8D4E3"
             },
             "line": {
              "color": "white"
             }
            },
            "type": "table"
           }
          ]
         },
         "layout": {
          "annotationdefaults": {
           "arrowcolor": "#2a3f5f",
           "arrowhead": 0,
           "arrowwidth": 1
          },
          "autotypenumbers": "strict",
          "coloraxis": {
           "colorbar": {
            "outlinewidth": 0,
            "ticks": ""
           }
          },
          "colorscale": {
           "diverging": [
            [
             0,
             "#8e0152"
            ],
            [
             0.1,
             "#c51b7d"
            ],
            [
             0.2,
             "#de77ae"
            ],
            [
             0.3,
             "#f1b6da"
            ],
            [
             0.4,
             "#fde0ef"
            ],
            [
             0.5,
             "#f7f7f7"
            ],
            [
             0.6,
             "#e6f5d0"
            ],
            [
             0.7,
             "#b8e186"
            ],
            [
             0.8,
             "#7fbc41"
            ],
            [
             0.9,
             "#4d9221"
            ],
            [
             1,
             "#276419"
            ]
           ],
           "sequential": [
            [
             0,
             "#0d0887"
            ],
            [
             0.1111111111111111,
             "#46039f"
            ],
            [
             0.2222222222222222,
             "#7201a8"
            ],
            [
             0.3333333333333333,
             "#9c179e"
            ],
            [
             0.4444444444444444,
             "#bd3786"
            ],
            [
             0.5555555555555556,
             "#d8576b"
            ],
            [
             0.6666666666666666,
             "#ed7953"
            ],
            [
             0.7777777777777778,
             "#fb9f3a"
            ],
            [
             0.8888888888888888,
             "#fdca26"
            ],
            [
             1,
             "#f0f921"
            ]
           ],
           "sequentialminus": [
            [
             0,
             "#0d0887"
            ],
            [
             0.1111111111111111,
             "#46039f"
            ],
            [
             0.2222222222222222,
             "#7201a8"
            ],
            [
             0.3333333333333333,
             "#9c179e"
            ],
            [
             0.4444444444444444,
             "#bd3786"
            ],
            [
             0.5555555555555556,
             "#d8576b"
            ],
            [
             0.6666666666666666,
             "#ed7953"
            ],
            [
             0.7777777777777778,
             "#fb9f3a"
            ],
            [
             0.8888888888888888,
             "#fdca26"
            ],
            [
             1,
             "#f0f921"
            ]
           ]
          },
          "colorway": [
           "#636efa",
           "#EF553B",
           "#00cc96",
           "#ab63fa",
           "#FFA15A",
           "#19d3f3",
           "#FF6692",
           "#B6E880",
           "#FF97FF",
           "#FECB52"
          ],
          "font": {
           "color": "#2a3f5f"
          },
          "geo": {
           "bgcolor": "white",
           "lakecolor": "white",
           "landcolor": "#E5ECF6",
           "showlakes": true,
           "showland": true,
           "subunitcolor": "white"
          },
          "hoverlabel": {
           "align": "left"
          },
          "hovermode": "closest",
          "mapbox": {
           "style": "light"
          },
          "paper_bgcolor": "white",
          "plot_bgcolor": "#E5ECF6",
          "polar": {
           "angularaxis": {
            "gridcolor": "white",
            "linecolor": "white",
            "ticks": ""
           },
           "bgcolor": "#E5ECF6",
           "radialaxis": {
            "gridcolor": "white",
            "linecolor": "white",
            "ticks": ""
           }
          },
          "scene": {
           "xaxis": {
            "backgroundcolor": "#E5ECF6",
            "gridcolor": "white",
            "gridwidth": 2,
            "linecolor": "white",
            "showbackground": true,
            "ticks": "",
            "zerolinecolor": "white"
           },
           "yaxis": {
            "backgroundcolor": "#E5ECF6",
            "gridcolor": "white",
            "gridwidth": 2,
            "linecolor": "white",
            "showbackground": true,
            "ticks": "",
            "zerolinecolor": "white"
           },
           "zaxis": {
            "backgroundcolor": "#E5ECF6",
            "gridcolor": "white",
            "gridwidth": 2,
            "linecolor": "white",
            "showbackground": true,
            "ticks": "",
            "zerolinecolor": "white"
           }
          },
          "shapedefaults": {
           "line": {
            "color": "#2a3f5f"
           }
          },
          "ternary": {
           "aaxis": {
            "gridcolor": "white",
            "linecolor": "white",
            "ticks": ""
           },
           "baxis": {
            "gridcolor": "white",
            "linecolor": "white",
            "ticks": ""
           },
           "bgcolor": "#E5ECF6",
           "caxis": {
            "gridcolor": "white",
            "linecolor": "white",
            "ticks": ""
           }
          },
          "title": {
           "x": 0.05
          },
          "xaxis": {
           "automargin": true,
           "gridcolor": "white",
           "linecolor": "white",
           "ticks": "",
           "title": {
            "standoff": 15
           },
           "zerolinecolor": "white",
           "zerolinewidth": 2
          },
          "yaxis": {
           "automargin": true,
           "gridcolor": "white",
           "linecolor": "white",
           "ticks": "",
           "title": {
            "standoff": 15
           },
           "zerolinecolor": "white",
           "zerolinewidth": 2
          }
         }
        },
        "updatemenus": [
         {
          "buttons": [
           {
            "args": [
             null,
             {
              "frame": {
               "duration": 500,
               "redraw": false
              },
              "fromcurrent": true,
              "mode": "immediate",
              "transition": {
               "duration": 500,
               "easing": "linear"
              }
             }
            ],
            "label": "&#9654;",
            "method": "animate"
           },
           {
            "args": [
             [
              null
             ],
             {
              "frame": {
               "duration": 0,
               "redraw": false
              },
              "fromcurrent": true,
              "mode": "immediate",
              "transition": {
               "duration": 0,
               "easing": "linear"
              }
             }
            ],
            "label": "&#9724;",
            "method": "animate"
           }
          ],
          "direction": "left",
          "pad": {
           "r": 10,
           "t": 70
          },
          "showactive": false,
          "type": "buttons",
          "x": 0.1,
          "xanchor": "right",
          "y": 0,
          "yanchor": "top"
         }
        ],
        "xaxis": {
         "anchor": "y",
         "domain": [
          0,
          1
         ],
         "title": {
          "text": "periodstep"
         }
        },
        "yaxis": {
         "anchor": "x",
         "domain": [
          0,
          1
         ],
         "title": {
          "text": "value"
         }
        }
       }
      }
     },
     "metadata": {},
     "output_type": "display_data"
    }
   ],
   "source": [
    "fig = px.line(ddf, x=\"periodstep\", y=[\"HistoricalPrice\", \"FuturePrice\", \"Predicted\"], animation_frame=\"timestep\")\n",
    "fig.update_layout(height=700)  \n",
    "fig.show()"
   ]
  },
  {
   "cell_type": "code",
   "execution_count": 19,
   "metadata": {},
   "outputs": [
    {
     "name": "stdout",
     "output_type": "stream",
     "text": [
      "RMSE for the predictions by AESO for the same time period as the test set: 51.68 CAD/MWh\n"
     ]
    }
   ],
   "source": [
    "aeso_predictions_df = ph.get_aeso_predictions(y_test.index[0], y_test.index[-1])\n",
    "rmse_aeso_predictions = mean_squared_error(aeso_predictions_df['actual'], aeso_predictions_df['forecast'], squared=False)\n",
    "print(f\"RMSE for the predictions by AESO for the same time period as the test set: {round(rmse_aeso_predictions, 2)} CAD/MWh\")"
   ]
  }
 ],
 "metadata": {
  "kernelspec": {
   "display_name": "slalomenv",
   "language": "python",
   "name": "python3"
  },
  "language_info": {
   "codemirror_mode": {
    "name": "ipython",
    "version": 3
   },
   "file_extension": ".py",
   "mimetype": "text/x-python",
   "name": "python",
   "nbconvert_exporter": "python",
   "pygments_lexer": "ipython3",
   "version": "3.11.3"
  },
  "orig_nbformat": 4
 },
 "nbformat": 4,
 "nbformat_minor": 2
}
