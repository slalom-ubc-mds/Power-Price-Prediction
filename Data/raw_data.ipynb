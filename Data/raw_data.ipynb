{
 "cells": [
  {
   "cell_type": "code",
   "execution_count": 1,
   "metadata": {},
   "outputs": [],
   "source": [
    "import pandas as pd"
   ]
  },
  {
   "cell_type": "code",
   "execution_count": 27,
   "metadata": {},
   "outputs": [],
   "source": [
    "df_2011_2017 = pd.read_parquet('C:/Users/mehdi/Slalom/Hourly-load-by-area-and-region-2011-2017.parquet')\n",
    "df_2011_2017['Date'] = pd.to_datetime(df_2011_2017['DATE'])\n",
    "df_2011_2017.set_index('DATE', inplace=True)\n",
    "\n",
    "df_2017_2020 = pd.read_parquet('C:/Users/mehdi/Slalom/Hourly-load-by-area-and-region-2017-2020.parquet')\n",
    "df_2017_2020['Date'] = pd.to_datetime(df_2017_2020['DATE'])\n",
    "df_2017_2020.set_index('DATE', inplace=True)\n",
    "\n",
    "df_2020_2022 = pd.read_parquet('C:/Users/mehdi/Slalom/Hourly-load-by-area-and-region-May-2020-to-Feb-2022.parquet')\n",
    "df_2020_2022['Date'] = pd.to_datetime(df_2020_2022['Date (MST)'])\n",
    "df_2020_2022 = df_2020_2022.drop('Date (MST)', axis=1)\n",
    "df_2020_2022.set_index('Date', inplace=True)\n",
    "\n",
    "df_PA_Full = pd.read_parquet('C:/Users/mehdi/Slalom/PA_Table_Full_Data_data.parquet')\n",
    "df_PA_Full['Date'] = pd.to_datetime(df_PA_Full['Date - MST'])\n",
    "df_PA_Full = df_PA_Full.drop('Date - MST', axis=1)\n",
    "df_PA_Full.set_index('Date', inplace=True)"
   ]
  }
 ],
 "metadata": {
  "kernelspec": {
   "display_name": "525_dev",
   "language": "python",
   "name": "python3"
  },
  "language_info": {
   "codemirror_mode": {
    "name": "ipython",
    "version": 3
   },
   "file_extension": ".py",
   "mimetype": "text/x-python",
   "name": "python",
   "nbconvert_exporter": "python",
   "pygments_lexer": "ipython3",
   "version": "3.10.10"
  },
  "orig_nbformat": 4
 },
 "nbformat": 4,
 "nbformat_minor": 2
}
